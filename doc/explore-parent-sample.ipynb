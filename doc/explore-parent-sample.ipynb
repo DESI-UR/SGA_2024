{
 "cells": [
  {
   "cell_type": "code",
   "execution_count": 21,
   "metadata": {},
   "outputs": [],
   "source": [
    "import os\n",
    "import numpy as np\n",
    "import numpy.ma as ma\n",
    "import fitsio\n",
    "import astropy.table"
   ]
  },
  {
   "cell_type": "code",
   "execution_count": 5,
   "metadata": {},
   "outputs": [],
   "source": [
    "drsuffix = 'dr6-dr7'\n",
    "LSLGAdir = os.getenv('LSLGA_DIR')\n",
    "parentfile = os.path.join(LSLGAdir, 'sample', 'large-galaxies-parent.fits')"
   ]
  },
  {
   "cell_type": "code",
   "execution_count": 17,
   "metadata": {},
   "outputs": [],
   "source": [
    "def read_hyperleda():\n",
    "    \"\"\"Read the Hyperleda catalog.\n",
    "    \n",
    "    \"\"\"\n",
    "    hyperledafile = os.path.join(LSLGAdir, 'sample', 'hyperleda-d25min10.fits')\n",
    "\n",
    "    leda = astropy.table.Table(fitsio.read(hyperledafile, ext=1))\n",
    "    print('Read {} objects from {}'.format(len(leda), hyperledafile))\n",
    "\n",
    "    return leda"
   ]
  },
  {
   "cell_type": "code",
   "execution_count": 25,
   "metadata": {},
   "outputs": [],
   "source": [
    "def build_parent(cat, nside=128):\n",
    "    \"\"\"Identify the galaxies in the nominal LS/DESI footprint.\"\"\"\n",
    "    import desimodel.io\n",
    "    import desimodel.footprint\n",
    "    \n",
    "    tiles = desimodel.io.load_tiles(onlydesi=True)\n",
    "    indesi = desimodel.footprint.is_point_in_desi(tiles, ma.getdata(cat['ra']), \n",
    "                                                  ma.getdata(cat['dec']))\n",
    "    keep = np.where( indesi * np.isfinite(cat['mag']) )[0] # about 13,000 objects have no magnitude...\n",
    "    \n",
    "    parent = cat[keep]\n",
    "    ngal = len(parent)\n",
    "    \n",
    "    print('Keeping {} / {} objects in the DESI footprint.'.format(ngal, len(cat)))\n",
    "    #print('Writing {}'.format(parentfile))\n",
    "    #parent.write(parentfile, overwrite=True)    \n",
    "    \n",
    "    return parent"
   ]
  },
  {
   "cell_type": "code",
   "execution_count": 6,
   "metadata": {},
   "outputs": [],
   "source": [
    "def write_viewer_file(cat):\n",
    "    outfile = os.path.join(LSLGAdir, 'sample', 'viewer-sdss-galaxies.fits')\n",
    "    out = astropy.table.Table()\n",
    "    out['ra'] = cat['ra']\n",
    "    out['dec'] = cat['dec']\n",
    "    out['name'] = cat['galaxy']\n",
    "    print('Writing {}'.format(outfile))\n",
    "    out.write(outfile, format='fits', overwrite=True)"
   ]
  },
  {
   "cell_type": "code",
   "execution_count": 18,
   "metadata": {},
   "outputs": [
    {
     "name": "stdout",
     "output_type": "stream",
     "text": [
      "Read 2118186 objects from /Users/ioannis/research/projects/LSLGA/sample/hyperleda-d25min10.fits\n"
     ]
    }
   ],
   "source": [
    "leda = read_hyperleda()"
   ]
  },
  {
   "cell_type": "code",
   "execution_count": 26,
   "metadata": {},
   "outputs": [
    {
     "name": "stdout",
     "output_type": "stream",
     "text": [
      "Keeping 1317271 / 2118186 objects in the DESI footprint.\n"
     ]
    }
   ],
   "source": [
    "parent = build_parent(leda)"
   ]
  },
  {
   "cell_type": "code",
   "execution_count": 29,
   "metadata": {},
   "outputs": [
    {
     "name": "stdout",
     "output_type": "stream",
     "text": [
      "316\n"
     ]
    }
   ],
   "source": [
    "indx = ['SDSS' in gg for gg in parent['galaxy']] * (parent['d25'] > 1)\n",
    "print(np.sum(indx))"
   ]
  },
  {
   "cell_type": "code",
   "execution_count": 30,
   "metadata": {},
   "outputs": [
    {
     "name": "stdout",
     "output_type": "stream",
     "text": [
      "Writing /Users/ioannis/research/projects/LSLGA/sample/viewer-sdss-galaxies.fits\n"
     ]
    }
   ],
   "source": [
    "write_viewer_file(parent[indx])"
   ]
  },
  {
   "cell_type": "code",
   "execution_count": 34,
   "metadata": {},
   "outputs": [
    {
     "name": "stdout",
     "output_type": "stream",
     "text": [
      "161\n"
     ]
    }
   ],
   "source": [
    "indx = ['SDSS' in gg for gg in parent['galaxy']] * np.isfinite(parent['z']) * (parent['d25'] > 1)\n",
    "print(np.sum(indx))"
   ]
  },
  {
   "cell_type": "code",
   "execution_count": 35,
   "metadata": {},
   "outputs": [
    {
     "name": "stdout",
     "output_type": "stream",
     "text": [
      "Writing /Users/ioannis/research/projects/LSLGA/sample/viewer-sdss-galaxies.fits\n"
     ]
    }
   ],
   "source": [
    "write_viewer_file(parent[indx])"
   ]
  },
  {
   "cell_type": "code",
   "execution_count": null,
   "metadata": {},
   "outputs": [],
   "source": []
  }
 ],
 "metadata": {
  "kernelspec": {
   "display_name": "Python 3",
   "language": "python",
   "name": "python3"
  },
  "language_info": {
   "codemirror_mode": {
    "name": "ipython",
    "version": 3
   },
   "file_extension": ".py",
   "mimetype": "text/x-python",
   "name": "python",
   "nbconvert_exporter": "python",
   "pygments_lexer": "ipython3",
   "version": "3.6.5"
  }
 },
 "nbformat": 4,
 "nbformat_minor": 2
}
