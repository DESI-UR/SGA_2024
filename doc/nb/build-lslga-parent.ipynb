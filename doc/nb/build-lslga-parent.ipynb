{
 "cells": [
  {
   "cell_type": "markdown",
   "metadata": {},
   "source": [
    "# Build the LSLGA parent sample\n",
    "\n",
    "The purpose of this notebook is to build the parent sample for the NASA Legacy Surveys Galaxy Atlas (LSLGA).  The final output file--and our starting parent sample of objects--is called *large-galaxies-parent.fits*.\n",
    "\n",
    "**ToDo**\n",
    "\n",
    "1. Build unWISE mosaics.\n",
    "2. Filter and sort the sample; try to remove junk.\n",
    "3. Include additional metadata in the webpage."
   ]
  },
  {
   "cell_type": "markdown",
   "metadata": {},
   "source": [
    "#### We also tested building a parent sample from a query of the NED database but found a number of spurious angular diameter measurements.  Nevertheless, below are some potentially relevant notes.\n",
    "\n",
    "Our starting catalog is the file *ned-d25min10.txt*, which contains 8,131,378 objects and is the (semi-raw) output of querying the NED database (on 2018 March 26) for all objects with a D(25) isophotal diameter (in any band) greater than 10 arcsec, with no requirements on redshift or object type.  \n",
    "\n",
    "Next, we run\n",
    "```bash\n",
    "% time python parse-ned-sample\n",
    "```\n",
    "to restrict the sample to:\n",
    "  1. \"galaxies\" (object type \"G\", \"GGroup\", \"GPair\", \"GTrpl\", or \"PofG\"), leaving 4,755,411 objects;\n",
    "  2. objects with an approximate magnitude and angular diameter (from NED, in any band), leaving 4,392,760 objects;\n",
    "  3. objects in the Legacy Survey / DESI footprint, leaving 3,878,035 objects.\n",
    "\n",
    "Specifically, we parse and merge various apparent magnitude estimates (from SDSS/r, 2MASS/Ks, RC3/B, and APM/bJ, in that order of priority), and angular diameters (D25), minor-to-major axis ratios (b/a), and position angles (pa) (from SDSS, 2MASS, RC3, and ESO, in that order of priority)."
   ]
  },
  {
   "cell_type": "markdown",
   "metadata": {},
   "source": [
    "### Imports and paths"
   ]
  },
  {
   "cell_type": "code",
   "execution_count": 1,
   "metadata": {},
   "outputs": [],
   "source": [
    "import os\n",
    "import shutil, time, warnings\n",
    "from contextlib import redirect_stdout\n",
    "import numpy as np\n",
    "import numpy.ma as ma\n",
    "import pandas as pd"
   ]
  },
  {
   "cell_type": "code",
   "execution_count": 2,
   "metadata": {},
   "outputs": [],
   "source": [
    "import fitsio\n",
    "from astropy.table import Table, Column, vstack"
   ]
  },
  {
   "cell_type": "code",
   "execution_count": 3,
   "metadata": {},
   "outputs": [],
   "source": [
    "from PIL import Image, ImageDraw, ImageFont"
   ]
  },
  {
   "cell_type": "code",
   "execution_count": 4,
   "metadata": {},
   "outputs": [],
   "source": [
    "from astrometry.util.util import Tan\n",
    "from astrometry.util.fits import merge_tables\n",
    "from legacypipe.survey import LegacySurveyData\n",
    "from legacypipe.runbrick import run_brick"
   ]
  },
  {
   "cell_type": "code",
   "execution_count": 5,
   "metadata": {
    "collapsed": true
   },
   "outputs": [],
   "source": [
    "import seaborn as sns\n",
    "import matplotlib.pyplot as plt"
   ]
  },
  {
   "cell_type": "code",
   "execution_count": 6,
   "metadata": {
    "collapsed": true
   },
   "outputs": [],
   "source": [
    "import multiprocessing\n",
    "nproc = multiprocessing.cpu_count() // 2"
   ]
  },
  {
   "cell_type": "code",
   "execution_count": 7,
   "metadata": {
    "collapsed": true
   },
   "outputs": [],
   "source": [
    "sns.set(style='ticks', font_scale=1.5, palette='Set2')\n",
    "%matplotlib inline"
   ]
  },
  {
   "cell_type": "code",
   "execution_count": 8,
   "metadata": {
    "collapsed": true
   },
   "outputs": [],
   "source": [
    "PIXSCALE = 0.262"
   ]
  },
  {
   "cell_type": "code",
   "execution_count": 9,
   "metadata": {
    "collapsed": true
   },
   "outputs": [],
   "source": [
    "LSLGAdir = os.getenv('LSLGA_DIR')\n",
    "parentfile = os.path.join(LSLGAdir, 'sample', 'large-galaxies-parent.fits')\n",
    "samplefile = os.path.join(LSLGAdir, 'sample', 'large-galaxies-dr6-dr7.fits')"
   ]
  },
  {
   "cell_type": "markdown",
   "metadata": {},
   "source": [
    "### Read the parent sample."
   ]
  },
  {
   "cell_type": "code",
   "execution_count": 10,
   "metadata": {
    "collapsed": true
   },
   "outputs": [],
   "source": [
    "def read_parent():\n",
    "    parent = Table(fitsio.read(parentfile, ext=1)) # , rows=np.arange(100))\n",
    "    print('Read {} objects from {}'.format(len(parent), parentfile))\n",
    "    return parent"
   ]
  },
  {
   "cell_type": "code",
   "execution_count": 11,
   "metadata": {},
   "outputs": [
    {
     "name": "stdout",
     "output_type": "stream",
     "text": [
      "Read 3512936 objects from /Users/kevinnapier/data/LSLGA/sample/large-galaxies-parent.fits\n"
     ]
    },
    {
     "data": {
      "text/html": [
       "&lt;Table length=3512936&gt;\n",
       "<table id=\"table4652713240\" class=\"table-striped table-bordered table-condensed\">\n",
       "<thead><tr><th>galaxy</th><th>objtype</th><th>ra</th><th>dec</th><th>z</th><th>zqual</th><th>morph</th><th>mag</th><th>mag_err</th><th>mag_band</th><th>d25</th><th>d25_band</th><th>ba25</th><th>ba25_band</th><th>pa</th><th>pa_band</th><th>notes</th></tr></thead>\n",
       "<thead><tr><th>bytes30</th><th>bytes6</th><th>float64</th><th>float64</th><th>float32</th><th>bytes4</th><th>bytes39</th><th>float64</th><th>float64</th><th>bytes5</th><th>float64</th><th>bytes5</th><th>float64</th><th>bytes5</th><th>float64</th><th>bytes5</th><th>bytes82</th></tr></thead>\n",
       "<tr><td>SDSS J025901.06+005350.3</td><td>G</td><td>44.7545416667</td><td>0.897277777778</td><td>0.134638</td><td>N/A</td><td>N/A</td><td>17.4505409835</td><td>nan</td><td>r</td><td>0.377499997616</td><td>r</td><td>0.532000005245</td><td>r</td><td>134.0</td><td>r</td><td>N/A</td></tr>\n",
       "<tr><td>SDSS J025952.35+005333.5</td><td>G</td><td>44.968125</td><td>0.892666666667</td><td>nan</td><td>N/A</td><td>N/A</td><td>18.5985651438</td><td>nan</td><td>r</td><td>0.178000003099</td><td>r</td><td>0.465999990702</td><td>r</td><td>123.0</td><td>r</td><td>N/A</td></tr>\n",
       "<tr><td>SDSS J025825.68+004014.1</td><td>G</td><td>44.607</td><td>0.670583333333</td><td>nan</td><td>N/A</td><td>N/A</td><td>21.229535371</td><td>nan</td><td>r</td><td>0.322833359241</td><td>r</td><td>0.0719999969006</td><td>r</td><td>39.0</td><td>r</td><td>N/A</td></tr>\n",
       "<tr><td>SDSS J025940.84+001307.6</td><td>G</td><td>44.9202083333</td><td>0.218777777778</td><td>nan</td><td>N/A</td><td>N/A</td><td>19.2581777644</td><td>nan</td><td>r</td><td>0.176666676998</td><td>r</td><td>0.412999987602</td><td>r</td><td>15.0</td><td>r</td><td>N/A</td></tr>\n",
       "<tr><td>SDSS J025831.82+002854.7</td><td>G</td><td>44.6325833333</td><td>0.481888888889</td><td>0.193223</td><td>N/A</td><td>N/A</td><td>17.6786232027</td><td>0.149579965748</td><td>r</td><td>0.211499989033</td><td>r</td><td>0.759000003338</td><td>r</td><td>40.0</td><td>r</td><td>N/A</td></tr>\n",
       "<tr><td>SDSS J030122.20+002944.1</td><td>G</td><td>45.3425</td><td>0.495583333333</td><td>nan</td><td>N/A</td><td>N/A</td><td>19.3794725376</td><td>0.184332087891</td><td>r</td><td>0.180166676641</td><td>r</td><td>0.321999996901</td><td>r</td><td>176.0</td><td>r</td><td>N/A</td></tr>\n",
       "<tr><td>SDSS J030022.98+010354.8</td><td>G</td><td>45.0957916667</td><td>1.06525</td><td>0.165026</td><td>SPEC</td><td>N/A</td><td>18.4965799769</td><td>0.149464985574</td><td>r</td><td>0.200499996543</td><td>r</td><td>0.615000009537</td><td>r</td><td>167.0</td><td>r</td><td>N/A</td></tr>\n",
       "<tr><td>SDSS J030014.73+003044.9</td><td>G</td><td>45.0614166667</td><td>0.512472222222</td><td>0.162356</td><td>SPEC</td><td>N/A</td><td>18.5192791414</td><td>0.18410308452</td><td>r</td><td>0.199500009418</td><td>r</td><td>0.563000023365</td><td>r</td><td>52.0</td><td>r</td><td>N/A</td></tr>\n",
       "<tr><td>SDSS J025940.77+001921.4</td><td>G</td><td>44.919875</td><td>0.322611111111</td><td>nan</td><td>N/A</td><td>N/A</td><td>18.3695309304</td><td>0.184011142405</td><td>r</td><td>0.17950001359</td><td>r</td><td>0.577000021935</td><td>r</td><td>10.0</td><td>r</td><td>N/A</td></tr>\n",
       "<tr><td>SDSS J025910.53+004416.3</td><td>G</td><td>44.793875</td><td>0.737916666667</td><td>0.19043</td><td>SPEC</td><td>N/A</td><td>17.8964986641</td><td>0.14922894555</td><td>r</td><td>0.180833339691</td><td>r</td><td>0.929000020027</td><td>r</td><td>31.0</td><td>r</td><td>N/A</td></tr>\n",
       "<tr><td>...</td><td>...</td><td>...</td><td>...</td><td>...</td><td>...</td><td>...</td><td>...</td><td>...</td><td>...</td><td>...</td><td>...</td><td>...</td><td>...</td><td>...</td><td>...</td><td>...</td></tr>\n",
       "<tr><td>2MASX J17593015+4133582</td><td>G</td><td>269.875583333</td><td>41.5661111111</td><td>nan</td><td>N/A</td><td>N/A</td><td>15.4008157189</td><td>0.162211588266</td><td>Ks</td><td>0.166666671634</td><td>Ks</td><td>1.0</td><td>Ks</td><td>90.0</td><td>Ks</td><td>N/A</td></tr>\n",
       "<tr><td>2MASX J18021344+4051150</td><td>G</td><td>270.555875</td><td>40.8542777778</td><td>nan</td><td>N/A</td><td>N/A</td><td>15.7203959627</td><td>0.246177607187</td><td>Ks</td><td>0.270000010729</td><td>Ks</td><td>0.423000007868</td><td>Ks</td><td>90.0</td><td>Ks</td><td>N/A</td></tr>\n",
       "<tr><td>2MASX J17581471+4102553</td><td>G</td><td>269.561125</td><td>41.0486388889</td><td>nan</td><td>N/A</td><td>N/A</td><td>14.5334145343</td><td>0.0883376779764</td><td>Ks</td><td>0.253333330154</td><td>Ks</td><td>0.860000014305</td><td>Ks</td><td>100.0</td><td>Ks</td><td>N/A</td></tr>\n",
       "<tr><td>2MASX J18003862+4129525</td><td>G</td><td>270.16075</td><td>41.4980277778</td><td>nan</td><td>N/A</td><td>N/A</td><td>16.5131880445</td><td>0.301258665411</td><td>Ks</td><td>0.166666671634</td><td>Ks</td><td>0.476000010967</td><td>Ks</td><td>95.0</td><td>Ks</td><td>N/A</td></tr>\n",
       "<tr><td>2MASX J18001617+4032395</td><td>G</td><td>270.06725</td><td>40.5443055556</td><td>nan</td><td>N/A</td><td>N/A</td><td>15.6420098855</td><td>0.175554366722</td><td>Ks</td><td>0.170000001788</td><td>Ks</td><td>1.0</td><td>Ks</td><td>90.0</td><td>Ks</td><td>N/A</td></tr>\n",
       "<tr><td>2MASX J17590466+4045413</td><td>G</td><td>269.769458333</td><td>40.7614444444</td><td>nan</td><td>N/A</td><td>N/A</td><td>15.7558035955</td><td>0.228544471307</td><td>Ks</td><td>0.166666671634</td><td>Ks</td><td>1.0</td><td>Ks</td><td>90.0</td><td>Ks</td><td>N/A</td></tr>\n",
       "<tr><td>2MASX J18015187+4103227</td><td>G</td><td>270.466083333</td><td>41.0564166667</td><td>nan</td><td>N/A</td><td>N/A</td><td>15.5638656489</td><td>0.201062265743</td><td>Ks</td><td>0.166666671634</td><td>Ks</td><td>1.0</td><td>Ks</td><td>90.0</td><td>Ks</td><td>N/A</td></tr>\n",
       "<tr><td>2MASX J17593837+4114595</td><td>G</td><td>269.909833333</td><td>41.2498611111</td><td>nan</td><td>N/A</td><td>N/A</td><td>15.5099353392</td><td>0.177926806056</td><td>Ks</td><td>0.176666676998</td><td>Ks</td><td>0.819999992847</td><td>Ks</td><td>50.0</td><td>Ks</td><td>N/A</td></tr>\n",
       "<tr><td>2MASX J18002510+4107016</td><td>G</td><td>270.104666667</td><td>41.1170555556</td><td>nan</td><td>N/A</td><td>N/A</td><td>15.4956804065</td><td>0.152947179292</td><td>Ks</td><td>0.189999997616</td><td>Ks</td><td>0.72000002861</td><td>Ks</td><td>135.0</td><td>Ks</td><td>N/A</td></tr>\n",
       "<tr><td>2MASX J17581311+4102103</td><td>G</td><td>269.554625</td><td>41.0362222222</td><td>nan</td><td>N/A</td><td>N/A</td><td>16.0822379519</td><td>0.264952028439</td><td>Ks</td><td>0.166666671634</td><td>Ks</td><td>1.0</td><td>Ks</td><td>90.0</td><td>Ks</td><td>N/A</td></tr>\n",
       "</table>"
      ],
      "text/plain": [
       "<Table length=3512936>\n",
       "         galaxy          objtype       ra      ...    pa   pa_band  notes \n",
       "        bytes30           bytes6    float64    ... float64  bytes5 bytes82\n",
       "------------------------ ------- ------------- ... ------- ------- -------\n",
       "SDSS J025901.06+005350.3       G 44.7545416667 ...   134.0       r     N/A\n",
       "SDSS J025952.35+005333.5       G     44.968125 ...   123.0       r     N/A\n",
       "SDSS J025825.68+004014.1       G        44.607 ...    39.0       r     N/A\n",
       "SDSS J025940.84+001307.6       G 44.9202083333 ...    15.0       r     N/A\n",
       "SDSS J025831.82+002854.7       G 44.6325833333 ...    40.0       r     N/A\n",
       "SDSS J030122.20+002944.1       G       45.3425 ...   176.0       r     N/A\n",
       "SDSS J030022.98+010354.8       G 45.0957916667 ...   167.0       r     N/A\n",
       "SDSS J030014.73+003044.9       G 45.0614166667 ...    52.0       r     N/A\n",
       "SDSS J025940.77+001921.4       G     44.919875 ...    10.0       r     N/A\n",
       "SDSS J025910.53+004416.3       G     44.793875 ...    31.0       r     N/A\n",
       "                     ...     ...           ... ...     ...     ...     ...\n",
       " 2MASX J17593015+4133582       G 269.875583333 ...    90.0      Ks     N/A\n",
       " 2MASX J18021344+4051150       G    270.555875 ...    90.0      Ks     N/A\n",
       " 2MASX J17581471+4102553       G    269.561125 ...   100.0      Ks     N/A\n",
       " 2MASX J18003862+4129525       G     270.16075 ...    95.0      Ks     N/A\n",
       " 2MASX J18001617+4032395       G     270.06725 ...    90.0      Ks     N/A\n",
       " 2MASX J17590466+4045413       G 269.769458333 ...    90.0      Ks     N/A\n",
       " 2MASX J18015187+4103227       G 270.466083333 ...    90.0      Ks     N/A\n",
       " 2MASX J17593837+4114595       G 269.909833333 ...    50.0      Ks     N/A\n",
       " 2MASX J18002510+4107016       G 270.104666667 ...   135.0      Ks     N/A\n",
       " 2MASX J17581311+4102103       G    269.554625 ...    90.0      Ks     N/A"
      ]
     },
     "execution_count": 11,
     "metadata": {},
     "output_type": "execute_result"
    }
   ],
   "source": [
    "parent = read_parent()\n",
    "parent"
   ]
  },
  {
   "cell_type": "markdown",
   "metadata": {},
   "source": [
    "### Generate some QA."
   ]
  },
  {
   "cell_type": "code",
   "execution_count": 12,
   "metadata": {
    "collapsed": true
   },
   "outputs": [],
   "source": [
    "def qa_radec(png=None):\n",
    "    fig, ax = plt.subplots()\n",
    "    ax.scatter(parent['ra'], parent['dec'], s=1)\n",
    "    if png:\n",
    "        fig.savefig(png)"
   ]
  },
  {
   "cell_type": "code",
   "execution_count": 13,
   "metadata": {
    "collapsed": true
   },
   "outputs": [],
   "source": [
    "def qa_d25():\n",
    "    fig, ax = plt.subplots()\n",
    "    _ = ax.hist(parent['d25'], bins=100, range=(0, 2))"
   ]
  },
  {
   "cell_type": "code",
   "execution_count": null,
   "metadata": {},
   "outputs": [],
   "source": [
    "qa_radec()"
   ]
  },
  {
   "cell_type": "code",
   "execution_count": null,
   "metadata": {},
   "outputs": [],
   "source": [
    "qa_d25()"
   ]
  },
  {
   "cell_type": "code",
   "execution_count": null,
   "metadata": {},
   "outputs": [],
   "source": [
    "ww = np.where(parent['d25'] == 1.0)[0]\n",
    "parent[ww]"
   ]
  },
  {
   "cell_type": "markdown",
   "metadata": {},
   "source": [
    "### Cut to a manageable subset of \"large\" objects."
   ]
  },
  {
   "cell_type": "code",
   "execution_count": null,
   "metadata": {},
   "outputs": [],
   "source": [
    "d25min, d25max, maglim = 1.8, 2.0, 16\n",
    "cat = allcat[(allcat['d25'] > d25min) * (allcat['d25'] < d25max) * (allcat['mag'] < maglim)]\n",
    "cat"
   ]
  },
  {
   "cell_type": "code",
   "execution_count": 13,
   "metadata": {},
   "outputs": [
    {
     "data": {
      "text/plain": [
       "<matplotlib.collections.PathCollection at 0x2afc4add7160>"
      ]
     },
     "execution_count": 13,
     "metadata": {},
     "output_type": "execute_result"
    },
    {
     "data": {
      "image/png": "[encoded data removed]",
      "text/plain": [
       "<matplotlib.figure.Figure at 0x2afc4ac50898>"
      ]
     },
     "metadata": {},
     "output_type": "display_data"
    }
   ],
   "source": [
    "fig, (ax1, ax2) = plt.subplots(1, 2, figsize=(12, 5))\n",
    "ax1.scatter(cat['mag'], cat['d25'], s=5)\n",
    "ax2.scatter(cat['ra'], cat['dec'], alpha=0.5, s=5)"
   ]
  },
  {
   "cell_type": "markdown",
   "metadata": {},
   "source": [
    "### Find the subset of objects in the LS footprint -- this code should really be elsewhere!"
   ]
  },
  {
   "cell_type": "code",
   "execution_count": 14,
   "metadata": {
    "collapsed": true
   },
   "outputs": [],
   "source": [
    "def init_survey(dr='dr7'):\n",
    "    survey = ''\n",
    "    try:\n",
    "        del survey\n",
    "    except:\n",
    "        pass\n",
    "    \n",
    "    if dr.lower() == 'dr7':\n",
    "        survey = LegacySurveyData(\n",
    "            survey_dir='/global/cscratch1/sd/desiproc/dr7',\n",
    "            output_dir=LSLGAdir)\n",
    "    elif dr.lower() == 'dr6':\n",
    "        survey = LegacySurveyData(\n",
    "            survey_dir='/global/cscratch1/sd/dstn/dr6plus',\n",
    "            output_dir=LSLGAdir)\n",
    "    \n",
    "    return survey"
   ]
  },
  {
   "cell_type": "code",
   "execution_count": 15,
   "metadata": {
    "collapsed": true
   },
   "outputs": [],
   "source": [
    "def simple_wcs(obj):\n",
    "    \"\"\"Build a simple WCS object for a single object.\"\"\"\n",
    "    size = np.rint(obj['d25'] * 60 / PIXSCALE).astype('int') # [pixels]\n",
    "    wcs = Tan(obj['ra'], obj['dec'], size/2+0.5, size/2+0.5,\n",
    "                 -PIXSCALE/3600.0, 0.0, 0.0, PIXSCALE/3600.0, \n",
    "                 float(size), float(size))\n",
    "    return wcs"
   ]
  },
  {
   "cell_type": "code",
   "execution_count": 16,
   "metadata": {
    "collapsed": true
   },
   "outputs": [],
   "source": [
    "def _build_sample_one(args):\n",
    "    \"\"\"Wrapper function for the multiprocessing.\"\"\"\n",
    "    return build_sample_one(*args)"
   ]
  },
  {
   "cell_type": "code",
   "execution_count": 17,
   "metadata": {
    "collapsed": true
   },
   "outputs": [],
   "source": [
    "def build_sample_one(obj, verbose=False):\n",
    "    \"\"\"Wrapper function to find overlapping grz CCDs for a given object.\n",
    "    \n",
    "    \"\"\"\n",
    "    wcs = simple_wcs(obj)\n",
    "\n",
    "    print('Looking for {} in DR5...'.format(obj['galaxy']))\n",
    "    try:\n",
    "        dr = 'dr5'\n",
    "        survey = init_survey(dr='dr7') # temporary hack to use the DR7 CCDs file\n",
    "        ccds = survey.ccds_touching_wcs(wcs)\n",
    "    except:\n",
    "        print('Looking for {} in DR6...'.format(obj['galaxy']))\n",
    "        try:\n",
    "            dr = 'dr6'\n",
    "            survey = init_survey(dr=dr)\n",
    "            ccds = survey.ccds_touching_wcs(wcs)\n",
    "        except:\n",
    "            return [None, None]\n",
    "    \n",
    "    if ccds:\n",
    "        # Is there 3-band coverage?\n",
    "        if 'g' in ccds.filter and 'r' in ccds.filter and 'z' in ccds.filter:\n",
    "            if verbose:\n",
    "                print('For {} found {} CCDs, RA = {:.5f}, Dec = {:.5f}, Diameter={:.4f} arcmin'.format(\n",
    "                        obj['galaxy'], len(ccds), obj['ra'], obj['dec'], obj['d25']))\n",
    "            return [dr, obj]\n",
    "        \n",
    "    return [None, None]"
   ]
  },
  {
   "cell_type": "code",
   "execution_count": 18,
   "metadata": {
    "collapsed": true
   },
   "outputs": [],
   "source": [
    "def build_sample(cat, use_nproc=nproc):\n",
    "    \"\"\"Build the full sample with grz coverage in DR6.\"\"\"\n",
    "\n",
    "    sampleargs = list()\n",
    "    for cc in cat:\n",
    "        sampleargs.append( (cc, True) ) # the False refers to verbose=False\n",
    "\n",
    "    if use_nproc > 1:\n",
    "        p = multiprocessing.Pool(nproc)\n",
    "        result = p.map(_build_sample_one, sampleargs)\n",
    "        p.close()\n",
    "    else:\n",
    "        result = list()\n",
    "        for args in sampleargs:\n",
    "            result.append(_build_sample_one(args))\n",
    "            \n",
    "    # Remove non-matching objects and write out the sample\n",
    "    rr = list(zip(*result))    \n",
    "    outcat = vstack(list(filter(None, rr[1])))\n",
    "    outcat['dr'] = list(filter(None, rr[0]))\n",
    "    print('Found {}/{} objects in the DR6/DR7 footprint.'.format(len(outcat), len(cat)))\n",
    "    \n",
    "    return outcat"
   ]
  },
  {
   "cell_type": "code",
   "execution_count": 19,
   "metadata": {
    "collapsed": true
   },
   "outputs": [],
   "source": [
    "#sample = build_sample(cat)"
   ]
  },
  {
   "cell_type": "code",
   "execution_count": 20,
   "metadata": {},
   "outputs": [
    {
     "name": "stdout",
     "output_type": "stream",
     "text": [
      "Building the sample.\n",
      "Logging to /global/cscratch1/sd/ioannis/LSLGA/build-sample.log\n",
      "Found 395/697 objects in the LS footprint.\n",
      "Total time = 3.309 seconds.\n"
     ]
    }
   ],
   "source": [
    "samplelogfile = os.path.join(LSLGAdir, 'build-sample.log')\n",
    "print('Building the sample.')\n",
    "print('Logging to {}'.format(samplelogfile))\n",
    "t0 = time.time()\n",
    "with open(samplelogfile, 'w') as log:\n",
    "    with redirect_stdout(log):\n",
    "        sample = build_sample(cat)\n",
    "print('Found {}/{} objects in the LS footprint.'.format(len(sample), len(cat)))\n",
    "print('Total time = {:.3f} seconds.'.format(time.time() - t0))"
   ]
  },
  {
   "cell_type": "code",
   "execution_count": 21,
   "metadata": {},
   "outputs": [
    {
     "name": "stdout",
     "output_type": "stream",
     "text": [
      "Writing /global/cscratch1/sd/ioannis/LSLGA/sample/large-galaxies-dr6-dr7.fits\n"
     ]
    },
    {
     "data": {
      "text/html": [
       "&lt;Table length=395&gt;\n",
       "<table id=\"table47262118458088\" class=\"table-striped table-bordered table-condensed\">\n",
       "<thead><tr><th>galaxy</th><th>objtype</th><th>ra</th><th>dec</th><th>z</th><th>zqual</th><th>morph</th><th>mag</th><th>mag_err</th><th>mag_band</th><th>d25</th><th>d25_band</th><th>ba25</th><th>ba25_band</th><th>pa</th><th>pa_band</th><th>notes</th><th>dr</th></tr></thead>\n",
       "<thead><tr><th>bytes30</th><th>bytes6</th><th>float64</th><th>float64</th><th>float32</th><th>bytes4</th><th>bytes39</th><th>float64</th><th>float64</th><th>bytes5</th><th>float64</th><th>bytes5</th><th>float64</th><th>bytes5</th><th>float64</th><th>bytes5</th><th>bytes82</th><th>str3</th></tr></thead>\n",
       "<tr><td>NGC 4653</td><td>G</td><td>190.962125</td><td>-0.561222222222</td><td>0.008776</td><td>N/A</td><td>SAB(rs)cd</td><td>12.8794000833</td><td>0.0796841478525</td><td>r</td><td>1.98466670513</td><td>r</td><td>0.78100001812</td><td>r</td><td>44.0</td><td>r</td><td>The APM position is northeast of the nucleus.</td><td>dr5</td></tr>\n",
       "<tr><td>NGC 6550</td><td>G</td><td>271.496833333</td><td>18.58725</td><td>0.007365</td><td>N/A</td><td>SB0</td><td>10.427084815</td><td>0.0191887259631</td><td>Ks</td><td>1.98333334923</td><td>Ks</td><td>0.560000002384</td><td>Ks</td><td>160.0</td><td>Ks</td><td>N/A</td><td>dr5</td></tr>\n",
       "<tr><td>SDSS J145102.49+000017.6</td><td>G</td><td>222.760416667</td><td>0.00488888888889</td><td>nan</td><td>N/A</td><td>N/A</td><td>15.8111788603</td><td>nan</td><td>r</td><td>1.80883336067</td><td>r</td><td>0.425000011921</td><td>r</td><td>108.0</td><td>r</td><td>N/A</td><td>dr5</td></tr>\n",
       "<tr><td>NGC 1194</td><td>G</td><td>45.954625</td><td>-1.10375</td><td>0.013596</td><td>N/A</td><td>SA0^+?</td><td>12.9540052032</td><td>0.0294569464846</td><td>r</td><td>1.98800003529</td><td>r</td><td>0.45300000906</td><td>r</td><td>148.0</td><td>r</td><td>N/A</td><td>dr5</td></tr>\n",
       "<tr><td>NGC 5797</td><td>G</td><td>224.100208333</td><td>49.6961666667</td><td>0.013269</td><td>N/A</td><td>S0/a</td><td>12.4972465733</td><td>0.0242545932165</td><td>r</td><td>1.80816662312</td><td>r</td><td>0.537999987602</td><td>r</td><td>112.0</td><td>r</td><td>N/A</td><td>dr6</td></tr>\n",
       "<tr><td>NGC 3352</td><td>G</td><td>161.062208333</td><td>22.3711944444</td><td>0.01916</td><td>N/A</td><td>S0</td><td>12.549176319</td><td>0.0232343146509</td><td>r</td><td>1.88266670704</td><td>r</td><td>0.669000029564</td><td>r</td><td>1.0</td><td>r</td><td>The 2MASS position is 7 arcsec east of the nucleus.</td><td>dr5</td></tr>\n",
       "<tr><td>UGC 07271</td><td>G</td><td>183.889333333</td><td>43.4341111111</td><td>0.001825</td><td>N/A</td><td>SBd?</td><td>14.1865969295</td><td>0.346619993448</td><td>r</td><td>1.92183327675</td><td>r</td><td>0.314999997616</td><td>r</td><td>159.0</td><td>r</td><td>N/A</td><td>dr6</td></tr>\n",
       "<tr><td>SDSS J091426.37+232940.2</td><td>G</td><td>138.609916667</td><td>23.4945277778</td><td>nan</td><td>N/A</td><td>N/A</td><td>15.1507823107</td><td>nan</td><td>r</td><td>1.98066663742</td><td>r</td><td>0.0740000009537</td><td>r</td><td>107.0</td><td>r</td><td>N/A</td><td>dr5</td></tr>\n",
       "<tr><td>CGCG 428-070</td><td>G</td><td>334.585416667</td><td>13.6237222222</td><td>0.024927</td><td>N/A</td><td>N/A</td><td>10.4631290957</td><td>0.0595551457487</td><td>Ks</td><td>1.9333332777</td><td>Ks</td><td>0.419999986887</td><td>Ks</td><td>170.0</td><td>Ks</td><td>N/A</td><td>dr5</td></tr>\n",
       "<tr><td>NGC 5642</td><td>G</td><td>217.306208333</td><td>30.0264444444</td><td>0.014363</td><td>N/A</td><td>E</td><td>12.3496598826</td><td>0.0202018138559</td><td>r</td><td>1.83716666698</td><td>r</td><td>0.625</td><td>r</td><td>124.0</td><td>r</td><td>N/A</td><td>dr5</td></tr>\n",
       "<tr><td>...</td><td>...</td><td>...</td><td>...</td><td>...</td><td>...</td><td>...</td><td>...</td><td>...</td><td>...</td><td>...</td><td>...</td><td>...</td><td>...</td><td>...</td><td>...</td><td>...</td><td>...</td></tr>\n",
       "<tr><td>2MASX J07485257+2954211</td><td>G</td><td>117.219166667</td><td>29.9059166667</td><td>0.141844</td><td>SPEC</td><td>N/A</td><td>13.7202950337</td><td>0.679045203709</td><td>Ks</td><td>1.99666666985</td><td>Ks</td><td>0.759999990463</td><td>Ks</td><td>35.0</td><td>Ks</td><td>N/A</td><td>dr5</td></tr>\n",
       "<tr><td>NGC 5211</td><td>G</td><td>203.27225</td><td>-1.03580555556</td><td>0.012385</td><td>N/A</td><td>(R&apos;)SAB(rs)ab pec</td><td>12.7071969033</td><td>0.0324325886148</td><td>r</td><td>1.82449996471</td><td>r</td><td>0.763999998569</td><td>r</td><td>74.0</td><td>r</td><td>N/A</td><td>dr5</td></tr>\n",
       "<tr><td>SDSS J154251.95+141418.7</td><td>G</td><td>235.716458333</td><td>14.2385555556</td><td>0.004061</td><td>SPEC</td><td>N/A</td><td>14.5353620028</td><td>nan</td><td>r</td><td>1.95000004768</td><td>r</td><td>0.340999990702</td><td>r</td><td>145.0</td><td>r</td><td>N/A</td><td>dr5</td></tr>\n",
       "<tr><td>NGC 1357</td><td>G</td><td>53.3211666667</td><td>-13.6641388889</td><td>0.006657</td><td>N/A</td><td>SA(s)ab</td><td>10.255295257</td><td>0.0252329623933</td><td>Ks</td><td>1.97666668892</td><td>Ks</td><td>0.819999992847</td><td>Ks</td><td>70.0</td><td>Ks</td><td>N/A</td><td>dr5</td></tr>\n",
       "<tr><td>NGC 2798</td><td>G</td><td>139.344958333</td><td>41.9997222222</td><td>0.005757</td><td>N/A</td><td>SB(s)a pec</td><td>12.630360297</td><td>0.13802331686</td><td>r</td><td>1.85683333874</td><td>r</td><td>0.488999992609</td><td>r</td><td>158.0</td><td>r</td><td>N/A</td><td>dr6</td></tr>\n",
       "<tr><td>UGC 07599</td><td>G</td><td>187.119</td><td>37.2336388889</td><td>0.000927</td><td>N/A</td><td>Sm</td><td>14.8264770508</td><td>0.484248548746</td><td>B_RC3</td><td>1.99500000477</td><td>B_RC3</td><td>0.513000011444</td><td>B_RC3</td><td>135.0</td><td>B_RC3</td><td>ultiple SDSS entries describe this object.</td><td>dr6</td></tr>\n",
       "<tr><td>NGC 4528</td><td>G</td><td>188.525291667</td><td>11.32125</td><td>0.004597</td><td>N/A</td><td>S0^0?</td><td>11.9618843253</td><td>0.0222828407511</td><td>r</td><td>1.86116659641</td><td>r</td><td>0.540000021458</td><td>r</td><td>5.0</td><td>r</td><td>N/A</td><td>dr5</td></tr>\n",
       "<tr><td>NGC 4284</td><td>G</td><td>185.052583333</td><td>58.0928888889</td><td>0.014023</td><td>N/A</td><td>Sbc</td><td>13.2678674374</td><td>0.0564582812882</td><td>r</td><td>1.95266675949</td><td>r</td><td>0.419999986887</td><td>r</td><td>104.0</td><td>r</td><td>N/A</td><td>dr6</td></tr>\n",
       "<tr><td>UGC 07327</td><td>G</td><td>184.407</td><td>16.7274166667</td><td>0.022322</td><td>N/A</td><td>Sd</td><td>15.3256225586</td><td>0.195755422115</td><td>B_RC3</td><td>1.95000004768</td><td>B_RC3</td><td>0.10000000149</td><td>B_RC3</td><td>91.0</td><td>B_RC3</td><td>N/A</td><td>dr5</td></tr>\n",
       "<tr><td>NGC 3650</td><td>G</td><td>170.647458333</td><td>20.7039166667</td><td>0.01463</td><td>N/A</td><td>SAb edge-on</td><td>13.3829352862</td><td>0.0212047372192</td><td>r</td><td>1.87033331394</td><td>r</td><td>0.273000001907</td><td>r</td><td>53.0</td><td>r</td><td>N/A</td><td>dr5</td></tr>\n",
       "</table>"
      ],
      "text/plain": [
       "<Table length=395>\n",
       "         galaxy          objtype ...  dr \n",
       "        bytes30           bytes6 ... str3\n",
       "------------------------ ------- ... ----\n",
       "                NGC 4653       G ...  dr5\n",
       "                NGC 6550       G ...  dr5\n",
       "SDSS J145102.49+000017.6       G ...  dr5\n",
       "                NGC 1194       G ...  dr5\n",
       "                NGC 5797       G ...  dr6\n",
       "                NGC 3352       G ...  dr5\n",
       "               UGC 07271       G ...  dr6\n",
       "SDSS J091426.37+232940.2       G ...  dr5\n",
       "            CGCG 428-070       G ...  dr5\n",
       "                NGC 5642       G ...  dr5\n",
       "                     ...     ... ...  ...\n",
       " 2MASX J07485257+2954211       G ...  dr5\n",
       "                NGC 5211       G ...  dr5\n",
       "SDSS J154251.95+141418.7       G ...  dr5\n",
       "                NGC 1357       G ...  dr5\n",
       "                NGC 2798       G ...  dr6\n",
       "               UGC 07599       G ...  dr6\n",
       "                NGC 4528       G ...  dr5\n",
       "                NGC 4284       G ...  dr6\n",
       "               UGC 07327       G ...  dr5\n",
       "                NGC 3650       G ...  dr5"
      ]
     },
     "execution_count": 21,
     "metadata": {},
     "output_type": "execute_result"
    }
   ],
   "source": [
    "print('Writing {}'.format(samplefile))\n",
    "sample.write(samplefile, overwrite=True)\n",
    "#sample = sample[:10] # hack!\n",
    "sample"
   ]
  },
  {
   "cell_type": "code",
   "execution_count": 22,
   "metadata": {
    "collapsed": true
   },
   "outputs": [],
   "source": [
    "def qa_radec():\n",
    "    idr6 = sample['dr'] == 'dr6'\n",
    "    idr7 = sample['dr'] == 'dr5'\n",
    "\n",
    "    fig, ax = plt.subplots()\n",
    "    ax.scatter(cat['ra'], cat['dec'], alpha=0.5, s=5, label='Parent Catalog')\n",
    "    ax.scatter(sample['ra'][idr6], sample['dec'][idr6], s=10, label='In DR6')\n",
    "    ax.scatter(sample['ra'][idr7], sample['dec'][idr7], s=10, label='In DR5')\n",
    "    ax.set_xlabel('RA')\n",
    "    ax.set_ylabel('Dec')\n",
    "    ax.legend(loc='lower left', fontsize=10, frameon=True)#, ncol=3)"
   ]
  },
  {
   "cell_type": "code",
   "execution_count": 23,
   "metadata": {},
   "outputs": [
    {
     "data": {
      "image/png": "[encoded data removed]",
      "text/plain": [
       "<matplotlib.figure.Figure at 0x2afc4b50a470>"
      ]
     },
     "metadata": {},
     "output_type": "display_data"
    }
   ],
   "source": [
    "qa_radec()"
   ]
  },
  {
   "cell_type": "markdown",
   "metadata": {},
   "source": [
    "### Get viewer cutouts of every galaxy."
   ]
  },
  {
   "cell_type": "code",
   "execution_count": 24,
   "metadata": {
    "collapsed": true
   },
   "outputs": [],
   "source": [
    "def get_galaxy(obj, nospace=False):\n",
    "    galaxy = obj['galaxy']\n",
    "    if nospace:\n",
    "        return galaxy.replace(' ','_')\n",
    "    else:\n",
    "        return galaxy"
   ]
  },
  {
   "cell_type": "code",
   "execution_count": 25,
   "metadata": {
    "collapsed": true
   },
   "outputs": [],
   "source": [
    "def get_layer(obj):\n",
    "    if obj['dr'] == 'dr6':\n",
    "        layer = 'mzls+bass-dr6'\n",
    "    elif obj['dr'] == 'dr5':\n",
    "        layer = 'decals-dr5'\n",
    "    return layer"
   ]
  },
  {
   "cell_type": "code",
   "execution_count": 26,
   "metadata": {
    "collapsed": true
   },
   "outputs": [],
   "source": [
    "def get_cutouts(sample, clobber=False):\n",
    "    jpgdir = os.path.join(LSLGAdir, 'cutouts', 'jpg')\n",
    "    if not os.path.isdir(jpgdir):\n",
    "        os.mkdir(jpgdir)\n",
    "    baseurl = 'http://legacysurvey.org/viewer-dev/jpeg-cutout'\n",
    "    for obj in sample:\n",
    "        layer = get_layer(obj)\n",
    "        galaxynospace = get_galaxy(obj, nospace=True)\n",
    "        \n",
    "        size = np.ceil(2 * obj['d25'] * 60 / PIXSCALE).astype('int16') # [pixels]\n",
    "        imageurl = '{}/?ra={:.8f}&dec={:.8f}&pixscale={:.3f}&size={:g}&layer={}'.format(\n",
    "            baseurl, obj['ra'], obj['dec'], PIXSCALE, size, layer)\n",
    "        \n",
    "        jpgfile = os.path.join(jpgdir, '{}.jpg'.format(galaxynospace))\n",
    "        cmd = 'wget --continue -O {:s} \"{:s}\"' .format(jpgfile, imageurl)\n",
    "        if os.path.isfile(jpgfile) and not clobber:\n",
    "            print('File {} exists...skipping.'.format(jpgfile))\n",
    "        else:\n",
    "            if os.path.isfile(jpgfile):\n",
    "                os.remove(jpgfile)\n",
    "            print(cmd)\n",
    "            os.system(cmd)"
   ]
  },
  {
   "cell_type": "code",
   "execution_count": 27,
   "metadata": {},
   "outputs": [
    {
     "name": "stdout",
     "output_type": "stream",
     "text": [
      "Getting viewer cutouts.\n",
      "Logging to /global/cscratch1/sd/ioannis/LSLGA/get-cutouts.log\n",
      "Total time = 714.627 seconds.\n"
     ]
    }
   ],
   "source": [
    "cutlogfile = os.path.join(LSLGAdir, 'get-cutouts.log')\n",
    "print('Getting viewer cutouts.')\n",
    "print('Logging to {}'.format(cutlogfile))\n",
    "t0 = time.time()\n",
    "with open(cutlogfile, 'w') as log:\n",
    "    with redirect_stdout(log):\n",
    "        get_cutouts(sample, clobber=True)\n",
    "print('Total time = {:.3f} seconds.'.format(time.time() - t0))"
   ]
  },
  {
   "cell_type": "markdown",
   "metadata": {},
   "source": [
    "#### Add labels and a scale bar."
   ]
  },
  {
   "cell_type": "code",
   "execution_count": 28,
   "metadata": {
    "collapsed": true
   },
   "outputs": [],
   "source": [
    "barlen = np.round(60.0 / PIXSCALE).astype('int') # [1 arcmin in pixels]\n",
    "fonttype = os.path.join(LSLGAdir, 'Georgia.ttf')"
   ]
  },
  {
   "cell_type": "code",
   "execution_count": 29,
   "metadata": {
    "collapsed": true
   },
   "outputs": [],
   "source": [
    "def _add_labels_one(args):\n",
    "    \"\"\"Wrapper function for the multiprocessing.\"\"\"\n",
    "    return add_labels_one(*args)"
   ]
  },
  {
   "cell_type": "code",
   "execution_count": 30,
   "metadata": {
    "collapsed": true
   },
   "outputs": [],
   "source": [
    "def add_labels_one(obj, verbose=False):\n",
    "    jpgdir = os.path.join(LSLGAdir, 'cutouts', 'jpg')\n",
    "    pngdir = os.path.join(LSLGAdir, 'cutouts', 'png')\n",
    "    if not os.path.isdir(pngdir):\n",
    "        os.mkdir(pngdir)\n",
    "        \n",
    "    galaxy = get_galaxy(obj)\n",
    "    galaxynospace = get_galaxy(obj, nospace=True)\n",
    "    \n",
    "    jpgfile = os.path.join(jpgdir, '{}.jpg'.format(galaxynospace))\n",
    "    pngfile = os.path.join(pngdir, '{}.png'.format(galaxynospace))\n",
    "    thumbfile = os.path.join(pngdir, 'thumb-{}.png'.format(galaxynospace))\n",
    "        \n",
    "    im = Image.open(jpgfile)\n",
    "    sz = im.size\n",
    "    fntsize = np.round(sz[0]/28).astype('int')\n",
    "    width = np.round(sz[0]/175).astype('int')\n",
    "    font = ImageFont.truetype(fonttype, size=fntsize)\n",
    "    draw = ImageDraw.Draw(im)\n",
    "    # Label the object name--\n",
    "    draw.text((0+fntsize*2, 0+fntsize*2), galaxy, font=font)\n",
    "    # Add a scale bar--\n",
    "    x0, x1, yy = sz[1]-fntsize*2-barlen, sz[1]-fntsize*2, sz[0]-fntsize*2\n",
    "    draw.line((x0, yy, x1, yy), fill='white', width=width)\n",
    "    im.save(pngfile)    \n",
    "        \n",
    "    # Generate a thumbnail\n",
    "    if True:\n",
    "        cmd = '/usr/bin/convert -thumbnail 300x300 {} {}'.format(pngfile, thumbfile)\n",
    "        os.system(cmd)"
   ]
  },
  {
   "cell_type": "code",
   "execution_count": 31,
   "metadata": {
    "collapsed": true
   },
   "outputs": [],
   "source": [
    "def add_labels(sample):\n",
    "    labelargs = list()\n",
    "    for obj in sample:\n",
    "        labelargs.append((obj, False))\n",
    "\n",
    "    if nproc > 1:\n",
    "        p = multiprocessing.Pool(nproc)\n",
    "        res = p.map(_add_labels_one, labelargs)\n",
    "        p.close()\n",
    "    else:\n",
    "        for args in labelargs:\n",
    "            res = _add_labels_one(args)"
   ]
  },
  {
   "cell_type": "code",
   "execution_count": 32,
   "metadata": {},
   "outputs": [
    {
     "name": "stdout",
     "output_type": "stream",
     "text": [
      "CPU times: user 64.3 ms, sys: 83.5 ms, total: 148 ms\n",
      "Wall time: 9.13 s\n"
     ]
    }
   ],
   "source": [
    "%time add_labels(sample)"
   ]
  },
  {
   "cell_type": "markdown",
   "metadata": {},
   "source": [
    "### Finally, assemble the webpage of good and rejected gallery images.\n",
    "\n",
    "To test the webpage before release, do\n",
    "\n",
    "```bash\n",
    "    rsync -auvP /global/cscratch1/sd/ioannis/LSLGA/cutouts/png /global/project/projectdirs/cosmo/www/temp/ioannis/LSLGA/\n",
    "    rsync -auvP /global/cscratch1/sd/ioannis/LSLGA/cutouts/*.html /global/project/projectdirs/cosmo/www/temp/ioannis/LSLGA/\n",
    "```\n",
    "and then the website can be viewed here:\n",
    "  http://portal.nersc.gov/project/cosmo/temp/ioannis/LSLGA    "
   ]
  },
  {
   "cell_type": "code",
   "execution_count": 33,
   "metadata": {},
   "outputs": [
    {
     "name": "stdout",
     "output_type": "stream",
     "text": [
      "Rejecting 0 objects.\n"
     ]
    }
   ],
   "source": [
    "reject = []\n",
    "toss = np.zeros(len(sample), dtype=bool)\n",
    "for ii, gg in enumerate(sample['galaxy']):\n",
    "    for rej in np.atleast_1d(reject):\n",
    "        toss[ii] = rej in gg.lower()\n",
    "        if toss[ii]:\n",
    "            break\n",
    "print('Rejecting {} objects.'.format(np.sum(toss)))\n",
    "pngkeep = sample[~toss]\n",
    "if np.sum(toss) > 0:\n",
    "    pngrej = sample[toss]\n",
    "else:\n",
    "    pngrej = []"
   ]
  },
  {
   "cell_type": "code",
   "execution_count": 34,
   "metadata": {
    "collapsed": true
   },
   "outputs": [],
   "source": [
    "htmlfile = os.path.join(LSLGAdir, 'cutouts', 'index.html')\n",
    "htmlfile_reject = os.path.join(LSLGAdir, 'cutouts', 'index-reject.html')\n",
    "viewerurl = 'http://legacysurvey.org/viewer'"
   ]
  },
  {
   "cell_type": "code",
   "execution_count": 35,
   "metadata": {
    "collapsed": true
   },
   "outputs": [],
   "source": [
    "def html_rows(pngkeep, nperrow=4):\n",
    "    nrow = np.ceil(len(pngkeep) / nperrow).astype('int')\n",
    "    pngsplit = list()\n",
    "    for ii in range(nrow):\n",
    "        i1 = nperrow*ii\n",
    "        i2 = nperrow*(ii+1)\n",
    "        if i2 > len(pngkeep):\n",
    "            i2 = len(pngkeep)\n",
    "        pngsplit.append(pngkeep[i1:i2])\n",
    "    #pngsplit = np.array_split(pngkeep, nrow)\n",
    "    print('Splitting the sample into {} rows with {} mosaics per row.'.format(nrow, nperrow))\n",
    "\n",
    "    html.write('<table class=\"ls-gallery\">\\n')\n",
    "    html.write('<tbody>\\n')\n",
    "    for pngrow in pngsplit:\n",
    "        html.write('<tr>\\n')\n",
    "        for obj in pngrow:\n",
    "            galaxy = get_galaxy(obj)\n",
    "            galaxynospace = get_galaxy(obj, nospace=True)\n",
    "            \n",
    "            pngfile = os.path.join('png', '{}.png'.format(galaxynospace))\n",
    "            thumbfile = os.path.join('png', 'thumb-{}.png'.format(galaxynospace))\n",
    "            img = 'src=\"{}\" alt=\"{}\"'.format(thumbfile, galaxy)\n",
    "            #img = 'class=\"ls-gallery\" src=\"{}\" alt=\"{}\"'.format(thumbfile, nicename)\n",
    "            html.write('<td><a href=\"{}\"><img {}></a></td>\\n'.format(pngfile, img))\n",
    "        html.write('</tr>\\n')\n",
    "        html.write('<tr>\\n')\n",
    "        for obj in pngrow:\n",
    "            galaxy = get_galaxy(obj)\n",
    "            layer = get_layer(obj)\n",
    "            href = '{}/?layer={}&ra={:.8f}&dec={:.8f}&zoom=12'.format(viewerurl, layer, obj['ra'], obj['dec'])\n",
    "            html.write('<td><a href=\"{}\" target=\"_blank\">{}</a></td>\\n'.format(href, galaxy))\n",
    "        html.write('</tr>\\n')\n",
    "    html.write('</tbody>\\n')            \n",
    "    html.write('</table>\\n')"
   ]
  },
  {
   "cell_type": "code",
   "execution_count": 39,
   "metadata": {},
   "outputs": [
    {
     "name": "stdout",
     "output_type": "stream",
     "text": [
      "Splitting the sample into 99 rows with 4 mosaics per row.\n"
     ]
    }
   ],
   "source": [
    "with open(htmlfile, 'w') as html:\n",
    "    html.write('<html><head>\\n')\n",
    "    html.write('<style type=\"text/css\">\\n')\n",
    "    html.write('table.ls-gallery {width: 90%;}\\n')\n",
    "    #html.write('img.ls-gallery {display: block;}\\n')\n",
    "    #html.write('td.ls-gallery {width: 100%; height: auto}\\n')\n",
    "    #html.write('td.ls-gallery {width: 100%; word-wrap: break-word;}\\n')\n",
    "    html.write('p.ls-gallery {width: 80%;}\\n')\n",
    "    html.write('</style>\\n')\n",
    "    html.write('</head><body>\\n')\n",
    "    html.write('<h1>Legacy Surveys Large Galaxy Atlas</h1>\\n')\n",
    "    html.write(\"\"\"<p class=\"ls-gallery\">Each thumbnail links to a larger image while the galaxy \n",
    "    name below each thumbnail links to the <a href=\"http://legacysurvey.org/viewer\">Sky Viewer</a>.  \n",
    "    For reference, the horizontal white bar in the lower-right corner of each image represents \n",
    "    one arcminute.</p>\\n\"\"\")\n",
    "    #html.write('<h2>Large Galaxy Sample</h2>\\n')\n",
    "    html_rows(pngkeep)\n",
    "    html.write('</body></html>\\n')"
   ]
  },
  {
   "cell_type": "code",
   "execution_count": 37,
   "metadata": {
    "collapsed": true
   },
   "outputs": [],
   "source": [
    "if len(pngrej) > 0:\n",
    "    with open(htmlfile_reject, 'w') as html:\n",
    "        html.write('<html><head>\\n')\n",
    "        html.write('<style type=\"text/css\">\\n')\n",
    "        html.write('img.ls-gallery {display: block;}\\n')\n",
    "        html.write('td.ls-gallery {width: 20%; word-wrap: break-word;}\\n')\n",
    "        html.write('</style>\\n')\n",
    "        html.write('</head><body>\\n')\n",
    "        html.write('<h1>Large Galaxies - Rejected</h1>\\n')\n",
    "        html_rows(pngrej)\n",
    "        html.write('</body></html>\\n')"
   ]
  },
  {
   "cell_type": "code",
   "execution_count": 38,
   "metadata": {},
   "outputs": [
    {
     "ename": "NameError",
     "evalue": "name 'stop' is not defined",
     "output_type": "error",
     "traceback": [
      "\u001b[0;31m---------------------------------------------------------------------------\u001b[0m",
      "\u001b[0;31mNameError\u001b[0m                                 Traceback (most recent call last)",
      "\u001b[0;32m<ipython-input-38-30d9529ff51c>\u001b[0m in \u001b[0;36m<module>\u001b[0;34m()\u001b[0m\n\u001b[0;32m----> 1\u001b[0;31m \u001b[0mstop\u001b[0m\u001b[0;34m\u001b[0m\u001b[0m\n\u001b[0m",
      "\u001b[0;31mNameError\u001b[0m: name 'stop' is not defined"
     ]
    }
   ],
   "source": [
    "stop"
   ]
  },
  {
   "cell_type": "markdown",
   "metadata": {},
   "source": [
    "### Generate the color mosaics for each object.¶"
   ]
  },
  {
   "cell_type": "code",
   "execution_count": null,
   "metadata": {
    "collapsed": true
   },
   "outputs": [],
   "source": [
    "def custom_brickname(obj, prefix='custom-'): \n",
    "    brickname = 'custom-{:06d}{}{:05d}'.format(\n",
    "        int(1000*obj['ra']), 'm' if obj['dec'] < 0 else 'p', \n",
    "        int(1000*np.abs(obj['dec'])))\n",
    "    return brickname"
   ]
  },
  {
   "cell_type": "code",
   "execution_count": null,
   "metadata": {
    "collapsed": true
   },
   "outputs": [],
   "source": [
    "def make_coadds_one(obj, scale=PIXSCALE, clobber=False):\n",
    "    name = np.char.strip(obj['galaxy'])\n",
    "    jpgfile = os.path.join(jpgdir, '{}.jpg'.format(name))\n",
    "    if os.path.isfile(jpgfile) and not clobber:\n",
    "        print('File {} exists...skipping.'.format(jpgfile))\n",
    "    else:\n",
    "        factor = 2.0 # get_factor(obj['type'])\n",
    "        diam = factor * ma.getdata(obj['d25']) * 60 # diameter [arcsec]\n",
    "        \n",
    "        size = np.rint(diam / scale).astype('int') # [pixels]\n",
    "        print('Generating mosaic for {} (type={}) with width={} pixels.'.format(name, obj['objtype'], size))\n",
    "        \n",
    "        with warnings.catch_warnings():\n",
    "            warnings.simplefilter(\"ignore\")\n",
    "            run_brick(None, survey, radec=(obj['ra'], obj['dec']), pixscale=scale, \n",
    "                      width=size, height=size, stages=['image_coadds'], splinesky=True,\n",
    "                      early_coadds=True, pixPsf=True, hybridPsf=True, normalizePsf=True,\n",
    "                      write_pickles=False, depth_cut=False, apodize=True, threads=nproc,\n",
    "                      do_calibs=False, ceres=False)\n",
    "            \n",
    "        sys.stdout.flush()    \n",
    "        brickname = custom_brickname(obj, prefix='custom-')\n",
    "        _jpgfile = os.path.join(survey.output_dir, 'coadd', 'cus', brickname, \n",
    "                               'legacysurvey-{}-image.jpg'.format(brickname))\n",
    "        shutil.copy(_jpgfile, jpgfile)\n",
    "        shutil.rmtree(os.path.join(survey.output_dir, 'coadd'))"
   ]
  },
  {
   "cell_type": "code",
   "execution_count": null,
   "metadata": {
    "collapsed": true
   },
   "outputs": [],
   "source": [
    "def make_coadds(sample, clobber=False):\n",
    "    for obj in sample:\n",
    "        make_coadds_one(obj, clobber=clobber)"
   ]
  },
  {
   "cell_type": "code",
   "execution_count": null,
   "metadata": {
    "collapsed": true
   },
   "outputs": [],
   "source": [
    "make_coadds_one(sample[2], clobber=True)"
   ]
  },
  {
   "cell_type": "code",
   "execution_count": null,
   "metadata": {
    "collapsed": true
   },
   "outputs": [],
   "source": [
    "coaddslogfile = os.path.join(LSLGAdir, 'make-coadds.log')\n",
    "print('Generating the coadds.')\n",
    "print('Logging to {}'.format(coaddslogfile))\n",
    "t0 = time.time()\n",
    "with open(coaddslogfile, 'w') as log:\n",
    "    with redirect_stdout(log):\n",
    "        make_coadds(sample, clobber=False)\n",
    "print('Total time = {:.3f} minutes.'.format((time.time() - t0) / 60))"
   ]
  },
  {
   "cell_type": "code",
   "execution_count": null,
   "metadata": {
    "collapsed": true
   },
   "outputs": [],
   "source": [
    "stop"
   ]
  }
 ],
 "metadata": {
  "anaconda-cloud": {},
  "kernelspec": {
   "display_name": "Python 3",
   "language": "python",
   "name": "python3"
  },
  "language_info": {
   "codemirror_mode": {
    "name": "ipython",
    "version": 3
   },
   "file_extension": ".py",
   "mimetype": "text/x-python",
   "name": "python",
   "nbconvert_exporter": "python",
   "pygments_lexer": "ipython3",
   "version": "3.6.5"
  }
 },
 "nbformat": 4,
 "nbformat_minor": 2
}
