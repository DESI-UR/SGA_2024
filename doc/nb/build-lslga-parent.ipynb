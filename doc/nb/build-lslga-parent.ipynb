{
 "cells": [
  {
   "cell_type": "markdown",
   "metadata": {},
   "source": [
    "# Build the LSLGA parent sample\n",
    "\n",
    "The purpose of this notebook is to build the parent sample for the NASA Legacy Surveys Galaxy Atlas (NLSGA).  The final output files are:\n",
    "  * large-galaxies-parent.fits -- large galaxies in the Legacy Surveys footprint\n",
    "  * large-galaxies-parent-dr6-dr7.fits -- large galaxies in the DR6+DR7 footprint\n",
    "\n",
    "Our starting catalog is the file hyperleda-d25min10.txt, which contains 2,118,186 objects and is the raw output of querying the [Hyperleda database](http://leda.univ-lyon1.fr/fullsql.html) (on 2018 May 13) for all objects with a D(25) isophotal diameter greater than 10 arcsec using the following SQL query:\n",
    "\n",
    "```SQL\n",
    "SELECT\n",
    "  pgc, objname, objtype, al2000, de2000, type, bar, ring,\n",
    "  multiple, compactness, t, logd25, logr25, pa, bt, it,\n",
    "  kt, v, modbest\n",
    "WHERE\n",
    "  logd25 > 0.2218487 and (objtype='G' or objtype='M' or objtype='M2' or \n",
    "                          objtype='M3' or objtype='MG' or objtype='MC')\n",
    "ORDER BY\n",
    "  al2000\n",
    "```\n",
    "\n",
    "**ToDo**\n",
    "\n",
    "1. Build unWISE and GALEX mosaics.\n",
    "2. Filter and sort the sample; try to remove junk.\n",
    "3. Construct a group catalog.\n",
    "4. Include additional metadata in the webpage."
   ]
  },
  {
   "cell_type": "markdown",
   "metadata": {},
   "source": [
    "#### We also tested building a parent sample from a query of the NED database but found a number of spurious angular diameter measurements.  Nevertheless, below are some potentially relevant notes.\n",
    "\n",
    "Our starting catalog is the file *ned-d25min10.txt*, which contains 8,131,378 objects and is the (semi-raw) output of querying the NED database (on 2018 March 26) for all objects with a D(25) isophotal diameter (in any band) greater than 10 arcsec, with no requirements on redshift or object type.  \n",
    "\n",
    "Next, we run\n",
    "```bash\n",
    "% time python parse-ned-sample\n",
    "```\n",
    "to restrict the sample to:\n",
    "  1. \"galaxies\" (object type \"G\", \"GGroup\", \"GPair\", \"GTrpl\", or \"PofG\"), leaving 4,755,411 objects;\n",
    "  2. objects with an approximate magnitude and angular diameter (from NED, in any band), leaving 4,392,760 objects;\n",
    "  3. objects in the Legacy Survey / DESI footprint, leaving 3,878,035 objects.\n",
    "\n",
    "Specifically, we parse and merge various apparent magnitude estimates (from SDSS/r, 2MASS/Ks, RC3/B, and APM/bJ, in that order of priority), and angular diameters (D25), minor-to-major axis ratios (b/a), and position angles (pa) (from SDSS, 2MASS, RC3, and ESO, in that order of priority)."
   ]
  },
  {
   "cell_type": "markdown",
   "metadata": {},
   "source": [
    "### Imports and other preliminaries."
   ]
  },
  {
   "cell_type": "code",
   "execution_count": 21,
   "metadata": {},
   "outputs": [],
   "source": [
    "import os, sys\n",
    "import time\n",
    "from contextlib import redirect_stdout\n",
    "import numpy as np\n",
    "import numpy.ma as ma\n",
    "import matplotlib.pyplot as plt"
   ]
  },
  {
   "cell_type": "code",
   "execution_count": 2,
   "metadata": {},
   "outputs": [],
   "source": [
    "import fitsio\n",
    "import astropy.table\n",
    "import pandas as pd\n",
    "import seaborn as sns\n",
    "from PIL import Image, ImageDraw, ImageFont"
   ]
  },
  {
   "cell_type": "code",
   "execution_count": 4,
   "metadata": {},
   "outputs": [],
   "source": [
    "import multiprocessing\n",
    "nproc = multiprocessing.cpu_count() // 2"
   ]
  },
  {
   "cell_type": "code",
   "execution_count": 5,
   "metadata": {},
   "outputs": [],
   "source": [
    "sns.set(style='ticks', font_scale=1.5, palette='Set2')\n",
    "%matplotlib inline"
   ]
  },
  {
   "cell_type": "code",
   "execution_count": 6,
   "metadata": {},
   "outputs": [
    {
     "name": "stdout",
     "output_type": "stream",
     "text": [
      "Linking length = 0.75 arcmin = 171.8 pixels.\n"
     ]
    }
   ],
   "source": [
    "PIXSCALE = 0.262\n",
    "mindiameter = 0.5     # [arcmin]\n",
    "maxdiameter = 10.0    # [arcmin]\n",
    "linking_length = 0.75 # [arcmin]\n",
    "print('Linking length = {:.2f} arcmin = {:.1f} pixels.'.format(linking_length, linking_length * 60 / PIXSCALE))"
   ]
  },
  {
   "cell_type": "code",
   "execution_count": 7,
   "metadata": {},
   "outputs": [],
   "source": [
    "drsuffix = 'dr6-dr7'\n",
    "LSLGAdir = os.getenv('LSLGA_DIR')\n",
    "parentfile = os.path.join(LSLGAdir, 'sample', 'large-galaxies-parent.fits')\n",
    "groupcatfile = os.path.join(LSLGAdir, 'sample', 'large-galaxies-parent-groupcat.fits')\n",
    "groupsamplefile = os.path.join(LSLGAdir, 'sample', 'large-galaxies-groupcat-{}.fits'.format(drsuffix))\n",
    "samplefile = os.path.join(LSLGAdir, 'sample', 'large-galaxies-{}.fits'.format(drsuffix))"
   ]
  },
  {
   "cell_type": "code",
   "execution_count": 8,
   "metadata": {},
   "outputs": [],
   "source": [
    "viewerurl = 'http://legacysurvey.org/viewer'\n",
    "cutouturl = 'http://legacysurvey.org/viewer-dev/jpeg-cutout'"
   ]
  },
  {
   "cell_type": "code",
   "execution_count": 9,
   "metadata": {},
   "outputs": [],
   "source": [
    "htmlfile = os.path.join(LSLGAdir, 'index.html')\n",
    "htmlfile_reject = os.path.join(LSLGAdir, 'index-reject.html')"
   ]
  },
  {
   "cell_type": "markdown",
   "metadata": {},
   "source": [
    "#### Some choices."
   ]
  },
  {
   "cell_type": "code",
   "execution_count": 10,
   "metadata": {},
   "outputs": [],
   "source": [
    "rebuild_parent = True\n",
    "rebuild_groupcat = True"
   ]
  },
  {
   "cell_type": "markdown",
   "metadata": {},
   "source": [
    "### Define some convenience QA functions."
   ]
  },
  {
   "cell_type": "code",
   "execution_count": 24,
   "metadata": {},
   "outputs": [],
   "source": [
    "from LSLGA.qa import qa_binned_radec"
   ]
  },
  {
   "cell_type": "code",
   "execution_count": 11,
   "metadata": {},
   "outputs": [],
   "source": [
    "def qa_mag_d25(cat, supercat):\n",
    "    fig, ax = plt.subplots(figsize=(7, 5))\n",
    "    ax.hexbin(supercat['mag'], np.log10(supercat['d25']), extent=(0, 25, -1, 3),\n",
    "              mincnt=1, cmap='viridis')\n",
    "    ax.scatter(cat['mag'], np.log10(cat['d25']), s=5)\n",
    "    #ax.hexbin(cat['mag'], np.log10(cat['d25']), extent=(5, 23, -1, 2),\n",
    "    #          mincnt=1, cmap='viridis')\n",
    "    ax.axhline(y=np.log10(10 / 60), ls='-', lw=2, color='k', alpha=0.8)\n",
    "    ax.axhline(y=np.log10(mindiameter), ls='--', lw=2, color='red', alpha=0.8)\n",
    "    ax.axhline(y=np.log10(maxdiameter), ls='--', lw=2, color='red', alpha=0.8)\n",
    "    ax.set_xlabel('B mag')\n",
    "    ax.set_ylabel(r'$\\log_{10}\\, D_{25}$ (arcmin)')"
   ]
  },
  {
   "cell_type": "code",
   "execution_count": 12,
   "metadata": {},
   "outputs": [],
   "source": [
    "def qa_radec_dr(parent, sample):\n",
    "    idr5 = sample['dr'] == 'dr5'\n",
    "    idr6 = sample['dr'] == 'dr6'\n",
    "    idr7 = sample['dr'] == 'dr7'\n",
    "\n",
    "    fig, ax = plt.subplots()\n",
    "    ax.scatter(parent['ra'], parent['dec'], alpha=0.5, s=5, label='Parent Catalog')\n",
    "    ax.scatter(sample['ra'][idr5], sample['dec'][idr5], s=10, label='In DR5')\n",
    "    ax.scatter(sample['ra'][idr6], sample['dec'][idr6], s=10, label='In DR6')\n",
    "    #ax.scatter(sample['ra'][idr7], sample['dec'][idr7], s=10, label='In DR7')\n",
    "    ax.set_xlabel('RA')\n",
    "    ax.set_ylabel('Dec')\n",
    "    ax.legend(loc='upper left', fontsize=10, frameon=True)#, ncol=3)"
   ]
  },
  {
   "cell_type": "code",
   "execution_count": 13,
   "metadata": {},
   "outputs": [],
   "source": [
    "def qa_wise():\n",
    "    inw1 = leda['inwise']\n",
    "    now1 = ~inw1\n",
    "    \n",
    "    fig, (ax1, ax2) = plt.subplots(1, 2, figsize=(12, 4))\n",
    "    ax1.scatter(leda['ra'], leda['dec'], s=1)\n",
    "    ax1.set_xlabel('RA')\n",
    "    ax1.set_ylabel('Dec')\n",
    "    \n",
    "    ax2.scatter(leda['mag'][inw1], leda['w1mag'][inw1] - leda['w2mag'][inw1], s=1)\n",
    "    ax2.set_xlim(5, 25)\n",
    "    ax2.set_ylim(-3, 3)        \n",
    "    ax2.set_xlabel('B')\n",
    "    ax2.set_ylabel('W1 - W2')"
   ]
  },
  {
   "cell_type": "markdown",
   "metadata": {},
   "source": [
    "### Define the parent sample as the set of Hyperleda objects in the LS/DESI footprint.\n",
    "\n",
    "We also apply minimum and maximum angular diameter cuts here.\n",
    "\n",
    "We need to make sure the bright-star masking doesn't remove objects like [IC 2204](http://legacysurvey.org/viewer?ra=115.3331&dec=34.2240&zoom=12&layer=mzls+bass-dr6), a beautiful r=13.4 disk galaxy at a redshift of z=0.0155 with an angular diameter of approximately 1.1 arcmin."
   ]
  },
  {
   "cell_type": "code",
   "execution_count": 14,
   "metadata": {},
   "outputs": [],
   "source": [
    "def read_hyperleda():\n",
    "    \"\"\"Read the Hyperleda catalog.\n",
    "    \n",
    "    \"\"\"\n",
    "    hyperledafile = os.path.join(LSLGAdir, 'sample', 'hyperleda-d25min10.fits')\n",
    "    allwisefile = hyperledafile.replace('.fits', '-allwise.fits')\n",
    "\n",
    "    leda = astropy.table.Table(fitsio.read(hyperledafile, ext=1))\n",
    "    leda.add_column(Column(name='groupid', dtype='i4', length=len(leda)))\n",
    "    print('Read {} objects from {}'.format(len(leda), hyperledafile), flush=True)\n",
    "\n",
    "    allwise = astropy.table.Table(fitsio.read(allwisefile, ext=1, lower=True))\n",
    "    print('Read {} objects from {}'.format(len(allwise), allwisefile), flush=True)\n",
    "\n",
    "    # Merge the tables\n",
    "    allwise.rename_column('ra', 'wise_ra')\n",
    "    allwise.rename_column('dec', 'wise_dec')\n",
    "    \n",
    "    leda = astropy.table.hstack( (leda, allwise) )\n",
    "    leda['inwise'] = (np.array(['NULL' not in dd for dd in allwise['designation']]) * \n",
    "                      np.isfinite(allwise['w1sigm']) * np.isfinite(allwise['w2sigm']) )\n",
    "    \n",
    "    # Require a magnitude estimate.\n",
    "    magcut = np.isfinite(leda['mag'])\n",
    "    leda = leda[magcut]\n",
    "    #print('Removing {} objects with no magnitude estimate.'.format(np.sum(~magcut)))\n",
    "    \n",
    "    #print('  Identified {} objects with WISE photometry.'.format(np.sum(leda['inwise'])))\n",
    "    \n",
    "    return leda"
   ]
  },
  {
   "cell_type": "code",
   "execution_count": 15,
   "metadata": {},
   "outputs": [],
   "source": [
    "def read_tycho(magcut=12):\n",
    "    \"\"\"Read the Tycho 2 catalog.\n",
    "    \n",
    "    \"\"\"\n",
    "    tycho2 = os.path.join(LSLGAdir, 'sample', 'tycho2.kd.fits')\n",
    "    tycho = astropy.table.Table(fitsio.read(tycho2, ext=1, lower=True))\n",
    "    tycho = tycho[np.logical_and(tycho['isgalaxy'] == 0, tycho['mag_bt'] <= magcut)]\n",
    "    print('Read {} Tycho-2 stars with B<{:.1f}.'.format(len(tycho), magcut), flush=True)\n",
    "    \n",
    "    # Radius of influence; see eq. 9 of https://arxiv.org/pdf/1203.6594.pdf\n",
    "    tycho['radius'] = (0.0802*(tycho['mag_bt'])**2 - 1.860*tycho['mag_bt'] + 11.625) / 60 # [degree]\n",
    "    \n",
    "    return tycho    "
   ]
  },
  {
   "cell_type": "code",
   "execution_count": 16,
   "metadata": {},
   "outputs": [],
   "source": [
    "def build_parent(nside=128):\n",
    "    \"\"\"Identify the galaxies in the nominal LS/DESI footprint.\"\"\"\n",
    "    import desimodel.io\n",
    "    import desimodel.footprint\n",
    "    from astrometry.libkd.spherematch import tree_build_radec, tree_search_radec\n",
    "    \n",
    "    leda = read_hyperleda()\n",
    "    \n",
    "    tiles = desimodel.io.load_tiles(onlydesi=True)\n",
    "    indesi = desimodel.footprint.is_point_in_desi(tiles, ma.getdata(leda['ra']), \n",
    "                                                  ma.getdata(leda['dec']))\n",
    "    print('  Removing {} objects outside the DESI footprint.'.format(np.sum(~indesi)), flush=True)\n",
    "\n",
    "    diamcut = (leda['d25'] >= mindiameter) * (leda['d25'] <= maxdiameter)\n",
    "    print('  Removing {} objects with D(25) < {:.3f} and D(25) > {:.3f} arcmin.'.format(\n",
    "        np.sum(~diamcut), mindiameter, maxdiameter), flush=True)\n",
    "\n",
    "    # Reject objects classified as \"g\"\n",
    "    # objnotg = np.hstack([np.char.strip(obj) != 'g' for obj in leda['objtype']])\n",
    "    # print('  Removing {} objects with objtype == g'.format(np.sum(~objnotg)), flush=True)\n",
    "    \n",
    "    keep = np.where( indesi * diamcut * objnotg )[0]\n",
    "    parent = leda[keep]\n",
    "    print('The parent sample before star-masking has {} objects.'.format(len(parent)), flush=True)\n",
    "    print()\n",
    "    \n",
    "    # Next, read the Tycho2 catalog and build a KD tree to flag objects near bright stars.\n",
    "    #print('Flagging galaxies near bright stars.')\n",
    "    tycho = read_tycho()\n",
    "    kdparent = tree_build_radec(parent['ra'], parent['dec'])\n",
    "\n",
    "    nearstar = np.zeros( len(parent), dtype=bool)\n",
    "    for star in tycho:\n",
    "        I = tree_search_radec(kdparent, star['ra'], star['dec'], star['radius'])\n",
    "        if len(I) > 0:\n",
    "            nearstar[I] = True\n",
    "    print('Found {} galaxies near a Tycho-2 star.'.format(np.sum(nearstar)), flush=True)\n",
    "\n",
    "    badparent = parent[nearstar]\n",
    "    goodparent = parent[~nearstar]\n",
    "\n",
    "    print('Writing {} objects to {}'.format(len(goodparent), parentfile), flush=True)\n",
    "    goodparent.write(parentfile, overwrite=True)    \n",
    "\n",
    "    badparentfile = parentfile.replace('.fits', '-nearstars.fits')\n",
    "    print('Writing {} objects to {}'.format(len(badparent), badparentfile), flush=True)\n",
    "    badparent.write(badparentfile, overwrite=True)    \n",
    "    print()\n",
    "    \n",
    "    return parent, leda"
   ]
  },
  {
   "cell_type": "code",
   "execution_count": 17,
   "metadata": {},
   "outputs": [],
   "source": [
    "def read_parent(parentfile, leda=None):\n",
    "    \"\"\"Read the previously created parent catalog.\n",
    "    \n",
    "    \"\"\"\n",
    "    parent = astropy.table.Table(fitsio.read(parentfile, ext=1))\n",
    "    print('Read {} objects from {}'.format(len(parent), parentfile), flush=True)\n",
    "    \n",
    "    if leda is None:\n",
    "        leda = read_hyperleda()\n",
    "    \n",
    "    return parent, leda"
   ]
  },
  {
   "cell_type": "code",
   "execution_count": 18,
   "metadata": {},
   "outputs": [
    {
     "name": "stdout",
     "output_type": "stream",
     "text": [
      "Building the parent sample.\n",
      "Logging to /Users/ioannis/research/projects/LSLGA/sample/build-parent.log\n",
      "Read 2118186 objects from /Users/ioannis/research/projects/LSLGA/sample/hyperleda-d25min10.fits\n",
      "Read 2118186 objects from /Users/ioannis/research/projects/LSLGA/sample/hyperleda-d25min10-allwise.fits\n",
      "  Removing 787792 objects outside the DESI footprint.\n",
      "  Removing 1901551 objects with D(25) < 0.500 and D(25) > 10.000 arcmin.\n",
      "  Removing 741315 objects with objtype == g\n",
      "The parent sample before star-masking has 85233 objects.\n",
      "\n",
      "Read 1092055 Tycho-2 stars with B<12.0.\n",
      "Found 1615 galaxies near a Tycho-2 star.\n",
      "Writing 83618 objects to /Users/ioannis/research/projects/LSLGA/sample/large-galaxies-parent.fits\n",
      "Writing 1615 objects to /Users/ioannis/research/projects/LSLGA/sample/large-galaxies-parent-nearstars.fits\n",
      "\n",
      "Total time = 64.261 seconds.\n",
      "\n"
     ]
    }
   ],
   "source": [
    "if rebuild_parent:\n",
    "    parentlogfile = os.path.join(LSLGAdir, 'sample', 'build-parent.log'.format(drsuffix))\n",
    "    print('Building the parent sample.')\n",
    "    print('Logging to {}'.format(parentlogfile))\n",
    "    t0 = time.time()\n",
    "    with open(parentlogfile, 'w') as log:\n",
    "        with redirect_stdout(log):\n",
    "            parent, leda = build_parent()\n",
    "            print('Total time = {:.3f} seconds.'.format( time.time() - t0 ), flush=True)\n",
    "    with open(parentlogfile, 'r') as log:\n",
    "        print(log.read())    \n",
    "else:\n",
    "    parent, leda = read_parent(parentfile)"
   ]
  },
  {
   "cell_type": "markdown",
   "metadata": {},
   "source": [
    "Some sanity QA."
   ]
  },
  {
   "cell_type": "code",
   "execution_count": 19,
   "metadata": {},
   "outputs": [
    {
     "data": {
      "image/png": "[encoded data removed]",
      "text/plain": [
       "<Figure size 504x360 with 1 Axes>"
      ]
     },
     "metadata": {},
     "output_type": "display_data"
    }
   ],
   "source": [
    "qa_mag_d25(parent, leda)"
   ]
  },
  {
   "cell_type": "code",
   "execution_count": 22,
   "metadata": {},
   "outputs": [
    {
     "ename": "NameError",
     "evalue": "name 'warnings' is not defined",
     "output_type": "error",
     "traceback": [
      "\u001b[0;31m---------------------------------------------------------------------------\u001b[0m",
      "\u001b[0;31mNameError\u001b[0m                                 Traceback (most recent call last)",
      "\u001b[0;32m<ipython-input-22-5549bf9d8c1b>\u001b[0m in \u001b[0;36m<module>\u001b[0;34m()\u001b[0m\n\u001b[0;32m----> 1\u001b[0;31m \u001b[0mqa_binned_radec\u001b[0m\u001b[0;34m(\u001b[0m\u001b[0mparent\u001b[0m\u001b[0;34m)\u001b[0m\u001b[0;34m\u001b[0m\u001b[0m\n\u001b[0m",
      "\u001b[0;32m~/repos/LSLGA/LSLGA/qa.py\u001b[0m in \u001b[0;36mqa_binned_radec\u001b[0;34m(cat, nside, png)\u001b[0m\n\u001b[1;32m     29\u001b[0m \u001b[0;34m\u001b[0m\u001b[0m\n\u001b[1;32m     30\u001b[0m     \u001b[0mfig\u001b[0m\u001b[0;34m,\u001b[0m \u001b[0max\u001b[0m \u001b[0;34m=\u001b[0m \u001b[0mplt\u001b[0m\u001b[0;34m.\u001b[0m\u001b[0msubplots\u001b[0m\u001b[0;34m(\u001b[0m\u001b[0mfigsize\u001b[0m\u001b[0;34m=\u001b[0m\u001b[0;34m(\u001b[0m\u001b[0;36m9\u001b[0m\u001b[0;34m,\u001b[0m \u001b[0;36m5\u001b[0m\u001b[0;34m)\u001b[0m\u001b[0;34m)\u001b[0m\u001b[0;34m\u001b[0m\u001b[0m\n\u001b[0;32m---> 31\u001b[0;31m \u001b[0;34m\u001b[0m\u001b[0m\n\u001b[0m\u001b[1;32m     32\u001b[0m     \u001b[0;32mwith\u001b[0m \u001b[0mwarnings\u001b[0m\u001b[0;34m.\u001b[0m\u001b[0mcatch_warnings\u001b[0m\u001b[0;34m(\u001b[0m\u001b[0;34m)\u001b[0m\u001b[0;34m:\u001b[0m\u001b[0;34m\u001b[0m\u001b[0m\n\u001b[1;32m     33\u001b[0m         \u001b[0mpixweight\u001b[0m \u001b[0;34m=\u001b[0m \u001b[0mdesimodel\u001b[0m\u001b[0;34m.\u001b[0m\u001b[0mio\u001b[0m\u001b[0;34m.\u001b[0m\u001b[0mload_pixweight\u001b[0m\u001b[0;34m(\u001b[0m\u001b[0mnside\u001b[0m\u001b[0;34m)\u001b[0m\u001b[0;34m\u001b[0m\u001b[0m\n",
      "\u001b[0;31mNameError\u001b[0m: name 'warnings' is not defined"
     ]
    },
    {
     "data": {
      "image/png": "[encoded data removed]",
      "text/plain": [
       "<Figure size 648x360 with 1 Axes>"
      ]
     },
     "metadata": {},
     "output_type": "display_data"
    }
   ],
   "source": [
    "qa_binned_radec(parent)"
   ]
  },
  {
   "cell_type": "markdown",
   "metadata": {},
   "source": [
    "### Construct a group catalog using a friends-of-friends algorithm."
   ]
  },
  {
   "cell_type": "code",
   "execution_count": null,
   "metadata": {},
   "outputs": [],
   "source": [
    "def read_groupcat(groupcatfile, parentfile, leda=None):\n",
    "    \"\"\"Read the previously created group catalog.\n",
    "    \n",
    "    \"\"\"\n",
    "    groupcat = astropy.table.Table(fitsio.read(groupcatfile, ext=1))\n",
    "    print('Read {} groups from {}'.format(len(groupcat), groupcatfile), flush=True)\n",
    "\n",
    "    parent, leda = read_parent(parentfile, leda=leda)    \n",
    "    \n",
    "    return groupcat, parent"
   ]
  },
  {
   "cell_type": "code",
   "execution_count": 23,
   "metadata": {},
   "outputs": [],
   "source": [
    "if rebuild_groupcat:\n",
    "    from LSLGA.groups import build_groupcat_sky\n",
    "    %time groupcat, parent = build_groupcat_sky(parent, linking_length=linking_length, \n",
    "                                                verbose=True, groupcatfile=groupcatfile,\n",
    "                                                parentfile=parentfile)\n",
    "else:\n",
    "    groupcat = read_groupcat(groupcatfile, parentfile, leda=leda)\n",
    "groupcat"
   ]
  },
  {
   "cell_type": "code",
   "execution_count": 25,
   "metadata": {},
   "outputs": [
    {
     "ename": "NameError",
     "evalue": "name 'stop' is not defined",
     "output_type": "error",
     "traceback": [
      "\u001b[0;31m---------------------------------------------------------------------------\u001b[0m",
      "\u001b[0;31mNameError\u001b[0m                                 Traceback (most recent call last)",
      "\u001b[0;32m<ipython-input-25-4f76a9dad686>\u001b[0m in \u001b[0;36m<module>\u001b[0;34m()\u001b[0m\n\u001b[0;32m----> 1\u001b[0;31m \u001b[0mstop\u001b[0m\u001b[0;34m\u001b[0m\u001b[0m\n\u001b[0m",
      "\u001b[0;31mNameError\u001b[0m: name 'stop' is not defined"
     ]
    }
   ],
   "source": [
    "stop"
   ]
  },
  {
   "cell_type": "markdown",
   "metadata": {},
   "source": [
    "### Identify the set of groups in the DR6/DR7 footprint."
   ]
  },
  {
   "cell_type": "code",
   "execution_count": null,
   "metadata": {},
   "outputs": [],
   "source": [
    "def group_diameter(onegroup):\n",
    "    \"\"\"Define the diameter or angular extent of the group.\"\"\"\n",
    "    return 1.2 * np.max( (3 * onegroup['width'], 3 * onegroup['d25max']) ) # [arcmin]"
   ]
  },
  {
   "cell_type": "code",
   "execution_count": null,
   "metadata": {},
   "outputs": [],
   "source": [
    "def init_survey(dr='dr7'):\n",
    "    \"\"\"\n",
    "    rsync -auvzP cori:\"/global/project/projectdirs/cosmo/work/legacysurvey/dr5/survey-ccds-dr5-patched.kd.fits\" $LSLGA_DIR/sample/dr5/\n",
    "    rsync -auvzP cori:\"/global/cscratch1/sd/dstn/dr6plus/survey-ccds-dr6plus.kd.fits\" $LSLGA_DIR/sample/dr6/\n",
    "    rsync -auvzP cori:\"/global/cscratch1/sd/desiproc/dr7/survey-ccds-dr7.kd.fits\" $LSLGA_DIR/sample/dr7/\n",
    "\n",
    "    \"\"\"\n",
    "    from legacypipe.survey import LegacySurveyData\n",
    "\n",
    "    try:\n",
    "        del survey\n",
    "    except:\n",
    "        pass\n",
    "    \n",
    "    survey = LegacySurveyData(survey_dir=os.path.join(LSLGAdir, 'sample', dr.lower()),\n",
    "                                                      output_dir=LSLGAdir)\n",
    "\n",
    "    return survey"
   ]
  },
  {
   "cell_type": "code",
   "execution_count": null,
   "metadata": {},
   "outputs": [],
   "source": [
    "def simple_wcs(onegroup, diam):\n",
    "    \"\"\"Build a simple WCS object for a single group.\n",
    "    \n",
    "    \"\"\"\n",
    "    from astrometry.util.util import Tan\n",
    "    \n",
    "    size = np.rint(diam * 60 / PIXSCALE).astype('int') # [pixels]\n",
    "    wcs = Tan(onegroup['ra'], onegroup['dec'], size/2+0.5, size/2+0.5,\n",
    "                 -PIXSCALE/3600.0, 0.0, 0.0, PIXSCALE/3600.0, \n",
    "                 float(size), float(size))\n",
    "    return wcs"
   ]
  },
  {
   "cell_type": "code",
   "execution_count": null,
   "metadata": {},
   "outputs": [],
   "source": [
    "def _build_sample_one(args):\n",
    "    \"\"\"Wrapper function for the multiprocessing.\"\"\"\n",
    "    return build_sample_one(*args)"
   ]
  },
  {
   "cell_type": "code",
   "execution_count": null,
   "metadata": {},
   "outputs": [],
   "source": [
    "def build_sample_one(onegroup, verbose=False):\n",
    "    \"\"\"Wrapper function to find overlapping grz CCDs for a given group.\n",
    "    \n",
    "    \"\"\"\n",
    "    diam = group_diameter(onegroup) # [arcmin]\n",
    "    \n",
    "    wcs = simple_wcs(onegroup, diam)\n",
    "    try:\n",
    "        dr = 'dr5'\n",
    "        #dr = 'dr7'\n",
    "        #print('Looking for {} in {}...'.format(obj['galaxy'], dr.upper()))\n",
    "        survey = init_survey(dr=dr)\n",
    "        ccds = survey.ccds_touching_wcs(wcs)\n",
    "    except:\n",
    "        #print('Looking for {} in DR6...'.format(obj['galaxy']))\n",
    "        try:\n",
    "            dr = 'dr6'\n",
    "            survey = init_survey(dr=dr)\n",
    "            ccds = survey.ccds_touching_wcs(wcs)\n",
    "        except:\n",
    "            return [None, None]\n",
    "    \n",
    "    if ccds:\n",
    "        # Is there 3-band coverage?\n",
    "        if 'g' in ccds.filter and 'r' in ccds.filter and 'z' in ccds.filter:\n",
    "            if verbose:\n",
    "                print('Group {:08d}: {} CCDs, RA = {:.5f}, Dec = {:.5f}, Diameter={:.4f} arcmin'.format(\n",
    "                        onegroup['groupid'], len(ccds), onegroup['ra'], onegroup['dec'], diam))\n",
    "                sys.stdout.flush()\n",
    "            return [dr, onegroup]\n",
    "    \n",
    "    return [None, None]"
   ]
  },
  {
   "cell_type": "code",
   "execution_count": null,
   "metadata": {},
   "outputs": [],
   "source": [
    "def build_sample(groupcat, use_nproc=nproc):\n",
    "    \"\"\"Build the full sample with grz coverage in DR6.\"\"\"\n",
    "\n",
    "    sampleargs = list()\n",
    "    for gg in groupcat:\n",
    "        sampleargs.append( (gg, True) ) # the False refers to verbose=False\n",
    "\n",
    "    if use_nproc > 1:\n",
    "        p = multiprocessing.Pool(nproc)\n",
    "        result = p.map(_build_sample_one, sampleargs)\n",
    "        p.close()\n",
    "    else:\n",
    "        result = list()\n",
    "        for args in sampleargs:\n",
    "            result.append(_build_sample_one(args))\n",
    "            \n",
    "    # Remove non-matching objects and write out the sample\n",
    "    rr = list(zip(*result))    \n",
    "    outgroupcat = astropy.table.vstack(list(filter(None, rr[1])))\n",
    "    outgroupcat['dr'] = list(filter(None, rr[0]))\n",
    "    print('Found {}/{} objects in the DR6/DR7 footprint.'.format(len(outgroupcat), len(groupcat)))\n",
    "    \n",
    "    return outgroupcat"
   ]
  },
  {
   "cell_type": "code",
   "execution_count": null,
   "metadata": {},
   "outputs": [],
   "source": [
    "#groupsample = build_sample_one(groupcat[1408])"
   ]
  },
  {
   "cell_type": "code",
   "execution_count": null,
   "metadata": {},
   "outputs": [],
   "source": [
    "#%time groupsample = build_sample(groupcat[:500])"
   ]
  },
  {
   "cell_type": "code",
   "execution_count": null,
   "metadata": {},
   "outputs": [],
   "source": [
    "samplelogfile = os.path.join(LSLGAdir, 'sample', 'build-sample-{}.log'.format(drsuffix))\n",
    "print('Building the sample.')\n",
    "print('Logging to {}'.format(samplelogfile))\n",
    "t0 = time.time()\n",
    "with open(samplelogfile, 'w') as log:\n",
    "    with redirect_stdout(log):\n",
    "        groupsample = build_sample(groupcat)\n",
    "print('Found { }/ {} groups in the LS footprint.'.format(len(groupsample), len(groupcat)))\n",
    "print('Total time = {:.3f} minutes.'.format( (time.time() - t0) / 60 ) )"
   ]
  },
  {
   "cell_type": "markdown",
   "metadata": {},
   "source": [
    "#### Cross-reference the group catalog to the parent sample and then write out."
   ]
  },
  {
   "cell_type": "code",
   "execution_count": null,
   "metadata": {},
   "outputs": [],
   "source": [
    "sample = parentcat[np.where( np.in1d( parentcat['groupid'], groupsample['groupid']) )[0]]\n",
    "print('Writing {}'.format(samplefile))\n",
    "sample.write(samplefile, overwrite=True)\n",
    "\n",
    "print('Writing {}'.format(groupsamplefile))\n",
    "groupsample.write(groupsamplefile, overwrite=True)"
   ]
  },
  {
   "cell_type": "code",
   "execution_count": null,
   "metadata": {},
   "outputs": [],
   "source": [
    "qa_radec_dr(groupcat, groupsample)"
   ]
  },
  {
   "cell_type": "code",
   "execution_count": null,
   "metadata": {},
   "outputs": [],
   "source": [
    "leda[leda['d25'] > 0.5]"
   ]
  },
  {
   "cell_type": "markdown",
   "metadata": {},
   "source": [
    "### Get viewer cutouts of a subset of the groups."
   ]
  },
  {
   "cell_type": "code",
   "execution_count": null,
   "metadata": {},
   "outputs": [],
   "source": [
    "sample = astropy.table.Table.read(samplefile)\n",
    "groupsample = astropy.table.Table.read(groupsamplefile)"
   ]
  },
  {
   "cell_type": "code",
   "execution_count": null,
   "metadata": {},
   "outputs": [],
   "source": [
    "ww = ['g' in oo for oo in sample['objtype']]\n",
    "sample[ww]"
   ]
  },
  {
   "cell_type": "code",
   "execution_count": null,
   "metadata": {},
   "outputs": [],
   "source": [
    "jpgdir = os.path.join(LSLGAdir, 'cutouts', 'jpg')\n",
    "if not os.path.isdir(jpgdir):\n",
    "    os.mkdir(jpgdir)"
   ]
  },
  {
   "cell_type": "code",
   "execution_count": null,
   "metadata": {},
   "outputs": [],
   "source": [
    "def get_groupname(group):\n",
    "    return 'group{:08d}-n{:03d}'.format(group['groupid'], group['nmembers'])"
   ]
  },
  {
   "cell_type": "code",
   "execution_count": null,
   "metadata": {},
   "outputs": [],
   "source": [
    "def get_layer(group):\n",
    "    if group['dr'] == 'dr6':\n",
    "        layer = 'mzls+bass-dr6'\n",
    "    elif group['dr'] == 'dr5':\n",
    "        layer = 'decals-dr5'\n",
    "    elif group['dr'] == 'dr7':\n",
    "        layer = 'decals-dr5'\n",
    "    return layer"
   ]
  },
  {
   "cell_type": "code",
   "execution_count": null,
   "metadata": {},
   "outputs": [],
   "source": [
    "def _get_cutouts_one(args):\n",
    "    \"\"\"Wrapper function for the multiprocessing.\"\"\"\n",
    "    return get_cutouts_one(*args)"
   ]
  },
  {
   "cell_type": "code",
   "execution_count": null,
   "metadata": {},
   "outputs": [],
   "source": [
    "def get_cutouts_one(group, clobber=False):\n",
    "    \"\"\"Get viewer cutouts for a single galaxy.\"\"\"\n",
    "\n",
    "    layer = get_layer(group)\n",
    "    groupname = get_groupname(group)\n",
    "        \n",
    "    diam = group_diameter(group) # [arcmin]\n",
    "    size = np.ceil(diam * 60 / PIXSCALE).astype('int') # [pixels]\n",
    "\n",
    "    imageurl = '{}/?ra={:.8f}&dec={:.8f}&pixscale={:.3f}&size={:g}&layer={}'.format(\n",
    "        cutouturl, group['ra'], group['dec'], PIXSCALE, size, layer)\n",
    "        \n",
    "    jpgfile = os.path.join(jpgdir, '{}.jpg'.format(groupname))\n",
    "    cmd = 'wget --continue -O {:s} \"{:s}\"' .format(jpgfile, imageurl)\n",
    "    if os.path.isfile(jpgfile) and not clobber:\n",
    "        print('File {} exists...skipping.'.format(jpgfile))\n",
    "    else:\n",
    "        if os.path.isfile(jpgfile):\n",
    "            os.remove(jpgfile)\n",
    "        print(cmd)\n",
    "        os.system(cmd)\n",
    "    #sys.stdout.flush()\n",
    "            \n",
    "    # Get the fraction of masked pixels\n",
    "    im = np.asarray( Image.open(jpgfile) )\n",
    "    area = np.product(im.shape[:2])\n",
    "    fracmasked = ( np.sum(im[:, :, 0] == 32) / area, \n",
    "                   np.sum(im[:, :, 1] == 32) / area,\n",
    "                   np.sum(im[:, :, 2] == 32) / area )\n",
    "    \n",
    "    return np.max(fracmasked)"
   ]
  },
  {
   "cell_type": "code",
   "execution_count": null,
   "metadata": {},
   "outputs": [],
   "source": [
    "def get_cutouts(groupsample, use_nproc=nproc, clobber=False):\n",
    "    \"\"\"Get viewer cutouts of the whole sample.\"\"\"\n",
    "\n",
    "    cutoutargs = list()\n",
    "    for gg in groupsample:\n",
    "        cutoutargs.append( (gg, clobber) )\n",
    "\n",
    "    if use_nproc > 1:\n",
    "        p = multiprocessing.Pool(nproc)\n",
    "        result = p.map(_get_cutouts_one, cutoutargs)\n",
    "        p.close()\n",
    "    else:\n",
    "        result = list()\n",
    "        for args in cutoutargs:\n",
    "            result.append(_get_cutouts_one(args))\n",
    "\n",
    "    fracmasked = np.hstack(result)\n",
    "    return fracmasked"
   ]
  },
  {
   "cell_type": "code",
   "execution_count": null,
   "metadata": {},
   "outputs": [],
   "source": [
    "nmin = 2\n",
    "indx = groupsample['nmembers'] >= nmin\n",
    "print('Getting cutouts of {} groups with >={} member(s).'.format(np.sum(indx), nmin))\n",
    "#groupsample['fracmasked'][indx] = get_cutouts(groupsample[indx], clobber=True)#, use_nproc=1)"
   ]
  },
  {
   "cell_type": "code",
   "execution_count": null,
   "metadata": {},
   "outputs": [],
   "source": [
    "#get_cutouts_one(groupsample[0], clobber=False)"
   ]
  },
  {
   "cell_type": "code",
   "execution_count": null,
   "metadata": {},
   "outputs": [],
   "source": [
    "cutlogfile = os.path.join(LSLGAdir, 'cutouts', 'get-cutouts-{}.log'.format(drsuffix))\n",
    "print('Getting viewer cutouts.')\n",
    "print('Logging to {}'.format(cutlogfile))\n",
    "t0 = time.time()\n",
    "with open(cutlogfile, 'w') as log:\n",
    "    with redirect_stdout(log):\n",
    "        get_cutouts(groupsample[indx], clobber=False)\n",
    "print('Total time = {:.3f} minutes.'.format( (time.time() - t0) / 60 ))"
   ]
  },
  {
   "cell_type": "markdown",
   "metadata": {},
   "source": [
    "#### Overwrite the group sample catalog with fracmasked."
   ]
  },
  {
   "cell_type": "code",
   "execution_count": null,
   "metadata": {},
   "outputs": [],
   "source": [
    "print('Writing {}'.format(groupsamplefile))\n",
    "groupsample.write(groupsamplefile, overwrite=True)"
   ]
  },
  {
   "cell_type": "markdown",
   "metadata": {},
   "source": [
    "#### Add labels and a scale bar."
   ]
  },
  {
   "cell_type": "code",
   "execution_count": null,
   "metadata": {},
   "outputs": [],
   "source": [
    "barlen = np.round(60.0 / PIXSCALE).astype('int') # [1 arcmin in pixels]\n",
    "fonttype = os.path.join(LSLGAdir, 'cutouts', 'Georgia.ttf')"
   ]
  },
  {
   "cell_type": "code",
   "execution_count": null,
   "metadata": {},
   "outputs": [],
   "source": [
    "def get_galaxy(group, sample, html=False):\n",
    "    \"\"\"List the galaxy name.\n",
    "    \n",
    "    \"\"\"\n",
    "    these = group['groupid'] == sample['groupid']\n",
    "    galaxy = [gg.decode('utf-8').strip().lower() for gg in sample['galaxy'][these].data]\n",
    "    \n",
    "    if html:\n",
    "        galaxy = ' '.join(np.sort(galaxy)).upper()\n",
    "    else:\n",
    "        galaxy = ' '.join(np.sort(galaxy))\n",
    "\n",
    "    return galaxy"
   ]
  },
  {
   "cell_type": "code",
   "execution_count": null,
   "metadata": {},
   "outputs": [],
   "source": [
    "def _add_labels_one(args):\n",
    "    \"\"\"Wrapper function for the multiprocessing.\"\"\"\n",
    "    return add_labels_one(*args)"
   ]
  },
  {
   "cell_type": "code",
   "execution_count": null,
   "metadata": {},
   "outputs": [],
   "source": [
    "def add_labels_one(group, sample, clobber=False, nothumb=False):\n",
    "\n",
    "    jpgdir = os.path.join(LSLGAdir, 'cutouts', 'jpg')\n",
    "    pngdir = os.path.join(LSLGAdir, 'cutouts', 'png')\n",
    "    if not os.path.isdir(pngdir):\n",
    "        os.mkdir(pngdir)\n",
    "\n",
    "    groupname = get_groupname(group)\n",
    "    galaxy = get_galaxy(group, sample, html=True)\n",
    "\n",
    "    jpgfile = os.path.join(jpgdir, '{}.jpg'.format(groupname))\n",
    "    pngfile = os.path.join(pngdir, '{}.png'.format(groupname))\n",
    "    thumbfile = os.path.join(pngdir, 'thumb-{}.png'.format(groupname))\n",
    "    \n",
    "    if os.path.isfile(jpgfile):\n",
    "        if os.path.isfile(pngfile) and not clobber:\n",
    "            print('File {} exists...skipping.'.format(pngfile))\n",
    "        else:\n",
    "            im = Image.open(jpgfile)\n",
    "            sz = im.size\n",
    "            fntsize = np.round(sz[0]/28).astype('int')\n",
    "            width = np.round(sz[0]/175).astype('int')\n",
    "            font = ImageFont.truetype(fonttype, size=fntsize)\n",
    "            draw = ImageDraw.Draw(im)\n",
    "\n",
    "            # Label the group--\n",
    "            draw.text((0+fntsize*2, 0+fntsize*2), galaxy, font=font)\n",
    "    \n",
    "            # Add a scale bar--\n",
    "            x0, x1, yy = sz[1]-fntsize*2-barlen, sz[1]-fntsize*2, sz[0]-fntsize*2\n",
    "            draw.line((x0, yy, x1, yy), fill='white', width=width)\n",
    "            im.save(pngfile)    \n",
    "        \n",
    "            # Generate a thumbnail\n",
    "            if not nothumb:\n",
    "                cmd = 'convert -thumbnail 300x300 {} {}'.format(pngfile, thumbfile)\n",
    "                os.system(cmd)"
   ]
  },
  {
   "cell_type": "code",
   "execution_count": null,
   "metadata": {},
   "outputs": [],
   "source": [
    "def add_labels(groupsample, sample, clobber=False):\n",
    "    labelargs = list()\n",
    "    for group in groupsample:\n",
    "        labelargs.append((group, sample, clobber))\n",
    "    if nproc > 1:\n",
    "        p = multiprocessing.Pool(nproc)\n",
    "        res = p.map(_add_labels_one, labelargs)\n",
    "        p.close()\n",
    "    else:\n",
    "        for args in labelargs:\n",
    "            res = _add_labels_one(args)"
   ]
  },
  {
   "cell_type": "code",
   "execution_count": null,
   "metadata": {},
   "outputs": [],
   "source": [
    "%time add_labels(groupsample, sample, clobber=True)"
   ]
  },
  {
   "cell_type": "code",
   "execution_count": null,
   "metadata": {},
   "outputs": [],
   "source": [
    "#add_labels_one(groupsample[10], sample, clobber=True)"
   ]
  },
  {
   "cell_type": "markdown",
   "metadata": {},
   "source": [
    "### Finally, assemble the webpage of good and rejected gallery images.\n",
    "\n",
    "To test the webpage before release, do\n",
    "\n",
    "```bash\n",
    " rsync -auvP $LLSLGLSLGLSLGALSLGALSLGAA/cutouts/png /global/project/projectdirs/cosmo/www/temp/ioannis/LSLGA/\n",
    " rsync -auvP /global/cscratch1/sd/ioannis/LSLGA/cutouts/*.html /global/project/projectdirs/cosmo/www/temp/ioannis/LSLGA/\n",
    "```\n",
    "or\n",
    "```bash\n",
    " rsync -auvP /global/cscratch1/sd/ioannis/LSLGA/cutouts/png /global/project/projectdirs/cosmo/www/temp/ioannis/LSLGA/\n",
    " rsync -auvP /global/cscratch1/sd/ioannis/LSLGA/cutouts/*.html /global/project/projectdirs/cosmo/www/temp/ioannis/LSLGA/\n",
    "```\n",
    "and then the website can be viewed here:\n",
    "  http://portal.nersc.gov/project/cosmo/temp/ioannis/LSLGA    "
   ]
  },
  {
   "cell_type": "code",
   "execution_count": null,
   "metadata": {},
   "outputs": [],
   "source": [
    "reject = []\n",
    "toss = np.zeros(len(groupsample), dtype=bool)\n",
    "for ii, gg in enumerate(groupsample['groupid']):\n",
    "    for rej in np.atleast_1d(reject):\n",
    "        toss[ii] = rej in gg.lower()\n",
    "        if toss[ii]:\n",
    "            break\n",
    "print('Rejecting {} groups.'.format(np.sum(toss)))\n",
    "groupkeep = groupsample[~toss]\n",
    "if np.sum(toss) > 0:\n",
    "    grouprej = groupsample[toss]\n",
    "else:\n",
    "    grouprej = []"
   ]
  },
  {
   "cell_type": "code",
   "execution_count": null,
   "metadata": {},
   "outputs": [],
   "source": [
    "def html_rows(_groupkeep, sample, nperrow=4):\n",
    "    \n",
    "    # Not all objects may have been analyzed.\n",
    "    these = [os.path.isfile(os.path.join(LSLGAdir, 'cutouts', 'png', '{}.png'.format(\n",
    "        get_groupname(gg)))) for gg in _groupkeep]\n",
    "    groupkeep = _groupkeep[these]\n",
    "    \n",
    "    nrow = np.ceil(len(groupkeep) / nperrow).astype('int')\n",
    "    groupsplit = list()\n",
    "    for ii in range(nrow):\n",
    "        i1 = nperrow*ii\n",
    "        i2 = nperrow*(ii+1)\n",
    "        if i2 > len(groupkeep):\n",
    "            i2 = len(groupkeep)\n",
    "        groupsplit.append(groupkeep[i1:i2])\n",
    "    print('Splitting the sample into {} rows with {} mosaics per row.'.format(nrow, nperrow))\n",
    "\n",
    "    html.write('<table class=\"ls-gallery\">\\n')\n",
    "    html.write('<tbody>\\n')\n",
    "    for grouprow in groupsplit:\n",
    "        html.write('<tr>\\n')\n",
    "        for group in grouprow:\n",
    "            groupname = get_groupname(group)\n",
    "            galaxy = get_galaxy(group, sample, html=True)\n",
    "\n",
    "            pngfile = os.path.join('cutouts', 'png', '{}.png'.format(groupname))\n",
    "            thumbfile = os.path.join('cutouts', 'png', 'thumb-{}.png'.format(groupname))\n",
    "            img = 'src=\"{}\" alt=\"{}\"'.format(thumbfile, galaxy)\n",
    "            #img = 'class=\"ls-gallery\" src=\"{}\" alt=\"{}\"'.format(thumbfile, nicename)\n",
    "            html.write('<td><a href=\"{}\"><img {}></a></td>\\n'.format(pngfile, img))\n",
    "        html.write('</tr>\\n')\n",
    "        html.write('<tr>\\n')\n",
    "        for group in grouprow:\n",
    "            groupname = get_groupname(group)\n",
    "            galaxy = '{}: {}'.format(groupname.upper(), get_galaxy(group, sample, html=True))\n",
    "            layer = get_layer(group)\n",
    "            href = '{}/?layer={}&ra={:.8f}&dec={:.8f}&zoom=12'.format(viewerurl, layer, group['ra'], group['dec'])\n",
    "            html.write('<td><a href=\"{}\" target=\"_blank\">{}</a></td>\\n'.format(href, galaxy))\n",
    "        html.write('</tr>\\n')\n",
    "    html.write('</tbody>\\n')            \n",
    "    html.write('</table>\\n')"
   ]
  },
  {
   "cell_type": "code",
   "execution_count": null,
   "metadata": {},
   "outputs": [],
   "source": [
    "with open(htmlfile, 'w') as html:\n",
    "    html.write('<html><head>\\n')\n",
    "    html.write('<style type=\"text/css\">\\n')\n",
    "    html.write('table.ls-gallery {width: 90%;}\\n')\n",
    "    #html.write('img.ls-gallery {display: block;}\\n')\n",
    "    #html.write('td.ls-gallery {width: 100%; height: auto}\\n')\n",
    "    #html.write('td.ls-gallery {width: 100%; word-wrap: break-word;}\\n')\n",
    "    html.write('p.ls-gallery {width: 80%;}\\n')\n",
    "    html.write('</style>\\n')\n",
    "    html.write('</head><body>\\n')\n",
    "    html.write('<h1>Legacy Surveys Large Galaxy Atlas</h1>\\n')\n",
    "    html.write(\"\"\"<p class=\"ls-gallery\">Each thumbnail links to a larger image while the galaxy \n",
    "    name below each thumbnail links to the <a href=\"http://legacysurvey.org/viewer\">Sky Viewer</a>.  \n",
    "    For reference, the horizontal white bar in the lower-right corner of each image represents \n",
    "    one arcminute.</p>\\n\"\"\")\n",
    "    #html.write('<h2>Large Galaxy Sample</h2>\\n')\n",
    "    html_rows(groupkeep, sample)\n",
    "    html.write('</body></html>\\n')"
   ]
  },
  {
   "cell_type": "code",
   "execution_count": null,
   "metadata": {},
   "outputs": [],
   "source": [
    "if len(grouprej) > 0:\n",
    "    with open(htmlfile_reject, 'w') as html:\n",
    "        html.write('<html><head>\\n')\n",
    "        html.write('<style type=\"text/css\">\\n')\n",
    "        html.write('img.ls-gallery {display: block;}\\n')\n",
    "        html.write('td.ls-gallery {width: 20%; word-wrap: break-word;}\\n')\n",
    "        html.write('</style>\\n')\n",
    "        html.write('</head><body>\\n')\n",
    "        html.write('<h1>Large Galaxies - Rejected</h1>\\n')\n",
    "        html_rows(grouprej, sample)\n",
    "        html.write('</body></html>\\n')"
   ]
  },
  {
   "cell_type": "code",
   "execution_count": null,
   "metadata": {},
   "outputs": [],
   "source": [
    "stop"
   ]
  },
  {
   "cell_type": "code",
   "execution_count": null,
   "metadata": {},
   "outputs": [],
   "source": [
    "#ww = np.where(['NGC' in gg for gg in parent['galaxy']])[0]\n",
    "#[print(gg.decode('utf-8'), rr, dd) for (gg, rr, dd) in zip(parent['galaxy'][ww].data, parent['ra'][ww].data, parent['dec'][ww].data)]\n",
    "#print(ww[4])\n",
    "#parent[ww]"
   ]
  }
 ],
 "metadata": {
  "anaconda-cloud": {},
  "kernelspec": {
   "display_name": "Python 3",
   "language": "python",
   "name": "python3"
  },
  "language_info": {
   "codemirror_mode": {
    "name": "ipython",
    "version": 3
   },
   "file_extension": ".py",
   "mimetype": "text/x-python",
   "name": "python",
   "nbconvert_exporter": "python",
   "pygments_lexer": "ipython3",
   "version": "3.6.5"
  }
 },
 "nbformat": 4,
 "nbformat_minor": 2
}
