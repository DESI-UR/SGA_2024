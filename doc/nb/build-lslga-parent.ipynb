{
 "cells": [
  {
   "cell_type": "markdown",
   "metadata": {},
   "source": [
    "# Build the LSLGA parent sample\n",
    "\n",
    "The purpose of this notebook is to build the parent sample for the NASA Legacy Surveys Galaxy Atlas (NLSGA).  The final output files are:\n",
    "  * large-galaxies-parent.fits -- large galaxies in the Legacy Surveys footprint\n",
    "  * large-galaxies-parent-dr6-dr7.fits -- large galaxies in the DR6+DR7 footprint\n",
    "\n",
    "Our starting catalog is the file hyperleda-d25min10.txt, which contains 2,118,186 objects and is the raw output of querying the [Hyperleda database](http://leda.univ-lyon1.fr/fullsql.html) (on 2018 May 2) for all objects with a D(25) isophotal diameter greater than 10 arcsec using the following SQL query:\n",
    "\n",
    "```SQL\n",
    "SELECT\n",
    "  pgc, objname, objtype, al2000, de2000, type, bar, ring,\n",
    "  multiple, compactness, t, logd25, logr25, pa, bt, it,\n",
    "  kt, v, modbest\n",
    "WHERE\n",
    "  logd25 > 0.2218487 and (objtype='G' or objtype='g' or objtype='M' or objtype='M2' \n",
    "                          or objtype='M3' or objtype='MG' or objtype='MC')\n",
    "ORDER BY\n",
    "  al2000\n",
    "```\n",
    "\n",
    "**ToDo**\n",
    "\n",
    "1. Build unWISE and GALEX mosaics.\n",
    "2. Filter and sort the sample; try to remove junk.\n",
    "3. Construct a group catalog.\n",
    "4. Include additional metadata in the webpage."
   ]
  },
  {
   "cell_type": "markdown",
   "metadata": {},
   "source": [
    "#### We also tested building a parent sample from a query of the NED database but found a number of spurious angular diameter measurements.  Nevertheless, below are some potentially relevant notes.\n",
    "\n",
    "Our starting catalog is the file *ned-d25min10.txt*, which contains 8,131,378 objects and is the (semi-raw) output of querying the NED database (on 2018 March 26) for all objects with a D(25) isophotal diameter (in any band) greater than 10 arcsec, with no requirements on redshift or object type.  \n",
    "\n",
    "Next, we run\n",
    "```bash\n",
    "% time python parse-ned-sample\n",
    "```\n",
    "to restrict the sample to:\n",
    "  1. \"galaxies\" (object type \"G\", \"GGroup\", \"GPair\", \"GTrpl\", or \"PofG\"), leaving 4,755,411 objects;\n",
    "  2. objects with an approximate magnitude and angular diameter (from NED, in any band), leaving 4,392,760 objects;\n",
    "  3. objects in the Legacy Survey / DESI footprint, leaving 3,878,035 objects.\n",
    "\n",
    "Specifically, we parse and merge various apparent magnitude estimates (from SDSS/r, 2MASS/Ks, RC3/B, and APM/bJ, in that order of priority), and angular diameters (D25), minor-to-major axis ratios (b/a), and position angles (pa) (from SDSS, 2MASS, RC3, and ESO, in that order of priority)."
   ]
  },
  {
   "cell_type": "markdown",
   "metadata": {},
   "source": [
    "### Imports and other preliminaries."
   ]
  },
  {
   "cell_type": "code",
   "execution_count": 52,
   "metadata": {
    "collapsed": true
   },
   "outputs": [],
   "source": [
    "import os, sys\n",
    "import time, warnings\n",
    "from contextlib import redirect_stdout\n",
    "import numpy as np\n",
    "import numpy.ma as ma\n",
    "import matplotlib.pyplot as plt\n",
    "from scipy.spatial import cKDTree"
   ]
  },
  {
   "cell_type": "code",
   "execution_count": 45,
   "metadata": {
    "collapsed": true
   },
   "outputs": [],
   "source": [
    "import fitsio\n",
    "import astropy.table\n",
    "import pandas as pd\n",
    "import seaborn as sns\n",
    "from PIL import Image, ImageDraw, ImageFont"
   ]
  },
  {
   "cell_type": "code",
   "execution_count": 3,
   "metadata": {
    "collapsed": true
   },
   "outputs": [],
   "source": [
    "import multiprocessing\n",
    "nproc = multiprocessing.cpu_count() // 2"
   ]
  },
  {
   "cell_type": "code",
   "execution_count": 4,
   "metadata": {
    "collapsed": true
   },
   "outputs": [],
   "source": [
    "sns.set(style='ticks', font_scale=1.5, palette='Set2')\n",
    "%matplotlib inline"
   ]
  },
  {
   "cell_type": "code",
   "execution_count": 5,
   "metadata": {},
   "outputs": [
    {
     "name": "stdout",
     "output_type": "stream",
     "text": [
      "Linking length = 0.75 arcmin = 171.8 pixels.\n"
     ]
    }
   ],
   "source": [
    "PIXSCALE = 0.262\n",
    "mindiameter = 1.0     # [arcmin]\n",
    "maxdiameter = 10.0    # [arcmin]\n",
    "linking_length = 0.75 # [arcmin]\n",
    "print('Linking length = {:.2f} arcmin = {:.1f} pixels.'.format(linking_length, linking_length * 60 / PIXSCALE))"
   ]
  },
  {
   "cell_type": "code",
   "execution_count": 6,
   "metadata": {
    "collapsed": true
   },
   "outputs": [],
   "source": [
    "drsuffix = 'dr6-dr7'\n",
    "LSLGAdir = os.getenv('LSLGA_DIR')\n",
    "parentfile = os.path.join(LSLGAdir, 'sample', 'large-galaxies-parent.fits')\n",
    "groupcatfile = os.path.join(LSLGAdir, 'sample', 'large-galaxies-parent-groupcat.fits')\n",
    "groupsamplefile = os.path.join(LSLGAdir, 'sample', 'large-galaxies-groupcat-{}.fits'.format(drsuffix))\n",
    "samplefile = os.path.join(LSLGAdir, 'sample', 'large-galaxies-{}.fits'.format(drsuffix))"
   ]
  },
  {
   "cell_type": "code",
   "execution_count": 7,
   "metadata": {
    "collapsed": true
   },
   "outputs": [],
   "source": [
    "viewerurl = 'http://legacysurvey.org/viewer'\n",
    "cutouturl = 'http://legacysurvey.org/viewer-dev/jpeg-cutout'"
   ]
  },
  {
   "cell_type": "code",
   "execution_count": 8,
   "metadata": {
    "collapsed": true
   },
   "outputs": [],
   "source": [
    "htmlfile = os.path.join(LSLGAdir, 'index.html')\n",
    "htmlfile_reject = os.path.join(LSLGAdir, 'index-reject.html')"
   ]
  },
  {
   "cell_type": "markdown",
   "metadata": {},
   "source": [
    "#### Some choices."
   ]
  },
  {
   "cell_type": "code",
   "execution_count": 31,
   "metadata": {
    "collapsed": true
   },
   "outputs": [],
   "source": [
    "rebuild_parent = False"
   ]
  },
  {
   "cell_type": "markdown",
   "metadata": {},
   "source": [
    "### Define some convenience QA functions."
   ]
  },
  {
   "cell_type": "code",
   "execution_count": 32,
   "metadata": {
    "collapsed": true
   },
   "outputs": [],
   "source": [
    "def qa_binned_radec(cat, nside=64, png=None):\n",
    "    import healpy as hp\n",
    "    import desimodel.io\n",
    "    import desimodel.footprint\n",
    "    from desiutil.plots import init_sky, plot_sky_binned\n",
    "    \n",
    "    ra, dec = cat['ra'].data, cat['dec'].data\n",
    "    hpix = desimodel.footprint.radec2pix(nside, ra, dec)\n",
    "    \n",
    "    fig, ax = plt.subplots(figsize=(9, 5))\n",
    "\n",
    "    with warnings.catch_warnings():\n",
    "        pixweight = desimodel.io.load_pixweight(nside)\n",
    "        fracarea = pixweight[hpix]\n",
    "        weight = 1 / fracarea\n",
    "        \n",
    "        warnings.simplefilter('ignore')\n",
    "        basemap = init_sky(galactic_plane_color='k', ax=ax);\n",
    "        plot_sky_binned(ra, dec, weights=weight, \n",
    "                        max_bin_area=hp.nside2pixarea(nside, degrees=True),\n",
    "                        verbose=False, clip_lo='!1', cmap='viridis',\n",
    "                        plot_type='healpix', basemap=basemap,\n",
    "                        label=r'$N$(Large Galaxies) / deg$^2$')\n",
    "        plt.suptitle('Parent Sample')\n",
    "    \n",
    "    if png:\n",
    "        fig.savefig(png)"
   ]
  },
  {
   "cell_type": "code",
   "execution_count": 33,
   "metadata": {
    "collapsed": true
   },
   "outputs": [],
   "source": [
    "def qa_mag_d25(cat, supercat):\n",
    "    fig, ax = plt.subplots(figsize=(7, 5))\n",
    "    ax.hexbin(supercat['mag'], np.log10(supercat['d25']), extent=(0, 25, -1, 3),\n",
    "              mincnt=1, cmap='viridis')\n",
    "    ax.scatter(cat['mag'], np.log10(cat['d25']), s=5)\n",
    "    #ax.hexbin(cat['mag'], np.log10(cat['d25']), extent=(5, 23, -1, 2),\n",
    "    #          mincnt=1, cmap='viridis')\n",
    "    ax.axhline(y=np.log10(10 / 60), ls='-', lw=2, color='k', alpha=0.8)\n",
    "    ax.axhline(y=np.log10(mindiameter), ls='--', lw=2, color='red', alpha=0.8)\n",
    "    ax.axhline(y=np.log10(maxdiameter), ls='--', lw=2, color='red', alpha=0.8)\n",
    "    ax.set_xlabel('B mag')\n",
    "    ax.set_ylabel(r'$\\log_{10}\\, D_{25}$ (arcmin)')"
   ]
  },
  {
   "cell_type": "code",
   "execution_count": 34,
   "metadata": {
    "collapsed": true
   },
   "outputs": [],
   "source": [
    "def qa_radec_dr(parent, sample):\n",
    "    idr5 = sample['dr'] == 'dr5'\n",
    "    idr6 = sample['dr'] == 'dr6'\n",
    "    idr7 = sample['dr'] == 'dr7'\n",
    "\n",
    "    fig, ax = plt.subplots()\n",
    "    ax.scatter(parent['ra'], parent['dec'], alpha=0.5, s=5, label='Parent Catalog')\n",
    "    ax.scatter(sample['ra'][idr5], sample['dec'][idr5], s=10, label='In DR5')\n",
    "    ax.scatter(sample['ra'][idr6], sample['dec'][idr6], s=10, label='In DR6')\n",
    "    #ax.scatter(sample['ra'][idr7], sample['dec'][idr7], s=10, label='In DR7')\n",
    "    ax.set_xlabel('RA')\n",
    "    ax.set_ylabel('Dec')\n",
    "    ax.legend(loc='upper left', fontsize=10, frameon=True)#, ncol=3)"
   ]
  },
  {
   "cell_type": "code",
   "execution_count": 35,
   "metadata": {
    "collapsed": true
   },
   "outputs": [],
   "source": [
    "def qa_wise():\n",
    "    inw1 = leda['inwise']\n",
    "    now1 = ~inw1\n",
    "    \n",
    "    fig, (ax1, ax2) = plt.subplots(1, 2, figsize=(12, 4))\n",
    "    ax1.scatter(leda['ra'], leda['dec'], s=1)\n",
    "    ax1.set_xlabel('RA')\n",
    "    ax1.set_ylabel('Dec')\n",
    "    \n",
    "    ax2.scatter(leda['mag'][inw1], leda['w1mag'][inw1] - leda['w2mag'][inw1], s=1)\n",
    "    ax2.set_xlim(5, 25)\n",
    "    ax2.set_ylim(-3, 3)        \n",
    "    ax2.set_xlabel('B')\n",
    "    ax2.set_ylabel('W1 - W2')"
   ]
  },
  {
   "cell_type": "markdown",
   "metadata": {},
   "source": [
    "### Define the parent sample as the set of Hyperleda objects in the LS/DESI footprint.\n",
    "\n",
    "We also apply minimum and maximum angular diameter cuts here."
   ]
  },
  {
   "cell_type": "code",
   "execution_count": 36,
   "metadata": {
    "collapsed": true
   },
   "outputs": [],
   "source": [
    "def read_hyperleda():\n",
    "    \"\"\"Read the Hyperleda catalog.\n",
    "    \n",
    "    \"\"\"\n",
    "    hyperledafile = os.path.join(LSLGAdir, 'sample', 'hyperleda-d25min10.fits')\n",
    "    allwisefile = hyperledafile.replace('.fits', '-allwise.fits')\n",
    "\n",
    "    leda = astropy.table.Table(fitsio.read(hyperledafile, ext=1))\n",
    "    print('Read {} objects from {}'.format(len(leda), hyperledafile))\n",
    "\n",
    "    allwise = astropy.table.Table(fitsio.read(allwisefile, ext=1, lower=True))\n",
    "    print('Read {} objects from {}'.format(len(allwise), allwisefile))\n",
    "\n",
    "    # Merge the tables\n",
    "    allwise.rename_column('ra', 'wise_ra')\n",
    "    allwise.rename_column('dec', 'wise_dec')\n",
    "    \n",
    "    leda = astropy.table.hstack( (leda, allwise) )\n",
    "    leda['inwise'] = (np.array(['NULL' not in dd for dd in allwise['designation']]) * \n",
    "                      np.isfinite(allwise['w1sigm']) * np.isfinite(allwise['w2sigm']) )\n",
    "    \n",
    "    print('Found {} / {} objects with WISE photometry.'.format(np.sum(leda['inwise']), len(leda)))\n",
    "    \n",
    "    return leda"
   ]
  },
  {
   "cell_type": "code",
   "execution_count": 37,
   "metadata": {
    "collapsed": true
   },
   "outputs": [],
   "source": [
    "def build_parent(nside=128, diametercuts=False):\n",
    "    \"\"\"Identify the galaxies in the nominal LS/DESI footprint.\"\"\"\n",
    "    import desimodel.io\n",
    "    import desimodel.footprint\n",
    "    \n",
    "    leda = read_hyperleda()\n",
    "    \n",
    "    tiles = desimodel.io.load_tiles(onlydesi=True)\n",
    "    indesi = desimodel.footprint.is_point_in_desi(tiles, ma.getdata(leda['ra']), \n",
    "                                                  ma.getdata(leda['dec']))\n",
    "    \n",
    "    if diametercuts:\n",
    "        keep = np.where( indesi * np.isfinite(leda['mag']) * # about 13,000 objects have no magnitude...\n",
    "                        (leda['d25'] >= mindiameter) * \n",
    "                        (leda['d25'] <= maxdiameter) * 1 )[0]\n",
    "    else:\n",
    "        keep = np.where( indesi * np.isfinite(leda['mag']) * 1)[0] # about 13,000 objects have no magnitude...\n",
    "    \n",
    "    parent = leda[keep]\n",
    "    ngal = len(parent)\n",
    "    \n",
    "    if diametercuts:\n",
    "        print('Keeping {} / {} objects in the DESI footprint with {:.3f} < D(25) < {:.3f} arcmin.'.format(\n",
    "            ngal, len(leda), mindiameter, maxdiameter))\n",
    "    else:\n",
    "        print('Keeping {} / {} objects in the DESI footprint.'.format(ngal, len(leda)))\n",
    "\n",
    "    print('Writing {}'.format(parentfile))\n",
    "    parent.write(parentfile, overwrite=True)    \n",
    "    \n",
    "    return parent"
   ]
  },
  {
   "cell_type": "code",
   "execution_count": 38,
   "metadata": {
    "collapsed": true
   },
   "outputs": [],
   "source": [
    "def read_parent():\n",
    "    \"\"\"Read the previously created parent catalog.\n",
    "    \n",
    "    \"\"\"\n",
    "    parent = astropy.table.Table(fitsio.read(parentfile, ext=1))\n",
    "    print('Read {} objects from {}'.format(len(parent), parentfile))\n",
    "    \n",
    "    return parent"
   ]
  },
  {
   "cell_type": "code",
   "execution_count": 42,
   "metadata": {},
   "outputs": [
    {
     "name": "stdout",
     "output_type": "stream",
     "text": [
      "Read 9805 objects from /Users/kevinnapier/data/LSLGA/sample/large-galaxies-parent.fits\n"
     ]
    }
   ],
   "source": [
    "if rebuild_parent:\n",
    "    t0 = time.time()\n",
    "    parent = build_parent()\n",
    "    print('Time to build the parent sample = {:.3f} minutes.'.format( (time.time() - t0) / 60 ) )    \n",
    "else:\n",
    "    parent = read_parent()"
   ]
  },
  {
   "cell_type": "markdown",
   "metadata": {},
   "source": [
    "### Kevin: add star masking here and I'll move it to the build_parent code later."
   ]
  },
  {
   "cell_type": "code",
   "execution_count": 47,
   "metadata": {
    "collapsed": true
   },
   "outputs": [],
   "source": [
    "# Point to data\n",
    "# hyperleda = os.path.join(LSLGAdir, 'sample', 'hyperleda-d25min10.fits')\n",
    "tycho2 = os.path.join(LSLGAdir, 'sample', 'tycho2.kd.fits')"
   ]
  },
  {
   "cell_type": "code",
   "execution_count": 50,
   "metadata": {},
   "outputs": [],
   "source": [
    "# Put the data into pandas dataframes\n",
    "galaxies = parent.to_pandas()\n",
    "tycho = astropy.table.Table(fitsio.read(tycho2, ext=1)).to_pandas()\n",
    "tycho = tycho[tycho.ISGALAXY == 0]\n",
    "tycho['radius'] = (0.0802*(tycho.MAG_BT)**2 - 1.860*tycho.MAG_BT + 11.625)/60 # in arcsec"
   ]
  },
  {
   "cell_type": "code",
   "execution_count": 53,
   "metadata": {},
   "outputs": [],
   "source": [
    "# Grow the KDTree of galaxies\n",
    "locations = np.array([galaxies.ra, galaxies.dec]).T\n",
    "tree = cKDTree(locations)"
   ]
  },
  {
   "cell_type": "code",
   "execution_count": 54,
   "metadata": {
    "collapsed": true
   },
   "outputs": [],
   "source": [
    "def mask_stars(df, tree):\n",
    "    \n",
    "    start_time = time.time()\n",
    "\n",
    "    nearby = []\n",
    "\n",
    "    for star in df.itertuples():\n",
    "\n",
    "        near_list = tree.query_ball_point((star.RA, star.DEC), r=star.radius)\n",
    "    \n",
    "        if len(near_list) > 0:\n",
    "            keep = galaxies.loc[galaxies.index[near_list]]\n",
    "            nearby.append(keep.index)\n",
    "    \n",
    "        if star.Index%10000 == 0:\n",
    "            sys.stdout.write('\\r')\n",
    "            sys.stdout.write('{0:.{1}f} percent complete'.format(star.Index/len(tycho)*100, 2))\n",
    "            sys.stdout.flush()\n",
    "\n",
    "    tocut = []\n",
    "    for ii in range(len(nearby)):\n",
    "        tocut.append(nearby[ii][0])\n",
    "\n",
    "    check = galaxies.loc[tocut]\n",
    "\n",
    "    print('\\r')\n",
    "    print('{0:.{1}f} seconds'.format(time.time() - start_time, 2))"
   ]
  },
  {
   "cell_type": "code",
   "execution_count": 55,
   "metadata": {},
   "outputs": [
    {
     "name": "stdout",
     "output_type": "stream",
     "text": [
      "99.71 percent complete\n",
      "27.43 seconds\n"
     ]
    }
   ],
   "source": [
    "mask_stars(tycho, tree)"
   ]
  },
  {
   "cell_type": "markdown",
   "metadata": {},
   "source": [
    "#### Some sanity QA."
   ]
  },
  {
   "cell_type": "code",
   "execution_count": null,
   "metadata": {
    "collapsed": true
   },
   "outputs": [],
   "source": [
    "qa_mag_d25(parent, leda)"
   ]
  },
  {
   "cell_type": "code",
   "execution_count": null,
   "metadata": {
    "collapsed": true
   },
   "outputs": [],
   "source": [
    "qa_binned_radec(parent)"
   ]
  },
  {
   "cell_type": "markdown",
   "metadata": {},
   "source": [
    "### Construct a group catalog using a friends-of-friends algorithm."
   ]
  },
  {
   "cell_type": "code",
   "execution_count": null,
   "metadata": {
    "collapsed": true
   },
   "outputs": [],
   "source": [
    "def _diff_angle(ra1, dec1, ra2, dec2):\n",
    "    \"\"\"Compute the angular distance between points on the sky.\"\"\"\n",
    "    theta1 = np.radians(dec1) + np.pi / 2\n",
    "    theta2 = np.radians(dec2) + np.pi / 2\n",
    "    cosgamma = ( np.sin(theta1) * np.sin(theta2) * \n",
    "                 np.cos( np.radians(ra1 - ra2) ) +\n",
    "                 np.cos(theta1) * np.cos(theta2) )\n",
    "    \n",
    "    #import pdb ; pdb.set_trace()\n",
    "    \n",
    "    cosgamma[cosgamma > 1] = 1.0\n",
    "    diff = np.degrees(np.arccos(cosgamma)) * 60 # [arcmin]\n",
    "    \n",
    "    return diff.data"
   ]
  },
  {
   "cell_type": "code",
   "execution_count": null,
   "metadata": {
    "collapsed": true
   },
   "outputs": [],
   "source": [
    "def fof_groups(cat, link=2, verbose=True):\n",
    "    \"\"\"Find groups using a friends-of-friends algorithm.\n",
    "    \n",
    "    \"\"\"\n",
    "    from pydl.pydlutils.spheregroup import spheregroup\n",
    "\n",
    "    grp, mult, frst, nxt = spheregroup(cat['ra'], cat['dec'], link / 60.0)\n",
    "    ngrp = max(grp) + 1\n",
    "\n",
    "    if verbose:\n",
    "        npergrp, _ = np.histogram(grp, bins=len(grp), range=(0, len(grp)))\n",
    "        print('Found {} total groups, including:'.format(ngrp))\n",
    "        print('  {} groups with 1 member'.format(np.sum( (npergrp == 1) ).astype('int')))\n",
    "        print('  {} groups with 2-5 members'.format(np.sum( (npergrp > 1)*(npergrp <= 5) ).astype('int')))\n",
    "        print('  {} groups with 5-10 members'.format(np.sum( (npergrp > 5)*(npergrp <= 10) ).astype('int')))\n",
    "        print('  {} groups with >10 members'.format(np.sum( (npergrp > 10) ).astype('int')))\n",
    "        \n",
    "    return (grp, mult, frst, nxt)"
   ]
  },
  {
   "cell_type": "code",
   "execution_count": null,
   "metadata": {
    "collapsed": true
   },
   "outputs": [],
   "source": [
    "%time (grp, mult, frst, nxt) = fof_groups(parent, link=linking_length, verbose=True)"
   ]
  },
  {
   "cell_type": "code",
   "execution_count": null,
   "metadata": {
    "collapsed": true
   },
   "outputs": [],
   "source": [
    "def build_groupcat(cat, grp, mult, frst, nxt):\n",
    "    \"\"\"Build the final group catalog.\"\"\"\n",
    "\n",
    "    from astropy.table import Column, Table\n",
    "    from astrometry.util.starutil_numpy import radectoxyz, xyztoradec, arcsec_between\n",
    "\n",
    "    ngrp = max(grp) + 1    \n",
    "    groupid = np.arange(ngrp)\n",
    "    \n",
    "    groupcat = Table()\n",
    "    groupcat.add_column(Column(name='groupid', dtype='i4', length=ngrp, data=groupid)) # unique ID number\n",
    "    #groupcat.add_column(Column(name='galaxy', dtype='S1000', length=ngrp))\n",
    "    groupcat.add_column(Column(name='nmembers', dtype='i4', length=ngrp))\n",
    "    groupcat.add_column(Column(name='ra', dtype='f8', length=ngrp))  # average RA\n",
    "    groupcat.add_column(Column(name='dec', dtype='f8', length=ngrp)) # average Dec\n",
    "    groupcat.add_column(Column(name='width', dtype='f4', length=ngrp)) # maximum separation\n",
    "    groupcat.add_column(Column(name='d25max', dtype='f4', length=ngrp))\n",
    "    groupcat.add_column(Column(name='d25min', dtype='f4', length=ngrp))\n",
    "    groupcat.add_column(Column(name='fracmasked', dtype='f4', length=ngrp))\n",
    "    \n",
    "    # Add the groupid to the parent catalog.\n",
    "    outcat = cat.copy()\n",
    "    outcat.add_column(Column(name='groupid', dtype='i4', length=len(cat)))\n",
    "    \n",
    "    #t0 = time.time()\n",
    "    npergrp, _ = np.histogram(grp, bins=len(grp), range=(0, len(grp)))\n",
    "    #print('Time to build the histogram = {:.3f} minutes.'.format( (time.time() - t0) / 60 ) )    \n",
    "    \n",
    "    big = np.where( npergrp > 1 )[0]\n",
    "    small = np.where( npergrp == 1 )[0]\n",
    "\n",
    "    if len(small) > 0:\n",
    "        groupcat['nmembers'][small] = 1\n",
    "        groupcat['groupid'][small] = groupid[small]\n",
    "        groupcat['ra'][small] = cat['ra'][grp[small]]\n",
    "        groupcat['dec'][small] = cat['dec'][grp[small]]\n",
    "        groupcat['d25max'][small] = cat['d25'][grp[small]]\n",
    "        groupcat['d25min'][small] = cat['d25'][grp[small]]\n",
    "        groupcat['width'][small] = cat['d25'][grp[small]]\n",
    "        \n",
    "        outcat['groupid'][grp[small]] = groupid[small]\n",
    "\n",
    "    for igrp in range(len(big)):\n",
    "        jj = frst[big[igrp]]\n",
    "        ig = list()\n",
    "        ig.append(jj)\n",
    "        while (nxt[jj] != -1):\n",
    "            ig.append(nxt[jj])\n",
    "            jj = nxt[jj]\n",
    "        ig = np.array(ig)\n",
    "        \n",
    "        ra1, dec1 = cat['ra'][ig].data, cat['dec'][ig].data        \n",
    "        ra2, dec2 = xyztoradec(np.mean(radectoxyz(ra1, dec1), axis=0))\n",
    "\n",
    "        groupcat['ra'][big[igrp]] = ra2\n",
    "        groupcat['dec'][big[igrp]] = dec2\n",
    "        \n",
    "        d25min, d25max = np.min(cat['d25'][ig]), np.max(cat['d25'][ig])\n",
    "\n",
    "        groupcat['d25max'][big[igrp]] = d25max\n",
    "        groupcat['d25min'][big[igrp]] = d25min\n",
    "        \n",
    "        groupcat['nmembers'][big[igrp]] = len(ig)\n",
    "        outcat['groupid'][ig] = groupcat['groupid'][big[igrp]]\n",
    "        \n",
    "        # Get the distance of each object from every other object.\n",
    "        #diff = arcsec_between(ra1, dec1, ra2, dec2) / 60 # [arcmin] # group center\n",
    "        \n",
    "        diff = list()\n",
    "        for _ra, _dec in zip(ra1, dec1):\n",
    "            diff.append(arcsec_between(ra1, dec1, _ra, _dec) / 60) # [arcmin]\n",
    "        \n",
    "        #if len(ig) > 2:\n",
    "        #    import pdb ; pdb.set_trace()\n",
    "        diameter = np.hstack(diff).max()\n",
    "        groupcat['width'][big[igrp]] = diameter\n",
    "            \n",
    "    print('Writing {}'.format(groupcatfile))\n",
    "    groupcat.write(groupcatfile, overwrite=True)    \n",
    "        \n",
    "    return groupcat, outcat"
   ]
  },
  {
   "cell_type": "code",
   "execution_count": null,
   "metadata": {
    "collapsed": true
   },
   "outputs": [],
   "source": [
    "%time groupcat, parentcat = build_groupcat(parent, grp, mult, frst, nxt)\n",
    "groupcat"
   ]
  },
  {
   "cell_type": "markdown",
   "metadata": {},
   "source": [
    "#### Write out the parent catalog now that it contains the group id."
   ]
  },
  {
   "cell_type": "code",
   "execution_count": null,
   "metadata": {
    "collapsed": true
   },
   "outputs": [],
   "source": [
    "print('Writing {}'.format(parentfile))\n",
    "parentcat.write(parentfile, overwrite=True)"
   ]
  },
  {
   "cell_type": "markdown",
   "metadata": {},
   "source": [
    "### Identify the set of groups in the DR6/DR7 footprint."
   ]
  },
  {
   "cell_type": "code",
   "execution_count": null,
   "metadata": {
    "collapsed": true
   },
   "outputs": [],
   "source": [
    "def group_diameter(onegroup):\n",
    "    \"\"\"Define the diameter or angular extent of the group.\"\"\"\n",
    "    return 1.2 * np.max( (3 * onegroup['width'], 3 * onegroup['d25max']) ) # [arcmin]"
   ]
  },
  {
   "cell_type": "code",
   "execution_count": null,
   "metadata": {
    "collapsed": true
   },
   "outputs": [],
   "source": [
    "def init_survey(dr='dr7'):\n",
    "    \"\"\"\n",
    "    rsync -auvzP cori:\"/global/project/projectdirs/cosmo/work/legacysurvey/dr5/survey-ccds-dr5-patched.kd.fits\" $LSLGA_DIR/sample/dr5/\n",
    "    rsync -auvzP cori:\"/global/cscratch1/sd/dstn/dr6plus/survey-ccds-dr6plus.kd.fits\" $LSLGA_DIR/sample/dr6/\n",
    "    rsync -auvzP cori:\"/global/cscratch1/sd/desiproc/dr7/survey-ccds-dr7.kd.fits\" $LSLGA_DIR/sample/dr7/\n",
    "\n",
    "    \"\"\"\n",
    "    from legacypipe.survey import LegacySurveyData\n",
    "\n",
    "    try:\n",
    "        del survey\n",
    "    except:\n",
    "        pass\n",
    "    \n",
    "    survey = LegacySurveyData(survey_dir=os.path.join(LSLGAdir, 'sample', dr.lower()),\n",
    "                                                      output_dir=LSLGAdir)\n",
    "\n",
    "    return survey"
   ]
  },
  {
   "cell_type": "code",
   "execution_count": null,
   "metadata": {
    "collapsed": true
   },
   "outputs": [],
   "source": [
    "def simple_wcs(onegroup, diam):\n",
    "    \"\"\"Build a simple WCS object for a single group.\n",
    "    \n",
    "    \"\"\"\n",
    "    from astrometry.util.util import Tan\n",
    "    \n",
    "    size = np.rint(diam * 60 / PIXSCALE).astype('int') # [pixels]\n",
    "    wcs = Tan(onegroup['ra'], onegroup['dec'], size/2+0.5, size/2+0.5,\n",
    "                 -PIXSCALE/3600.0, 0.0, 0.0, PIXSCALE/3600.0, \n",
    "                 float(size), float(size))\n",
    "    return wcs"
   ]
  },
  {
   "cell_type": "code",
   "execution_count": null,
   "metadata": {
    "collapsed": true
   },
   "outputs": [],
   "source": [
    "def _build_sample_one(args):\n",
    "    \"\"\"Wrapper function for the multiprocessing.\"\"\"\n",
    "    return build_sample_one(*args)"
   ]
  },
  {
   "cell_type": "code",
   "execution_count": null,
   "metadata": {
    "collapsed": true
   },
   "outputs": [],
   "source": [
    "def build_sample_one(onegroup, verbose=False):\n",
    "    \"\"\"Wrapper function to find overlapping grz CCDs for a given group.\n",
    "    \n",
    "    \"\"\"\n",
    "    diam = group_diameter(onegroup) # [arcmin]\n",
    "    \n",
    "    wcs = simple_wcs(onegroup, diam)\n",
    "    try:\n",
    "        dr = 'dr5'\n",
    "        #dr = 'dr7'\n",
    "        #print('Looking for {} in {}...'.format(obj['galaxy'], dr.upper()))\n",
    "        survey = init_survey(dr=dr)\n",
    "        ccds = survey.ccds_touching_wcs(wcs)\n",
    "    except:\n",
    "        #print('Looking for {} in DR6...'.format(obj['galaxy']))\n",
    "        try:\n",
    "            dr = 'dr6'\n",
    "            survey = init_survey(dr=dr)\n",
    "            ccds = survey.ccds_touching_wcs(wcs)\n",
    "        except:\n",
    "            return [None, None]\n",
    "    \n",
    "    if ccds:\n",
    "        # Is there 3-band coverage?\n",
    "        if 'g' in ccds.filter and 'r' in ccds.filter and 'z' in ccds.filter:\n",
    "            if verbose:\n",
    "                print('Group {:08d}: {} CCDs, RA = {:.5f}, Dec = {:.5f}, Diameter={:.4f} arcmin'.format(\n",
    "                        onegroup['groupid'], len(ccds), onegroup['ra'], onegroup['dec'], diam))\n",
    "                sys.stdout.flush()\n",
    "            return [dr, onegroup]\n",
    "    \n",
    "    return [None, None]"
   ]
  },
  {
   "cell_type": "code",
   "execution_count": null,
   "metadata": {
    "collapsed": true
   },
   "outputs": [],
   "source": [
    "def build_sample(groupcat, use_nproc=nproc):\n",
    "    \"\"\"Build the full sample with grz coverage in DR6.\"\"\"\n",
    "\n",
    "    sampleargs = list()\n",
    "    for gg in groupcat:\n",
    "        sampleargs.append( (gg, True) ) # the False refers to verbose=False\n",
    "\n",
    "    if use_nproc > 1:\n",
    "        p = multiprocessing.Pool(nproc)\n",
    "        result = p.map(_build_sample_one, sampleargs)\n",
    "        p.close()\n",
    "    else:\n",
    "        result = list()\n",
    "        for args in sampleargs:\n",
    "            result.append(_build_sample_one(args))\n",
    "            \n",
    "    # Remove non-matching objects and write out the sample\n",
    "    rr = list(zip(*result))    \n",
    "    outgroupcat = astropy.table.vstack(list(filter(None, rr[1])))\n",
    "    outgroupcat['dr'] = list(filter(None, rr[0]))\n",
    "    print('Found {}/{} objects in the DR6/DR7 footprint.'.format(len(outgroupcat), len(groupcat)))\n",
    "    \n",
    "    return outgroupcat"
   ]
  },
  {
   "cell_type": "code",
   "execution_count": null,
   "metadata": {
    "collapsed": true
   },
   "outputs": [],
   "source": [
    "#groupsample = build_sample_one(groupcat[1408])"
   ]
  },
  {
   "cell_type": "code",
   "execution_count": null,
   "metadata": {
    "collapsed": true
   },
   "outputs": [],
   "source": [
    "#%time groupsample = build_sample(groupcat[:500])"
   ]
  },
  {
   "cell_type": "code",
   "execution_count": null,
   "metadata": {
    "collapsed": true
   },
   "outputs": [],
   "source": [
    "samplelogfile = os.path.join(LSLGAdir, 'sample', 'build-sample-{}.log'.format(drsuffix))\n",
    "print('Building the sample.')\n",
    "print('Logging to {}'.format(samplelogfile))\n",
    "t0 = time.time()\n",
    "with open(samplelogfile, 'w') as log:\n",
    "    with redirect_stdout(log):\n",
    "        groupsample = build_sample(groupcat)\n",
    "print('Found {}/{} groups in the LS footprint.'.format(len(groupsample), len(groupcat)))\n",
    "print('Total time = {:.3f} minutes.'.format( (time.time() - t0) / 60 ) )"
   ]
  },
  {
   "cell_type": "markdown",
   "metadata": {},
   "source": [
    "#### Cross-reference the group catalog to the parent sample and then write out."
   ]
  },
  {
   "cell_type": "code",
   "execution_count": null,
   "metadata": {
    "collapsed": true
   },
   "outputs": [],
   "source": [
    "sample = parentcat[np.where( np.in1d( parentcat['groupid'], groupsample['groupid']) )[0]]\n",
    "print('Writing {}'.format(samplefile))\n",
    "sample.write(samplefile, overwrite=True)\n",
    "\n",
    "print('Writing {}'.format(groupsamplefile))\n",
    "groupsample.write(groupsamplefile, overwrite=True)"
   ]
  },
  {
   "cell_type": "code",
   "execution_count": null,
   "metadata": {
    "collapsed": true
   },
   "outputs": [],
   "source": [
    "qa_radec_dr(groupcat, groupsample)"
   ]
  },
  {
   "cell_type": "markdown",
   "metadata": {},
   "source": [
    "### Get viewer cutouts of every group."
   ]
  },
  {
   "cell_type": "code",
   "execution_count": null,
   "metadata": {
    "collapsed": true
   },
   "outputs": [],
   "source": [
    "jpgdir = os.path.join(LSLGAdir, 'cutouts', 'jpg')\n",
    "if not os.path.isdir(jpgdir):\n",
    "    os.mkdir(jpgdir)"
   ]
  },
  {
   "cell_type": "code",
   "execution_count": null,
   "metadata": {
    "collapsed": true
   },
   "outputs": [],
   "source": [
    "def get_groupname(group):\n",
    "    return 'group{:08d}-n{:03d}'.format(group['groupid'], group['nmembers'])"
   ]
  },
  {
   "cell_type": "code",
   "execution_count": null,
   "metadata": {
    "collapsed": true
   },
   "outputs": [],
   "source": [
    "def get_layer(group):\n",
    "    if group['dr'] == 'dr6':\n",
    "        layer = 'mzls+bass-dr6'\n",
    "    elif group['dr'] == 'dr5':\n",
    "        layer = 'decals-dr5'\n",
    "    elif group['dr'] == 'dr7':\n",
    "        layer = 'decals-dr5'\n",
    "    return layer"
   ]
  },
  {
   "cell_type": "code",
   "execution_count": null,
   "metadata": {
    "collapsed": true
   },
   "outputs": [],
   "source": [
    "def _get_cutouts_one(args):\n",
    "    \"\"\"Wrapper function for the multiprocessing.\"\"\"\n",
    "    return get_cutouts_one(*args)"
   ]
  },
  {
   "cell_type": "code",
   "execution_count": null,
   "metadata": {
    "collapsed": true
   },
   "outputs": [],
   "source": [
    "def get_cutouts_one(group, clobber=False):\n",
    "    \"\"\"Get viewer cutouts for a single galaxy.\"\"\"\n",
    "\n",
    "    layer = get_layer(group)\n",
    "    groupname = get_groupname(group)\n",
    "        \n",
    "    diam = group_diameter(group) # [arcmin]\n",
    "    size = np.ceil(diam * 60 / PIXSCALE).astype('int') # [pixels]\n",
    "\n",
    "    imageurl = '{}/?ra={:.8f}&dec={:.8f}&pixscale={:.3f}&size={:g}&layer={}'.format(\n",
    "        cutouturl, group['ra'], group['dec'], PIXSCALE, size, layer)\n",
    "        \n",
    "    jpgfile = os.path.join(jpgdir, '{}.jpg'.format(groupname))\n",
    "    cmd = 'wget --continue -O {:s} \"{:s}\"' .format(jpgfile, imageurl)\n",
    "    if os.path.isfile(jpgfile) and not clobber:\n",
    "        print('File {} exists...skipping.'.format(jpgfile))\n",
    "    else:\n",
    "        if os.path.isfile(jpgfile):\n",
    "            os.remove(jpgfile)\n",
    "        print(cmd)\n",
    "        os.system(cmd)\n",
    "    sys.stdout.flush()\n",
    "            \n",
    "    # Get the fraction of masked pixels\n",
    "    im = np.asarray( Image.open(jpgfile) )\n",
    "    area = np.product(im.shape[:2])\n",
    "    fracmasked = ( np.sum(im[:, :, 0] == 32) / area, \n",
    "                   np.sum(im[:, :, 1] == 32) / area,\n",
    "                   np.sum(im[:, :, 2] == 32) / area )\n",
    "    \n",
    "    return np.max(fracmasked)"
   ]
  },
  {
   "cell_type": "code",
   "execution_count": null,
   "metadata": {
    "collapsed": true
   },
   "outputs": [],
   "source": [
    "def get_cutouts(groupsample, use_nproc=nproc, clobber=False):\n",
    "    \"\"\"Get viewer cutouts of the whole sample.\"\"\"\n",
    "\n",
    "    cutoutargs = list()\n",
    "    for gg in groupsample:\n",
    "        cutoutargs.append( (gg, clobber) )\n",
    "\n",
    "    if use_nproc > 1:\n",
    "        p = multiprocessing.Pool(nproc)\n",
    "        result = p.map(_get_cutouts_one, cutoutargs)\n",
    "        p.close()\n",
    "    else:\n",
    "        result = list()\n",
    "        for args in cutoutargs:\n",
    "            result.append(_get_cutouts_one(args))\n",
    "\n",
    "    fracmasked = np.hstack(result)\n",
    "    return fracmasked"
   ]
  },
  {
   "cell_type": "code",
   "execution_count": null,
   "metadata": {
    "collapsed": true
   },
   "outputs": [],
   "source": [
    "nmin = 1\n",
    "indx = groupsample['nmembers'] > nmin\n",
    "print('Getting cutouts of {} groups with >{} member(s).'.format(np.sum(indx), nmin))\n",
    "#groupsample['fracmasked'][indx] = get_cutouts(groupsample[indx], clobber=True)#, use_nproc=1)"
   ]
  },
  {
   "cell_type": "code",
   "execution_count": null,
   "metadata": {
    "collapsed": true
   },
   "outputs": [],
   "source": [
    "#get_cutouts_one(groupsample[0], clobber=False)"
   ]
  },
  {
   "cell_type": "code",
   "execution_count": null,
   "metadata": {
    "collapsed": true
   },
   "outputs": [],
   "source": [
    "cutlogfile = os.path.join(LSLGAdir, 'cutouts', 'get-cutouts-{}.log'.format(drsuffix))\n",
    "print('Getting viewer cutouts.')\n",
    "print('Logging to {}'.format(cutlogfile))\n",
    "t0 = time.time()\n",
    "with open(cutlogfile, 'w') as log:\n",
    "    with redirect_stdout(log):\n",
    "        get_cutouts(groupsample[indx], clobber=True)\n",
    "print('Total time = {:.3f} minutes.'.format( (time.time() - t0) / 60 ))"
   ]
  },
  {
   "cell_type": "markdown",
   "metadata": {},
   "source": [
    "#### Overwrite the group sample catalog with fracmasked."
   ]
  },
  {
   "cell_type": "code",
   "execution_count": null,
   "metadata": {
    "collapsed": true
   },
   "outputs": [],
   "source": [
    "print('Writing {}'.format(groupsamplefile))\n",
    "groupsample.write(groupsamplefile, overwrite=True)"
   ]
  },
  {
   "cell_type": "markdown",
   "metadata": {},
   "source": [
    "#### Add labels and a scale bar."
   ]
  },
  {
   "cell_type": "code",
   "execution_count": null,
   "metadata": {
    "collapsed": true
   },
   "outputs": [],
   "source": [
    "barlen = np.round(60.0 / PIXSCALE).astype('int') # [1 arcmin in pixels]\n",
    "fonttype = os.path.join(LSLGAdir, 'cutouts', 'Georgia.ttf')"
   ]
  },
  {
   "cell_type": "code",
   "execution_count": null,
   "metadata": {
    "collapsed": true
   },
   "outputs": [],
   "source": [
    "def get_galaxy(group, sample, html=False):\n",
    "    \"\"\"List the galaxy name.\n",
    "    \n",
    "    \"\"\"\n",
    "    these = group['groupid'] == sample['groupid']\n",
    "    galaxy = [gg.decode('utf-8').strip().lower() for gg in sample['galaxy'][these].data]\n",
    "    \n",
    "    if html:\n",
    "        galaxy = ' '.join(np.sort(galaxy)).upper()\n",
    "    else:\n",
    "        galaxy = ' '.join(np.sort(galaxy))\n",
    "\n",
    "    return galaxy"
   ]
  },
  {
   "cell_type": "code",
   "execution_count": null,
   "metadata": {
    "collapsed": true
   },
   "outputs": [],
   "source": [
    "def _add_labels_one(args):\n",
    "    \"\"\"Wrapper function for the multiprocessing.\"\"\"\n",
    "    return add_labels_one(*args)"
   ]
  },
  {
   "cell_type": "code",
   "execution_count": null,
   "metadata": {
    "collapsed": true
   },
   "outputs": [],
   "source": [
    "def add_labels_one(group, sample, clobber=False, nothumb=False):\n",
    "\n",
    "    jpgdir = os.path.join(LSLGAdir, 'cutouts', 'jpg')\n",
    "    pngdir = os.path.join(LSLGAdir, 'cutouts', 'png')\n",
    "    if not os.path.isdir(pngdir):\n",
    "        os.mkdir(pngdir)\n",
    "\n",
    "    groupname = get_groupname(group)\n",
    "    galaxy = get_galaxy(group, sample, html=True)\n",
    "\n",
    "    jpgfile = os.path.join(jpgdir, '{}.jpg'.format(groupname))\n",
    "    pngfile = os.path.join(pngdir, '{}.png'.format(groupname))\n",
    "    thumbfile = os.path.join(pngdir, 'thumb-{}.png'.format(groupname))\n",
    "    \n",
    "    if os.path.isfile(jpgfile):\n",
    "        if os.path.isfile(pngfile) and not clobber:\n",
    "            print('File {} exists...skipping.'.format(pngfile))\n",
    "        else:\n",
    "            im = Image.open(jpgfile)\n",
    "            sz = im.size\n",
    "            fntsize = np.round(sz[0]/28).astype('int')\n",
    "            width = np.round(sz[0]/175).astype('int')\n",
    "            font = ImageFont.truetype(fonttype, size=fntsize)\n",
    "            draw = ImageDraw.Draw(im)\n",
    "\n",
    "            # Label the group--\n",
    "            draw.text((0+fntsize*2, 0+fntsize*2), galaxy, font=font)\n",
    "    \n",
    "            # Add a scale bar--\n",
    "            x0, x1, yy = sz[1]-fntsize*2-barlen, sz[1]-fntsize*2, sz[0]-fntsize*2\n",
    "            draw.line((x0, yy, x1, yy), fill='white', width=width)\n",
    "            im.save(pngfile)    \n",
    "        \n",
    "            # Generate a thumbnail\n",
    "            if not nothumb:\n",
    "                cmd = 'convert -thumbnail 300x300 {} {}'.format(pngfile, thumbfile)\n",
    "                os.system(cmd)"
   ]
  },
  {
   "cell_type": "code",
   "execution_count": null,
   "metadata": {
    "collapsed": true
   },
   "outputs": [],
   "source": [
    "def add_labels(groupsample, sample, clobber=False):\n",
    "    labelargs = list()\n",
    "    for group in groupsample:\n",
    "        labelargs.append((group, sample, clobber))\n",
    "    if nproc > 1:\n",
    "        p = multiprocessing.Pool(nproc)\n",
    "        res = p.map(_add_labels_one, labelargs)\n",
    "        p.close()\n",
    "    else:\n",
    "        for args in labelargs:\n",
    "            res = _add_labels_one(args)"
   ]
  },
  {
   "cell_type": "code",
   "execution_count": null,
   "metadata": {
    "collapsed": true
   },
   "outputs": [],
   "source": [
    "%time add_labels(groupsample, sample, clobber=True)"
   ]
  },
  {
   "cell_type": "code",
   "execution_count": null,
   "metadata": {
    "collapsed": true
   },
   "outputs": [],
   "source": [
    "#add_labels_one(groupsample[10], sample, clobber=True)"
   ]
  },
  {
   "cell_type": "markdown",
   "metadata": {},
   "source": [
    "### Finally, assemble the webpage of good and rejected gallery images.\n",
    "\n",
    "To test the webpage before release, do\n",
    "\n",
    "```bash\n",
    " rsync -auvP $LLLSLSLSLLSLLSLGLSLGLSLGALSLGALSLGAA/cutouts/png /global/project/projectdirs/cosmo/www/temp/ioannis/LSLGA/\n",
    " rsync -auvP /global/cscratch1/sd/ioannis/LSLGA/cutouts/*.html /global/project/projectdirs/cosmo/www/temp/ioannis/LSLGA/\n",
    "```\n",
    "or\n",
    "```bash\n",
    " rsync -auvP /global/cscratch1/sd/ioannis/LSLGA/cutouts/png /global/project/projectdirs/cosmo/www/temp/ioannis/LSLGA/\n",
    " rsync -auvP /global/cscratch1/sd/ioannis/LSLGA/cutouts/*.html /global/project/projectdirs/cosmo/www/temp/ioannis/LSLGA/\n",
    "```\n",
    "and then the website can be viewed here:\n",
    "  http://portal.nersc.gov/project/cosmo/temp/ioannis/LSLGA    "
   ]
  },
  {
   "cell_type": "code",
   "execution_count": null,
   "metadata": {
    "collapsed": true
   },
   "outputs": [],
   "source": [
    "reject = []\n",
    "toss = np.zeros(len(groupsample), dtype=bool)\n",
    "for ii, gg in enumerate(groupsample['groupid']):\n",
    "    for rej in np.atleast_1d(reject):\n",
    "        toss[ii] = rej in gg.lower()\n",
    "        if toss[ii]:\n",
    "            break\n",
    "print('Rejecting {} groups.'.format(np.sum(toss)))\n",
    "groupkeep = groupsample[~toss]\n",
    "if np.sum(toss) > 0:\n",
    "    grouprej = groupsample[toss]\n",
    "else:\n",
    "    grouprej = []"
   ]
  },
  {
   "cell_type": "code",
   "execution_count": null,
   "metadata": {
    "collapsed": true
   },
   "outputs": [],
   "source": [
    "def html_rows(_groupkeep, sample, nperrow=4):\n",
    "    \n",
    "    # Not all objects may have been analyzed.\n",
    "    these = [os.path.isfile(os.path.join(LSLGAdir, 'cutouts', 'png', '{}.png'.format(\n",
    "        get_groupname(gg)))) for gg in _groupkeep]\n",
    "    groupkeep = _groupkeep[these]\n",
    "    \n",
    "    nrow = np.ceil(len(groupkeep) / nperrow).astype('int')\n",
    "    groupsplit = list()\n",
    "    for ii in range(nrow):\n",
    "        i1 = nperrow*ii\n",
    "        i2 = nperrow*(ii+1)\n",
    "        if i2 > len(groupkeep):\n",
    "            i2 = len(groupkeep)\n",
    "        groupsplit.append(groupkeep[i1:i2])\n",
    "    print('Splitting the sample into {} rows with {} mosaics per row.'.format(nrow, nperrow))\n",
    "\n",
    "    html.write('<table class=\"ls-gallery\">\\n')\n",
    "    html.write('<tbody>\\n')\n",
    "    for grouprow in groupsplit:\n",
    "        html.write('<tr>\\n')\n",
    "        for group in grouprow:\n",
    "            groupname = get_groupname(group)\n",
    "            galaxy = get_galaxy(group, sample, html=True)\n",
    "\n",
    "            pngfile = os.path.join('cutouts', 'png', '{}.png'.format(groupname))\n",
    "            thumbfile = os.path.join('cutouts', 'png', 'thumb-{}.png'.format(groupname))\n",
    "            img = 'src=\"{}\" alt=\"{}\"'.format(thumbfile, galaxy)\n",
    "            #img = 'class=\"ls-gallery\" src=\"{}\" alt=\"{}\"'.format(thumbfile, nicename)\n",
    "            html.write('<td><a href=\"{}\"><img {}></a></td>\\n'.format(pngfile, img))\n",
    "        html.write('</tr>\\n')\n",
    "        html.write('<tr>\\n')\n",
    "        for group in grouprow:\n",
    "            groupname = get_groupname(group)\n",
    "            galaxy = '{}: {}'.format(groupname.upper(), get_galaxy(group, sample, html=True))\n",
    "            layer = get_layer(group)\n",
    "            href = '{}/?layer={}&ra={:.8f}&dec={:.8f}&zoom=12'.format(viewerurl, layer, group['ra'], group['dec'])\n",
    "            html.write('<td><a href=\"{}\" target=\"_blank\">{}</a></td>\\n'.format(href, galaxy))\n",
    "        html.write('</tr>\\n')\n",
    "    html.write('</tbody>\\n')            \n",
    "    html.write('</table>\\n')"
   ]
  },
  {
   "cell_type": "code",
   "execution_count": null,
   "metadata": {
    "collapsed": true
   },
   "outputs": [],
   "source": [
    "with open(htmlfile, 'w') as html:\n",
    "    html.write('<html><head>\\n')\n",
    "    html.write('<style type=\"text/css\">\\n')\n",
    "    html.write('table.ls-gallery {width: 90%;}\\n')\n",
    "    #html.write('img.ls-gallery {display: block;}\\n')\n",
    "    #html.write('td.ls-gallery {width: 100%; height: auto}\\n')\n",
    "    #html.write('td.ls-gallery {width: 100%; word-wrap: break-word;}\\n')\n",
    "    html.write('p.ls-gallery {width: 80%;}\\n')\n",
    "    html.write('</style>\\n')\n",
    "    html.write('</head><body>\\n')\n",
    "    html.write('<h1>Legacy Surveys Large Galaxy Atlas</h1>\\n')\n",
    "    html.write(\"\"\"<p class=\"ls-gallery\">Each thumbnail links to a larger image while the galaxy \n",
    "    name below each thumbnail links to the <a href=\"http://legacysurvey.org/viewer\">Sky Viewer</a>.  \n",
    "    For reference, the horizontal white bar in the lower-right corner of each image represents \n",
    "    one arcminute.</p>\\n\"\"\")\n",
    "    #html.write('<h2>Large Galaxy Sample</h2>\\n')\n",
    "    html_rows(groupkeep, sample)\n",
    "    html.write('</body></html>\\n')"
   ]
  },
  {
   "cell_type": "code",
   "execution_count": null,
   "metadata": {
    "collapsed": true
   },
   "outputs": [],
   "source": [
    "if len(grouprej) > 0:\n",
    "    with open(htmlfile_reject, 'w') as html:\n",
    "        html.write('<html><head>\\n')\n",
    "        html.write('<style type=\"text/css\">\\n')\n",
    "        html.write('img.ls-gallery {display: block;}\\n')\n",
    "        html.write('td.ls-gallery {width: 20%; word-wrap: break-word;}\\n')\n",
    "        html.write('</style>\\n')\n",
    "        html.write('</head><body>\\n')\n",
    "        html.write('<h1>Large Galaxies - Rejected</h1>\\n')\n",
    "        html_rows(grouprej, sample)\n",
    "        html.write('</body></html>\\n')"
   ]
  },
  {
   "cell_type": "code",
   "execution_count": null,
   "metadata": {
    "collapsed": true
   },
   "outputs": [],
   "source": [
    "stop"
   ]
  },
  {
   "cell_type": "code",
   "execution_count": null,
   "metadata": {
    "collapsed": true
   },
   "outputs": [],
   "source": [
    "#ww = np.where(['NGC' in gg for gg in parent['galaxy']])[0]\n",
    "#[print(gg.decode('utf-8'), rr, dd) for (gg, rr, dd) in zip(parent['galaxy'][ww].data, parent['ra'][ww].data, parent['dec'][ww].data)]\n",
    "#print(ww[4])\n",
    "#parent[ww]"
   ]
  }
 ],
 "metadata": {
  "anaconda-cloud": {},
  "kernelspec": {
   "display_name": "Python 3",
   "language": "python",
   "name": "python3"
  },
  "language_info": {
   "codemirror_mode": {
    "name": "ipython",
    "version": 3
   },
   "file_extension": ".py",
   "mimetype": "text/x-python",
   "name": "python",
   "nbconvert_exporter": "python",
   "pygments_lexer": "ipython3",
   "version": "3.6.5"
  }
 },
 "nbformat": 4,
 "nbformat_minor": 2
}
