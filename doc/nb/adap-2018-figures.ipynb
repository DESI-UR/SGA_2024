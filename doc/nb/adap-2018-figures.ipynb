{
 "cells": [
  {
   "cell_type": "markdown",
   "metadata": {},
   "source": [
    "# Figures for 2018 ADAP Proposal\n",
    "\n",
    "- UNWISE_COADDS_DIR\n",
    "- UNWISE_COADDS_TIMERESOLVED_DIR\n",
    "--in theory, set by \"unwise_coadds\" and \"unwise_coadds_timeresolved\" modules -- but do these have a canonical place where they live at NERSC?\n",
    "\n",
    "- DUST_DIR\n",
    "--SFD dust maps -- set by \"dust\" module\n",
    "\n",
    "- GAIA_CAT_DIR (/project/projectdirs/cosmo/work/gaia/chunks-gaia-dr2-astrom/)\n",
    "- GAIA_CAT_VER=2\n",
    "--no module for these ones, yet\n",
    "\n",
    "- PS1CAT_DIR (/project/projectdirs/cosmo/work/ps1/cats/chunks-qz-star-v3/)\n",
    "--only required during calibration; not set in a module\n",
    "\n",
    "- Tycho-2 -- current, a file within $LEGACY_SURVEY_DIR, but we should probably make this an external product!\n",
    "\n",
    "- external catalogs that we cross-match to -- I don't even know how these are identified\n",
    "\n",
    "\n",
    "So, how should we handle these?  Should we make modules for all of them?  How do we document what these variable were set to for a given Legacy Survey DR?\n",
    "\n",
    "\n",
    "NEO4:\n",
    " /global/projecta/projectdirs/cosmo/work/wise/outputs/merge/neo4/fulldepth\n",
    "\n",
    "Dustin's unwise:\n",
    " /global/projecta/projectdirs/cosmo/work/wise/outputs/merge/neo3/fulldepth:/global/project/projectdirs/cosmo/data/unwise/allwise/unwise-coadds/fulldepth\n",
    " "
   ]
  },
  {
   "cell_type": "code",
   "execution_count": 38,
   "metadata": {},
   "outputs": [],
   "source": [
    "import os, warnings\n",
    "import numpy as np\n",
    "import matplotlib.pyplot as plt\n",
    "import fitsio\n",
    "from astropy.table import Table, vstack"
   ]
  },
  {
   "cell_type": "code",
   "execution_count": 26,
   "metadata": {},
   "outputs": [],
   "source": [
    "%matplotlib inline"
   ]
  },
  {
   "cell_type": "code",
   "execution_count": 2,
   "metadata": {},
   "outputs": [],
   "source": [
    "LSLGAdir = os.getenv('LSLGA_DIR')\n",
    "adapdir = os.path.join(os.getenv('HOME'), 'repos', 'papers', 'grants', 'nasa-adap-2018')"
   ]
  },
  {
   "cell_type": "code",
   "execution_count": 3,
   "metadata": {},
   "outputs": [],
   "source": [
    "PIXSCALE = 0.262"
   ]
  },
  {
   "cell_type": "code",
   "execution_count": 4,
   "metadata": {},
   "outputs": [],
   "source": [
    "parent = Table.read(os.path.join(LSLGAdir, 'sample', 'large-galaxies-parent.fits'))"
   ]
  },
  {
   "cell_type": "markdown",
   "metadata": {},
   "source": [
    "### Galaxy montage\n",
    "\n",
    "Demonstrate the range of galaxies and environments the atlas will span.  This will likely be the first figure, so do we want to include the GALEX + WISE data?"
   ]
  },
  {
   "cell_type": "code",
   "execution_count": 5,
   "metadata": {},
   "outputs": [],
   "source": [
    "def make_montage(montage, jpg_clobber=False, png_clobber=False, montage_clobber=False):\n",
    "    from PIL import Image, ImageDraw, ImageFont\n",
    "\n",
    "    barlen = np.round(60.0 / PIXSCALE).astype('int') # [1 arcmin in pixels]\n",
    "    fonttype = os.path.join(LSLGAdir, 'cutouts', 'Georgia.ttf')    \n",
    "    \n",
    "    cutouturl = 'http://legacysurvey.org/viewer-dev/jpeg-cutout'\n",
    "\n",
    "    # Get the viewer cutouts\n",
    "    for gal in montage:\n",
    "        size = np.ceil(gal['d25'] * gal['factor'] * 60 / PIXSCALE).astype(np.int)\n",
    "        \n",
    "        imageurl = '{}/?ra={:.8f}&dec={:.8f}&pixscale={:.3f}&size={:g}&layer={}'.format(\n",
    "            cutouturl, gal['ra'], gal['dec'], PIXSCALE, size, gal['layer'])\n",
    "    \n",
    "        jpgfile = os.path.join(adapdir, 'montage', '{}.jpg'.format(gal['galaxy']))\n",
    "        cmd = 'wget --continue -O {:s} \"{:s}\"' .format(jpgfile, imageurl)\n",
    "    \n",
    "        if os.path.isfile(jpgfile) and not jpg_clobber:\n",
    "            print('File {} exists...skipping.'.format(jpgfile))\n",
    "        else:\n",
    "            if os.path.isfile(jpgfile):\n",
    "                os.remove(jpgfile)\n",
    "            print(cmd)\n",
    "            os.system(cmd)\n",
    "\n",
    "        # Add labels\n",
    "        pngfile = jpgfile.replace('.jpg', '.png')\n",
    "        if os.path.isfile(jpgfile):\n",
    "            if os.path.isfile(pngfile) and not png_clobber:\n",
    "                print('File {} exists...skipping.'.format(pngfile))\n",
    "            else:\n",
    "                im = Image.open(jpgfile)\n",
    "                sz = im.size\n",
    "                fntsize = np.round(sz[0]/28).astype('int')\n",
    "                width = np.round(sz[0]/175).astype('int')\n",
    "                font = ImageFont.truetype(fonttype, size=fntsize)\n",
    "                draw = ImageDraw.Draw(im)\n",
    "\n",
    "                draw.text((0+fntsize*2, 0+fntsize*2), gal['galaxy'].replace('_', ' '), font=font)\n",
    "    \n",
    "                # Add a scale bar--\n",
    "                x0, x1, yy = sz[1]-fntsize*2-barlen, sz[1]-fntsize*2, sz[0]-fntsize*2\n",
    "                draw.line((x0, yy, x1, yy), fill='white', width=width)\n",
    "                im.save(pngfile)    \n",
    "                \n",
    "    # Make the final montage.\n",
    "    montagefile = os.path.join(adapdir, 'galaxy-montage.png')\n",
    "    ncol, nrow = 4, 1\n",
    "    if os.path.isfile(montagefile) and not montage_clobber:\n",
    "        print('File {} exists...skipping.'.format(montagefile))\n",
    "    else:\n",
    "        cmd = 'montage -bordercolor white -borderwidth 1 -tile {}x{} -geometry 256x256 '.format(ncol, nrow)\n",
    "        cmd = cmd+' '.join([os.path.join(adapdir, 'montage', '{}.png'.format(gg)) for gg in montage['galaxy']])\n",
    "        cmd = cmd+' {}'.format(montagefile)\n",
    "        print(cmd)\n",
    "        os.system(cmd)        \n",
    "        print('Writing {}'.format(montagefile))\n",
    "                "
   ]
  },
  {
   "cell_type": "code",
   "execution_count": 6,
   "metadata": {},
   "outputs": [
    {
     "data": {
      "text/html": [
       "<i>Table length=4</i>\n",
       "<table id=\"table4402367624\" class=\"table-striped table-bordered table-condensed\">\n",
       "<thead><tr><th>galaxy</th><th>pgc</th><th>objtype</th><th>ra</th><th>dec</th><th>type</th><th>bar</th><th>ring</th><th>multiple</th><th>compactness</th><th>t</th><th>d25</th><th>r25</th><th>pa</th><th>bt</th><th>it</th><th>kt</th><th>modbest</th><th>z</th><th>sb_d25</th><th>mag</th><th>groupid</th><th>designation</th><th>wise_ra</th><th>wise_dec</th><th>cntr</th><th>w1mpro</th><th>w1sigmpro</th><th>w2mpro</th><th>w2sigmpro</th><th>w3mpro</th><th>w3sigmpro</th><th>w4mpro</th><th>w4sigmpro</th><th>nb</th><th>na</th><th>cc_flags</th><th>ext_flg</th><th>ph_qual</th><th>w1mag</th><th>w1sigm</th><th>w2mag</th><th>w2sigm</th><th>w3mag</th><th>w3sigm</th><th>w4mag</th><th>w4sigm</th><th>tmass_key</th><th>j_m_2mass</th><th>j_msig_2mass</th><th>h_m_2mass</th><th>h_msig_2mass</th><th>k_m_2mass</th><th>k_msig_2mass</th><th>inwise</th><th>layer</th><th>factor</th></tr></thead>\n",
       "<thead><tr><th>bytes28</th><th>int64</th><th>bytes2</th><th>float64</th><th>float64</th><th>bytes4</th><th>bytes3</th><th>bytes3</th><th>bytes3</th><th>bytes3</th><th>float32</th><th>float32</th><th>float32</th><th>float32</th><th>float32</th><th>float32</th><th>float32</th><th>float32</th><th>float32</th><th>float32</th><th>float32</th><th>int32</th><th>bytes20</th><th>float64</th><th>float64</th><th>int64</th><th>float64</th><th>float64</th><th>float64</th><th>float64</th><th>float64</th><th>float64</th><th>float64</th><th>float64</th><th>int32</th><th>int32</th><th>bytes4</th><th>int32</th><th>bytes4</th><th>float64</th><th>float64</th><th>float64</th><th>float64</th><th>float64</th><th>float64</th><th>float64</th><th>float64</th><th>int32</th><th>float64</th><th>float64</th><th>float64</th><th>float64</th><th>float64</th><th>float64</th><th>bool</th><th>str13</th><th>float64</th></tr></thead>\n",
       "<tr><td>NGC3938</td><td>37229</td><td>G</td><td>178.2058515</td><td>44.1207736</td><td>Sc</td><td>nan</td><td>nan</td><td>nan</td><td>nan</td><td>5.1</td><td>5.39511</td><td>0.104713</td><td>nan</td><td>10.875</td><td>nan</td><td>7.861</td><td>30.869</td><td>0.00269586</td><td>23.1635</td><td>10.875</td><td>42168</td><td>J115249.43+440714.8</td><td>178.2059666</td><td>44.1207889</td><td>1789143901351039886</td><td>10.617</td><td>0.024</td><td>10.629</td><td>0.021</td><td>8.191</td><td>0.036</td><td>5.813</td><td>0.053</td><td>1</td><td>0</td><td>0000</td><td>5</td><td>AAAA</td><td>10.48</td><td>0.019</td><td>10.442</td><td>0.024</td><td>7.651</td><td>0.123</td><td>5.034</td><td>0.147</td><td>481322632</td><td>13.019</td><td>0.061</td><td>12.523</td><td>0.087</td><td>12.567</td><td>0.104</td><td>True</td><td>mzls+bass-dr6</td><td>2.5</td></tr>\n",
       "<tr><td>NGC5322</td><td>49044</td><td>G</td><td>207.313452</td><td>60.1904759</td><td>E</td><td>nan</td><td>nan</td><td>nan</td><td>nan</td><td>-4.8</td><td>5.62341</td><td>0.161065</td><td>95.0</td><td>11.049</td><td>nan</td><td>7.188</td><td>32.444</td><td>0.00600782</td><td>23.4275</td><td>11.049</td><td>55884</td><td>J134915.28+601125.9</td><td>207.3136877</td><td>60.1905346</td><td>2070160501351018878</td><td>8.697</td><td>0.022</td><td>8.688</td><td>0.02</td><td>7.758</td><td>0.018</td><td>6.193</td><td>0.046</td><td>1</td><td>0</td><td>0000</td><td>5</td><td>AAAA</td><td>8.712</td><td>0.006</td><td>8.753</td><td>0.006</td><td>7.597</td><td>0.009</td><td>5.962</td><td>0.033</td><td>648499797</td><td>11.079</td><td>0.067</td><td>10.406</td><td>0.083</td><td>9.915</td><td>0.053</td><td>True</td><td>mzls+bass-dr6</td><td>2.5</td></tr>\n",
       "<tr><td>IC4182</td><td>45314</td><td>G</td><td>196.455276</td><td>37.6046589</td><td>Sm</td><td>nan</td><td>nan</td><td>nan</td><td>nan</td><td>8.8</td><td>6.01174</td><td>0.108893</td><td>nan</td><td>12.589</td><td>nan</td><td>10.064</td><td>28.203</td><td>0.00104572</td><td>25.1125</td><td>12.589</td><td>51164</td><td>NULL</td><td>0.0</td><td>0.0</td><td>0</td><td>0.0</td><td>0.0</td><td>0.0</td><td>0.0</td><td>0.0</td><td>0.0</td><td>0.0</td><td>0.0</td><td>0</td><td>0</td><td></td><td>0</td><td></td><td>0.0</td><td>0.0</td><td>0.0</td><td>0.0</td><td>0.0</td><td>0.0</td><td>0.0</td><td>0.0</td><td>0</td><td>0.0</td><td>0.0</td><td>0.0</td><td>0.0</td><td>0.0</td><td>0.0</td><td>False</td><td>mzls+bass-dr6</td><td>2.5</td></tr>\n",
       "<tr><td>CGCG071-093_Group</td><td>44711</td><td>G</td><td>195.0304245</td><td>8.6986047</td><td>S0</td><td>nan</td><td>nan</td><td>M</td><td>nan</td><td>-2.0</td><td>0.672977</td><td>0.115611</td><td>24.71</td><td>14.991</td><td>13.67</td><td>11.381</td><td>36.589</td><td>0.0466833</td><td>22.7595</td><td>14.991</td><td>48492</td><td>J130007.29+084155.1</td><td>195.0304106</td><td>8.6986445</td><td>1945109001351023498</td><td>11.882</td><td>0.022</td><td>11.703</td><td>0.022</td><td>8.782</td><td>0.026</td><td>6.954</td><td>0.084</td><td>1</td><td>0</td><td>0000</td><td>5</td><td>AAAA</td><td>11.716</td><td>0.006</td><td>11.517</td><td>0.009</td><td>8.38</td><td>0.018</td><td>6.45</td><td>0.096</td><td>892108157</td><td>14.213</td><td>0.083</td><td>13.581</td><td>0.091</td><td>13.184</td><td>0.091</td><td>True</td><td>decals-dr5</td><td>3.5</td></tr>\n",
       "</table>"
      ],
      "text/plain": [
       "<Table length=4>\n",
       "      galaxy       pgc  objtype      ra     ... inwise     layer      factor\n",
       "     bytes28      int64  bytes2   float64   ...  bool      str13     float64\n",
       "----------------- ----- ------- ----------- ... ------ ------------- -------\n",
       "          NGC3938 37229       G 178.2058515 ...   True mzls+bass-dr6     2.5\n",
       "          NGC5322 49044       G  207.313452 ...   True mzls+bass-dr6     2.5\n",
       "           IC4182 45314       G  196.455276 ...  False mzls+bass-dr6     2.5\n",
       "CGCG071-093_Group 44711       G 195.0304245 ...   True    decals-dr5     3.5"
      ]
     },
     "execution_count": 6,
     "metadata": {},
     "output_type": "execute_result"
    }
   ],
   "source": [
    "w1 = np.where(parent['galaxy'] == 'NGC3938')[0]\n",
    "w2 = np.where(parent['galaxy'] == 'NGC5322')[0]\n",
    "w3 = np.where(parent['galaxy'] == 'IC4182')[0]\n",
    "w4 = np.where(parent['galaxy'] == 'PGC044711')[0]\n",
    "these = np.hstack( (w1, w2, w3, w4) )\n",
    "montage = parent[these]\n",
    "montage['layer'] = ['mzls+bass-dr6', 'mzls+bass-dr6', 'mzls+bass-dr6', 'decals-dr5']\n",
    "montage['factor'] = [2.5, 2.5, 2.5, 3.5]\n",
    "montage['galaxy'][3] = 'CGCG071-093_Group'\n",
    "montage"
   ]
  },
  {
   "cell_type": "code",
   "execution_count": 7,
   "metadata": {},
   "outputs": [
    {
     "name": "stdout",
     "output_type": "stream",
     "text": [
      "File /Users/ioannis/repos/papers/grants/nasa-adap-2018/montage/NGC3938.jpg exists...skipping.\n",
      "File /Users/ioannis/repos/papers/grants/nasa-adap-2018/montage/NGC3938.png exists...skipping.\n",
      "File /Users/ioannis/repos/papers/grants/nasa-adap-2018/montage/NGC5322.jpg exists...skipping.\n",
      "File /Users/ioannis/repos/papers/grants/nasa-adap-2018/montage/NGC5322.png exists...skipping.\n",
      "File /Users/ioannis/repos/papers/grants/nasa-adap-2018/montage/IC4182.jpg exists...skipping.\n",
      "File /Users/ioannis/repos/papers/grants/nasa-adap-2018/montage/IC4182.png exists...skipping.\n",
      "File /Users/ioannis/repos/papers/grants/nasa-adap-2018/montage/CGCG071-093_Group.jpg exists...skipping.\n",
      "File /Users/ioannis/repos/papers/grants/nasa-adap-2018/montage/CGCG071-093_Group.png exists...skipping.\n",
      "File /Users/ioannis/repos/papers/grants/nasa-adap-2018/galaxy-montage.png exists...skipping.\n"
     ]
    }
   ],
   "source": [
    "make_montage(montage, jpg_clobber=False, png_clobber=False, montage_clobber=False)"
   ]
  },
  {
   "cell_type": "markdown",
   "metadata": {},
   "source": [
    "### WISE surface brightness profile\n",
    "\n",
    "Demonstrate the improved depth of the NEO3 data vs unWISE by generating the azimuthally averaged surface brightness profile in W1 and W2.\n",
    "\n",
    "```bash\n",
    "\n",
    "salloc -N 1 -C haswell -t 00:60:00 --qos interactive -L SCRATCH,project\n",
    "source ~/software/develop-legacysurveys-code\n",
    "\n",
    "export UNWISE_COADDS_DIR=/global/cscratch1/sd/ameisner/unwise-coadds/fulldepth_neo4:/global/project/projectdirs/cosmo/data/unwise/allwise/unwise-coadds/fulldepth\n",
    "wise-galex-cutouts -r 207.313452 -d 60.1904759 --radius 720 --survey-dir /global/projecta/projectdirs/cosmo/data/legacysurvey/dr6 --prefix NGC5322 \n",
    "\n",
    "export UNWISE_COADDS_DIR=/global/project/projectdirs/cosmo/data/unwise/allwise/unwise-coadds/fulldepth\n",
    "wise-galex-cutouts -r 207.313452 -d 60.1904759 --radius 720 --survey-dir /global/projecta/projectdirs/cosmo/data/legacysurvey/dr6 --prefix NGC5322-AllWISE\n",
    "\n",
    "```"
   ]
  },
  {
   "cell_type": "code",
   "execution_count": 34,
   "metadata": {},
   "outputs": [],
   "source": [
    "from photutils import CircularAperture, aperture_photometry, CircularAnnulus\n",
    "pixscale = 2.75 / 2\n",
    "img = fitsio.read(os.path.join(adapdir, 'wise-sbprofiles', 'NGC5322-W1-image.fits'))\n",
    "img /= pixscale**2\n",
    "\n",
    "H, W = img.shape\n",
    "dr = 3\n",
    "rin = np.arange(1, H-dr, dr)\n",
    "rout = rin + dr\n",
    "\n",
    "phot = []\n",
    "for r1, r2 in zip(rin, rout):\n",
    "    aper = CircularAnnulus(( H / 2, W / 2), r_in=r1, r_out=r2)\n",
    "    phot.append(aperture_photometry(img, aper))\n",
    "phot = vstack(phot)\n",
    "#phot"
   ]
  },
  {
   "cell_type": "code",
   "execution_count": 61,
   "metadata": {},
   "outputs": [],
   "source": [
    "def wise_ellipsefit(img):\n",
    "    from mge.find_galaxy import find_galaxy\n",
    "    from photutils.isophote import (EllipseGeometry, Ellipse, EllipseSample,\n",
    "                                    Isophote, IsophoteList)\n",
    "    from photutils.isophote.sample import CentralEllipseSample\n",
    "    from photutils.isophote.fitter import CentralEllipseFitter\n",
    "\n",
    "    gal = find_galaxy(img, nblob=1, binning=3, plot=False, quiet=True)\n",
    "    geometry = EllipseGeometry(x0=gal.xpeak, y0=gal.ypeak, eps=gal.eps,\n",
    "                               sma=5, pa=np.radians(gal.pa-90))    \n",
    "    ellipse = Ellipse(img, geometry=geometry)\n",
    "    \n",
    "    integrmode, sclip, nclip, step, fflag = 'bilinear', 3, 0, 0.1, 0.5\n",
    "    isophot = ellipse.fit_image(minsma=1.0, maxsma=3*gal.majoraxis,\n",
    "                                integrmode=integrmode, sclip=sclip, nclip=nclip,\n",
    "                                step=step, fflag=fflag)\n",
    "\n",
    "    return isophot"
   ]
  },
  {
   "cell_type": "code",
   "execution_count": 62,
   "metadata": {},
   "outputs": [
    {
     "name": "stdout",
     "output_type": "stream",
     "text": [
      "CPU times: user 19.9 s, sys: 145 ms, total: 20 s\n",
      "Wall time: 16.1 s\n"
     ]
    }
   ],
   "source": [
    "%time isophot = wise_ellipsefit(img)"
   ]
  },
  {
   "cell_type": "code",
   "execution_count": 79,
   "metadata": {},
   "outputs": [
    {
     "name": "stdout",
     "output_type": "stream",
     "text": [
      "(1.2853065847668965, 1.0493785, 1.3556114172081286)\n",
      "20.9768588185\n"
     ]
    }
   ],
   "source": [
    "from astropy.stats import sigma_clipped_stats\n",
    "from photutils import make_source_mask\n",
    "mask = make_source_mask(img, snr=2, npixels=5, dilate_size=11)\n",
    "mean, median, std = sigma_clipped_stats(img, sigma=3.0, mask=mask)\n",
    "print((mean, median, std)) \n",
    "print( 22.5 - 2.5 * np.log10(3 * std) )"
   ]
  },
  {
   "cell_type": "code",
   "execution_count": 73,
   "metadata": {},
   "outputs": [],
   "source": [
    "def wise_sbprofile(isophot, png=None):\n",
    "    sma = isophot.sma / 60\n",
    "    mu = 22.5 - 2.5 * np.log10(isophot.intens)\n",
    "    \n",
    "    fig, ax = plt.subplots()\n",
    "    with warnings.catch_warnings():\n",
    "        warnings.simplefilter('ignore')\n",
    "        ax.scatter(sma, mu)\n",
    "    ax.set_ylim(22, 11)\n",
    "    ax.set_xlabel('Galactocentric Radius (arcmin)')\n",
    "    ax.set_ylabel('Surface Brightness (arcmin)')\n",
    "    \n",
    "    if png:\n",
    "        fig.savefig(png)"
   ]
  },
  {
   "cell_type": "code",
   "execution_count": 74,
   "metadata": {},
   "outputs": [
    {
     "data": {
      "image/png": "[encoded data removed]",
      "text/plain": [
       "<Figure size 432x288 with 1 Axes>"
      ]
     },
     "metadata": {},
     "output_type": "display_data"
    }
   ],
   "source": [
    "wise_sbprofile(isophot, png=os.path.join(adapdir, 'wise-sbprofiles.png'))"
   ]
  },
  {
   "cell_type": "markdown",
   "metadata": {},
   "source": [
    "### Multipanel montage of one galaxy in GALEX+LS+WISE\n",
    "\n",
    "We probably want two different figures, one of a spiral galaxy and another of an earlyish-type.  I'm thinking a 3x3 figure, with data+model+residuals along columns, and GALEX+LS+WISE along rows.\n",
    "\n",
    "Or this could be a Nx3 where N is some number of galaxies and the three columns are GALEX+LS+WISE."
   ]
  },
  {
   "cell_type": "code",
   "execution_count": null,
   "metadata": {},
   "outputs": [],
   "source": []
  },
  {
   "cell_type": "markdown",
   "metadata": {},
   "source": [
    "### Sample selection & properties\n",
    "\n",
    "* magnitude vs D(25)\n",
    "* spatial distribution of the sample"
   ]
  },
  {
   "cell_type": "code",
   "execution_count": null,
   "metadata": {},
   "outputs": [],
   "source": []
  }
 ],
 "metadata": {
  "kernelspec": {
   "display_name": "Python 3",
   "language": "python",
   "name": "python3"
  },
  "language_info": {
   "codemirror_mode": {
    "name": "ipython",
    "version": 3
   },
   "file_extension": ".py",
   "mimetype": "text/x-python",
   "name": "python",
   "nbconvert_exporter": "python",
   "pygments_lexer": "ipython3",
   "version": "3.6.5"
  }
 },
 "nbformat": 4,
 "nbformat_minor": 2
}
