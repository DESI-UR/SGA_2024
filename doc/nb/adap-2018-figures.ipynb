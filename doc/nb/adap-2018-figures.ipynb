{
 "cells": [
  {
   "cell_type": "markdown",
   "metadata": {},
   "source": [
    "# Figures for 2018 ADAP Proposal\n",
    "\n",
    "- UNWISE_COADDS_DIR\n",
    "- UNWISE_COADDS_TIMERESOLVED_DIR\n",
    "--in theory, set by \"unwise_coadds\" and \"unwise_coadds_timeresolved\" modules -- but do these have a canonical place where they live at NERSC?\n",
    "\n",
    "- DUST_DIR\n",
    "--SFD dust maps -- set by \"dust\" module\n",
    "\n",
    "- GAIA_CAT_DIR (/project/projectdirs/cosmo/work/gaia/chunks-gaia-dr2-astrom/)\n",
    "- GAIA_CAT_VER=2\n",
    "--no module for these ones, yet\n",
    "\n",
    "- PS1CAT_DIR (/project/projectdirs/cosmo/work/ps1/cats/chunks-qz-star-v3/)\n",
    "--only required during calibration; not set in a module\n",
    "\n",
    "- Tycho-2 -- current, a file within $LEGACY_SURVEY_DIR, but we should probably make this an external product!\n",
    "\n",
    "- external catalogs that we cross-match to -- I don't even know how these are identified\n",
    "\n",
    "\n",
    "So, how should we handle these?  Should we make modules for all of them?  How do we document what these variable were set to for a given Legacy Survey DR?\n",
    "\n",
    "\n",
    " /global/projecta/projectdirs/cosmo/work/wise/outputs/merge/neo4/fulldepth\n",
    " "
   ]
  },
  {
   "cell_type": "code",
   "execution_count": 1,
   "metadata": {},
   "outputs": [],
   "source": [
    "import os\n",
    "import numpy as np"
   ]
  },
  {
   "cell_type": "markdown",
   "metadata": {},
   "source": [
    "### Galaxy montage\n",
    "\n",
    "Demonstrate the range of galaxies and environments the atlas will span.  This will likely be the first figure, so do we want to include the GALEX + WISE data?"
   ]
  },
  {
   "cell_type": "code",
   "execution_count": null,
   "metadata": {},
   "outputs": [],
   "source": []
  },
  {
   "cell_type": "markdown",
   "metadata": {},
   "source": [
    "### Multipanel montage of one galaxy in GALEX+LS+WISE\n",
    "\n",
    "We probably want two different figures, one of a spiral galaxy and another of an earlyish-type.  I'm thinking a 3x3 figure, with data+model+residuals along columns, and GALEX+LS+WISE along rows.\n",
    "\n",
    "Or this could be a Nx3 where N is some number of galaxies and the three columns are GALEX+LS+WISE."
   ]
  },
  {
   "cell_type": "code",
   "execution_count": null,
   "metadata": {},
   "outputs": [],
   "source": []
  },
  {
   "cell_type": "markdown",
   "metadata": {},
   "source": [
    "### Sample selection & properties\n",
    "\n",
    "* magnitude vs D(25)\n",
    "* spatial distribution of the sample"
   ]
  },
  {
   "cell_type": "code",
   "execution_count": null,
   "metadata": {},
   "outputs": [],
   "source": []
  },
  {
   "cell_type": "markdown",
   "metadata": {},
   "source": [
    "### WISE surface brightness profile\n",
    "\n",
    "Demonstrate the improved depth of the NEO3 data vs unWISE by generating the azimuthally averaged surface brightness profile in W1 and W2."
   ]
  },
  {
   "cell_type": "code",
   "execution_count": null,
   "metadata": {},
   "outputs": [],
   "source": []
  }
 ],
 "metadata": {
  "kernelspec": {
   "display_name": "Python 3",
   "language": "python",
   "name": "python3"
  },
  "language_info": {
   "codemirror_mode": {
    "name": "ipython",
    "version": 3
   },
   "file_extension": ".py",
   "mimetype": "text/x-python",
   "name": "python",
   "nbconvert_exporter": "python",
   "pygments_lexer": "ipython3",
   "version": "3.6.5"
  }
 },
 "nbformat": 4,
 "nbformat_minor": 2
}
