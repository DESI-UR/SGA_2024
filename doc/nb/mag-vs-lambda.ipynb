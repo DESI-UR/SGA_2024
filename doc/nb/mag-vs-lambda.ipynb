{
 "cells": [
  {
   "cell_type": "code",
   "execution_count": 1,
   "metadata": {
    "collapsed": true
   },
   "outputs": [],
   "source": [
    "import os"
   ]
  },
  {
   "cell_type": "code",
   "execution_count": 2,
   "metadata": {
    "collapsed": true
   },
   "outputs": [],
   "source": [
    "import numpy as np\n",
    "import pandas as pd\n",
    "import matplotlib.pyplot as plt\n",
    "import seaborn as sns\n",
    "%matplotlib inline"
   ]
  },
  {
   "cell_type": "code",
   "execution_count": 21,
   "metadata": {},
   "outputs": [],
   "source": [
    "magvega = np.array([16.6, 15.6, 11.3, 8.0])\n",
    "dm = np.array([2.699, 3.339, 5.174, 6.620])"
   ]
  },
  {
   "cell_type": "code",
   "execution_count": 22,
   "metadata": {},
   "outputs": [
    {
     "data": {
      "text/plain": [
       "array([  7.94328235e+05,   7.94328235e+06,   1.58489319e+11,\n",
       "         3.16227766e+14])"
      ]
     },
     "execution_count": 22,
     "metadata": {},
     "output_type": "execute_result"
    }
   ],
   "source": [
    "fluxvega = 10**(22.5-magvega)\n",
    "fluxab = fluxvega*10**(-dm/2.5)\n",
    "magab = 22.5-np.log10(fluxab)"
   ]
  },
  {
   "cell_type": "code",
   "execution_count": 103,
   "metadata": {
    "collapsed": true
   },
   "outputs": [],
   "source": [
    "LSLGAdir = os.getenv('LSLGA_DIR')\n",
    "galaxies = os.path.join(LSLGAdir, 'maglims.csv')"
   ]
  },
  {
   "cell_type": "code",
   "execution_count": 104,
   "metadata": {},
   "outputs": [
    {
     "data": {
      "text/html": [
       "<div>\n",
       "<style>\n",
       "    .dataframe thead tr:only-child th {\n",
       "        text-align: right;\n",
       "    }\n",
       "\n",
       "    .dataframe thead th {\n",
       "        text-align: left;\n",
       "    }\n",
       "\n",
       "    .dataframe tbody tr th {\n",
       "        vertical-align: top;\n",
       "    }\n",
       "</style>\n",
       "<table border=\"1\" class=\"dataframe\">\n",
       "  <thead>\n",
       "    <tr style=\"text-align: right;\">\n",
       "      <th></th>\n",
       "      <th>wavelength</th>\n",
       "      <th>mag</th>\n",
       "      <th>survey</th>\n",
       "      <th>band</th>\n",
       "    </tr>\n",
       "  </thead>\n",
       "  <tbody>\n",
       "    <tr>\n",
       "      <th>0</th>\n",
       "      <td>34000</td>\n",
       "      <td>17.7</td>\n",
       "      <td>WISE</td>\n",
       "      <td>W1</td>\n",
       "    </tr>\n",
       "    <tr>\n",
       "      <th>1</th>\n",
       "      <td>46000</td>\n",
       "      <td>16.9</td>\n",
       "      <td>WISE</td>\n",
       "      <td>W2</td>\n",
       "    </tr>\n",
       "    <tr>\n",
       "      <th>2</th>\n",
       "      <td>120000</td>\n",
       "      <td>13.4</td>\n",
       "      <td>WISE</td>\n",
       "      <td>W3</td>\n",
       "    </tr>\n",
       "    <tr>\n",
       "      <th>3</th>\n",
       "      <td>220000</td>\n",
       "      <td>10.6</td>\n",
       "      <td>WISE</td>\n",
       "      <td>W4</td>\n",
       "    </tr>\n",
       "    <tr>\n",
       "      <th>4</th>\n",
       "      <td>34000</td>\n",
       "      <td>18.2</td>\n",
       "      <td>UNWISE</td>\n",
       "      <td>W1</td>\n",
       "    </tr>\n",
       "    <tr>\n",
       "      <th>5</th>\n",
       "      <td>46000</td>\n",
       "      <td>17.4</td>\n",
       "      <td>UNWISE</td>\n",
       "      <td>W2</td>\n",
       "    </tr>\n",
       "    <tr>\n",
       "      <th>6</th>\n",
       "      <td>120000</td>\n",
       "      <td>13.4</td>\n",
       "      <td>UNWISE</td>\n",
       "      <td>W3</td>\n",
       "    </tr>\n",
       "    <tr>\n",
       "      <th>7</th>\n",
       "      <td>220000</td>\n",
       "      <td>10.6</td>\n",
       "      <td>UNWISE</td>\n",
       "      <td>W4</td>\n",
       "    </tr>\n",
       "    <tr>\n",
       "      <th>8</th>\n",
       "      <td>4640</td>\n",
       "      <td>23.1</td>\n",
       "      <td>SDSS</td>\n",
       "      <td>g</td>\n",
       "    </tr>\n",
       "    <tr>\n",
       "      <th>9</th>\n",
       "      <td>6580</td>\n",
       "      <td>22.7</td>\n",
       "      <td>SDSS</td>\n",
       "      <td>r</td>\n",
       "    </tr>\n",
       "    <tr>\n",
       "      <th>10</th>\n",
       "      <td>9000</td>\n",
       "      <td>20.7</td>\n",
       "      <td>SDSS</td>\n",
       "      <td>z</td>\n",
       "    </tr>\n",
       "    <tr>\n",
       "      <th>11</th>\n",
       "      <td>4640</td>\n",
       "      <td>26.5</td>\n",
       "      <td>DES</td>\n",
       "      <td>g</td>\n",
       "    </tr>\n",
       "    <tr>\n",
       "      <th>12</th>\n",
       "      <td>6580</td>\n",
       "      <td>26.0</td>\n",
       "      <td>DES</td>\n",
       "      <td>r</td>\n",
       "    </tr>\n",
       "    <tr>\n",
       "      <th>13</th>\n",
       "      <td>9000</td>\n",
       "      <td>24.7</td>\n",
       "      <td>DES</td>\n",
       "      <td>z</td>\n",
       "    </tr>\n",
       "    <tr>\n",
       "      <th>14</th>\n",
       "      <td>4640</td>\n",
       "      <td>24.1</td>\n",
       "      <td>LS</td>\n",
       "      <td>g</td>\n",
       "    </tr>\n",
       "    <tr>\n",
       "      <th>15</th>\n",
       "      <td>6580</td>\n",
       "      <td>23.5</td>\n",
       "      <td>LS</td>\n",
       "      <td>r</td>\n",
       "    </tr>\n",
       "    <tr>\n",
       "      <th>16</th>\n",
       "      <td>9000</td>\n",
       "      <td>22.9</td>\n",
       "      <td>LS</td>\n",
       "      <td>z</td>\n",
       "    </tr>\n",
       "    <tr>\n",
       "      <th>17</th>\n",
       "      <td>12500</td>\n",
       "      <td>15.8</td>\n",
       "      <td>2MASS</td>\n",
       "      <td>J</td>\n",
       "    </tr>\n",
       "    <tr>\n",
       "      <th>18</th>\n",
       "      <td>16500</td>\n",
       "      <td>15.1</td>\n",
       "      <td>2MASS</td>\n",
       "      <td>H</td>\n",
       "    </tr>\n",
       "    <tr>\n",
       "      <th>19</th>\n",
       "      <td>21700</td>\n",
       "      <td>14.3</td>\n",
       "      <td>2MASS</td>\n",
       "      <td>Ks</td>\n",
       "    </tr>\n",
       "    <tr>\n",
       "      <th>20</th>\n",
       "      <td>1528</td>\n",
       "      <td>19.9</td>\n",
       "      <td>GALEXAIS</td>\n",
       "      <td>FUV</td>\n",
       "    </tr>\n",
       "    <tr>\n",
       "      <th>21</th>\n",
       "      <td>1528</td>\n",
       "      <td>22.6</td>\n",
       "      <td>GALEXMIS</td>\n",
       "      <td>FUV</td>\n",
       "    </tr>\n",
       "    <tr>\n",
       "      <th>22</th>\n",
       "      <td>1528</td>\n",
       "      <td>24.8</td>\n",
       "      <td>GALEXDIS</td>\n",
       "      <td>FUV</td>\n",
       "    </tr>\n",
       "    <tr>\n",
       "      <th>23</th>\n",
       "      <td>2271</td>\n",
       "      <td>20.8</td>\n",
       "      <td>GALEXAIS</td>\n",
       "      <td>NUV</td>\n",
       "    </tr>\n",
       "    <tr>\n",
       "      <th>24</th>\n",
       "      <td>2271</td>\n",
       "      <td>22.7</td>\n",
       "      <td>GALEXMIS</td>\n",
       "      <td>NUV</td>\n",
       "    </tr>\n",
       "    <tr>\n",
       "      <th>25</th>\n",
       "      <td>2271</td>\n",
       "      <td>24.4</td>\n",
       "      <td>GALEXDIS</td>\n",
       "      <td>NUV</td>\n",
       "    </tr>\n",
       "  </tbody>\n",
       "</table>\n",
       "</div>"
      ],
      "text/plain": [
       "    wavelength   mag    survey band\n",
       "0        34000  17.7      WISE   W1\n",
       "1        46000  16.9      WISE   W2\n",
       "2       120000  13.4      WISE   W3\n",
       "3       220000  10.6      WISE   W4\n",
       "4        34000  18.2    UNWISE   W1\n",
       "5        46000  17.4    UNWISE   W2\n",
       "6       120000  13.4    UNWISE   W3\n",
       "7       220000  10.6    UNWISE   W4\n",
       "8         4640  23.1      SDSS    g\n",
       "9         6580  22.7      SDSS    r\n",
       "10        9000  20.7      SDSS    z\n",
       "11        4640  26.5       DES    g\n",
       "12        6580  26.0       DES    r\n",
       "13        9000  24.7       DES    z\n",
       "14        4640  24.1        LS    g\n",
       "15        6580  23.5        LS    r\n",
       "16        9000  22.9        LS    z\n",
       "17       12500  15.8     2MASS    J\n",
       "18       16500  15.1     2MASS    H\n",
       "19       21700  14.3     2MASS   Ks\n",
       "20        1528  19.9  GALEXAIS  FUV\n",
       "21        1528  22.6  GALEXMIS  FUV\n",
       "22        1528  24.8  GALEXDIS  FUV\n",
       "23        2271  20.8  GALEXAIS  NUV\n",
       "24        2271  22.7  GALEXMIS  NUV\n",
       "25        2271  24.4  GALEXDIS  NUV"
      ]
     },
     "execution_count": 104,
     "metadata": {},
     "output_type": "execute_result"
    }
   ],
   "source": [
    "df = pd.read_csv(galaxies)\n",
    "df"
   ]
  },
  {
   "cell_type": "code",
   "execution_count": 105,
   "metadata": {
    "collapsed": true
   },
   "outputs": [],
   "source": [
    "area = np.pi*(2.5)**2\n",
    "mulim = df.mag-2.5*np.log10(area)\n",
    "df['mulim'] = mulim"
   ]
  },
  {
   "cell_type": "code",
   "execution_count": 106,
   "metadata": {
    "collapsed": true
   },
   "outputs": [],
   "source": [
    "wise = df[df.survey == 'WISE']\n",
    "unwise = df[df.survey == 'UNWISE']\n",
    "sdss = df[df.survey == 'SDSS']\n",
    "des = df[df.survey == 'DES']\n",
    "ls = df[df.survey == 'LS']\n",
    "twomass = df[df.survey == '2MASS']\n",
    "galexa = df[df.survey == 'GALEXAIS']\n",
    "galexm = df[df.survey == 'GALEXMIS']\n",
    "galexd = df[df.survey == 'GALEXDIS']"
   ]
  },
  {
   "cell_type": "code",
   "execution_count": 107,
   "metadata": {},
   "outputs": [
    {
     "data": {
      "text/html": [
       "<div>\n",
       "<style>\n",
       "    .dataframe thead tr:only-child th {\n",
       "        text-align: right;\n",
       "    }\n",
       "\n",
       "    .dataframe thead th {\n",
       "        text-align: left;\n",
       "    }\n",
       "\n",
       "    .dataframe tbody tr th {\n",
       "        vertical-align: top;\n",
       "    }\n",
       "</style>\n",
       "<table border=\"1\" class=\"dataframe\">\n",
       "  <thead>\n",
       "    <tr style=\"text-align: right;\">\n",
       "      <th></th>\n",
       "      <th>wavelength</th>\n",
       "      <th>mag</th>\n",
       "      <th>survey</th>\n",
       "      <th>band</th>\n",
       "      <th>mulim</th>\n",
       "    </tr>\n",
       "  </thead>\n",
       "  <tbody>\n",
       "    <tr>\n",
       "      <th>0</th>\n",
       "      <td>34000</td>\n",
       "      <td>17.7</td>\n",
       "      <td>WISE</td>\n",
       "      <td>W1</td>\n",
       "      <td>14.467425</td>\n",
       "    </tr>\n",
       "    <tr>\n",
       "      <th>1</th>\n",
       "      <td>46000</td>\n",
       "      <td>16.9</td>\n",
       "      <td>WISE</td>\n",
       "      <td>W2</td>\n",
       "      <td>13.667425</td>\n",
       "    </tr>\n",
       "    <tr>\n",
       "      <th>2</th>\n",
       "      <td>120000</td>\n",
       "      <td>13.4</td>\n",
       "      <td>WISE</td>\n",
       "      <td>W3</td>\n",
       "      <td>10.167425</td>\n",
       "    </tr>\n",
       "    <tr>\n",
       "      <th>3</th>\n",
       "      <td>220000</td>\n",
       "      <td>10.6</td>\n",
       "      <td>WISE</td>\n",
       "      <td>W4</td>\n",
       "      <td>7.367425</td>\n",
       "    </tr>\n",
       "    <tr>\n",
       "      <th>4</th>\n",
       "      <td>34000</td>\n",
       "      <td>18.2</td>\n",
       "      <td>UNWISE</td>\n",
       "      <td>W1</td>\n",
       "      <td>14.967425</td>\n",
       "    </tr>\n",
       "  </tbody>\n",
       "</table>\n",
       "</div>"
      ],
      "text/plain": [
       "   wavelength   mag  survey band      mulim\n",
       "0       34000  17.7    WISE   W1  14.467425\n",
       "1       46000  16.9    WISE   W2  13.667425\n",
       "2      120000  13.4    WISE   W3  10.167425\n",
       "3      220000  10.6    WISE   W4   7.367425\n",
       "4       34000  18.2  UNWISE   W1  14.967425"
      ]
     },
     "execution_count": 107,
     "metadata": {},
     "output_type": "execute_result"
    }
   ],
   "source": [
    "df.head()"
   ]
  },
  {
   "cell_type": "code",
   "execution_count": 108,
   "metadata": {},
   "outputs": [
    {
     "data": {
      "text/plain": [
       "Text(0,0.5,'$\\\\mu_{lim} (mag/arcsec^2)$')"
      ]
     },
     "execution_count": 108,
     "metadata": {},
     "output_type": "execute_result"
    },
    {
     "data": {
      "image/png": "[encoded data removed]",
      "text/plain": [
       "<Figure size 1008x576 with 1 Axes>"
      ]
     },
     "metadata": {},
     "output_type": "display_data"
    }
   ],
   "source": [
    "plt.figure(figsize=(14,8))\n",
    "plt.scatter(wise.wavelength, wise.mulim, s=100, label='WISE')\n",
    "plt.scatter(unwise.wavelength, unwise.mulim, s=100, label='UNWISE')\n",
    "plt.scatter(sdss.wavelength, sdss.mulim, s=100, label='SDSS')\n",
    "#plt.scatter(des.wavelength, des.mulim, s=100, label='DES')\n",
    "plt.scatter(ls.wavelength, ls.mulim, s=100, label='LS')\n",
    "plt.scatter(twomass.wavelength, twomass.mulim, s=100, label='2MASS')\n",
    "plt.scatter(galexa.wavelength, galexa.mulim, s=100, label='GALEX AIS')\n",
    "plt.scatter(galexm.wavelength, galexm.mulim, s=100, label='GALEX MIS')\n",
    "plt.scatter(galexd.wavelength, galexd.mulim, s=100, label='GALEX DIS')\n",
    "plt.legend(loc=2)\n",
    "plt.xscale('log')\n",
    "plt.xlim([1000, 250000])\n",
    "plt.gca().invert_yaxis()\n",
    "plt.xlabel(r'Wavelength ($\\AA$)', size=14)\n",
    "plt.ylabel(r'$\\mu_{lim} (mag/arcsec^2)$', size=14)"
   ]
  },
  {
   "cell_type": "code",
   "execution_count": null,
   "metadata": {
    "collapsed": true
   },
   "outputs": [],
   "source": []
  }
 ],
 "metadata": {
  "kernelspec": {
   "display_name": "Python 3",
   "language": "python",
   "name": "python3"
  },
  "language_info": {
   "codemirror_mode": {
    "name": "ipython",
    "version": 3
   },
   "file_extension": ".py",
   "mimetype": "text/x-python",
   "name": "python",
   "nbconvert_exporter": "python",
   "pygments_lexer": "ipython3",
   "version": "3.6.5"
  }
 },
 "nbformat": 4,
 "nbformat_minor": 2
}
