{
 "cells": [
  {
   "cell_type": "markdown",
   "metadata": {},
   "source": [
    "# LSLGA Galaxy Pairs\n",
    "\n",
    "Identify galaxies *not* in the LSLGA which are in the \"ellipse of influence\" of a galaxy *in* the LSLGA.  It's important to identify and handle this case because non-LSGLA galaxies in the (elliptical) footprint of an LSLGA galaxy are forced to be PSF.\n",
    "\n",
    "Note: in DR8 the LSLGA was limited to galaxies with angular diameters > 20 arcsec (N~500k). In DR9 we are experimenting with a larger cut, 60 arcsec (N~20k), which should mitigate this issue. Nevertheless, it's important to capture this case."
   ]
  },
  {
   "cell_type": "code",
   "execution_count": 1,
   "metadata": {},
   "outputs": [],
   "source": [
    "import os, pdb\n",
    "import numpy as np"
   ]
  },
  {
   "cell_type": "code",
   "execution_count": 2,
   "metadata": {},
   "outputs": [],
   "source": [
    "from astrometry.libkd.spherematch import tree_build_radec, tree_search_radec"
   ]
  },
  {
   "cell_type": "code",
   "execution_count": 3,
   "metadata": {},
   "outputs": [],
   "source": [
    "import matplotlib.pyplot as plt\n",
    "import seaborn as sns\n",
    "%matplotlib inline"
   ]
  },
  {
   "cell_type": "code",
   "execution_count": 4,
   "metadata": {},
   "outputs": [],
   "source": [
    "import LSLGA.io"
   ]
  },
  {
   "cell_type": "markdown",
   "metadata": {},
   "source": [
    "Read the LSLGA and the parent HyperLEDA sample."
   ]
  },
  {
   "cell_type": "code",
   "execution_count": 5,
   "metadata": {},
   "outputs": [],
   "source": [
    "def read_leda():\n",
    "    leda = LSLGA.io.read_hyperleda(verbose=True)\n",
    "    kd = tree_build_radec(leda['RA'], leda['DEC'] )\n",
    "    return leda, kd"
   ]
  },
  {
   "cell_type": "code",
   "execution_count": 6,
   "metadata": {},
   "outputs": [
    {
     "name": "stdout",
     "output_type": "stream",
     "text": [
      "Read 1436176 objects from /Users/ioannis/research/projects/LSLGA/sample/v3.0/hyperleda-d25min10-18nov14.fits\n",
      "Read 1436176 objects from /Users/ioannis/research/projects/LSLGA/sample/v3.0/hyperleda-d25min10-18nov14-allwise.fits\n",
      "  Identified 1379531/1436176 (96.06%) objects with AllWISE photometry.\n",
      "CPU times: user 2.17 s, sys: 873 ms, total: 3.04 s\n",
      "Wall time: 3.07 s\n"
     ]
    }
   ],
   "source": [
    "%time leda, kdleda = read_leda()"
   ]
  },
  {
   "cell_type": "code",
   "execution_count": 7,
   "metadata": {},
   "outputs": [
    {
     "name": "stdout",
     "output_type": "stream",
     "text": [
      "Read galaxy indices 0 through 21426 (N=21427) from /Users/ioannis/research/projects/LSLGA/sample/v3.0/LSLGA-v3.0.fits\n"
     ]
    }
   ],
   "source": [
    "lslga = LSLGA.io.read_parent(verbose=True)\n",
    "lslga = lslga[lslga['IN_DESI']]"
   ]
  },
  {
   "cell_type": "code",
   "execution_count": 35,
   "metadata": {},
   "outputs": [
    {
     "data": {
      "text/html": [
       "<i>Table length=9623</i>\n",
       "<table id=\"table4463057048\" class=\"table-striped table-bordered table-condensed\">\n",
       "<thead><tr><th>LSLGA_ID</th><th>GALAXY</th><th>PGC</th><th>RA</th><th>DEC</th><th>TYPE</th><th>BAR</th><th>RING</th><th>MULTIPLE</th><th>COMPACTNESS</th><th>T</th><th>PA</th><th>D25</th><th>BA</th><th>DIAM_REF</th><th>Z</th><th>SB_D25</th><th>MAG</th><th>MAG_REF</th><th>WISE_RA</th><th>WISE_DEC</th><th>CNTR</th><th>W1MPRO</th><th>W1SIGMPRO</th><th>W2MPRO</th><th>W2SIGMPRO</th><th>W3MPRO</th><th>W3SIGMPRO</th><th>W4MPRO</th><th>W4SIGMPRO</th><th>RCHI2</th><th>CC_FLAGS</th><th>EXT_FLG</th><th>PH_QUAL</th><th>XSCPROX</th><th>W1RSEMI</th><th>W1BA</th><th>W1PA</th><th>W1GMAG</th><th>W1GERR</th><th>W2GMAG</th><th>W2GERR</th><th>W3GMAG</th><th>W3GERR</th><th>W4GMAG</th><th>W4GERR</th><th>IN_ALLWISE</th><th>IN_DESI</th><th>NEAR_BRIGHTSTAR</th></tr></thead>\n",
       "<thead><tr><th>int64</th><th>bytes29</th><th>int64</th><th>float64</th><th>float64</th><th>bytes4</th><th>bytes3</th><th>bytes3</th><th>bytes3</th><th>bytes3</th><th>float32</th><th>float32</th><th>float32</th><th>float32</th><th>bytes3</th><th>float32</th><th>float32</th><th>float32</th><th>bytes1</th><th>float64</th><th>float64</th><th>int64</th><th>float64</th><th>float64</th><th>float64</th><th>float64</th><th>float64</th><th>float64</th><th>float64</th><th>float64</th><th>float32</th><th>bytes4</th><th>int32</th><th>bytes4</th><th>float64</th><th>float64</th><th>float64</th><th>float64</th><th>float64</th><th>float64</th><th>float64</th><th>float64</th><th>float64</th><th>float64</th><th>float64</th><th>float64</th><th>bool</th><th>bool</th><th>bool</th></tr></thead>\n",
       "<tr><td>972325</td><td>NGC0598</td><td>5818</td><td>23.462120999999996</td><td>30.659925199999996</td><td>Sc</td><td>nan</td><td>nan</td><td>nan</td><td>nan</td><td>5.9</td><td>22.67</td><td>62.086903</td><td>0.5915616</td><td>iso</td><td>-0.00060808734</td><td>23.94448</td><td>6.351</td><td>B</td><td>23.462066</td><td>30.660195</td><td>226130201351047860</td><td>10.639</td><td>0.025</td><td>10.652</td><td>0.024</td><td>9.767</td><td>0.104</td><td>6.544</td><td>0.081</td><td>7.489</td><td>0000</td><td>5</td><td>AAAA</td><td>0.92</td><td>180.0</td><td>0.88</td><td>13.0</td><td>6.302</td><td>0.016</td><td>6.312</td><td>0.02</td><td>3.157</td><td>0.045</td><td>1.232</td><td>0.052</td><td>True</td><td>True</td><td>False</td></tr>\n",
       "<tr><td>1237406</td><td>NGC5457</td><td>50063</td><td>210.80236799999997</td><td>54.349022999999995</td><td>SABc</td><td>B</td><td>nan</td><td>M</td><td>nan</td><td>5.9</td><td>nan</td><td>23.988337</td><td>0.9616123</td><td>iso</td><td>0.0007902133</td><td>23.88948</td><td>8.361</td><td>B</td><td>210.8021726</td><td>54.3487903</td><td>2119154501351013505</td><td>10.348</td><td>0.023</td><td>10.213</td><td>0.021</td><td>6.624</td><td>0.018</td><td>4.453</td><td>0.029</td><td>33.86</td><td>0000</td><td>5</td><td>AAAA</td><td>0.56</td><td>180.0</td><td>0.98</td><td>28.0</td><td>6.751</td><td>0.019</td><td>6.704</td><td>0.019</td><td>3.397</td><td>0.024</td><td>1.778</td><td>0.104</td><td>True</td><td>True</td><td>False</td></tr>\n",
       "<tr><td>336131</td><td>NGC4236</td><td>39346</td><td>184.1754435</td><td>69.4626085</td><td>SBd</td><td>B</td><td>nan</td><td>nan</td><td>nan</td><td>8.0</td><td>161.33</td><td>23.496332</td><td>0.29174268</td><td>iso</td><td>-1.2341871e-05</td><td>25.540482</td><td>10.057</td><td>B</td><td>184.1748933</td><td>69.4629059</td><td>1841169601351018960</td><td>12.94</td><td>0.024</td><td>13.034</td><td>0.026</td><td>11.564</td><td>0.152</td><td>8.623</td><td>nan</td><td>2.984</td><td>0000</td><td>5</td><td>AABU</td><td>1.42</td><td>73.49</td><td>0.54</td><td>-42.0</td><td>9.999</td><td>0.011</td><td>10.067</td><td>0.014</td><td>8.144</td><td>0.039</td><td>6.082</td><td>0.14</td><td>True</td><td>True</td><td>False</td></tr>\n",
       "<tr><td>1314798</td><td>NGC3031</td><td>28630</td><td>148.88815649999998</td><td>69.0652757</td><td>Sab</td><td>nan</td><td>nan</td><td>nan</td><td>nan</td><td>2.4</td><td>157.0</td><td>21.627186</td><td>0.519996</td><td>iso</td><td>-0.0001264208</td><td>23.094482</td><td>7.791</td><td>B</td><td>148.8884508</td><td>69.0652157</td><td>1507169601351009653</td><td>5.742</td><td>0.038</td><td>6.472</td><td>0.019</td><td>5.092</td><td>0.014</td><td>2.957</td><td>0.021</td><td>48.43</td><td>0000</td><td>5</td><td>AAAA</td><td>0.3</td><td>180.0</td><td>0.58</td><td>-38.0</td><td>4.377</td><td>0.011</td><td>4.429</td><td>0.012</td><td>3.318</td><td>0.012</td><td>1.99</td><td>0.021</td><td>True</td><td>True</td><td>False</td></tr>\n",
       "<tr><td>510364</td><td>NGC2403</td><td>21396</td><td>114.2142375</td><td>65.60242029999999</td><td>SABc</td><td>B</td><td>nan</td><td>nan</td><td>nan</td><td>6.0</td><td>126.33</td><td>19.952621</td><td>0.5046613</td><td>iso</td><td>0.00046999176</td><td>23.954481</td><td>8.826</td><td>B</td><td>0.0</td><td>0.0</td><td>-1</td><td>0.0</td><td>0.0</td><td>0.0</td><td>0.0</td><td>0.0</td><td>0.0</td><td>0.0</td><td>0.0</td><td>0.0</td><td></td><td>0</td><td></td><td>0.0</td><td>0.0</td><td>0.0</td><td>0.0</td><td>0.0</td><td>0.0</td><td>0.0</td><td>0.0</td><td>0.0</td><td>0.0</td><td>0.0</td><td>0.0</td><td>False</td><td>True</td><td>False</td></tr>\n",
       "<tr><td>965484</td><td>IC1613</td><td>3844</td><td>16.199166</td><td>2.1177314</td><td>I</td><td>B</td><td>nan</td><td>nan</td><td>nan</td><td>9.9</td><td>nan</td><td>18.323145</td><td>0.9354057</td><td>iso</td><td>-0.00077253446</td><td>24.952482</td><td>10.009</td><td>B</td><td>0.0</td><td>0.0</td><td>-1</td><td>0.0</td><td>0.0</td><td>0.0</td><td>0.0</td><td>0.0</td><td>0.0</td><td>0.0</td><td>0.0</td><td>0.0</td><td></td><td>0</td><td></td><td>0.0</td><td>0.0</td><td>0.0</td><td>0.0</td><td>0.0</td><td>0.0</td><td>0.0</td><td>0.0</td><td>0.0</td><td>0.0</td><td>0.0</td><td>0.0</td><td>False</td><td>True</td><td>False</td></tr>\n",
       "<tr><td>669240</td><td>NGC4258</td><td>39600</td><td>184.7399355</td><td>47.3038816</td><td>Sbc</td><td>B</td><td>nan</td><td>M</td><td>nan</td><td>4.0</td><td>150.0</td><td>16.982437</td><td>0.4265795</td><td>iso</td><td>0.0015150481</td><td>23.90248</td><td>9.124</td><td>B</td><td>184.7395849</td><td>47.3040128</td><td>1854146901351040260</td><td>8.53</td><td>0.023</td><td>8.19</td><td>0.02</td><td>5.482</td><td>0.015</td><td>3.328</td><td>0.02</td><td>27.52</td><td>0000</td><td>5</td><td>AAAA</td><td>1.62</td><td>180.0</td><td>0.8</td><td>-25.0</td><td>5.599</td><td>0.019</td><td>5.578</td><td>0.02</td><td>3.073</td><td>0.008</td><td>1.353</td><td>0.015</td><td>True</td><td>True</td><td>False</td></tr>\n",
       "<tr><td>52700</td><td>NGC4565</td><td>42038</td><td>189.086598</td><td>25.9875214</td><td>Sb</td><td>nan</td><td>nan</td><td>nan</td><td>nan</td><td>3.2</td><td>135.2</td><td>16.749428</td><td>0.17258379</td><td>iso</td><td>0.0040894956</td><td>24.803482</td><td>10.055</td><td>B</td><td>189.0865292</td><td>25.9876632</td><td>1883125701351051133</td><td>7.96</td><td>0.023</td><td>8.201</td><td>0.019</td><td>6.572</td><td>0.014</td><td>4.938</td><td>0.032</td><td>56.18</td><td>0000</td><td>5</td><td>AAAA</td><td>1.1</td><td>180.0</td><td>0.61</td><td>-44.0</td><td>5.935</td><td>0.005</td><td>5.883</td><td>0.006</td><td>3.472</td><td>0.006</td><td>1.932</td><td>0.019</td><td>True</td><td>True</td><td>False</td></tr>\n",
       "<tr><td>526710</td><td>NGC4244</td><td>39422</td><td>184.37279549999997</td><td>37.807792799999994</td><td>Sc</td><td>nan</td><td>nan</td><td>nan</td><td>nan</td><td>6.0</td><td>44.77</td><td>16.218103</td><td>0.4466836</td><td>iso</td><td>0.0008178991</td><td>25.117481</td><td>10.439</td><td>B</td><td>184.3728014</td><td>37.8074324</td><td>1837137801351030161</td><td>11.795</td><td>0.023</td><td>11.835</td><td>0.024</td><td>9.271</td><td>0.038</td><td>7.053</td><td>0.114</td><td>31.26</td><td>0000</td><td>5</td><td>AAAB</td><td>2.5</td><td>nan</td><td>nan</td><td>nan</td><td>nan</td><td>nan</td><td>nan</td><td>nan</td><td>nan</td><td>nan</td><td>nan</td><td>nan</td><td>True</td><td>True</td><td>False</td></tr>\n",
       "<tr><td>977015</td><td>NGC4631</td><td>42637</td><td>190.5326625</td><td>32.5425167</td><td>SBcd</td><td>B</td><td>nan</td><td>M</td><td>nan</td><td>6.5</td><td>85.65</td><td>14.454401</td><td>0.15205474</td><td>iso</td><td>0.0020540876</td><td>23.90348</td><td>9.475</td><td>B</td><td>190.5327981</td><td>32.5428724</td><td>1905131801351059628</td><td>9.175</td><td>0.022</td><td>8.79</td><td>0.02</td><td>4.619</td><td>0.015</td><td>1.799</td><td>0.015</td><td>103.4</td><td>hhhh</td><td>3</td><td>AAAA</td><td>5.21</td><td>nan</td><td>nan</td><td>nan</td><td>nan</td><td>nan</td><td>nan</td><td>nan</td><td>nan</td><td>nan</td><td>nan</td><td>nan</td><td>True</td><td>True</td><td>False</td></tr>\n",
       "<tr><td>...</td><td>...</td><td>...</td><td>...</td><td>...</td><td>...</td><td>...</td><td>...</td><td>...</td><td>...</td><td>...</td><td>...</td><td>...</td><td>...</td><td>...</td><td>...</td><td>...</td><td>...</td><td>...</td><td>...</td><td>...</td><td>...</td><td>...</td><td>...</td><td>...</td><td>...</td><td>...</td><td>...</td><td>...</td><td>...</td><td>...</td><td>...</td><td>...</td><td>...</td><td>...</td><td>...</td><td>...</td><td>...</td><td>...</td><td>...</td><td>...</td><td>...</td><td>...</td><td>...</td><td>...</td><td>...</td><td>...</td><td>...</td><td>...</td></tr>\n",
       "<tr><td>1164700</td><td>PGC070012</td><td>70012</td><td>343.8526665</td><td>31.863055600000003</td><td>nan</td><td>nan</td><td>nan</td><td>nan</td><td>nan</td><td>nan</td><td>91.5</td><td>1.0</td><td>0.45708817</td><td>iso</td><td>0.023361495</td><td>24.04248</td><td>15.414</td><td>B</td><td>343.8526689</td><td>31.8631193</td><td>3441131801351033193</td><td>12.64</td><td>0.023</td><td>12.56</td><td>0.025</td><td>9.306</td><td>0.034</td><td>7.274</td><td>0.115</td><td>13.65</td><td>0000</td><td>5</td><td>AAAB</td><td>0.2</td><td>14.49</td><td>0.5</td><td>90.0</td><td>12.235</td><td>0.007</td><td>12.185</td><td>0.011</td><td>9.321</td><td>0.019</td><td>7.279</td><td>0.153</td><td>True</td><td>True</td><td>False</td></tr>\n",
       "<tr><td>896540</td><td>PGC1486734</td><td>1486734</td><td>316.777215</td><td>15.5177</td><td>nan</td><td>nan</td><td>nan</td><td>nan</td><td>nan</td><td>nan</td><td>141.0</td><td>1.0</td><td>0.5011872</td><td>iso</td><td>nan</td><td>23.44848</td><td>14.82</td><td>B</td><td>0.0</td><td>0.0</td><td>-1</td><td>0.0</td><td>0.0</td><td>0.0</td><td>0.0</td><td>0.0</td><td>0.0</td><td>0.0</td><td>0.0</td><td>0.0</td><td></td><td>0</td><td></td><td>0.0</td><td>0.0</td><td>0.0</td><td>0.0</td><td>0.0</td><td>0.0</td><td>0.0</td><td>0.0</td><td>0.0</td><td>0.0</td><td>0.0</td><td>0.0</td><td>False</td><td>True</td><td>False</td></tr>\n",
       "<tr><td>591106</td><td>PGC152554</td><td>152554</td><td>127.0959225</td><td>-5.2630803</td><td>nan</td><td>nan</td><td>nan</td><td>nan</td><td>nan</td><td>nan</td><td>80.33</td><td>1.0</td><td>0.2041738</td><td>iso</td><td>0.019881086</td><td>24.93848</td><td>16.31</td><td>B</td><td>127.0960536</td><td>-5.263158</td><td>1275004601351010484</td><td>13.331</td><td>0.024</td><td>13.204</td><td>0.03</td><td>9.533</td><td>0.04</td><td>7.54</td><td>0.173</td><td>6.059</td><td>0000</td><td>5</td><td>AAAB</td><td>0.18</td><td>16.75</td><td>0.43</td><td>80.0</td><td>12.847</td><td>0.01</td><td>12.786</td><td>0.015</td><td>9.785</td><td>0.058</td><td>7.604</td><td>0.2</td><td>True</td><td>True</td><td>False</td></tr>\n",
       "<tr><td>1373699</td><td>NGC5697</td><td>52207</td><td>219.133551</td><td>41.6858359</td><td>Sc</td><td>nan</td><td>nan</td><td>nan</td><td>nan</td><td>4.7</td><td>25.61</td><td>1.0</td><td>0.6353309</td><td>iso</td><td>0.018117867</td><td>23.284481</td><td>14.656</td><td>B</td><td>219.1335719</td><td>41.6858126</td><td>2184142401351000003</td><td>11.604</td><td>0.022</td><td>11.332</td><td>0.021</td><td>6.847</td><td>0.014</td><td>4.2</td><td>0.022</td><td>33.69</td><td>0000</td><td>5</td><td>AAAA</td><td>0.93</td><td>23.5</td><td>0.54</td><td>30.0</td><td>10.808</td><td>0.006</td><td>10.551</td><td>0.006</td><td>6.602</td><td>0.006</td><td>4.204</td><td>0.007</td><td>True</td><td>True</td><td>False</td></tr>\n",
       "<tr><td>1122641</td><td>PGC170212</td><td>170212</td><td>193.4240625</td><td>-4.8848056</td><td>S0-a</td><td>nan</td><td>nan</td><td>nan</td><td>nan</td><td>-1.5</td><td>122.5</td><td>1.0</td><td>0.48977882</td><td>iso</td><td>0.022480885</td><td>23.908482</td><td>15.28</td><td>B</td><td>193.4240263</td><td>-4.884838</td><td>1929004601351021667</td><td>11.462</td><td>0.022</td><td>11.553</td><td>0.021</td><td>10.475</td><td>0.074</td><td>8.997</td><td>0.467</td><td>10.0</td><td>0000</td><td>5</td><td>AAAC</td><td>0.28</td><td>20.93</td><td>0.67</td><td>-55.0</td><td>11.084</td><td>0.007</td><td>11.1</td><td>0.007</td><td>10.315</td><td>0.068</td><td>8.963</td><td>0.546</td><td>True</td><td>True</td><td>False</td></tr>\n",
       "<tr><td>766337</td><td>PGC166182</td><td>166182</td><td>207.238716</td><td>43.6000696</td><td>I</td><td>nan</td><td>nan</td><td>nan</td><td>nan</td><td>10.0</td><td>nan</td><td>1.0</td><td>0.39994475</td><td>iso</td><td>0.0038560007</td><td>25.52848</td><td>16.9</td><td>B</td><td>207.2388095</td><td>43.6000157</td><td>2080143901351014014</td><td>16.041</td><td>0.044</td><td>15.795</td><td>0.098</td><td>13.217</td><td>nan</td><td>9.171</td><td>nan</td><td>1.099</td><td>0000</td><td>0</td><td>AAUU</td><td>nan</td><td>nan</td><td>nan</td><td>nan</td><td>nan</td><td>nan</td><td>nan</td><td>nan</td><td>nan</td><td>nan</td><td>nan</td><td>nan</td><td>True</td><td>True</td><td>False</td></tr>\n",
       "<tr><td>816238</td><td>PGC013879</td><td>13879</td><td>57.1041075</td><td>-6.6260425000000005</td><td>Sb</td><td>B</td><td>nan</td><td>M</td><td>nan</td><td>3.1</td><td>37.45</td><td>1.0</td><td>0.69342583</td><td>iso</td><td>0.02099686</td><td>23.51748</td><td>14.889</td><td>B</td><td>57.1040982</td><td>-6.6260722</td><td>577006101351009428</td><td>11.902</td><td>0.038</td><td>11.896</td><td>0.023</td><td>7.6</td><td>0.02</td><td>4.733</td><td>0.033</td><td>16.37</td><td>0000</td><td>5</td><td>AAAA</td><td>0.65</td><td>21.25</td><td>0.58</td><td>40.0</td><td>11.41</td><td>0.006</td><td>11.235</td><td>0.008</td><td>7.455</td><td>0.01</td><td>4.957</td><td>0.019</td><td>True</td><td>True</td><td>False</td></tr>\n",
       "<tr><td>817694</td><td>UGC04395</td><td>23643</td><td>126.44832149999999</td><td>28.1181775</td><td>SBc</td><td>B</td><td>nan</td><td>nan</td><td>nan</td><td>5.8</td><td>153.3</td><td>1.0</td><td>0.25118864</td><td>iso</td><td>0.0073203975</td><td>24.102482</td><td>15.474</td><td>B</td><td>126.4482465</td><td>28.1184413</td><td>1268128701351007812</td><td>13.771</td><td>0.027</td><td>13.711</td><td>0.037</td><td>10.941</td><td>0.14</td><td>8.533</td><td>nan</td><td>5.364</td><td>0000</td><td>5</td><td>AABU</td><td>0.25</td><td>16.19</td><td>0.45</td><td>-30.0</td><td>12.999</td><td>0.009</td><td>13.012</td><td>0.019</td><td>10.943</td><td>0.099</td><td>8.676</td><td>0.457</td><td>True</td><td>True</td><td>False</td></tr>\n",
       "<tr><td>673898</td><td>PGC2731980</td><td>2731980</td><td>126.89767049999998</td><td>69.7242505</td><td>nan</td><td>nan</td><td>nan</td><td>nan</td><td>nan</td><td>nan</td><td>31.33</td><td>1.0</td><td>0.33884415</td><td>iso</td><td>nan</td><td>24.588482</td><td>15.96</td><td>B</td><td>126.8978949</td><td>69.7242165</td><td>1255169601351029675</td><td>12.105</td><td>0.023</td><td>12.148</td><td>0.022</td><td>9.309</td><td>0.038</td><td>7.203</td><td>0.106</td><td>12.36</td><td>0000</td><td>5</td><td>AAAA</td><td>0.26</td><td>20.9</td><td>0.4</td><td>30.0</td><td>11.864</td><td>0.006</td><td>11.799</td><td>0.01</td><td>9.095</td><td>0.022</td><td>7.039</td><td>0.124</td><td>True</td><td>True</td><td>False</td></tr>\n",
       "<tr><td>735405</td><td>PGC035281</td><td>35281</td><td>171.989523</td><td>-1.211332</td><td>S0-a</td><td>B</td><td>R</td><td>M</td><td>nan</td><td>-0.5</td><td>170.24</td><td>1.0</td><td>0.39810717</td><td>iso</td><td>0.042662177</td><td>24.38548</td><td>15.757</td><td>B</td><td>171.9897351</td><td>-1.2111425</td><td>1724001601351041669</td><td>11.726</td><td>0.023</td><td>11.301</td><td>0.021</td><td>7.965</td><td>0.021</td><td>5.402</td><td>0.036</td><td>7.062</td><td>0000</td><td>5</td><td>AAAA</td><td>0.36</td><td>18.9</td><td>0.46</td><td>-15.0</td><td>11.482</td><td>0.006</td><td>11.179</td><td>0.007</td><td>8.265</td><td>0.01</td><td>5.655</td><td>0.031</td><td>True</td><td>True</td><td>False</td></tr>\n",
       "</table>"
      ],
      "text/plain": [
       "<Table length=9623>\n",
       "LSLGA_ID   GALAXY     PGC   ... IN_ALLWISE IN_DESI NEAR_BRIGHTSTAR\n",
       " int64    bytes29    int64  ...    bool      bool        bool     \n",
       "-------- ---------- ------- ... ---------- ------- ---------------\n",
       "  972325    NGC0598    5818 ...       True    True           False\n",
       " 1237406    NGC5457   50063 ...       True    True           False\n",
       "  336131    NGC4236   39346 ...       True    True           False\n",
       " 1314798    NGC3031   28630 ...       True    True           False\n",
       "  510364    NGC2403   21396 ...      False    True           False\n",
       "  965484     IC1613    3844 ...      False    True           False\n",
       "  669240    NGC4258   39600 ...       True    True           False\n",
       "   52700    NGC4565   42038 ...       True    True           False\n",
       "  526710    NGC4244   39422 ...       True    True           False\n",
       "  977015    NGC4631   42637 ...       True    True           False\n",
       "     ...        ...     ... ...        ...     ...             ...\n",
       " 1164700  PGC070012   70012 ...       True    True           False\n",
       "  896540 PGC1486734 1486734 ...      False    True           False\n",
       "  591106  PGC152554  152554 ...       True    True           False\n",
       " 1373699    NGC5697   52207 ...       True    True           False\n",
       " 1122641  PGC170212  170212 ...       True    True           False\n",
       "  766337  PGC166182  166182 ...       True    True           False\n",
       "  816238  PGC013879   13879 ...       True    True           False\n",
       "  817694   UGC04395   23643 ...       True    True           False\n",
       "  673898 PGC2731980 2731980 ...       True    True           False\n",
       "  735405  PGC035281   35281 ...       True    True           False"
      ]
     },
     "execution_count": 35,
     "metadata": {},
     "output_type": "execute_result"
    }
   ],
   "source": [
    "lslga[np.argsort(lslga['D25'])[::-1]]"
   ]
  },
  {
   "cell_type": "code",
   "execution_count": 31,
   "metadata": {},
   "outputs": [
    {
     "name": "stdout",
     "output_type": "stream",
     "text": [
      "NGC5661\n",
      "  NGC5661 68.573\n",
      "  PGC051924 16.412\n",
      "  SDSSJ143157.54+061448.2 57.697\n",
      "\n",
      "UGC06207\n",
      "  UGC06207 91.443\n",
      "  SDSSJ110955.57+241534.4 59.334\n",
      "  UGC06204 58.499\n",
      "\n",
      "IC1101\n",
      "  IC1101 71.804\n",
      "  SDSSJ151054.50+054434.3 10.451\n",
      "  SDSSJ151056.40+054505.5 39.825\n",
      "\n",
      "NGC5778\n",
      "  SDSSJ145433.31+183816.8 21.486\n",
      "  SDSSJ145433.70+183819.9 12.652\n",
      "  NGC5778 73.986\n",
      "\n",
      "PGC042347\n",
      "  PGC042346 92.929\n",
      "  PGC042347 70.494\n",
      "  SDSSJ124345.48+545329.4 20.948\n",
      "\n",
      "NGC4565\n",
      "  SDSSJ123643.42+260647.1 13.809\n",
      "  NGC4565 1004.966\n",
      "  PGC2793674 36.237\n",
      "\n",
      "UGC09117\n",
      "  PGC050888 17.424\n",
      "  UGC09117 100.728\n",
      "  PGC050887 18.886\n",
      "\n",
      "NGC7535\n",
      "  SDSSJ231411.67+133447.0 78.732\n",
      "  NGC7535 87.731\n",
      "  SDSSJ231413.99+133458.5 60.138\n",
      "\n",
      "NGC7649\n",
      "  PGC1463038 18.161\n",
      "  NGC7649 97.533\n",
      "  SDSSJ232417.99+143859.9 12.857\n",
      "  SDSSJ232418.38+143913.7 25.595\n",
      "\n",
      "NGC4559\n",
      "  SDSSJ123600.18+275225.1 12.392\n",
      "  NGC4559 634.090\n",
      "  2MASXJ12360871+2757561 17.830\n",
      "  SDSSJ123534.85+275919.3 14.796\n",
      "\n",
      "NGC5789\n",
      "  NGC5789 69.207\n",
      "  SDSSJ145636.07+301411.3 75.710\n",
      "  SDSSJ145634.31+301421.0 38.918\n",
      "\n",
      "UGC09977\n",
      "  SDSSJ154155.14+004411.1 14.327\n",
      "  UGC09977 232.355\n",
      "  SDSSJ154155.86+004411.7 10.096\n",
      "\n",
      "UGC03556\n",
      "  PGC213352 19.731\n",
      "  PGC213351 43.466\n",
      "  PGC2429926 75.536\n",
      "  UGC03556 73.139\n",
      "  PGC2429800 44.479\n",
      "\n",
      "NGC3430\n",
      "  SDSSJ105209.42+325630.3 86.926\n",
      "  NGC3430 239.415\n",
      "  SDSSJ105213.72+325720.4 7.729\n",
      "\n",
      "NGC4552\n",
      "  PGC165245 22.917\n",
      "  NGC4552 487.698\n",
      "  PGC041935 11.889\n",
      "  PGC169577 33.974\n",
      "  PGC169586 19.731\n",
      "\n",
      "PGC022928\n",
      "  2MASXJ08102076+4216262 14.968\n",
      "  PGC022928 76.059\n",
      "  2MASXJ08102257+4216422 11.173\n",
      "\n",
      "UGC07740\n",
      "  PGC214013 9.642\n",
      "  UGC07740 73.308\n",
      "  PGC214012 18.843\n",
      "\n",
      "NGC5055\n",
      "  SDSSJ131602.50+420350.9 63.263\n",
      "  NGC5055 709.825\n",
      "  2MASXJ13153932+4205386 25.713\n",
      "  2MASXJ13161780+4202392 15.928\n",
      "  SDSSJ131618.59+420507.1 16.871\n",
      "  SDSSJ131550.34+415530.6 19.371\n",
      "\n",
      "NGC3726\n",
      "  SDSSJ113334.39+470001.9 10.994\n",
      "  NGC3726 338.962\n",
      "  SDSSJ113315.03+470234.3 33.048\n",
      "\n",
      "UGC05515\n",
      "  UGC05515 92.715\n",
      "  PGC1131310 17.344\n",
      "  PGC082622 34.210\n",
      "\n",
      "PGC072297\n",
      "  PGC085688 13.588\n",
      "  PGC072297 90.814\n",
      "  PGC085690 16.412\n",
      "\n",
      "UGC04198\n",
      "  SDSSJ080342.95+095727.0 5.823\n",
      "  PGC1372392 22.292\n",
      "  UGC04198 85.931\n",
      "\n"
     ]
    }
   ],
   "source": [
    "indx = np.zeros(len(lslga), dtype=bool)\n",
    "for ii, gg in enumerate(lslga[:1000]):\n",
    "    I = tree_search_radec(kdleda, gg['RA'], gg['DEC'], gg['D25'] / 1.8 / 60) # 1.8 instead of 2...\n",
    "    if len(I) > 2: # ignore the LSLGA galaxy itself\n",
    "        #indx[I] = True\n",
    "        print(lslga['GALAXY'][ii])\n",
    "        for _I in I:\n",
    "            print('  {} {:.3f}'.format(leda['GALAXY'][_I], 60*leda['D25'][_I]))\n",
    "        print()\n",
    "#print('Found {}/{} galaxies inside an LSLGA.'.format(np.sum(indx), len(lslga)))"
   ]
  },
  {
   "cell_type": "code",
   "execution_count": null,
   "metadata": {},
   "outputs": [],
   "source": [
    "stop"
   ]
  },
  {
   "cell_type": "code",
   "execution_count": 32,
   "metadata": {},
   "outputs": [
    {
     "data": {
      "text/html": [
       "<i>Table length=139</i>\n",
       "<table id=\"table4462558176\" class=\"table-striped table-bordered table-condensed\">\n",
       "<thead><tr><th>LSLGA_ID</th><th>GALAXY</th><th>PGC</th><th>RA</th><th>DEC</th><th>TYPE</th><th>BAR</th><th>RING</th><th>MULTIPLE</th><th>COMPACTNESS</th><th>T</th><th>PA</th><th>D25</th><th>BA</th><th>DIAM_REF</th><th>Z</th><th>SB_D25</th><th>MAG</th><th>MAG_REF</th><th>WISE_RA</th><th>WISE_DEC</th><th>CNTR</th><th>W1MPRO</th><th>W1SIGMPRO</th><th>W2MPRO</th><th>W2SIGMPRO</th><th>W3MPRO</th><th>W3SIGMPRO</th><th>W4MPRO</th><th>W4SIGMPRO</th><th>RCHI2</th><th>CC_FLAGS</th><th>EXT_FLG</th><th>PH_QUAL</th><th>XSCPROX</th><th>W1RSEMI</th><th>W1BA</th><th>W1PA</th><th>W1GMAG</th><th>W1GERR</th><th>W2GMAG</th><th>W2GERR</th><th>W3GMAG</th><th>W3GERR</th><th>W4GMAG</th><th>W4GERR</th><th>IN_ALLWISE</th><th>IN_DESI</th><th>NEAR_BRIGHTSTAR</th></tr></thead>\n",
       "<thead><tr><th>int64</th><th>bytes29</th><th>int64</th><th>float64</th><th>float64</th><th>bytes4</th><th>bytes3</th><th>bytes3</th><th>bytes3</th><th>bytes3</th><th>float32</th><th>float32</th><th>float32</th><th>float32</th><th>bytes3</th><th>float32</th><th>float32</th><th>float32</th><th>bytes1</th><th>float64</th><th>float64</th><th>int64</th><th>float64</th><th>float64</th><th>float64</th><th>float64</th><th>float64</th><th>float64</th><th>float64</th><th>float64</th><th>float32</th><th>bytes4</th><th>int32</th><th>bytes4</th><th>float64</th><th>float64</th><th>float64</th><th>float64</th><th>float64</th><th>float64</th><th>float64</th><th>float64</th><th>float64</th><th>float64</th><th>float64</th><th>float64</th><th>bool</th><th>bool</th><th>bool</th></tr></thead>\n",
       "<tr><td>1687</td><td>SDSSJ140511.30+060559.4</td><td>5166527</td><td>211.297104</td><td>6.0998595</td><td>nan</td><td>nan</td><td>nan</td><td>nan</td><td>nan</td><td>nan</td><td>171.52</td><td>1.9783283</td><td>0.16046767</td><td>r</td><td>0.28075022</td><td>25.811972</td><td>15.702</td><td>B</td><td>0.0</td><td>0.0</td><td>-1</td><td>0.0</td><td>0.0</td><td>0.0</td><td>0.0</td><td>0.0</td><td>0.0</td><td>0.0</td><td>0.0</td><td>0.0</td><td></td><td>0</td><td></td><td>0.0</td><td>0.0</td><td>0.0</td><td>0.0</td><td>0.0</td><td>0.0</td><td>0.0</td><td>0.0</td><td>0.0</td><td>0.0</td><td>0.0</td><td>0.0</td><td>False</td><td>True</td><td>True</td></tr>\n",
       "<tr><td>4337</td><td>SDSSJ083131.00+192042.6</td><td>4168240</td><td>127.879266</td><td>19.3451956</td><td>S?</td><td>nan</td><td>nan</td><td>nan</td><td>nan</td><td>2.1</td><td>146.23</td><td>1.0280162</td><td>0.13708818</td><td>iso</td><td>0.039242815</td><td>26.41748</td><td>17.729</td><td>B</td><td>127.8791702</td><td>19.3451065</td><td>1280119601351018561</td><td>14.456</td><td>0.035</td><td>14.252</td><td>0.056</td><td>11.427</td><td>0.226</td><td>8.732</td><td>nan</td><td>1.74</td><td>0000</td><td>1</td><td>AABU</td><td>nan</td><td>nan</td><td>nan</td><td>nan</td><td>nan</td><td>nan</td><td>nan</td><td>nan</td><td>nan</td><td>nan</td><td>nan</td><td>nan</td><td>True</td><td>True</td><td>False</td></tr>\n",
       "<tr><td>34137</td><td>SDSSJ160938.64+463418.0</td><td>4016359</td><td>242.410953</td><td>46.571725799999996</td><td>Sm</td><td>nan</td><td>nan</td><td>nan</td><td>nan</td><td>9.0</td><td>51.94</td><td>1.164126</td><td>0.15452544</td><td>iso</td><td>0.009719056</td><td>26.325481</td><td>17.367</td><td>B</td><td>242.4115568</td><td>46.5719918</td><td>2421146901351018361</td><td>15.97</td><td>0.039</td><td>15.943</td><td>0.097</td><td>13.32</td><td>nan</td><td>9.822</td><td>nan</td><td>1.078</td><td>0000</td><td>0</td><td>AAUU</td><td>nan</td><td>nan</td><td>nan</td><td>nan</td><td>nan</td><td>nan</td><td>nan</td><td>nan</td><td>nan</td><td>nan</td><td>nan</td><td>nan</td><td>True</td><td>True</td><td>False</td></tr>\n",
       "<tr><td>84601</td><td>SDSSJ121607.89+403649.0</td><td>4548454</td><td>184.03303799999998</td><td>40.6136976</td><td>nan</td><td>nan</td><td>nan</td><td>nan</td><td>nan</td><td>nan</td><td>19.63</td><td>2.344229</td><td>0.8790225</td><td>iso</td><td>0.39469638</td><td>22.505482</td><td>12.027</td><td>B</td><td>0.0</td><td>0.0</td><td>-1</td><td>0.0</td><td>0.0</td><td>0.0</td><td>0.0</td><td>0.0</td><td>0.0</td><td>0.0</td><td>0.0</td><td>0.0</td><td></td><td>0</td><td></td><td>0.0</td><td>0.0</td><td>0.0</td><td>0.0</td><td>0.0</td><td>0.0</td><td>0.0</td><td>0.0</td><td>0.0</td><td>0.0</td><td>0.0</td><td>0.0</td><td>False</td><td>True</td><td>False</td></tr>\n",
       "<tr><td>91161</td><td>SDSSJ135302.77+123311.7</td><td>4012202</td><td>208.26156</td><td>12.5533231</td><td>S?</td><td>nan</td><td>nan</td><td>nan</td><td>nan</td><td>10.0</td><td>127.2</td><td>1.0280162</td><td>0.29853827</td><td>iso</td><td>0.02179341</td><td>25.63348</td><td>16.945</td><td>B</td><td>0.0</td><td>0.0</td><td>-1</td><td>0.0</td><td>0.0</td><td>0.0</td><td>0.0</td><td>0.0</td><td>0.0</td><td>0.0</td><td>0.0</td><td>0.0</td><td></td><td>0</td><td></td><td>0.0</td><td>0.0</td><td>0.0</td><td>0.0</td><td>0.0</td><td>0.0</td><td>0.0</td><td>0.0</td><td>0.0</td><td>0.0</td><td>0.0</td><td>0.0</td><td>False</td><td>True</td><td>False</td></tr>\n",
       "<tr><td>94112</td><td>SDSSJ020334.60-092540.0</td><td>4007701</td><td>30.894252</td><td>-9.427824900000001</td><td>nan</td><td>nan</td><td>nan</td><td>nan</td><td>nan</td><td>nan</td><td>74.9</td><td>1.5922089</td><td>0.57016426</td><td>iso</td><td>0.34571248</td><td>23.814482</td><td>14.176</td><td>B</td><td>30.8941679</td><td>-9.4277771</td><td>306009101351021599</td><td>15.371</td><td>0.038</td><td>15.293</td><td>0.084</td><td>12.015</td><td>0.25</td><td>8.825</td><td>nan</td><td>0.9982</td><td>hh00</td><td>0</td><td>AABU</td><td>nan</td><td>nan</td><td>nan</td><td>nan</td><td>nan</td><td>nan</td><td>nan</td><td>nan</td><td>nan</td><td>nan</td><td>nan</td><td>nan</td><td>True</td><td>True</td><td>False</td></tr>\n",
       "<tr><td>94322</td><td>SDSSJ015032.27+133942.2</td><td>4007659</td><td>27.634411500000002</td><td>13.6617434</td><td>S?</td><td>nan</td><td>nan</td><td>nan</td><td>nan</td><td>5.0</td><td>105.46</td><td>1.0914403</td><td>0.15205474</td><td>iso</td><td>0.017361343</td><td>26.456482</td><td>17.638</td><td>B</td><td>27.6347237</td><td>13.6617552</td><td>279113601351030238</td><td>14.673</td><td>0.031</td><td>14.612</td><td>0.053</td><td>11.935</td><td>0.237</td><td>8.413</td><td>nan</td><td>1.462</td><td>0000</td><td>0</td><td>AABU</td><td>nan</td><td>nan</td><td>nan</td><td>nan</td><td>nan</td><td>nan</td><td>nan</td><td>nan</td><td>nan</td><td>nan</td><td>nan</td><td>nan</td><td>True</td><td>True</td><td>False</td></tr>\n",
       "<tr><td>98779</td><td>SDSSJ110439.61+274325.9</td><td>4581667</td><td>166.1650515</td><td>27.7239206</td><td>Sc</td><td>nan</td><td>nan</td><td>nan</td><td>nan</td><td>5.7</td><td>56.03</td><td>1.3182567</td><td>0.66069347</td><td>iso</td><td>0.008535905</td><td>24.792482</td><td>15.564</td><td>B</td><td>166.165727</td><td>27.7238121</td><td>1656127201351046153</td><td>14.065</td><td>0.028</td><td>13.889</td><td>0.039</td><td>11.68</td><td>0.253</td><td>8.79</td><td>0.517</td><td>3.993</td><td>d000</td><td>1</td><td>AABC</td><td>nan</td><td>nan</td><td>nan</td><td>nan</td><td>nan</td><td>nan</td><td>nan</td><td>nan</td><td>nan</td><td>nan</td><td>nan</td><td>nan</td><td>True</td><td>True</td><td>False</td></tr>\n",
       "<tr><td>103980</td><td>SDSSJ135737.29+392853.5</td><td>4012235</td><td>209.40535049999997</td><td>39.481546</td><td>I</td><td>nan</td><td>nan</td><td>nan</td><td>nan</td><td>10.0</td><td>171.71</td><td>1.0280162</td><td>0.24547088</td><td>iso</td><td>0.004594845</td><td>25.850481</td><td>17.162</td><td>B</td><td>209.4054362</td><td>39.4817165</td><td>2090139301351030542</td><td>16.016</td><td>0.052</td><td>15.731</td><td>0.122</td><td>12.4</td><td>nan</td><td>8.804</td><td>nan</td><td>1.014</td><td>0000</td><td>0</td><td>ABUU</td><td>nan</td><td>nan</td><td>nan</td><td>nan</td><td>nan</td><td>nan</td><td>nan</td><td>nan</td><td>nan</td><td>nan</td><td>nan</td><td>nan</td><td>True</td><td>True</td><td>False</td></tr>\n",
       "<tr><td>124051</td><td>SDSSJ152828.45+042926.6</td><td>4465042</td><td>232.1185695</td><td>4.4907122</td><td>SBcd</td><td>B</td><td>nan</td><td>nan</td><td>nan</td><td>6.7</td><td>95.27</td><td>1.0739895</td><td>0.27478942</td><td>iso</td><td>0.032308016</td><td>25.566483</td><td>16.783</td><td>B</td><td>232.118403</td><td>4.4905017</td><td>2324104501351032998</td><td>15.146</td><td>0.037</td><td>15.036</td><td>0.076</td><td>11.541</td><td>0.146</td><td>8.575</td><td>nan</td><td>1.332</td><td>0000</td><td>0</td><td>AABU</td><td>nan</td><td>nan</td><td>nan</td><td>nan</td><td>nan</td><td>nan</td><td>nan</td><td>nan</td><td>nan</td><td>nan</td><td>nan</td><td>nan</td><td>True</td><td>True</td><td>False</td></tr>\n",
       "<tr><td>...</td><td>...</td><td>...</td><td>...</td><td>...</td><td>...</td><td>...</td><td>...</td><td>...</td><td>...</td><td>...</td><td>...</td><td>...</td><td>...</td><td>...</td><td>...</td><td>...</td><td>...</td><td>...</td><td>...</td><td>...</td><td>...</td><td>...</td><td>...</td><td>...</td><td>...</td><td>...</td><td>...</td><td>...</td><td>...</td><td>...</td><td>...</td><td>...</td><td>...</td><td>...</td><td>...</td><td>...</td><td>...</td><td>...</td><td>...</td><td>...</td><td>...</td><td>...</td><td>...</td><td>...</td><td>...</td><td>...</td><td>...</td><td>...</td></tr>\n",
       "<tr><td>1319450</td><td>SDSSJ112535.23+542314.3</td><td>3472050</td><td>171.3968205</td><td>54.3873286</td><td>S?</td><td>nan</td><td>nan</td><td>nan</td><td>nan</td><td>10.0</td><td>148.4</td><td>1.7619762</td><td>0.09506049</td><td>iso</td><td>0.020555219</td><td>26.04048</td><td>16.182</td><td>B</td><td>171.3970922</td><td>54.3871272</td><td>1710154501351030021</td><td>14.554</td><td>0.032</td><td>14.359</td><td>0.045</td><td>11.567</td><td>0.196</td><td>7.801</td><td>0.178</td><td>1.948</td><td>dd00</td><td>2</td><td>AABB</td><td>nan</td><td>nan</td><td>nan</td><td>nan</td><td>nan</td><td>nan</td><td>nan</td><td>nan</td><td>nan</td><td>nan</td><td>nan</td><td>nan</td><td>True</td><td>True</td><td>False</td></tr>\n",
       "<tr><td>1339043</td><td>SDSSJ124434.26-021906.7</td><td>4537782</td><td>191.14269149999998</td><td>-2.3183912</td><td>nan</td><td>nan</td><td>nan</td><td>nan</td><td>nan</td><td>nan</td><td>103.29</td><td>1.64059</td><td>0.25763214</td><td>iso</td><td>nan</td><td>26.307482</td><td>16.604</td><td>B</td><td>0.0</td><td>0.0</td><td>-1</td><td>0.0</td><td>0.0</td><td>0.0</td><td>0.0</td><td>0.0</td><td>0.0</td><td>0.0</td><td>0.0</td><td>0.0</td><td></td><td>0</td><td></td><td>0.0</td><td>0.0</td><td>0.0</td><td>0.0</td><td>0.0</td><td>0.0</td><td>0.0</td><td>0.0</td><td>0.0</td><td>0.0</td><td>0.0</td><td>0.0</td><td>False</td><td>True</td><td>False</td></tr>\n",
       "<tr><td>1347419</td><td>SDSSJ155609.13+101548.7</td><td>5260230</td><td>239.03805299999996</td><td>10.2635438</td><td>nan</td><td>nan</td><td>nan</td><td>nan</td><td>nan</td><td>nan</td><td>64.16</td><td>1.027939</td><td>0.097356685</td><td>r</td><td>0.10350594</td><td>26.462318</td><td>17.774</td><td>B</td><td>239.038098</td><td>10.2635626</td><td>2384110601351024229</td><td>16.021</td><td>0.057</td><td>15.722</td><td>0.138</td><td>12.043</td><td>0.359</td><td>8.486</td><td>nan</td><td>0.9453</td><td>hh00</td><td>0</td><td>ABCU</td><td>nan</td><td>nan</td><td>nan</td><td>nan</td><td>nan</td><td>nan</td><td>nan</td><td>nan</td><td>nan</td><td>nan</td><td>nan</td><td>nan</td><td>True</td><td>True</td><td>False</td></tr>\n",
       "<tr><td>1350430</td><td>SDSSJ093620.10+171125.7</td><td>4206434</td><td>144.0838785</td><td>17.190551199999998</td><td>Sm</td><td>nan</td><td>nan</td><td>nan</td><td>nan</td><td>8.5</td><td>129.21</td><td>1.069055</td><td>0.13520725</td><td>iso</td><td>0.027198482</td><td>26.488482</td><td>17.715</td><td>B</td><td>144.0842821</td><td>17.1903174</td><td>1446116601351063029</td><td>15.627</td><td>0.066</td><td>15.493</td><td>0.154</td><td>11.83</td><td>nan</td><td>8.373</td><td>nan</td><td>1.088</td><td>0000</td><td>0</td><td>ABUU</td><td>nan</td><td>nan</td><td>nan</td><td>nan</td><td>nan</td><td>nan</td><td>nan</td><td>nan</td><td>nan</td><td>nan</td><td>nan</td><td>nan</td><td>True</td><td>True</td><td>False</td></tr>\n",
       "<tr><td>1372028</td><td>SDSSJ090525.13+184534.4</td><td>5064454</td><td>136.35470999999998</td><td>18.759573</td><td>nan</td><td>nan</td><td>nan</td><td>nan</td><td>nan</td><td>nan</td><td>59.79</td><td>1.0308</td><td>0.18709226</td><td>r</td><td>0.9118241</td><td>26.751352</td><td>18.057</td><td>B</td><td>0.0</td><td>0.0</td><td>-1</td><td>0.0</td><td>0.0</td><td>0.0</td><td>0.0</td><td>0.0</td><td>0.0</td><td>0.0</td><td>0.0</td><td>0.0</td><td></td><td>0</td><td></td><td>0.0</td><td>0.0</td><td>0.0</td><td>0.0</td><td>0.0</td><td>0.0</td><td>0.0</td><td>0.0</td><td>0.0</td><td>0.0</td><td>0.0</td><td>0.0</td><td>False</td><td>True</td><td>False</td></tr>\n",
       "<tr><td>1372811</td><td>SDSSJ115748.11+120218.5</td><td>4001653</td><td>179.45050049999998</td><td>12.0389464</td><td>Sm</td><td>nan</td><td>nan</td><td>nan</td><td>nan</td><td>8.5</td><td>0.49</td><td>1.1508003</td><td>0.33884415</td><td>iso</td><td>0.0091723455</td><td>25.24348</td><td>16.31</td><td>B</td><td>179.450673</td><td>12.0392526</td><td>1792112101351029684</td><td>15.462</td><td>0.043</td><td>15.345</td><td>0.098</td><td>12.604</td><td>nan</td><td>8.657</td><td>nan</td><td>1.474</td><td>0000</td><td>0</td><td>AAUU</td><td>nan</td><td>nan</td><td>nan</td><td>nan</td><td>nan</td><td>nan</td><td>nan</td><td>nan</td><td>nan</td><td>nan</td><td>nan</td><td>nan</td><td>True</td><td>True</td><td>False</td></tr>\n",
       "<tr><td>1410531</td><td>SDSSJ082657.17+293629.7</td><td>4549179</td><td>126.73841999999999</td><td>29.6083642</td><td>nan</td><td>nan</td><td>nan</td><td>nan</td><td>nan</td><td>nan</td><td>142.08</td><td>1.8323145</td><td>0.52966344</td><td>iso</td><td>0.380173</td><td>25.432482</td><td>15.489</td><td>B</td><td>0.0</td><td>0.0</td><td>-1</td><td>0.0</td><td>0.0</td><td>0.0</td><td>0.0</td><td>0.0</td><td>0.0</td><td>0.0</td><td>0.0</td><td>0.0</td><td></td><td>0</td><td></td><td>0.0</td><td>0.0</td><td>0.0</td><td>0.0</td><td>0.0</td><td>0.0</td><td>0.0</td><td>0.0</td><td>0.0</td><td>0.0</td><td>0.0</td><td>0.0</td><td>False</td><td>True</td><td>False</td></tr>\n",
       "<tr><td>1421674</td><td>SDSSJ144608.22+051138.1</td><td>4570676</td><td>221.53415399999997</td><td>5.1939886</td><td>nan</td><td>nan</td><td>nan</td><td>nan</td><td>nan</td><td>nan</td><td>10.17</td><td>1.164126</td><td>0.32210687</td><td>iso</td><td>0.37831837</td><td>25.14748</td><td>16.189</td><td>B</td><td>0.0</td><td>0.0</td><td>-1</td><td>0.0</td><td>0.0</td><td>0.0</td><td>0.0</td><td>0.0</td><td>0.0</td><td>0.0</td><td>0.0</td><td>0.0</td><td></td><td>0</td><td></td><td>0.0</td><td>0.0</td><td>0.0</td><td>0.0</td><td>0.0</td><td>0.0</td><td>0.0</td><td>0.0</td><td>0.0</td><td>0.0</td><td>0.0</td><td>0.0</td><td>False</td><td>True</td><td>False</td></tr>\n",
       "<tr><td>1429507</td><td>SDSSJ100838.45+353427.7</td><td>4575767</td><td>152.160156</td><td>35.574481899999995</td><td>nan</td><td>nan</td><td>nan</td><td>nan</td><td>nan</td><td>nan</td><td>47.4</td><td>1.081434</td><td>0.031622775</td><td>iso</td><td>0.38138717</td><td>26.057482</td><td>17.259</td><td>B</td><td>0.0</td><td>0.0</td><td>-1</td><td>0.0</td><td>0.0</td><td>0.0</td><td>0.0</td><td>0.0</td><td>0.0</td><td>0.0</td><td>0.0</td><td>0.0</td><td></td><td>0</td><td></td><td>0.0</td><td>0.0</td><td>0.0</td><td>0.0</td><td>0.0</td><td>0.0</td><td>0.0</td><td>0.0</td><td>0.0</td><td>0.0</td><td>0.0</td><td>0.0</td><td>False</td><td>True</td><td>True</td></tr>\n",
       "<tr><td>1431068</td><td>SDSSJ160816.00+062655.2</td><td>4490160</td><td>242.06660249999996</td><td>6.448639</td><td>Sc</td><td>nan</td><td>nan</td><td>nan</td><td>nan</td><td>4.6</td><td>130.09</td><td>1.2022645</td><td>0.11481536</td><td>iso</td><td>nan</td><td>26.461481</td><td>17.433</td><td>B</td><td>242.0663021</td><td>6.4489353</td><td>2415106001351047167</td><td>14.413</td><td>0.042</td><td>14.252</td><td>0.051</td><td>11.006</td><td>0.128</td><td>8.274</td><td>nan</td><td>1.269</td><td>0000</td><td>0</td><td>AABU</td><td>nan</td><td>nan</td><td>nan</td><td>nan</td><td>nan</td><td>nan</td><td>nan</td><td>nan</td><td>nan</td><td>nan</td><td>nan</td><td>nan</td><td>True</td><td>True</td><td>False</td></tr>\n",
       "</table>"
      ],
      "text/plain": [
       "<Table length=139>\n",
       "LSLGA_ID          GALAXY           PGC   ... IN_ALLWISE IN_DESI NEAR_BRIGHTSTAR\n",
       " int64           bytes29          int64  ...    bool      bool        bool     \n",
       "-------- ----------------------- ------- ... ---------- ------- ---------------\n",
       "    1687 SDSSJ140511.30+060559.4 5166527 ...      False    True            True\n",
       "    4337 SDSSJ083131.00+192042.6 4168240 ...       True    True           False\n",
       "   34137 SDSSJ160938.64+463418.0 4016359 ...       True    True           False\n",
       "   84601 SDSSJ121607.89+403649.0 4548454 ...      False    True           False\n",
       "   91161 SDSSJ135302.77+123311.7 4012202 ...      False    True           False\n",
       "   94112 SDSSJ020334.60-092540.0 4007701 ...       True    True           False\n",
       "   94322 SDSSJ015032.27+133942.2 4007659 ...       True    True           False\n",
       "   98779 SDSSJ110439.61+274325.9 4581667 ...       True    True           False\n",
       "  103980 SDSSJ135737.29+392853.5 4012235 ...       True    True           False\n",
       "  124051 SDSSJ152828.45+042926.6 4465042 ...       True    True           False\n",
       "     ...                     ...     ... ...        ...     ...             ...\n",
       " 1319450 SDSSJ112535.23+542314.3 3472050 ...       True    True           False\n",
       " 1339043 SDSSJ124434.26-021906.7 4537782 ...      False    True           False\n",
       " 1347419 SDSSJ155609.13+101548.7 5260230 ...       True    True           False\n",
       " 1350430 SDSSJ093620.10+171125.7 4206434 ...       True    True           False\n",
       " 1372028 SDSSJ090525.13+184534.4 5064454 ...      False    True           False\n",
       " 1372811 SDSSJ115748.11+120218.5 4001653 ...       True    True           False\n",
       " 1410531 SDSSJ082657.17+293629.7 4549179 ...      False    True           False\n",
       " 1421674 SDSSJ144608.22+051138.1 4570676 ...      False    True           False\n",
       " 1429507 SDSSJ100838.45+353427.7 4575767 ...      False    True            True\n",
       " 1431068 SDSSJ160816.00+062655.2 4490160 ...       True    True           False"
      ]
     },
     "execution_count": 32,
     "metadata": {},
     "output_type": "execute_result"
    }
   ],
   "source": [
    "isdss = ['SDSS' in gg for gg in lslga['GALAXY']]\n",
    "lslga[isdss]"
   ]
  },
  {
   "cell_type": "code",
   "execution_count": null,
   "metadata": {},
   "outputs": [],
   "source": [
    "plt.scatter(cat['MAG'], cat['D25'], s=5)\n",
    "plt.yscale('log')"
   ]
  },
  {
   "cell_type": "code",
   "execution_count": null,
   "metadata": {},
   "outputs": [],
   "source": []
  }
 ],
 "metadata": {
  "kernelspec": {
   "display_name": "Python 3",
   "language": "python",
   "name": "python3"
  },
  "language_info": {
   "codemirror_mode": {
    "name": "ipython",
    "version": 3
   },
   "file_extension": ".py",
   "mimetype": "text/x-python",
   "name": "python",
   "nbconvert_exporter": "python",
   "pygments_lexer": "ipython3",
   "version": "3.6.7"
  }
 },
 "nbformat": 4,
 "nbformat_minor": 2
}
