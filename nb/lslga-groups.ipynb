{
 "cells": [
  {
   "cell_type": "markdown",
   "metadata": {},
   "source": [
    "# LSLGA Groups\n",
    "\n",
    "The purpose of this notebook is to build a group catalog from the parent sample of large galaxies.  Galaxies near one another (projected on the sky) must be analyzed at the same time, so we use a simple friends-of-friends algorithm to generate our group catalog."
   ]
  },
  {
   "cell_type": "markdown",
   "metadata": {},
   "source": [
    "## Preliminaries"
   ]
  },
  {
   "cell_type": "code",
   "execution_count": 1,
   "metadata": {
    "collapsed": true
   },
   "outputs": [],
   "source": [
    "import os\n",
    "import numpy as np"
   ]
  },
  {
   "cell_type": "code",
   "execution_count": 2,
   "metadata": {
    "collapsed": true
   },
   "outputs": [],
   "source": [
    "import matplotlib.pyplot as plt\n",
    "import astropy.units as u\n",
    "from astropy.table import Table, Column\n",
    "from astropy.coordinates import SkyCoord"
   ]
  },
  {
   "cell_type": "code",
   "execution_count": 3,
   "metadata": {
    "collapsed": true
   },
   "outputs": [],
   "source": [
    "from pydl.pydlutils.spheregroup import spheregroup"
   ]
  },
  {
   "cell_type": "code",
   "execution_count": 4,
   "metadata": {
    "collapsed": true
   },
   "outputs": [],
   "source": [
    "%matplotlib inline"
   ]
  },
  {
   "cell_type": "markdown",
   "metadata": {},
   "source": [
    "## Read the parent HyperLeda catalog"
   ]
  },
  {
   "cell_type": "code",
   "execution_count": null,
   "metadata": {
    "collapsed": true
   },
   "outputs": [],
   "source": [
    "LSLGAdir = os.getenv('LSLGA_DIR')"
   ]
  },
  {
   "cell_type": "code",
   "execution_count": null,
   "metadata": {},
   "outputs": [],
   "source": [
    "ledafile = os.path.join(LSLGAdir, 'sample', 'leda-logd25-0.05.fits')\n",
    "leda = Table.read(ledafile)\n",
    "leda"
   ]
  },
  {
   "cell_type": "code",
   "execution_count": null,
   "metadata": {},
   "outputs": [],
   "source": [
    "fig, ax = plt.subplots()\n",
    "ax.scatter(leda['RA'], leda['DEC'], s=1, alpha=0.5)"
   ]
  },
  {
   "cell_type": "code",
   "execution_count": null,
   "metadata": {},
   "outputs": [],
   "source": [
    "#these = (leda['RA'] > 200) * (leda['RA'] < 220) * (leda['DEC'] > 0) * (leda['DEC'] < 10.0)\n",
    "#leda = leda[these]\n",
    "#print(np.sum(these))"
   ]
  },
  {
   "cell_type": "markdown",
   "metadata": {},
   "source": [
    "## Run FoF with spheregroup\n",
    "\n",
    "Identify groups using a simple angular linking length.  Then construct a catalog of group properties."
   ]
  },
  {
   "cell_type": "code",
   "execution_count": null,
   "metadata": {
    "collapsed": true
   },
   "outputs": [],
   "source": [
    "linking_length = 1.0 # [arcmin]"
   ]
  },
  {
   "cell_type": "code",
   "execution_count": null,
   "metadata": {
    "collapsed": true
   },
   "outputs": [],
   "source": [
    "grp, mult, frst, nxt = spheregroup(leda['RA'], leda['DEC'], linking_length/60.0)"
   ]
  },
  {
   "cell_type": "code",
   "execution_count": null,
   "metadata": {},
   "outputs": [],
   "source": [
    "npergrp, _ = np.histogram(grp, bins=len(grp), range=(0, len(grp)))\n",
    "nbiggrp = np.sum(npergrp > 1).astype('int')\n",
    "nsmallgrp = np.sum(npergrp == 1).astype('int')\n",
    "ngrp = nbiggrp + nsmallgrp"
   ]
  },
  {
   "cell_type": "code",
   "execution_count": null,
   "metadata": {},
   "outputs": [],
   "source": [
    "print('Found {} total groups, including:'.format(ngrp))\n",
    "print('  {} groups with 1 member'.format(nsmallgrp))\n",
    "print('  {} groups with 2-5 members'.format(np.sum( (npergrp > 1)*(npergrp <= 5) ).astype('int')))\n",
    "print('  {} groups with 5-10 members'.format(np.sum( (npergrp > 5)*(npergrp <= 10) ).astype('int')))\n",
    "print('  {} groups with >10 members'.format(np.sum( (npergrp > 10) ).astype('int')))"
   ]
  },
  {
   "cell_type": "markdown",
   "metadata": {},
   "source": [
    "## Populate the output group catalog"
   ]
  },
  {
   "cell_type": "code",
   "execution_count": null,
   "metadata": {},
   "outputs": [],
   "source": [
    "groupcat = Table()\n",
    "groupcat.add_column(Column(name='GROUPID', dtype='i4', length=ngrp)) # unique ID number\n",
    "groupcat.add_column(Column(name='GALAXY', dtype='S1000', length=ngrp))\n",
    "groupcat.add_column(Column(name='NMEMBERS', dtype='i4', length=ngrp))\n",
    "groupcat.add_column(Column(name='RA', dtype='f8', length=ngrp))  # average RA\n",
    "groupcat.add_column(Column(name='DEC', dtype='f8', length=ngrp)) # average Dec\n",
    "groupcat.add_column(Column(name='RADIUS', dtype='f4', length=ngrp))"
   ]
  },
  {
   "cell_type": "code",
   "execution_count": null,
   "metadata": {
    "collapsed": true
   },
   "outputs": [],
   "source": [
    "smallindx = np.arange(nsmallgrp)"
   ]
  },
  {
   "cell_type": "code",
   "execution_count": null,
   "metadata": {},
   "outputs": [],
   "source": [
    "ledaindx = np.where(npergrp == 1)[0]\n",
    "groupcat['RA'][smallindx] = leda['RA'][ledaindx]\n",
    "groupcat['DEC'][smallindx] = leda['DEC'][ledaindx]\n",
    "groupcat['NMEMBERS'][smallindx] = 1\n",
    "groupcat['GALAXY'][smallindx] = leda['GALAXY'][ledaindx]\n",
    "groupcat['RADIUS'][smallindx] = leda['D25'][ledaindx] / 2.0 # [arcsec]"
   ]
  },
  {
   "cell_type": "code",
   "execution_count": null,
   "metadata": {
    "collapsed": true
   },
   "outputs": [],
   "source": [
    "bigindx = np.arange(nbiggrp) + nsmallgrp"
   ]
  },
  {
   "cell_type": "code",
   "execution_count": null,
   "metadata": {},
   "outputs": [],
   "source": [
    "for grpindx, indx in zip(bigindx, np.where(npergrp > 1)[0]):\n",
    "    ledaindx = np.where(grp == indx)[0]\n",
    "    _ra, _dec = leda['RA'][ledaindx], leda['DEC'][ledaindx]\n",
    "    \n",
    "    groupcat['RA'][grpindx] = np.mean(_ra)\n",
    "    groupcat['DEC'][grpindx] = np.mean(_dec)\n",
    "    groupcat['NMEMBERS'][grpindx] = len(ledaindx)\n",
    "    groupcat['GALAXY'][grpindx] = ','.join(leda['GALAXY'][ledaindx])\n",
    "\n",
    "    cc = SkyCoord(ra=_ra*u.degree, dec=_dec*u.degree)\n",
    "    sep = []\n",
    "    for onecc in cc[1:]:\n",
    "        sep.append(cc.separation(onecc).arcsec.max())\n",
    "    sep = np.array(sep)\n",
    "    groupcat['RADIUS'][grpindx] = np.max( (sep.max(), np.max(leda['D25'][ledaindx] / 2)) )"
   ]
  },
  {
   "cell_type": "code",
   "execution_count": null,
   "metadata": {
    "collapsed": true
   },
   "outputs": [],
   "source": [
    "groupcat['GROUPID'] = np.arange(ngrp)"
   ]
  },
  {
   "cell_type": "code",
   "execution_count": null,
   "metadata": {},
   "outputs": [],
   "source": [
    "groupcat"
   ]
  },
  {
   "cell_type": "code",
   "execution_count": null,
   "metadata": {},
   "outputs": [],
   "source": [
    "ww = np.where(groupcat['NMEMBERS'] > 2)[0]\n",
    "fig, ax = plt.subplots(1, 2, figsize=(12, 4))\n",
    "ax[0].scatter(groupcat['RA'][ww], groupcat['DEC'][ww], s=1, alpha=0.5)\n",
    "_ = ax[1].hist(groupcat['NMEMBERS'], bins=20, histtype='step', \n",
    "               cumulative=True, normed=True)"
   ]
  },
  {
   "cell_type": "code",
   "execution_count": null,
   "metadata": {},
   "outputs": [],
   "source": [
    "groupfile = os.path.join(LSLGAdir, 'sample', 'leda-logd25-0.05-groupcat.fits')\n",
    "print('Writing {}'.format(groupfile))\n",
    "groupcat.write(groupfile, overwrite=True)"
   ]
  }
 ],
 "metadata": {
  "kernelspec": {
   "display_name": "Python 3",
   "language": "python",
   "name": "python3"
  },
  "language_info": {
   "codemirror_mode": {
    "name": "ipython",
    "version": 3
   },
   "file_extension": ".py",
   "mimetype": "text/x-python",
   "name": "python",
   "nbconvert_exporter": "python",
   "pygments_lexer": "ipython3",
   "version": "3.6.2"
  }
 },
 "nbformat": 4,
 "nbformat_minor": 2
}
