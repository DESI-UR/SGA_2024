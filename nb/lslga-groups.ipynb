{
 "cells": [
  {
   "cell_type": "markdown",
   "metadata": {},
   "source": [
    "# LSLGA Groups\n",
    "\n",
    "The purpose of this notebook is to build a group catalog from the parent sample of large galaxies.  Galaxies near one another (projected on the sky) must be analyzed at the same time, so we use a simple friends-of-friends algorithm to generate our group catalog."
   ]
  },
  {
   "cell_type": "markdown",
   "metadata": {},
   "source": [
    "## Preliminaries"
   ]
  },
  {
   "cell_type": "code",
   "execution_count": 1,
   "metadata": {
    "collapsed": true
   },
   "outputs": [],
   "source": [
    "import os\n",
    "import numpy as np"
   ]
  },
  {
   "cell_type": "code",
   "execution_count": 91,
   "metadata": {
    "collapsed": true
   },
   "outputs": [],
   "source": [
    "import matplotlib.pyplot as plt\n",
    "import astropy.units as u\n",
    "from astropy.table import Table, Column\n",
    "from astropy.coordinates import SkyCoord"
   ]
  },
  {
   "cell_type": "code",
   "execution_count": 3,
   "metadata": {
    "collapsed": true
   },
   "outputs": [],
   "source": [
    "from pydl.pydlutils.spheregroup import spheregroup"
   ]
  },
  {
   "cell_type": "code",
   "execution_count": 4,
   "metadata": {
    "collapsed": true
   },
   "outputs": [],
   "source": [
    "%matplotlib inline"
   ]
  },
  {
   "cell_type": "markdown",
   "metadata": {},
   "source": [
    "## Read the parent HyperLeda catalog"
   ]
  },
  {
   "cell_type": "code",
   "execution_count": 5,
   "metadata": {
    "collapsed": true
   },
   "outputs": [],
   "source": [
    "LSLGAdir = os.getenv('LSLGA_DIR')"
   ]
  },
  {
   "cell_type": "code",
   "execution_count": 6,
   "metadata": {},
   "outputs": [
    {
     "data": {
      "text/html": [
       "&lt;Table length=2143628&gt;\n",
       "<table id=\"table4487745040\" class=\"table-striped table-bordered table-condensed\">\n",
       "<thead><tr><th>GALAXY</th><th>PGC</th><th>RA</th><th>DEC</th><th>TYPE</th><th>OBJTYPE</th><th>MULTIPLE</th><th>D25</th><th>BA</th><th>PA</th><th>BMAG</th><th>IMAG</th><th>VHELIO</th></tr></thead>\n",
       "<thead><tr><th>str28</th><th>str10</th><th>float64</th><th>float64</th><th>str4</th><th>str2</th><th>str1</th><th>float32</th><th>float32</th><th>float32</th><th>float32</th><th>float32</th><th>float32</th></tr></thead>\n",
       "<tr><td>PGC2456621</td><td>PGC2456621</td><td>0.0003</td><td>53.99049</td><td></td><td>g</td><td></td><td>34.5264</td><td>0.338844</td><td>48.0</td><td>17.24</td><td>-999.0</td><td>-999.0</td></tr>\n",
       "<tr><td>PGC622563</td><td>PGC0622563</td><td>0.00045</td><td>-37.47607</td><td></td><td>G</td><td></td><td>17.7073</td><td>0.758578</td><td>128.0</td><td>17.75</td><td>15.84</td><td>-999.0</td></tr>\n",
       "<tr><td>PGC1191650</td><td>PGC1191650</td><td>0.00045</td><td>1.33245</td><td></td><td>g</td><td></td><td>13.7452</td><td>0.812831</td><td>84.0</td><td>19.05</td><td>-999.0</td><td>-999.0</td></tr>\n",
       "<tr><td>PGC639648</td><td>PGC0639648</td><td>0.00045</td><td>-36.19886</td><td></td><td>G</td><td></td><td>12.8278</td><td>0.891251</td><td>100.0</td><td>18.58</td><td>-999.0</td><td>-999.0</td></tr>\n",
       "<tr><td>PGC1982072</td><td>PGC1982072</td><td>0.0006</td><td>32.1366</td><td></td><td>G</td><td></td><td>19.4156</td><td>0.74131</td><td>136.5</td><td>17.78</td><td>-999.0</td><td>-999.0</td></tr>\n",
       "<tr><td>PGC535833</td><td>PGC0535833</td><td>0.0006</td><td>-44.57789</td><td></td><td>G</td><td></td><td>20.3306</td><td>0.588844</td><td>148.5</td><td>17.63</td><td>17.14</td><td>-999.0</td></tr>\n",
       "<tr><td>PGC520795</td><td>PGC0520795</td><td>0.00075</td><td>-45.95405</td><td></td><td>G</td><td></td><td>20.3306</td><td>0.676083</td><td>24.7</td><td>17.54</td><td>15.5</td><td>-999.0</td></tr>\n",
       "<tr><td>SDSSJ000000.16-001108.5</td><td>PGC4165833</td><td>0.00075</td><td>-0.18576</td><td></td><td>G</td><td></td><td>10.9182</td><td>0.912011</td><td>-999.0</td><td>18.89</td><td>17.5</td><td>58476.0</td></tr>\n",
       "<tr><td>PGC1961515</td><td>PGC1961515</td><td>0.00075</td><td>31.7311</td><td></td><td>G</td><td></td><td>23.3427</td><td>0.616595</td><td>160.3</td><td>17.38</td><td>-999.0</td><td>-999.0</td></tr>\n",
       "<tr><td>PGC228194</td><td>PGC0228194</td><td>0.0009</td><td>-80.24194</td><td></td><td>G</td><td></td><td>19.8679</td><td>0.707946</td><td>175.0</td><td>17.78</td><td>15.61</td><td>-999.0</td></tr>\n",
       "<tr><td>...</td><td>...</td><td>...</td><td>...</td><td>...</td><td>...</td><td>...</td><td>...</td><td>...</td><td>...</td><td>...</td><td>...</td><td>...</td></tr>\n",
       "<tr><td>PGC1644789</td><td>PGC1644789</td><td>359.9976</td><td>21.19222</td><td></td><td>G</td><td></td><td>20.8042</td><td>0.891251</td><td>127.0</td><td>17.4</td><td>-999.0</td><td>-999.0</td></tr>\n",
       "<tr><td>PGC085920</td><td>PGC0085920</td><td>359.99775</td><td>24.90753</td><td>Sc</td><td>G</td><td></td><td>30.0712</td><td>0.398107</td><td>22.0</td><td>17.08</td><td>-999.0</td><td>11181.0</td></tr>\n",
       "<tr><td>PGC875298</td><td>PGC0875298</td><td>359.9979</td><td>-17.92631</td><td></td><td>G</td><td></td><td>22.8114</td><td>0.562341</td><td>175.5</td><td>17.64</td><td>-999.0</td><td>-999.0</td></tr>\n",
       "<tr><td>PGC804530</td><td>PGC0804530</td><td>359.9979</td><td>-23.12522</td><td></td><td>G</td><td></td><td>14.393</td><td>0.724436</td><td>5.0</td><td>18.52</td><td>-999.0</td><td>-999.0</td></tr>\n",
       "<tr><td>PGC475212</td><td>PGC0475212</td><td>359.99865</td><td>-49.59475</td><td></td><td>G</td><td></td><td>19.8679</td><td>0.524807</td><td>85.0</td><td>17.44</td><td>15.12</td><td>-999.0</td></tr>\n",
       "<tr><td>PGC309024</td><td>PGC0309024</td><td>359.9991</td><td>-65.91558</td><td></td><td>G</td><td></td><td>16.5254</td><td>0.446684</td><td>147.0</td><td>18.45</td><td>17.42</td><td>-999.0</td></tr>\n",
       "<tr><td>PGC1046833</td><td>PGC1046833</td><td>359.99925</td><td>-5.28219</td><td></td><td>G</td><td></td><td>23.8864</td><td>0.42658</td><td>47.5</td><td>17.13</td><td>-999.0</td><td>-999.0</td></tr>\n",
       "<tr><td>PGC129172</td><td>PGC0129172</td><td>359.9994</td><td>-49.91808</td><td>Sc</td><td>G</td><td></td><td>38.7393</td><td>0.446684</td><td>113.0</td><td>16.18</td><td>14.62</td><td>-999.0</td></tr>\n",
       "<tr><td>PGC2402729</td><td>PGC2402729</td><td>359.99955</td><td>51.92069</td><td></td><td>G</td><td></td><td>14.393</td><td>0.794328</td><td>128.0</td><td>18.19</td><td>-999.0</td><td>-999.0</td></tr>\n",
       "<tr><td>SDSSJ235959.98+154235.8</td><td>PGC4126761</td><td>359.99985</td><td>15.70999</td><td></td><td>g</td><td></td><td>20.3306</td><td>0.269153</td><td>31.9</td><td>19.3</td><td>18.33</td><td>-999.0</td></tr>\n",
       "</table>"
      ],
      "text/plain": [
       "<Table length=2143628>\n",
       "           GALAXY               PGC         RA    ...   BMAG    IMAG   VHELIO\n",
       "           str28               str10     float64  ... float32 float32 float32\n",
       "---------------------------- ---------- --------- ... ------- ------- -------\n",
       "PGC2456621                   PGC2456621    0.0003 ...   17.24  -999.0  -999.0\n",
       "PGC622563                    PGC0622563   0.00045 ...   17.75   15.84  -999.0\n",
       "PGC1191650                   PGC1191650   0.00045 ...   19.05  -999.0  -999.0\n",
       "PGC639648                    PGC0639648   0.00045 ...   18.58  -999.0  -999.0\n",
       "PGC1982072                   PGC1982072    0.0006 ...   17.78  -999.0  -999.0\n",
       "PGC535833                    PGC0535833    0.0006 ...   17.63   17.14  -999.0\n",
       "PGC520795                    PGC0520795   0.00075 ...   17.54    15.5  -999.0\n",
       "SDSSJ000000.16-001108.5      PGC4165833   0.00075 ...   18.89    17.5 58476.0\n",
       "PGC1961515                   PGC1961515   0.00075 ...   17.38  -999.0  -999.0\n",
       "PGC228194                    PGC0228194    0.0009 ...   17.78   15.61  -999.0\n",
       "                         ...        ...       ... ...     ...     ...     ...\n",
       "PGC1644789                   PGC1644789  359.9976 ...    17.4  -999.0  -999.0\n",
       "PGC085920                    PGC0085920 359.99775 ...   17.08  -999.0 11181.0\n",
       "PGC875298                    PGC0875298  359.9979 ...   17.64  -999.0  -999.0\n",
       "PGC804530                    PGC0804530  359.9979 ...   18.52  -999.0  -999.0\n",
       "PGC475212                    PGC0475212 359.99865 ...   17.44   15.12  -999.0\n",
       "PGC309024                    PGC0309024  359.9991 ...   18.45   17.42  -999.0\n",
       "PGC1046833                   PGC1046833 359.99925 ...   17.13  -999.0  -999.0\n",
       "PGC129172                    PGC0129172  359.9994 ...   16.18   14.62  -999.0\n",
       "PGC2402729                   PGC2402729 359.99955 ...   18.19  -999.0  -999.0\n",
       "SDSSJ235959.98+154235.8      PGC4126761 359.99985 ...    19.3   18.33  -999.0"
      ]
     },
     "execution_count": 6,
     "metadata": {},
     "output_type": "execute_result"
    }
   ],
   "source": [
    "ledafile = os.path.join(LSLGAdir, 'sample', 'leda-logd25-0.05.fits')\n",
    "leda = Table.read(ledafile)\n",
    "leda"
   ]
  },
  {
   "cell_type": "code",
   "execution_count": 7,
   "metadata": {},
   "outputs": [
    {
     "data": {
      "text/plain": [
       "<matplotlib.collections.PathCollection at 0x104029080>"
      ]
     },
     "execution_count": 7,
     "metadata": {},
     "output_type": "execute_result"
    },
    {
     "data": {
      "image/png": "[encoded data removed]",
      "text/plain": [
       "<matplotlib.figure.Figure at 0x10b7d8240>"
      ]
     },
     "metadata": {},
     "output_type": "display_data"
    }
   ],
   "source": [
    "fig, ax = plt.subplots()\n",
    "ax.scatter(leda['RA'], leda['DEC'], s=1, alpha=0.5)"
   ]
  },
  {
   "cell_type": "code",
   "execution_count": 8,
   "metadata": {},
   "outputs": [
    {
     "name": "stdout",
     "output_type": "stream",
     "text": [
      "28476\n"
     ]
    }
   ],
   "source": [
    "these = (leda['RA'] > 200) * (leda['RA'] < 220) * (leda['DEC'] > 0) * (leda['DEC'] < 10.0)\n",
    "leda = leda[these]\n",
    "print(np.sum(these))"
   ]
  },
  {
   "cell_type": "markdown",
   "metadata": {},
   "source": [
    "## Run FoF with spheregroup\n",
    "\n",
    "Identify groups using a simple angular linking length.  Then construct a catalog of group properties."
   ]
  },
  {
   "cell_type": "code",
   "execution_count": 60,
   "metadata": {
    "collapsed": true
   },
   "outputs": [],
   "source": [
    "linking_length = 1.0 # [arcmin]"
   ]
  },
  {
   "cell_type": "code",
   "execution_count": 61,
   "metadata": {
    "collapsed": true
   },
   "outputs": [],
   "source": [
    "grp, mult, frst, nxt = spheregroup(leda['RA'], leda['DEC'], linking_length/60.0)"
   ]
  },
  {
   "cell_type": "code",
   "execution_count": 72,
   "metadata": {},
   "outputs": [],
   "source": [
    "npergrp, _ = np.histogram(grp, bins=len(grp), range=(0, len(grp)))\n",
    "nbiggrp = np.sum(npergrp > 1).astype('int')\n",
    "nsmallgrp = np.sum(npergrp == 1).astype('int')\n",
    "ngrp = nbiggrp + nsmallgrp"
   ]
  },
  {
   "cell_type": "code",
   "execution_count": 84,
   "metadata": {},
   "outputs": [
    {
     "name": "stdout",
     "output_type": "stream",
     "text": [
      "Found 24939 total groups, including:\n",
      "  22176 groups with 1 member\n",
      "  2737 groups with 2-5 members\n",
      "  21 groups with 5-10 members\n",
      "  5 groups with >10 members\n"
     ]
    }
   ],
   "source": [
    "print('Found {} total groups, including:'.format(ngrp))\n",
    "print('  {} groups with 1 member'.format(nsmallgrp))\n",
    "print('  {} groups with 2-5 members'.format(np.sum( (npergrp > 1)*(npergrp <= 5) ).astype('int')))\n",
    "print('  {} groups with 5-10 members'.format(np.sum( (npergrp > 5)*(npergrp <= 10) ).astype('int')))\n",
    "print('  {} groups with >10 members'.format(np.sum( (npergrp > 10) ).astype('int')))"
   ]
  },
  {
   "cell_type": "markdown",
   "metadata": {},
   "source": [
    "## Populate the output group catalog"
   ]
  },
  {
   "cell_type": "code",
   "execution_count": 86,
   "metadata": {},
   "outputs": [],
   "source": [
    "groupcat = Table()\n",
    "groupcat.add_column(Column(name='GROUPID', dtype='i4', length=ngrp)) # unique ID number\n",
    "groupcat.add_column(Column(name='GALAXY', dtype='S1000', length=ngrp))\n",
    "groupcat.add_column(Column(name='NMEMBERS', dtype='i4', length=ngrp))\n",
    "groupcat.add_column(Column(name='RA', dtype='f8', length=ngrp))  # average RA\n",
    "groupcat.add_column(Column(name='DEC', dtype='f8', length=ngrp)) # average Dec\n",
    "groupcat.add_column(Column(name='RADIUS', dtype='f4', length=ngrp))"
   ]
  },
  {
   "cell_type": "code",
   "execution_count": 144,
   "metadata": {
    "collapsed": true
   },
   "outputs": [],
   "source": [
    "smallindx = np.arange(nsmallgrp)"
   ]
  },
  {
   "cell_type": "code",
   "execution_count": 145,
   "metadata": {},
   "outputs": [],
   "source": [
    "ledaindx = np.where(npergrp == 1)[0]\n",
    "groupcat['RA'][smallindx] = leda['RA'][ledaindx]\n",
    "groupcat['DEC'][smallindx] = leda['DEC'][ledaindx]\n",
    "groupcat['NMEMBERS'][smallindx] = 1\n",
    "groupcat['GALAXY'][smallindx] = leda['GALAXY'][ledaindx]\n",
    "groupcat['RADIUS'][smallindx] = leda['D25'][ledaindx] / 2.0 # [arcsec]"
   ]
  },
  {
   "cell_type": "code",
   "execution_count": 88,
   "metadata": {
    "collapsed": true
   },
   "outputs": [],
   "source": [
    "bigindx = np.arange(nbiggrp) + nsmallgrp"
   ]
  },
  {
   "cell_type": "code",
   "execution_count": 141,
   "metadata": {},
   "outputs": [],
   "source": [
    "for grpindx, indx in zip(bigindx, np.where(npergrp > 1)[0]):\n",
    "    ledaindx = np.where(grp == indx)[0]\n",
    "    _ra, _dec = leda['RA'][ledaindx], leda['DEC'][ledaindx]\n",
    "    \n",
    "    groupcat['RA'][grpindx] = np.mean(_ra)\n",
    "    groupcat['DEC'][grpindx] = np.mean(_dec)\n",
    "    groupcat['NMEMBERS'][grpindx] = len(ledaindx)\n",
    "    groupcat['GALAXY'][grpindx] = ','.join(leda['GALAXY'][ledaindx])\n",
    "\n",
    "    cc = SkyCoord(ra=_ra*u.degree, dec=_dec*u.degree)\n",
    "    sep = []\n",
    "    for onecc in cc[1:]:\n",
    "        sep.append(cc.separation(onecc).arcsec.max())\n",
    "    sep = np.array(sep)\n",
    "    groupcat['RADIUS'][grpindx] = np.max( (sep.max(), np.max(leda['D25'][ledaindx] / 2)) )"
   ]
  },
  {
   "cell_type": "code",
   "execution_count": 142,
   "metadata": {
    "collapsed": true
   },
   "outputs": [],
   "source": [
    "groupcat['GROUPID'] = np.arange(ngrp)"
   ]
  },
  {
   "cell_type": "code",
   "execution_count": 146,
   "metadata": {},
   "outputs": [
    {
     "data": {
      "text/html": [
       "&lt;Table length=24939&gt;\n",
       "<table id=\"table4555639272\" class=\"table-striped table-bordered table-condensed\">\n",
       "<thead><tr><th>GROUPID</th><th>GALAXY</th><th>NMEMBERS</th><th>RA</th><th>DEC</th><th>RADIUS</th></tr></thead>\n",
       "<thead><tr><th>int64</th><th>bytes1000</th><th>int32</th><th>float64</th><th>float64</th><th>float32</th></tr></thead>\n",
       "<tr><td>0</td><td>PGC3298787</td><td>1</td><td>200.00025</td><td>1.93209</td><td>5.58626</td></tr>\n",
       "<tr><td>1</td><td>PGC3113329</td><td>1</td><td>200.0004</td><td>0.09401</td><td>6.41389</td></tr>\n",
       "<tr><td>2</td><td>SDSSJ132000.21+064505.4</td><td>1</td><td>200.001</td><td>6.75155</td><td>6.12521</td></tr>\n",
       "<tr><td>3</td><td>SDSSJ132000.27+061154.2</td><td>1</td><td>200.00115</td><td>6.1985</td><td>8.65209</td></tr>\n",
       "<tr><td>4</td><td>SDSSJ132000.30+025943.9</td><td>1</td><td>200.0013</td><td>2.9955</td><td>11.9432</td></tr>\n",
       "<tr><td>5</td><td>SDSSJ132000.57+034936.1</td><td>1</td><td>200.0025</td><td>3.82683</td><td>7.03269</td></tr>\n",
       "<tr><td>6</td><td>PGC1365688</td><td>1</td><td>200.0043</td><td>9.47743</td><td>11.1461</td></tr>\n",
       "<tr><td>7</td><td>2MASXJ13200113+0547200</td><td>1</td><td>200.0049</td><td>5.78902</td><td>6.41389</td></tr>\n",
       "<tr><td>8</td><td>SDSSJ132001.33+050625.5</td><td>1</td><td>200.0055</td><td>5.1071</td><td>5.58626</td></tr>\n",
       "<tr><td>9</td><td>SDSSJ132001.32+065621.9</td><td>1</td><td>200.0058</td><td>6.93934</td><td>9.27089</td></tr>\n",
       "<tr><td>...</td><td>...</td><td>...</td><td>...</td><td>...</td><td>...</td></tr>\n",
       "<tr><td>24929</td><td>PGC3305336                  ,PGC3115344</td><td>2</td><td>219.919725</td><td>0.50239</td><td>6.71616</td></tr>\n",
       "<tr><td>24930</td><td>PGC1355519                  ,SDSSJ143943.82+085320.8</td><td>2</td><td>219.926475</td><td>8.88653</td><td>13.0955</td></tr>\n",
       "<tr><td>24931</td><td>PGC1254218                  ,SDSSJ143950.98+033329.5</td><td>2</td><td>219.95835</td><td>3.55095</td><td>9.27089</td></tr>\n",
       "<tr><td>24932</td><td>SDSSJ143950.47+044214.2     ,PGC1271780</td><td>2</td><td>219.96075</td><td>4.69596</td><td>18.9287</td></tr>\n",
       "<tr><td>24933</td><td>PGC3113416                  ,PGC3305325</td><td>2</td><td>219.968325</td><td>0.1088</td><td>11.1461</td></tr>\n",
       "<tr><td>24934</td><td>SDSSJ143953.54+014841.1     ,PGC1206438</td><td>2</td><td>219.97455</td><td>1.80915</td><td>9.70781</td></tr>\n",
       "<tr><td>24935</td><td>SDSSJ143955.08+030534.7     ,PGC1244740</td><td>2</td><td>219.9846</td><td>3.088145</td><td>8.85363</td></tr>\n",
       "<tr><td>24936</td><td>PGC3125576                  ,PGC3125591</td><td>2</td><td>219.984975</td><td>4.28643</td><td>8.45515</td></tr>\n",
       "<tr><td>24937</td><td>SDSSJ143956.55+072442.1     ,2MASXJ14395795+0725311</td><td>2</td><td>219.988575</td><td>7.41849</td><td>8.0746</td></tr>\n",
       "<tr><td>24938</td><td>SDSSJ143957.46+030751.4     ,PGC3123267</td><td>2</td><td>219.990075</td><td>3.131445</td><td>14.3589</td></tr>\n",
       "</table>"
      ],
      "text/plain": [
       "<Table length=24939>\n",
       "GROUPID                           GALAXY                          ...  RADIUS\n",
       " int64                          bytes1000                         ... float32\n",
       "------- --------------------------------------------------------- ... -------\n",
       "      0                              PGC3298787                   ... 5.58626\n",
       "      1                              PGC3113329                   ... 6.41389\n",
       "      2                              SDSSJ132000.21+064505.4      ... 6.12521\n",
       "      3                              SDSSJ132000.27+061154.2      ... 8.65209\n",
       "      4                              SDSSJ132000.30+025943.9      ... 11.9432\n",
       "      5                              SDSSJ132000.57+034936.1      ... 7.03269\n",
       "      6                              PGC1365688                   ... 11.1461\n",
       "      7                              2MASXJ13200113+0547200       ... 6.41389\n",
       "      8                              SDSSJ132001.33+050625.5      ... 5.58626\n",
       "      9                              SDSSJ132001.32+065621.9      ... 9.27089\n",
       "    ...                                                       ... ...     ...\n",
       "  24929 PGC3305336                  ,PGC3115344                   ... 6.71616\n",
       "  24930 PGC1355519                  ,SDSSJ143943.82+085320.8      ... 13.0955\n",
       "  24931 PGC1254218                  ,SDSSJ143950.98+033329.5      ... 9.27089\n",
       "  24932 SDSSJ143950.47+044214.2     ,PGC1271780                   ... 18.9287\n",
       "  24933 PGC3113416                  ,PGC3305325                   ... 11.1461\n",
       "  24934 SDSSJ143953.54+014841.1     ,PGC1206438                   ... 9.70781\n",
       "  24935 SDSSJ143955.08+030534.7     ,PGC1244740                   ... 8.85363\n",
       "  24936 PGC3125576                  ,PGC3125591                   ... 8.45515\n",
       "  24937 SDSSJ143956.55+072442.1     ,2MASXJ14395795+0725311       ...  8.0746\n",
       "  24938 SDSSJ143957.46+030751.4     ,PGC3123267                   ... 14.3589"
      ]
     },
     "execution_count": 146,
     "metadata": {},
     "output_type": "execute_result"
    }
   ],
   "source": [
    "groupcat"
   ]
  },
  {
   "cell_type": "code",
   "execution_count": 184,
   "metadata": {},
   "outputs": [
    {
     "ename": "ValueError",
     "evalue": "Invalid RGBA argument: 1",
     "output_type": "error",
     "traceback": [
      "\u001b[0;31m---------------------------------------------------------------------------\u001b[0m",
      "\u001b[0;31mKeyError\u001b[0m                                  Traceback (most recent call last)",
      "\u001b[0;32m/usr/local/anaconda3/envs/LSLGA/lib/python3.6/site-packages/matplotlib/colors.py\u001b[0m in \u001b[0;36mto_rgba\u001b[0;34m(c, alpha)\u001b[0m\n\u001b[1;32m    140\u001b[0m     \u001b[0;32mtry\u001b[0m\u001b[0;34m:\u001b[0m\u001b[0;34m\u001b[0m\u001b[0m\n\u001b[0;32m--> 141\u001b[0;31m         \u001b[0mrgba\u001b[0m \u001b[0;34m=\u001b[0m \u001b[0m_colors_full_map\u001b[0m\u001b[0;34m.\u001b[0m\u001b[0mcache\u001b[0m\u001b[0;34m[\u001b[0m\u001b[0mc\u001b[0m\u001b[0;34m,\u001b[0m \u001b[0malpha\u001b[0m\u001b[0;34m]\u001b[0m\u001b[0;34m\u001b[0m\u001b[0m\n\u001b[0m\u001b[1;32m    142\u001b[0m     \u001b[0;32mexcept\u001b[0m \u001b[0;34m(\u001b[0m\u001b[0mKeyError\u001b[0m\u001b[0;34m,\u001b[0m \u001b[0mTypeError\u001b[0m\u001b[0;34m)\u001b[0m\u001b[0;34m:\u001b[0m  \u001b[0;31m# Not in cache, or unhashable.\u001b[0m\u001b[0;34m\u001b[0m\u001b[0m\n",
      "\u001b[0;31mKeyError\u001b[0m: (1, None)",
      "\nDuring handling of the above exception, another exception occurred:\n",
      "\u001b[0;31mValueError\u001b[0m                                Traceback (most recent call last)",
      "\u001b[0;32m<ipython-input-184-4be3cb9fd5a6>\u001b[0m in \u001b[0;36m<module>\u001b[0;34m()\u001b[0m\n\u001b[1;32m      2\u001b[0m \u001b[0mfig\u001b[0m\u001b[0;34m,\u001b[0m \u001b[0max\u001b[0m \u001b[0;34m=\u001b[0m \u001b[0mplt\u001b[0m\u001b[0;34m.\u001b[0m\u001b[0msubplots\u001b[0m\u001b[0;34m(\u001b[0m\u001b[0;34m)\u001b[0m\u001b[0;34m\u001b[0m\u001b[0m\n\u001b[1;32m      3\u001b[0m ax.scatter(groupcat['RA'][ww], groupcat['DEC'][ww], c=groupcat['NMEMBERS'],\n\u001b[0;32m----> 4\u001b[0;31m            cm = plt.cm.get_cmap('RdYlBu'))\n\u001b[0m\u001b[1;32m      5\u001b[0m \u001b[0max\u001b[0m\u001b[0;34m.\u001b[0m\u001b[0mcolorbar\u001b[0m\u001b[0;34m(\u001b[0m\u001b[0;34m)\u001b[0m\u001b[0;34m\u001b[0m\u001b[0m\n",
      "\u001b[0;32m/usr/local/anaconda3/envs/LSLGA/lib/python3.6/site-packages/matplotlib/__init__.py\u001b[0m in \u001b[0;36minner\u001b[0;34m(ax, *args, **kwargs)\u001b[0m\n\u001b[1;32m   1896\u001b[0m                     warnings.warn(msg % (label_namer, func.__name__),\n\u001b[1;32m   1897\u001b[0m                                   RuntimeWarning, stacklevel=2)\n\u001b[0;32m-> 1898\u001b[0;31m             \u001b[0;32mreturn\u001b[0m \u001b[0mfunc\u001b[0m\u001b[0;34m(\u001b[0m\u001b[0max\u001b[0m\u001b[0;34m,\u001b[0m \u001b[0;34m*\u001b[0m\u001b[0margs\u001b[0m\u001b[0;34m,\u001b[0m \u001b[0;34m**\u001b[0m\u001b[0mkwargs\u001b[0m\u001b[0;34m)\u001b[0m\u001b[0;34m\u001b[0m\u001b[0m\n\u001b[0m\u001b[1;32m   1899\u001b[0m         \u001b[0mpre_doc\u001b[0m \u001b[0;34m=\u001b[0m \u001b[0minner\u001b[0m\u001b[0;34m.\u001b[0m\u001b[0m__doc__\u001b[0m\u001b[0;34m\u001b[0m\u001b[0m\n\u001b[1;32m   1900\u001b[0m         \u001b[0;32mif\u001b[0m \u001b[0mpre_doc\u001b[0m \u001b[0;32mis\u001b[0m \u001b[0;32mNone\u001b[0m\u001b[0;34m:\u001b[0m\u001b[0;34m\u001b[0m\u001b[0m\n",
      "\u001b[0;32m/usr/local/anaconda3/envs/LSLGA/lib/python3.6/site-packages/matplotlib/axes/_axes.py\u001b[0m in \u001b[0;36mscatter\u001b[0;34m(self, x, y, s, c, marker, cmap, norm, vmin, vmax, alpha, linewidths, verts, edgecolors, **kwargs)\u001b[0m\n\u001b[1;32m   4032\u001b[0m                 \u001b[0moffsets\u001b[0m\u001b[0;34m=\u001b[0m\u001b[0moffsets\u001b[0m\u001b[0;34m,\u001b[0m\u001b[0;34m\u001b[0m\u001b[0m\n\u001b[1;32m   4033\u001b[0m                 \u001b[0mtransOffset\u001b[0m\u001b[0;34m=\u001b[0m\u001b[0mkwargs\u001b[0m\u001b[0;34m.\u001b[0m\u001b[0mpop\u001b[0m\u001b[0;34m(\u001b[0m\u001b[0;34m'transform'\u001b[0m\u001b[0;34m,\u001b[0m \u001b[0mself\u001b[0m\u001b[0;34m.\u001b[0m\u001b[0mtransData\u001b[0m\u001b[0;34m)\u001b[0m\u001b[0;34m,\u001b[0m\u001b[0;34m\u001b[0m\u001b[0m\n\u001b[0;32m-> 4034\u001b[0;31m                 \u001b[0malpha\u001b[0m\u001b[0;34m=\u001b[0m\u001b[0malpha\u001b[0m\u001b[0;34m\u001b[0m\u001b[0m\n\u001b[0m\u001b[1;32m   4035\u001b[0m                 )\n\u001b[1;32m   4036\u001b[0m         \u001b[0mcollection\u001b[0m\u001b[0;34m.\u001b[0m\u001b[0mset_transform\u001b[0m\u001b[0;34m(\u001b[0m\u001b[0mmtransforms\u001b[0m\u001b[0;34m.\u001b[0m\u001b[0mIdentityTransform\u001b[0m\u001b[0;34m(\u001b[0m\u001b[0;34m)\u001b[0m\u001b[0;34m)\u001b[0m\u001b[0;34m\u001b[0m\u001b[0m\n",
      "\u001b[0;32m/usr/local/anaconda3/envs/LSLGA/lib/python3.6/site-packages/matplotlib/collections.py\u001b[0m in \u001b[0;36m__init__\u001b[0;34m(self, paths, sizes, **kwargs)\u001b[0m\n\u001b[1;32m    900\u001b[0m         \"\"\"\n\u001b[1;32m    901\u001b[0m \u001b[0;34m\u001b[0m\u001b[0m\n\u001b[0;32m--> 902\u001b[0;31m         \u001b[0mCollection\u001b[0m\u001b[0;34m.\u001b[0m\u001b[0m__init__\u001b[0m\u001b[0;34m(\u001b[0m\u001b[0mself\u001b[0m\u001b[0;34m,\u001b[0m \u001b[0;34m**\u001b[0m\u001b[0mkwargs\u001b[0m\u001b[0;34m)\u001b[0m\u001b[0;34m\u001b[0m\u001b[0m\n\u001b[0m\u001b[1;32m    903\u001b[0m         \u001b[0mself\u001b[0m\u001b[0;34m.\u001b[0m\u001b[0mset_paths\u001b[0m\u001b[0;34m(\u001b[0m\u001b[0mpaths\u001b[0m\u001b[0;34m)\u001b[0m\u001b[0;34m\u001b[0m\u001b[0m\n\u001b[1;32m    904\u001b[0m         \u001b[0mself\u001b[0m\u001b[0;34m.\u001b[0m\u001b[0mset_sizes\u001b[0m\u001b[0;34m(\u001b[0m\u001b[0msizes\u001b[0m\u001b[0;34m)\u001b[0m\u001b[0;34m\u001b[0m\u001b[0m\n",
      "\u001b[0;32m/usr/local/anaconda3/envs/LSLGA/lib/python3.6/site-packages/matplotlib/collections.py\u001b[0m in \u001b[0;36m__init__\u001b[0;34m(self, edgecolors, facecolors, linewidths, linestyles, antialiaseds, offsets, transOffset, norm, cmap, pickradius, hatch, urls, offset_position, zorder, **kwargs)\u001b[0m\n\u001b[1;32m    138\u001b[0m \u001b[0;34m\u001b[0m\u001b[0m\n\u001b[1;32m    139\u001b[0m         \u001b[0mself\u001b[0m\u001b[0;34m.\u001b[0m\u001b[0m_hatch_color\u001b[0m \u001b[0;34m=\u001b[0m \u001b[0mmcolors\u001b[0m\u001b[0;34m.\u001b[0m\u001b[0mto_rgba\u001b[0m\u001b[0;34m(\u001b[0m\u001b[0mmpl\u001b[0m\u001b[0;34m.\u001b[0m\u001b[0mrcParams\u001b[0m\u001b[0;34m[\u001b[0m\u001b[0;34m'hatch.color'\u001b[0m\u001b[0;34m]\u001b[0m\u001b[0;34m)\u001b[0m\u001b[0;34m\u001b[0m\u001b[0m\n\u001b[0;32m--> 140\u001b[0;31m         \u001b[0mself\u001b[0m\u001b[0;34m.\u001b[0m\u001b[0mset_facecolor\u001b[0m\u001b[0;34m(\u001b[0m\u001b[0mfacecolors\u001b[0m\u001b[0;34m)\u001b[0m\u001b[0;34m\u001b[0m\u001b[0m\n\u001b[0m\u001b[1;32m    141\u001b[0m         \u001b[0mself\u001b[0m\u001b[0;34m.\u001b[0m\u001b[0mset_edgecolor\u001b[0m\u001b[0;34m(\u001b[0m\u001b[0medgecolors\u001b[0m\u001b[0;34m)\u001b[0m\u001b[0;34m\u001b[0m\u001b[0m\n\u001b[1;32m    142\u001b[0m         \u001b[0mself\u001b[0m\u001b[0;34m.\u001b[0m\u001b[0mset_linewidth\u001b[0m\u001b[0;34m(\u001b[0m\u001b[0mlinewidths\u001b[0m\u001b[0;34m)\u001b[0m\u001b[0;34m\u001b[0m\u001b[0m\n",
      "\u001b[0;32m/usr/local/anaconda3/envs/LSLGA/lib/python3.6/site-packages/matplotlib/collections.py\u001b[0m in \u001b[0;36mset_facecolor\u001b[0;34m(self, c)\u001b[0m\n\u001b[1;32m    679\u001b[0m         \"\"\"\n\u001b[1;32m    680\u001b[0m         \u001b[0mself\u001b[0m\u001b[0;34m.\u001b[0m\u001b[0m_original_facecolor\u001b[0m \u001b[0;34m=\u001b[0m \u001b[0mc\u001b[0m\u001b[0;34m\u001b[0m\u001b[0m\n\u001b[0;32m--> 681\u001b[0;31m         \u001b[0mself\u001b[0m\u001b[0;34m.\u001b[0m\u001b[0m_set_facecolor\u001b[0m\u001b[0;34m(\u001b[0m\u001b[0mc\u001b[0m\u001b[0;34m)\u001b[0m\u001b[0;34m\u001b[0m\u001b[0m\n\u001b[0m\u001b[1;32m    682\u001b[0m \u001b[0;34m\u001b[0m\u001b[0m\n\u001b[1;32m    683\u001b[0m     \u001b[0;32mdef\u001b[0m \u001b[0mset_facecolors\u001b[0m\u001b[0;34m(\u001b[0m\u001b[0mself\u001b[0m\u001b[0;34m,\u001b[0m \u001b[0mc\u001b[0m\u001b[0;34m)\u001b[0m\u001b[0;34m:\u001b[0m\u001b[0;34m\u001b[0m\u001b[0m\n",
      "\u001b[0;32m/usr/local/anaconda3/envs/LSLGA/lib/python3.6/site-packages/matplotlib/collections.py\u001b[0m in \u001b[0;36m_set_facecolor\u001b[0;34m(self, c)\u001b[0m\n\u001b[1;32m    664\u001b[0m         \u001b[0;32mexcept\u001b[0m \u001b[0mAttributeError\u001b[0m\u001b[0;34m:\u001b[0m\u001b[0;34m\u001b[0m\u001b[0m\n\u001b[1;32m    665\u001b[0m             \u001b[0;32mpass\u001b[0m\u001b[0;34m\u001b[0m\u001b[0m\n\u001b[0;32m--> 666\u001b[0;31m         \u001b[0mself\u001b[0m\u001b[0;34m.\u001b[0m\u001b[0m_facecolors\u001b[0m \u001b[0;34m=\u001b[0m \u001b[0mmcolors\u001b[0m\u001b[0;34m.\u001b[0m\u001b[0mto_rgba_array\u001b[0m\u001b[0;34m(\u001b[0m\u001b[0mc\u001b[0m\u001b[0;34m,\u001b[0m \u001b[0mself\u001b[0m\u001b[0;34m.\u001b[0m\u001b[0m_alpha\u001b[0m\u001b[0;34m)\u001b[0m\u001b[0;34m\u001b[0m\u001b[0m\n\u001b[0m\u001b[1;32m    667\u001b[0m         \u001b[0mself\u001b[0m\u001b[0;34m.\u001b[0m\u001b[0mstale\u001b[0m \u001b[0;34m=\u001b[0m \u001b[0;32mTrue\u001b[0m\u001b[0;34m\u001b[0m\u001b[0m\n\u001b[1;32m    668\u001b[0m \u001b[0;34m\u001b[0m\u001b[0m\n",
      "\u001b[0;32m/usr/local/anaconda3/envs/LSLGA/lib/python3.6/site-packages/matplotlib/colors.py\u001b[0m in \u001b[0;36mto_rgba_array\u001b[0;34m(c, alpha)\u001b[0m\n\u001b[1;32m    237\u001b[0m     \u001b[0mresult\u001b[0m \u001b[0;34m=\u001b[0m \u001b[0mnp\u001b[0m\u001b[0;34m.\u001b[0m\u001b[0mempty\u001b[0m\u001b[0;34m(\u001b[0m\u001b[0;34m(\u001b[0m\u001b[0mlen\u001b[0m\u001b[0;34m(\u001b[0m\u001b[0mc\u001b[0m\u001b[0;34m)\u001b[0m\u001b[0;34m,\u001b[0m \u001b[0;36m4\u001b[0m\u001b[0;34m)\u001b[0m\u001b[0;34m,\u001b[0m \u001b[0mfloat\u001b[0m\u001b[0;34m)\u001b[0m\u001b[0;34m\u001b[0m\u001b[0m\n\u001b[1;32m    238\u001b[0m     \u001b[0;32mfor\u001b[0m \u001b[0mi\u001b[0m\u001b[0;34m,\u001b[0m \u001b[0mcc\u001b[0m \u001b[0;32min\u001b[0m \u001b[0menumerate\u001b[0m\u001b[0;34m(\u001b[0m\u001b[0mc\u001b[0m\u001b[0;34m)\u001b[0m\u001b[0;34m:\u001b[0m\u001b[0;34m\u001b[0m\u001b[0m\n\u001b[0;32m--> 239\u001b[0;31m         \u001b[0mresult\u001b[0m\u001b[0;34m[\u001b[0m\u001b[0mi\u001b[0m\u001b[0;34m]\u001b[0m \u001b[0;34m=\u001b[0m \u001b[0mto_rgba\u001b[0m\u001b[0;34m(\u001b[0m\u001b[0mcc\u001b[0m\u001b[0;34m,\u001b[0m \u001b[0malpha\u001b[0m\u001b[0;34m)\u001b[0m\u001b[0;34m\u001b[0m\u001b[0m\n\u001b[0m\u001b[1;32m    240\u001b[0m     \u001b[0;32mreturn\u001b[0m \u001b[0mresult\u001b[0m\u001b[0;34m\u001b[0m\u001b[0m\n\u001b[1;32m    241\u001b[0m \u001b[0;34m\u001b[0m\u001b[0m\n",
      "\u001b[0;32m/usr/local/anaconda3/envs/LSLGA/lib/python3.6/site-packages/matplotlib/colors.py\u001b[0m in \u001b[0;36mto_rgba\u001b[0;34m(c, alpha)\u001b[0m\n\u001b[1;32m    141\u001b[0m         \u001b[0mrgba\u001b[0m \u001b[0;34m=\u001b[0m \u001b[0m_colors_full_map\u001b[0m\u001b[0;34m.\u001b[0m\u001b[0mcache\u001b[0m\u001b[0;34m[\u001b[0m\u001b[0mc\u001b[0m\u001b[0;34m,\u001b[0m \u001b[0malpha\u001b[0m\u001b[0;34m]\u001b[0m\u001b[0;34m\u001b[0m\u001b[0m\n\u001b[1;32m    142\u001b[0m     \u001b[0;32mexcept\u001b[0m \u001b[0;34m(\u001b[0m\u001b[0mKeyError\u001b[0m\u001b[0;34m,\u001b[0m \u001b[0mTypeError\u001b[0m\u001b[0;34m)\u001b[0m\u001b[0;34m:\u001b[0m  \u001b[0;31m# Not in cache, or unhashable.\u001b[0m\u001b[0;34m\u001b[0m\u001b[0m\n\u001b[0;32m--> 143\u001b[0;31m         \u001b[0mrgba\u001b[0m \u001b[0;34m=\u001b[0m \u001b[0m_to_rgba_no_colorcycle\u001b[0m\u001b[0;34m(\u001b[0m\u001b[0mc\u001b[0m\u001b[0;34m,\u001b[0m \u001b[0malpha\u001b[0m\u001b[0;34m)\u001b[0m\u001b[0;34m\u001b[0m\u001b[0m\n\u001b[0m\u001b[1;32m    144\u001b[0m         \u001b[0;32mtry\u001b[0m\u001b[0;34m:\u001b[0m\u001b[0;34m\u001b[0m\u001b[0m\n\u001b[1;32m    145\u001b[0m             \u001b[0m_colors_full_map\u001b[0m\u001b[0;34m.\u001b[0m\u001b[0mcache\u001b[0m\u001b[0;34m[\u001b[0m\u001b[0mc\u001b[0m\u001b[0;34m,\u001b[0m \u001b[0malpha\u001b[0m\u001b[0;34m]\u001b[0m \u001b[0;34m=\u001b[0m \u001b[0mrgba\u001b[0m\u001b[0;34m\u001b[0m\u001b[0m\n",
      "\u001b[0;32m/usr/local/anaconda3/envs/LSLGA/lib/python3.6/site-packages/matplotlib/colors.py\u001b[0m in \u001b[0;36m_to_rgba_no_colorcycle\u001b[0;34m(c, alpha)\u001b[0m\n\u001b[1;32m    192\u001b[0m         \u001b[0;31m# float)` and `np.array(...).astype(float)` all convert \"0.5\" to 0.5.\u001b[0m\u001b[0;34m\u001b[0m\u001b[0;34m\u001b[0m\u001b[0m\n\u001b[1;32m    193\u001b[0m         \u001b[0;31m# Test dimensionality to reject single floats.\u001b[0m\u001b[0;34m\u001b[0m\u001b[0;34m\u001b[0m\u001b[0m\n\u001b[0;32m--> 194\u001b[0;31m         \u001b[0;32mraise\u001b[0m \u001b[0mValueError\u001b[0m\u001b[0;34m(\u001b[0m\u001b[0;34m\"Invalid RGBA argument: {!r}\"\u001b[0m\u001b[0;34m.\u001b[0m\u001b[0mformat\u001b[0m\u001b[0;34m(\u001b[0m\u001b[0morig_c\u001b[0m\u001b[0;34m)\u001b[0m\u001b[0;34m)\u001b[0m\u001b[0;34m\u001b[0m\u001b[0m\n\u001b[0m\u001b[1;32m    195\u001b[0m     \u001b[0;31m# Return a tuple to prevent the cached value from being modified.\u001b[0m\u001b[0;34m\u001b[0m\u001b[0;34m\u001b[0m\u001b[0m\n\u001b[1;32m    196\u001b[0m     \u001b[0mc\u001b[0m \u001b[0;34m=\u001b[0m \u001b[0mtuple\u001b[0m\u001b[0;34m(\u001b[0m\u001b[0mc\u001b[0m\u001b[0;34m.\u001b[0m\u001b[0mastype\u001b[0m\u001b[0;34m(\u001b[0m\u001b[0mfloat\u001b[0m\u001b[0;34m)\u001b[0m\u001b[0;34m)\u001b[0m\u001b[0;34m\u001b[0m\u001b[0m\n",
      "\u001b[0;31mValueError\u001b[0m: Invalid RGBA argument: 1"
     ]
    },
    {
     "data": {
      "image/png": "[encoded data removed]",
      "text/plain": [
       "<matplotlib.figure.Figure at 0x172372be0>"
      ]
     },
     "metadata": {},
     "output_type": "display_data"
    }
   ],
   "source": [
    "ww = np.where(groupcat['NMEMBERS'] > 2)[0]\n",
    "fig, ax = plt.subplots()\n",
    "ax.scatter(groupcat['RA'][ww], groupcat['DEC'][ww], c=groupcat['NMEMBERS'],\n",
    "           cm = plt.cm.get_cmap('viridis'))\n",
    "ax.colorbar()"
   ]
  },
  {
   "cell_type": "code",
   "execution_count": 149,
   "metadata": {},
   "outputs": [
    {
     "data": {
      "text/html": [
       "&lt;Row index=17767&gt;\n",
       "<table id=\"table4555639272\">\n",
       "<thead><tr><th>GROUPID</th><th>GALAXY</th><th>NMEMBERS</th><th>RA</th><th>DEC</th><th>RADIUS</th></tr></thead>\n",
       "<thead><tr><th>int64</th><th>bytes1000</th><th>int32</th><th>float64</th><th>float64</th><th>float32</th></tr></thead>\n",
       "<tr><td>17767</td><td>SDSSJ141505.45+092230.8</td><td>1</td><td>213.77265</td><td>9.37528</td><td>207.549</td></tr>\n",
       "</table>"
      ],
      "text/plain": [
       "<Row index=17767>\n",
       "GROUPID            GALAXY            NMEMBERS     RA      DEC    RADIUS\n",
       " int64           bytes1000            int32    float64  float64 float32\n",
       "------- ---------------------------- -------- --------- ------- -------\n",
       "  17767 SDSSJ141505.45+092230.8             1 213.77265 9.37528 207.549"
      ]
     },
     "execution_count": 149,
     "metadata": {},
     "output_type": "execute_result"
    }
   ],
   "source": []
  },
  {
   "cell_type": "code",
   "execution_count": 178,
   "metadata": {},
   "outputs": [
    {
     "name": "stdout",
     "output_type": "stream",
     "text": [
      "19979\n"
     ]
    }
   ],
   "source": [
    "for ii, gal in enumerate(leda['GALAXY'].data):\n",
    "    if 'SDSSJ141505.45+092230.8' in gal:\n",
    "        print(ii)"
   ]
  },
  {
   "cell_type": "code",
   "execution_count": 179,
   "metadata": {},
   "outputs": [
    {
     "data": {
      "text/html": [
       "&lt;Row index=19979&gt;\n",
       "<table id=\"table4487647696\">\n",
       "<thead><tr><th>GALAXY</th><th>PGC</th><th>RA</th><th>DEC</th><th>TYPE</th><th>OBJTYPE</th><th>MULTIPLE</th><th>D25</th><th>BA</th><th>PA</th><th>BMAG</th><th>IMAG</th><th>VHELIO</th></tr></thead>\n",
       "<thead><tr><th>str28</th><th>str10</th><th>float64</th><th>float64</th><th>str4</th><th>str2</th><th>str1</th><th>float32</th><th>float32</th><th>float32</th><th>float32</th><th>float32</th><th>float32</th></tr></thead>\n",
       "<tr><td>SDSSJ141505.45+092230.8</td><td>PGC4544430</td><td>213.77265</td><td>9.37528</td><td></td><td>G</td><td></td><td>415.099</td><td>0.109648</td><td>55.5</td><td>17.97</td><td>16.61</td><td>47760.0</td></tr>\n",
       "</table>"
      ],
      "text/plain": [
       "<Row index=19979>\n",
       "           GALAXY               PGC         RA      DEC   TYPE OBJTYPE MULTIPLE   D25      BA       PA     BMAG    IMAG   VHELIO\n",
       "           str28               str10     float64  float64 str4   str2    str1   float32 float32  float32 float32 float32 float32\n",
       "---------------------------- ---------- --------- ------- ---- ------- -------- ------- -------- ------- ------- ------- -------\n",
       "SDSSJ141505.45+092230.8      PGC4544430 213.77265 9.37528           G           415.099 0.109648    55.5   17.97   16.61 47760.0"
      ]
     },
     "execution_count": 179,
     "metadata": {},
     "output_type": "execute_result"
    }
   ],
   "source": [
    "leda[19979]"
   ]
  },
  {
   "cell_type": "code",
   "execution_count": 70,
   "metadata": {},
   "outputs": [
    {
     "data": {
      "text/plain": [
       "22939"
      ]
     },
     "execution_count": 70,
     "metadata": {},
     "output_type": "execute_result"
    }
   ],
   "source": [
    "groupfile = os.path.join(LSLGAdir, 'sample', 'leda-logd25-0.05.fits')\n"
   ]
  },
  {
   "cell_type": "code",
   "execution_count": 71,
   "metadata": {},
   "outputs": [
    {
     "data": {
      "text/html": [
       "&lt;Row index=22939&gt;\n",
       "<table id=\"table4475071736\">\n",
       "<thead><tr><th>GROUPID</th><th>RA</th><th>DEC</th><th>NMEMBERS</th><th>GALAXY</th></tr></thead>\n",
       "<thead><tr><th>int64</th><th>float64</th><th>float64</th><th>int32</th><th>bytes1000</th></tr></thead>\n",
       "<tr><td>22939</td><td>205.554342857</td><td>2.24022952381</td><td>21</td><td>PGC096969                   ,PGC096971                   ,2MASXJ13420905+0213354      ,PGC096943                   ,PGC096972                   ,PGC096973                   ,PGC096942                   ,PGC096975                   ,PGC096976                   ,PGC096977                   ,PGC096944                   ,PGC096953                   ,PGC096979                   ,PGC096948                   ,PGC096952                   ,PGC096951                   ,PGC096947                   ,PGC096983                   ,PGC096984                   ,PGC096985                   ,PGC096987</td></tr>\n",
       "</table>"
      ],
      "text/plain": [
       "<Row index=22939>\n",
       "GROUPID       RA           DEC      NMEMBERS                                                                                                                                                                                                                                                                                                              GALAXY                                                                                                                                                                                                                                                                                                             \n",
       " int64     float64       float64     int32                                                                                                                                                                                                                                                                                                              bytes1000                                                                                                                                                                                                                                                                                                            \n",
       "------- ------------- ------------- -------- --------------------------------------------------------------------------------------------------------------------------------------------------------------------------------------------------------------------------------------------------------------------------------------------------------------------------------------------------------------------------------------------------------------------------------------------------------------------------------------------------------------------------------------------------------------------------------------------------------------------------------\n",
       "  22939 205.554342857 2.24022952381       21 PGC096969                   ,PGC096971                   ,2MASXJ13420905+0213354      ,PGC096943                   ,PGC096972                   ,PGC096973                   ,PGC096942                   ,PGC096975                   ,PGC096976                   ,PGC096977                   ,PGC096944                   ,PGC096953                   ,PGC096979                   ,PGC096948                   ,PGC096952                   ,PGC096951                   ,PGC096947                   ,PGC096983                   ,PGC096984                   ,PGC096985                   ,PGC096987                   "
      ]
     },
     "execution_count": 71,
     "metadata": {},
     "output_type": "execute_result"
    }
   ],
   "source": [
    "groupcat[22939]"
   ]
  },
  {
   "cell_type": "code",
   "execution_count": null,
   "metadata": {},
   "outputs": [],
   "source": [
    "groupcat[nsmallgrp:nsmallgrp+10]"
   ]
  },
  {
   "cell_type": "code",
   "execution_count": null,
   "metadata": {
    "collapsed": true
   },
   "outputs": [],
   "source": [
    "stop"
   ]
  },
  {
   "cell_type": "code",
   "execution_count": null,
   "metadata": {
    "collapsed": true
   },
   "outputs": [],
   "source": [
    "ii = np.where(npergrp == 2)[0]\n",
    "print(ii)\n",
    "np.where(grp == 9)"
   ]
  },
  {
   "cell_type": "code",
   "execution_count": null,
   "metadata": {
    "collapsed": true
   },
   "outputs": [],
   "source": [
    "npergrp[:10]"
   ]
  },
  {
   "cell_type": "code",
   "execution_count": null,
   "metadata": {
    "collapsed": true
   },
   "outputs": [],
   "source": [
    "len(grp), len(np.unique(grp))"
   ]
  },
  {
   "cell_type": "code",
   "execution_count": null,
   "metadata": {
    "collapsed": true
   },
   "outputs": [],
   "source": [
    "np.where(grp - np.arange(len(grp)) != 0)"
   ]
  },
  {
   "cell_type": "code",
   "execution_count": null,
   "metadata": {
    "collapsed": true
   },
   "outputs": [],
   "source": [
    "ww = np.where(grp == 8)[0]\n",
    "leda[these][ww]"
   ]
  },
  {
   "cell_type": "code",
   "execution_count": null,
   "metadata": {
    "collapsed": true
   },
   "outputs": [],
   "source": [
    "np.sum(ngrp > 1)"
   ]
  },
  {
   "cell_type": "code",
   "execution_count": null,
   "metadata": {
    "collapsed": true
   },
   "outputs": [],
   "source": [
    "lega['']"
   ]
  },
  {
   "cell_type": "code",
   "execution_count": null,
   "metadata": {
    "collapsed": true
   },
   "outputs": [],
   "source": []
  }
 ],
 "metadata": {
  "kernelspec": {
   "display_name": "Python 3",
   "language": "python",
   "name": "python3"
  },
  "language_info": {
   "codemirror_mode": {
    "name": "ipython",
    "version": 3
   },
   "file_extension": ".py",
   "mimetype": "text/x-python",
   "name": "python",
   "nbconvert_exporter": "python",
   "pygments_lexer": "ipython3",
   "version": "3.6.2"
  }
 },
 "nbformat": 4,
 "nbformat_minor": 2
}
