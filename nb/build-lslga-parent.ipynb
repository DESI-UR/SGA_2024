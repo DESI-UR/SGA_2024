{
 "cells": [
  {
   "cell_type": "markdown",
   "metadata": {},
   "source": [
    "# Build the LSLGA parent sample\n",
    "\n",
    "The purpose of this notebook is to build the parent sample for the Legacy Survey Large Galaxy Atlas (LSLGA)."
   ]
  },
  {
   "cell_type": "markdown",
   "metadata": {},
   "source": [
    "### Imports and paths"
   ]
  },
  {
   "cell_type": "code",
   "execution_count": 13,
   "metadata": {
    "collapsed": true
   },
   "outputs": [],
   "source": [
    "import os\n",
    "import numpy as np\n",
    "\n",
    "import matplotlib.pyplot as plt\n",
    "\n",
    "from legacypipe.survey import ccds_touching_wcs, LegacySurveyData"
   ]
  },
  {
   "cell_type": "code",
   "execution_count": 12,
   "metadata": {
    "collapsed": false
   },
   "outputs": [],
   "source": [
    "plt.style.use('seaborn-talk')\n",
    "%matplotlib inline"
   ]
  },
  {
   "cell_type": "code",
   "execution_count": 14,
   "metadata": {
    "collapsed": true
   },
   "outputs": [],
   "source": [
    "dr = 'dr5'\n",
    "LSLGAdir = os.getenv('LSLGA_DIR')"
   ]
  },
  {
   "cell_type": "markdown",
   "metadata": {},
   "source": [
    "### Read the parent HyperLeda catalog"
   ]
  },
  {
   "cell_type": "code",
   "execution_count": 22,
   "metadata": {
    "collapsed": true
   },
   "outputs": [],
   "source": [
    "def _catalog_template(nobj=1):\n",
    "    cols = [\n",
    "        ('GALAXY', 'S28'), \n",
    "        ('PGC', 'S10'), \n",
    "        ('RA', 'f8'), \n",
    "        ('DEC', 'f8'),\n",
    "        ('TYPE', 'S8'),\n",
    "        ('MULTIPLE', 'S1'),\n",
    "        ('RADIUS', 'f4'),\n",
    "        ('BA', 'f4'),\n",
    "        ('PA', 'f4'),\n",
    "        ('BMAG', 'f4'),\n",
    "        ('IMAG', 'f4'),\n",
    "        ('VHELIO', 'f4'),\n",
    "        ('BRICKNAME', 'S17', (4,))\n",
    "        ]\n",
    "    catalog = Table(np.zeros(nobj, dtype=cols))\n",
    "    catalog['RADIUS'].unit = 'arcsec'\n",
    "    catalog['VHELIO'].unit = 'km/s'\n",
    "\n",
    "    return catalog"
   ]
  },
  {
   "cell_type": "code",
   "execution_count": 23,
   "metadata": {
    "collapsed": true
   },
   "outputs": [],
   "source": [
    "def read_leda(largedir='.', d25min=0.0, d25max=1000.0, decmin=-90.0, \n",
    "              decmax=+90.0, ramin=0.0, ramax=360.0):\n",
    "    \"\"\"Read the parent LEDA catalog and put it in a standard format.\n",
    "    \n",
    "    \"\"\"\n",
    "    cat = fits.getdata(os.path.join(largedir, 'sample', 'leda-logd25-0.05.fits.gz'), 1)\n",
    "\n",
    "    outcat = _catalog_template(len(cat))\n",
    "    outcat['GALAXY'] = cat['GALAXY']\n",
    "    outcat['PGC'] = cat['PGC']\n",
    "    outcat['RA'] = cat['RA']\n",
    "    outcat['DEC'] = cat['DEC']\n",
    "    outcat['TYPE'] = cat['TYPE']\n",
    "    outcat['MULTIPLE'] = cat['MULTIPLE']\n",
    "    outcat['RADIUS'] = cat['D25']/2.0 # semi-major axis radius [arcsec]\n",
    "    outcat['BA'] = cat['BA']\n",
    "    outcat['PA'] = cat['PA']\n",
    "    outcat['BMAG'] = cat['BMAG']\n",
    "    outcat['IMAG'] = cat['IMAG']\n",
    "    outcat['VHELIO'] = cat['VHELIO']\n",
    "\n",
    "    these = np.where((outcat['RADIUS']*2/60.0 <= d25max) *\n",
    "                     (outcat['RADIUS']*2/60.0 >= d25min) *\n",
    "                     (outcat['DEC'] <= decmax) *\n",
    "                     (outcat['DEC'] >= decmin) *\n",
    "                     (outcat['RA'] <= ramax) *\n",
    "                     (outcat['RA'] >= ramin)\n",
    "                     )[0]\n",
    "    outcat = outcat[these] \n",
    "\n",
    "    return outcat"
   ]
  },
  {
   "cell_type": "code",
   "execution_count": 17,
   "metadata": {
    "collapsed": true
   },
   "outputs": [],
   "source": [
    "survey = LegacySurveyData()"
   ]
  },
  {
   "cell_type": "code",
   "execution_count": 21,
   "metadata": {
    "collapsed": false
   },
   "outputs": [
    {
     "name": "stdout",
     "output_type": "stream",
     "text": [
      "Converted brickname from |S8 to <U8\n",
      "Reading annotated CCDs from /global/cscratch1/sd/desiproc/dr5/ccds-annotated-run19.fits.gz\n",
      "Converted object from |S37 to <U37\n",
      "Converted filter from |S1 to <U1\n",
      "Converted date_obs from |S10 to <U10\n",
      "Converted ut from |S15 to <U15\n",
      "Converted ha from |S13 to <U13\n",
      "Converted propid from |S10 to <U10\n",
      "Converted ccdname from |S3 to <U3\n",
      "Converted camera from |S5 to <U5\n",
      "Converted expid from |S12 to <U12\n",
      "Converted image_filename from |S51 to <U51\n",
      "Converted plver from |S6 to <U6\n",
      "Got 73860 CCDs\n",
      "Reading annotated CCDs from /global/cscratch1/sd/desiproc/dr5/ccds-annotated-decals.fits.gz\n",
      "Converted object from |S37 to <U37\n",
      "Converted filter from |S1 to <U1\n",
      "Converted date_obs from |S10 to <U10\n",
      "Converted ut from |S15 to <U15\n",
      "Converted ha from |S13 to <U13\n",
      "Converted propid from |S10 to <U10\n",
      "Converted ccdname from |S3 to <U3\n",
      "Converted camera from |S5 to <U5\n",
      "Converted expid from |S12 to <U12\n",
      "Converted image_filename from |S61 to <U61\n",
      "Converted plver from |S6 to <U6\n",
      "Got 493440 CCDs\n",
      "Reading annotated CCDs from /global/cscratch1/sd/desiproc/dr5/ccds-annotated-run28.fits.gz\n",
      "Converted object from |S37 to <U37\n",
      "Converted filter from |S1 to <U1\n",
      "Converted date_obs from |S10 to <U10\n",
      "Converted ut from |S15 to <U15\n",
      "Converted ha from |S13 to <U13\n",
      "Converted propid from |S10 to <U10\n",
      "Converted ccdname from |S3 to <U3\n",
      "Converted camera from |S5 to <U5\n",
      "Converted expid from |S12 to <U12\n",
      "Converted image_filename from |S51 to <U51\n",
      "Converted plver from |S6 to <U6\n",
      "Got 86986 CCDs\n",
      "Reading annotated CCDs from /global/cscratch1/sd/desiproc/dr5/ccds-annotated-extra.fits.gz\n",
      "Converted object from |S37 to <U37\n",
      "Converted filter from |S1 to <U1\n",
      "Converted date_obs from |S10 to <U10\n",
      "Converted ut from |S15 to <U15\n",
      "Converted ha from |S13 to <U13\n",
      "Converted propid from |S10 to <U10\n",
      "Converted ccdname from |S3 to <U3\n",
      "Converted camera from |S5 to <U5\n",
      "Converted expid from |S12 to <U12\n",
      "Converted image_filename from |S61 to <U61\n",
      "Converted plver from |S6 to <U6\n",
      "Got 487556 CCDs\n",
      "Reading annotated CCDs from /global/cscratch1/sd/desiproc/dr5/ccds-annotated-nondecals.fits.gz\n",
      "Converted object from |S37 to <U37\n",
      "Converted filter from |S1 to <U1\n",
      "Converted date_obs from |S10 to <U10\n",
      "Converted ut from |S15 to <U15\n",
      "Converted ha from |S13 to <U13\n",
      "Converted propid from |S10 to <U10\n",
      "Converted ccdname from |S3 to <U3\n",
      "Converted camera from |S5 to <U5\n",
      "Converted expid from |S12 to <U12\n",
      "Converted image_filename from |S61 to <U61\n",
      "Converted plver from |S6 to <U6\n",
      "Got 670810 CCDs\n",
      "Reading annotated CCDs from /global/cscratch1/sd/desiproc/dr5/ccds-annotated-run21.fits.gz\n",
      "Converted object from |S37 to <U37\n",
      "Converted filter from |S1 to <U1\n",
      "Converted date_obs from |S10 to <U10\n",
      "Converted ut from |S15 to <U15\n",
      "Converted ha from |S13 to <U13\n",
      "Converted propid from |S10 to <U10\n",
      "Converted ccdname from |S3 to <U3\n",
      "Converted camera from |S5 to <U5\n",
      "Converted expid from |S12 to <U12\n",
      "Converted image_filename from |S51 to <U51\n",
      "Converted plver from |S6 to <U6\n",
      "Got 39720 CCDs\n",
      "Reading annotated CCDs from /global/cscratch1/sd/desiproc/dr5/ccds-annotated-run27.fits.gz\n",
      "Converted object from |S37 to <U37\n",
      "Converted filter from |S1 to <U1\n",
      "Converted date_obs from |S10 to <U10\n",
      "Converted ut from |S15 to <U15\n",
      "Converted ha from |S13 to <U13\n",
      "Converted propid from |S10 to <U10\n",
      "Converted ccdname from |S3 to <U3\n",
      "Converted camera from |S5 to <U5\n",
      "Converted expid from |S12 to <U12\n",
      "Converted image_filename from |S51 to <U51\n",
      "Converted plver from |S6 to <U6\n",
      "Got 91866 CCDs\n",
      "Reading annotated CCDs from /global/cscratch1/sd/desiproc/dr5/ccds-annotated-nondecals-dr5.fits.gz\n",
      "Converted object from |S37 to <U37\n",
      "Converted filter from |S1 to <U1\n",
      "Converted date_obs from |S10 to <U10\n",
      "Converted ut from |S15 to <U15\n",
      "Converted ha from |S13 to <U13\n",
      "Converted propid from |S10 to <U10\n",
      "Converted ccdname from |S3 to <U3\n",
      "Converted temp from |S32 to <U32\n",
      "Converted camera from |S5 to <U5\n",
      "Converted expid from |S12 to <U12\n",
      "Converted image_filename from |S65 to <U65\n",
      "Converted plver from |S6 to <U6\n",
      "Got 551580 CCDs\n",
      "Reading annotated CCDs from /global/cscratch1/sd/desiproc/dr5/ccds-annotated-run14.fits.gz\n",
      "Converted object from |S37 to <U37\n",
      "Converted filter from |S1 to <U1\n",
      "Converted date_obs from |S10 to <U10\n",
      "Converted ut from |S15 to <U15\n",
      "Converted ha from |S13 to <U13\n",
      "Converted propid from |S10 to <U10\n",
      "Converted ccdname from |S3 to <U3\n",
      "Converted camera from |S5 to <U5\n",
      "Converted expid from |S12 to <U12\n",
      "Converted image_filename from |S51 to <U51\n",
      "Converted plver from |S6 to <U6\n",
      "Got 85020 CCDs\n",
      "Reading annotated CCDs from /global/cscratch1/sd/desiproc/dr5/ccds-annotated-run16.fits.gz\n",
      "Converted object from |S37 to <U37\n",
      "Converted filter from |S1 to <U1\n",
      "Converted date_obs from |S10 to <U10\n",
      "Converted ut from |S15 to <U15\n",
      "Converted ha from |S13 to <U13\n",
      "Converted propid from |S10 to <U10\n",
      "Converted ccdname from |S3 to <U3\n",
      "Converted camera from |S5 to <U5\n",
      "Converted expid from |S12 to <U12\n",
      "Converted image_filename from |S51 to <U51\n",
      "Converted plver from |S6 to <U6\n",
      "Got 40200 CCDs\n",
      "Reading annotated CCDs from /global/cscratch1/sd/desiproc/dr5/ccds-annotated-run25.fits.gz\n",
      "Converted object from |S37 to <U37\n",
      "Converted filter from |S1 to <U1\n",
      "Converted date_obs from |S10 to <U10\n",
      "Converted ut from |S15 to <U15\n",
      "Converted ha from |S13 to <U13\n",
      "Converted propid from |S10 to <U10\n",
      "Converted ccdname from |S3 to <U3\n",
      "Converted camera from |S5 to <U5\n",
      "Converted expid from |S12 to <U12\n",
      "Converted image_filename from |S51 to <U51\n",
      "Converted plver from |S6 to <U6\n",
      "Got 121085 CCDs\n",
      "Total of 2742123 CCDs\n",
      "Finding photometric CCDs.  Cameras: ['decam']\n",
      "Checking 2742123 images from camera decam\n",
      "Flagged 8007 more non-photometric using criterion: exptime < 30 s\n",
      "Flagged 91271 more non-photometric using criterion: ccdnmatch < 20\n",
      "Flagged 15502 more non-photometric using criterion: abs(zpt - ccdzpt) > 0.1\n",
      "Flagged 114979 more non-photometric using criterion: zpt < 0.5 mag of nominal\n",
      "Flagged 0 more non-photometric using criterion: zpt > 0.25 mag of nominal\n",
      "Keeping 2512364 photometric CCDs from camera decam\n",
      "Computing CCD cuts.  Cameras: ['decam']\n",
      "Checking 2512364 images from camera decam\n",
      "Read 2512364 CCDs.\n"
     ]
    }
   ],
   "source": [
    "bricks = survey.get_bricks()\n",
    "allccds = survey.get_annotated_ccds()\n",
    "cut = survey.photometric_ccds(allccds)\n",
    "if cut is not None:\n",
    "    allccds.cut(cut)\n",
    "cut = survey.ccd_cuts(allccds)\n",
    "allccds.cut(cut == 0)\n",
    "print('Read {} CCDs.'.format(len(allccds)))"
   ]
  },
  {
   "cell_type": "code",
   "execution_count": null,
   "metadata": {
    "collapsed": true
   },
   "outputs": [],
   "source": [
    "        # Read the parent super-sample.\n",
    "        if False:\n",
    "            print('Testing with smaller sample cuts!')\n",
    "            d25min, d25max = 1.0, 5.0\n",
    "            ramin, ramax = 175, 185\n",
    "        else:\n",
    "            d25min, d25max = 0.5, 10.0\n",
    "            ramin, ramax = 0, 360\n",
    "\n",
    "        cat = read_leda(largedir=largedir, d25min=d25min, d25max=d25max,\n",
    "                        decmax=np.max(allccds.dec)+0.3,\n",
    "                        decmin=np.min(allccds.dec)-0.3,\n"
   ]
  },
  {
   "cell_type": "markdown",
   "metadata": {},
   "source": [
    "### Build the parent sample"
   ]
  },
  {
   "cell_type": "code",
   "execution_count": 15,
   "metadata": {
    "collapsed": true
   },
   "outputs": [],
   "source": [
    "def _build_sample_onegalaxy(args):\n",
    "    \"\"\"Filler function for the multiprocessing.\"\"\"\n",
    "    return build_sample_onegalaxy(*args)"
   ]
  },
  {
   "cell_type": "code",
   "execution_count": 16,
   "metadata": {
    "collapsed": true
   },
   "outputs": [],
   "source": [
    "def build_sample_onegalaxy(gal, allccds, ccdsdir, bricks, survey):\n",
    "    \"\"\"Wrapper function to find overlapping CCDs for a given galaxy.\n",
    "\n",
    "    First generously find the nearest set of CCDs that are near the galaxy and\n",
    "    then demand that there's 3-band coverage in a much smaller region centered\n",
    "    on the galaxy.\n",
    "\n",
    "    \"\"\"\n",
    "    #print('Working on {}...'.format(gal['GALAXY'].strip()))\n",
    "    galwcs = _galwcs(gal)\n",
    "    these = ccds_touching_wcs(galwcs, allccds)\n",
    "\n",
    "    if len(these) > 0:\n",
    "        ccds1 = _uniqccds( allccds[these] )\n",
    "\n",
    "        # Is there 3-band coverage?\n",
    "        galwcs_small = _galwcs(gal, factor=0.5)\n",
    "        these_small = ccds_touching_wcs(galwcs_small, ccds1)\n",
    "        ccds1_small = _uniqccds( ccds1[these_small] )\n",
    "\n",
    "        if 'g' in ccds1_small.filter and 'r' in ccds1_small.filter and 'z' in ccds1_small.filter:\n",
    "            print('For {} found {} CCDs, RA = {:.5f}, Dec = {:.5f}, Radius={:.4f} arcsec'.format(\n",
    "                gal['GALAXY'].strip(), len(ccds1), gal['RA'], gal['DEC'], gal['RADIUS']))\n",
    "\n",
    "            ccdsfile = os.path.join(ccdsdir, '{}-ccds.fits'.format(gal['GALAXY'].strip().lower()))\n",
    "            #print('  Writing {}'.format(ccdsfile))\n",
    "            if os.path.isfile(ccdsfile):\n",
    "                os.remove(ccdsfile)\n",
    "            ccds1.writeto(ccdsfile)\n",
    "\n",
    "            # Also get the set of bricks touching this footprint.\n",
    "            rad = 2*gal['RADIUS']/3600 # [degree]\n",
    "            brickindx = survey.bricks_touching_radec_box(bricks,\n",
    "                                                         gal['RA']-rad, gal['RA']+rad,\n",
    "                                                         gal['DEC']-rad, gal['DEC']+rad)\n",
    "            if len(brickindx) == 0 or len(brickindx) > 4:\n",
    "                print('This should not happen!')\n",
    "                pdb.set_trace()\n",
    "            gal['BRICKNAME'][:len(brickindx)] = bricks.brickname[brickindx]\n",
    "\n",
    "            return [gal, ccds1]\n",
    "\n",
    "    return None\n"
   ]
  },
  {
   "cell_type": "code",
   "execution_count": null,
   "metadata": {
    "collapsed": true
   },
   "outputs": [],
   "source": []
  },
  {
   "cell_type": "code",
   "execution_count": 6,
   "metadata": {
    "collapsed": false
   },
   "outputs": [
    {
     "data": {
      "text/plain": [
       "'/global/cscratch1/sd/ioannis/repos/legacypipe'"
      ]
     },
     "execution_count": 6,
     "metadata": {},
     "output_type": "execute_result"
    }
   ],
   "source": [
    "samplefile = os.path.join(LSLGAdir, 'sample', 'large-galaxies-{}.fits'.format(dr))\n",
    "sample = fits.getdata(samplefile, 1)"
   ]
  }
 ],
 "metadata": {
  "anaconda-cloud": {},
  "kernelspec": {
   "display_name": "legacypipe master",
   "language": "python",
   "name": "legacypipe-master"
  },
  "language_info": {
   "codemirror_mode": {
    "name": "ipython",
    "version": 3
   },
   "file_extension": ".py",
   "mimetype": "text/x-python",
   "name": "python",
   "nbconvert_exporter": "python",
   "pygments_lexer": "ipython3",
   "version": "3.5.3"
  }
 },
 "nbformat": 4,
 "nbformat_minor": 2
}
