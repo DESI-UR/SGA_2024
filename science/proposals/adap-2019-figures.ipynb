{
 "cells": [
  {
   "cell_type": "markdown",
   "metadata": {},
   "source": [
    "# Figures for 2019 ADAP Proposal\n",
    "\n",
    "* Magnitude-surface brightness with notable large galaxies labeled\n",
    "* Show color-magnitude space with Tractor mag/color and custom (aperture) mag/color.\n",
    "* Need for this analysis:\n",
    "  - Where does the Tractor pipeline break down?\n",
    "  - Which galaxies require custom analysis?"
   ]
  },
  {
   "cell_type": "code",
   "execution_count": 1,
   "metadata": {},
   "outputs": [],
   "source": [
    "import os, warnings, pdb\n",
    "from glob import glob\n",
    "import numpy as np\n",
    "import pandas as pd\n",
    "\n",
    "import fitsio\n",
    "from astropy.table import Table, Column, vstack, hstack"
   ]
  },
  {
   "cell_type": "code",
   "execution_count": 2,
   "metadata": {},
   "outputs": [],
   "source": [
    "import corner\n",
    "import matplotlib.pyplot as plt\n",
    "import matplotlib as mpl"
   ]
  },
  {
   "cell_type": "code",
   "execution_count": 3,
   "metadata": {},
   "outputs": [],
   "source": [
    "import LSLGA.io\n",
    "import LSLGA.NLSA"
   ]
  },
  {
   "cell_type": "code",
   "execution_count": 4,
   "metadata": {},
   "outputs": [],
   "source": [
    "import seaborn as sns\n",
    "sns.set(style='ticks', font_scale=1.8, palette='Set2')\n",
    "%matplotlib inline"
   ]
  },
  {
   "cell_type": "code",
   "execution_count": 5,
   "metadata": {},
   "outputs": [],
   "source": [
    "LSLGAdir = os.getenv('LSLGA_DIR')\n",
    "#adapdir = os.path.join(os.getenv('HOME'), 'repos', 'papers', 'grants', 'nasa-adap-2019')\n",
    "adapdir = os.path.join(LSLGAdir, 'science', 'proposals', 'nasa-adap-2019')"
   ]
  },
  {
   "cell_type": "code",
   "execution_count": 6,
   "metadata": {},
   "outputs": [],
   "source": [
    "PIXSCALE = 0.262"
   ]
  },
  {
   "cell_type": "code",
   "execution_count": 7,
   "metadata": {},
   "outputs": [],
   "source": [
    "seed = 1\n",
    "rand = np.random.RandomState(seed)"
   ]
  },
  {
   "cell_type": "code",
   "execution_count": 8,
   "metadata": {},
   "outputs": [],
   "source": [
    "#leda = Table.read(os.path.join(LSLGAdir, 'sample', 'hyperleda-d25min10-18may13.fits'))\n",
    "#parent = Table.read(os.path.join(LSLGAdir, 'sample', 'large-galaxies-parent.fits'))"
   ]
  },
  {
   "cell_type": "markdown",
   "metadata": {},
   "source": [
    "### Read dr8b catalogs in the EDR and cross-match with the parent LSLGA."
   ]
  },
  {
   "cell_type": "code",
   "execution_count": 9,
   "metadata": {},
   "outputs": [
    {
     "name": "stdout",
     "output_type": "stream",
     "text": [
      "Read galaxy indices 0 through 532706 (N=532707) from /Users/ioannis/research/projects/LSLGA/sample/v2.0/LSLGA-v2.0.fits\n"
     ]
    },
    {
     "data": {
      "text/html": [
       "<i>Table length=3</i>\n",
       "<table id=\"table112001558792\" class=\"table-striped table-bordered table-condensed\">\n",
       "<thead><tr><th>LSLGA_ID</th><th>GALAXY</th><th>PGC</th><th>RA</th><th>DEC</th><th>TYPE</th><th>BAR</th><th>RING</th><th>MULTIPLE</th><th>COMPACTNESS</th><th>T</th><th>PA</th><th>D25</th><th>BA</th><th>DIAM_REF</th><th>Z</th><th>SB_D25</th><th>MAG</th><th>MAG_REF</th><th>WISE_RA</th><th>WISE_DEC</th><th>CNTR</th><th>W1MPRO</th><th>W1SIGMPRO</th><th>W2MPRO</th><th>W2SIGMPRO</th><th>W3MPRO</th><th>W3SIGMPRO</th><th>W4MPRO</th><th>W4SIGMPRO</th><th>RCHI2</th><th>CC_FLAGS</th><th>EXT_FLG</th><th>PH_QUAL</th><th>XSCPROX</th><th>W1RSEMI</th><th>W1BA</th><th>W1PA</th><th>W1GMAG</th><th>W1GERR</th><th>W2GMAG</th><th>W2GERR</th><th>W3GMAG</th><th>W3GERR</th><th>W4GMAG</th><th>W4GERR</th><th>IN_ALLWISE</th><th>IN_DESI</th><th>NEAR_BRIGHTSTAR</th></tr></thead>\n",
       "<thead><tr><th>int64</th><th>bytes29</th><th>int64</th><th>float64</th><th>float64</th><th>bytes4</th><th>bytes3</th><th>bytes3</th><th>bytes3</th><th>bytes3</th><th>float32</th><th>float32</th><th>float32</th><th>float32</th><th>bytes3</th><th>float32</th><th>float32</th><th>float32</th><th>bytes1</th><th>float64</th><th>float64</th><th>int64</th><th>float64</th><th>float64</th><th>float64</th><th>float64</th><th>float64</th><th>float64</th><th>float64</th><th>float64</th><th>float32</th><th>bytes4</th><th>int32</th><th>bytes4</th><th>float64</th><th>float64</th><th>float64</th><th>float64</th><th>float64</th><th>float64</th><th>float64</th><th>float64</th><th>float64</th><th>float64</th><th>float64</th><th>float64</th><th>bool</th><th>bool</th><th>bool</th></tr></thead>\n",
       "<tr><td>2</td><td>PGC1283207</td><td>1283207</td><td>228.3770865</td><td>5.4232017</td><td>S?</td><td>nan</td><td>nan</td><td>nan</td><td>nan</td><td>0.9</td><td>152.2</td><td>0.36307806</td><td>0.724436</td><td>iso</td><td>0.03463229</td><td>23.40448</td><td>16.976</td><td>B</td><td>228.3771822</td><td>5.4228275</td><td>2278106001351000050</td><td>13.453</td><td>0.039</td><td>13.393</td><td>0.045</td><td>11.785</td><td>0.242</td><td>8.741</td><td>nan</td><td>1.088</td><td>0000</td><td>4</td><td>AABU</td><td>0.95</td><td>9.75</td><td>0.73</td><td>-25.0</td><td>13.27</td><td>0.01</td><td>13.334</td><td>0.02</td><td>12.209</td><td>0.183</td><td>10.103</td><td>0.835</td><td>True</td><td>True</td><td>False</td></tr>\n",
       "<tr><td>3</td><td>PGC1310416</td><td>1310416</td><td>202.54443750000002</td><td>6.9345944</td><td>Sc</td><td>nan</td><td>nan</td><td>M</td><td>nan</td><td>4.7</td><td>159.26</td><td>0.4017908</td><td>0.7816278</td><td>iso</td><td>0.073888786</td><td>23.498482</td><td>16.85</td><td>B</td><td>202.5444539</td><td>6.9345167</td><td>2028107501351007858</td><td>13.282</td><td>0.025</td><td>13.109</td><td>0.028</td><td>9.197</td><td>0.03</td><td>7.024</td><td>0.098</td><td>2.075</td><td>0000</td><td>5</td><td>AAAA</td><td>0.51</td><td>9.36</td><td>0.79</td><td>-10.0</td><td>13.214</td><td>0.01</td><td>13.069</td><td>0.021</td><td>9.695</td><td>0.024</td><td>7.485</td><td>0.104</td><td>True</td><td>True</td><td>False</td></tr>\n",
       "<tr><td>4</td><td>SDSSJ145059.93+135143.0</td><td>4435547</td><td>222.749787</td><td>13.8619111</td><td>S?</td><td>nan</td><td>nan</td><td>nan</td><td>nan</td><td>5.0</td><td>44.57</td><td>0.33342642</td><td>0.6637431</td><td>iso</td><td>0.07567602</td><td>24.457481</td><td>18.214</td><td>B</td><td>222.7496762</td><td>13.8620163</td><td>2234113601351039304</td><td>14.829</td><td>0.029</td><td>14.596</td><td>0.049</td><td>11.637</td><td>0.165</td><td>8.57</td><td>nan</td><td>1.155</td><td>0000</td><td>0</td><td>AABU</td><td>nan</td><td>nan</td><td>nan</td><td>nan</td><td>nan</td><td>nan</td><td>nan</td><td>nan</td><td>nan</td><td>nan</td><td>nan</td><td>nan</td><td>True</td><td>True</td><td>False</td></tr>\n",
       "</table>"
      ],
      "text/plain": [
       "<Table length=3>\n",
       "LSLGA_ID          GALAXY           PGC   ... IN_ALLWISE IN_DESI NEAR_BRIGHTSTAR\n",
       " int64           bytes29          int64  ...    bool      bool        bool     \n",
       "-------- ----------------------- ------- ... ---------- ------- ---------------\n",
       "       2              PGC1283207 1283207 ...       True    True           False\n",
       "       3              PGC1310416 1310416 ...       True    True           False\n",
       "       4 SDSSJ145059.93+135143.0 4435547 ...       True    True           False"
      ]
     },
     "execution_count": 9,
     "metadata": {},
     "output_type": "execute_result"
    }
   ],
   "source": [
    "lslga = LSLGA.io.read_parent(verbose=True)\n",
    "lslga[:3]"
   ]
  },
  {
   "cell_type": "code",
   "execution_count": 10,
   "metadata": {},
   "outputs": [
    {
     "name": "stdout",
     "output_type": "stream",
     "text": [
      "Use an environment variable for NLSA_DIR!\n"
     ]
    },
    {
     "data": {
      "text/html": [
       "<i>Table length=1456251</i>\n",
       "<table id=\"table112001733128\" class=\"table-striped table-bordered table-condensed\">\n",
       "<thead><tr><th>galaxy</th><th>brickname</th><th>objid</th><th>ra</th><th>dec</th><th>ra_lslga</th><th>dec_lslga</th><th>maskbits</th><th>fracdev</th><th>rmag</th><th>gr</th><th>rz</th><th>sb</th><th>reff</th><th>ref_cat</th><th>type</th><th>morphtype</th><th>ref_id</th></tr></thead>\n",
       "<thead><tr><th>bytes29</th><th>bytes8</th><th>int32</th><th>float64</th><th>float64</th><th>float64</th><th>float64</th><th>int16</th><th>float32</th><th>float32</th><th>float32</th><th>float32</th><th>float32</th><th>float32</th><th>bytes2</th><th>bytes4</th><th>bytes4</th><th>int64</th></tr></thead>\n",
       "<tr><td></td><td>1782p777</td><td>23</td><td>178.2478160841367</td><td>77.62870775825894</td><td>0.0</td><td>0.0</td><td>0</td><td>1.0</td><td>20.713787</td><td>2.0643082</td><td>1.2046947</td><td>22.612667</td><td>0.9565024</td><td></td><td>DEV</td><td></td><td>0</td></tr>\n",
       "<tr><td></td><td>1782p777</td><td>24</td><td>178.24230577183428</td><td>77.62825753531969</td><td>0.0</td><td>0.0</td><td>0</td><td>1.0</td><td>20.592793</td><td>1.9011631</td><td>1.0395126</td><td>22.718664</td><td>1.0619017</td><td></td><td>DEV</td><td></td><td>0</td></tr>\n",
       "<tr><td></td><td>1782p777</td><td>76</td><td>178.5435560725602</td><td>77.62749500901309</td><td>0.0</td><td>0.0</td><td>0</td><td>0.0</td><td>20.503101</td><td>1.2360916</td><td>0.72410583</td><td>22.268444</td><td>0.8994537</td><td></td><td>EXP</td><td></td><td>0</td></tr>\n",
       "<tr><td></td><td>1782p777</td><td>89</td><td>178.26153902044115</td><td>77.6293976174361</td><td>0.0</td><td>0.0</td><td>0</td><td>1.0</td><td>21.79232</td><td>3.8133125</td><td>1.3662014</td><td>25.88762</td><td>2.6300867</td><td></td><td>DEV</td><td></td><td>0</td></tr>\n",
       "<tr><td></td><td>1782p777</td><td>90</td><td>178.26331793292846</td><td>77.62912856373258</td><td>0.0</td><td>0.0</td><td>0</td><td>1.0</td><td>21.578611</td><td>0.64788055</td><td>0.7366314</td><td>24.360224</td><td>1.4362584</td><td></td><td>DEV</td><td></td><td>0</td></tr>\n",
       "<tr><td></td><td>1782p777</td><td>96</td><td>178.6657506815977</td><td>77.62949859712705</td><td>0.0</td><td>0.0</td><td>0</td><td>1.0</td><td>21.51027</td><td>0.67004776</td><td>0.74176407</td><td>21.988407</td><td>0.4972074</td><td></td><td>DEV</td><td></td><td>0</td></tr>\n",
       "<tr><td></td><td>1782p777</td><td>114</td><td>178.22295317166007</td><td>77.63183647090227</td><td>0.0</td><td>0.0</td><td>0</td><td>1.0</td><td>21.392012</td><td>1.7373371</td><td>0.9494095</td><td>23.63353</td><td>1.1199892</td><td></td><td>DEV</td><td></td><td>0</td></tr>\n",
       "<tr><td></td><td>1782p777</td><td>135</td><td>178.8022731212369</td><td>77.63189040341645</td><td>0.0</td><td>0.0</td><td>0</td><td>0.0</td><td>21.212307</td><td>1.4900379</td><td>0.8535862</td><td>23.801441</td><td>1.314428</td><td></td><td>EXP</td><td></td><td>0</td></tr>\n",
       "<tr><td></td><td>1782p777</td><td>142</td><td>178.24909336900257</td><td>77.63457101307309</td><td>0.0</td><td>0.0</td><td>0</td><td>0.0</td><td>21.115732</td><td>1.9813023</td><td>1.1362133</td><td>22.379786</td><td>0.71403676</td><td></td><td>EXP</td><td></td><td>0</td></tr>\n",
       "<tr><td></td><td>1782p777</td><td>179</td><td>177.77254529397283</td><td>77.63788882844185</td><td>0.0</td><td>0.0</td><td>0</td><td>1.0</td><td>21.693357</td><td>1.2474613</td><td>0.8543472</td><td>22.41003</td><td>0.55493814</td><td></td><td>DEV</td><td></td><td>0</td></tr>\n",
       "<tr><td>...</td><td>...</td><td>...</td><td>...</td><td>...</td><td>...</td><td>...</td><td>...</td><td>...</td><td>...</td><td>...</td><td>...</td><td>...</td><td>...</td><td>...</td><td>...</td><td>...</td><td>...</td></tr>\n",
       "<tr><td></td><td>1961p762</td><td>2797</td><td>196.52299711647672</td><td>76.36117648524012</td><td>0.0</td><td>0.0</td><td>0</td><td>1.0</td><td>20.897533</td><td>1.5430222</td><td>0.84017754</td><td>23.047329</td><td>1.073666</td><td></td><td>DEV</td><td></td><td>0</td></tr>\n",
       "<tr><td></td><td>1961p762</td><td>2812</td><td>196.22100063051457</td><td>76.36265089892358</td><td>0.0</td><td>0.0</td><td>0</td><td>0.0</td><td>21.083668</td><td>0.76525116</td><td>0.5322857</td><td>22.817877</td><td>0.88664925</td><td></td><td>EXP</td><td></td><td>0</td></tr>\n",
       "<tr><td></td><td>1961p762</td><td>2859</td><td>195.95034532571773</td><td>76.36532902553274</td><td>0.0</td><td>0.0</td><td>0</td><td>0.0</td><td>20.2896</td><td>0.74744225</td><td>0.3597622</td><td>22.708462</td><td>1.2152963</td><td></td><td>EXP</td><td></td><td>0</td></tr>\n",
       "<tr><td></td><td>1961p762</td><td>2873</td><td>196.01846942085933</td><td>76.36675028121726</td><td>0.0</td><td>0.0</td><td>0</td><td>1.0</td><td>20.986341</td><td>1.1802578</td><td>1.0468388</td><td>25.660212</td><td>3.4330819</td><td></td><td>DEV</td><td></td><td>0</td></tr>\n",
       "<tr><td></td><td>1961p762</td><td>2882</td><td>196.32925524973558</td><td>76.36808069158774</td><td>0.0</td><td>0.0</td><td>0</td><td>0.0</td><td>21.73467</td><td>0.9283352</td><td>1.1823082</td><td>23.389244</td><td>0.85472167</td><td></td><td>EXP</td><td></td><td>0</td></tr>\n",
       "<tr><td></td><td>1961p762</td><td>2884</td><td>196.10995396183543</td><td>76.36793792043726</td><td>0.0</td><td>0.0</td><td>0</td><td>1.0</td><td>21.250511</td><td>1.1678429</td><td>0.90071106</td><td>21.741798</td><td>0.5002274</td><td></td><td>DEV</td><td></td><td>0</td></tr>\n",
       "<tr><td></td><td>1961p762</td><td>2886</td><td>196.1048670738278</td><td>76.36724602481844</td><td>0.0</td><td>0.0</td><td>0</td><td>0.0</td><td>21.556929</td><td>0.4346485</td><td>0.29985046</td><td>24.12203</td><td>1.2999616</td><td></td><td>EXP</td><td></td><td>0</td></tr>\n",
       "<tr><td></td><td>1961p762</td><td>2898</td><td>195.71231156149824</td><td>76.3674372880256</td><td>0.0</td><td>0.0</td><td>0</td><td>1.0</td><td>21.739641</td><td>1.7171078</td><td>1.6806545</td><td>23.088871</td><td>0.74260205</td><td></td><td>DEV</td><td></td><td>0</td></tr>\n",
       "<tr><td></td><td>1961p762</td><td>2927</td><td>196.12531376810185</td><td>76.37112272898044</td><td>0.0</td><td>0.0</td><td>0</td><td>1.0</td><td>20.984406</td><td>1.5435333</td><td>1.4329224</td><td>23.145254</td><td>1.0791447</td><td></td><td>DEV</td><td></td><td>0</td></tr>\n",
       "<tr><td></td><td>1961p762</td><td>2936</td><td>196.2655507491167</td><td>76.37256889647028</td><td>0.0</td><td>0.0</td><td>0</td><td>0.0</td><td>21.802708</td><td>0.25154877</td><td>-0.15598679</td><td>24.052896</td><td>1.1244701</td><td></td><td>EXP</td><td></td><td>0</td></tr>\n",
       "</table>"
      ],
      "text/plain": [
       "<Table length=1456251>\n",
       " galaxy brickname objid         ra         ... ref_cat  type  morphtype ref_id\n",
       "bytes29   bytes8  int32      float64       ...  bytes2 bytes4   bytes4  int64 \n",
       "------- --------- ----- ------------------ ... ------- ------ --------- ------\n",
       "         1782p777    23  178.2478160841367 ...            DEV                0\n",
       "         1782p777    24 178.24230577183428 ...            DEV                0\n",
       "         1782p777    76  178.5435560725602 ...            EXP                0\n",
       "         1782p777    89 178.26153902044115 ...            DEV                0\n",
       "         1782p777    90 178.26331793292846 ...            DEV                0\n",
       "         1782p777    96  178.6657506815977 ...            DEV                0\n",
       "         1782p777   114 178.22295317166007 ...            DEV                0\n",
       "         1782p777   135  178.8022731212369 ...            EXP                0\n",
       "         1782p777   142 178.24909336900257 ...            EXP                0\n",
       "         1782p777   179 177.77254529397283 ...            DEV                0\n",
       "    ...       ...   ...                ... ...     ...    ...       ...    ...\n",
       "         1961p762  2797 196.52299711647672 ...            DEV                0\n",
       "         1961p762  2812 196.22100063051457 ...            EXP                0\n",
       "         1961p762  2859 195.95034532571773 ...            EXP                0\n",
       "         1961p762  2873 196.01846942085933 ...            DEV                0\n",
       "         1961p762  2882 196.32925524973558 ...            EXP                0\n",
       "         1961p762  2884 196.10995396183543 ...            DEV                0\n",
       "         1961p762  2886  196.1048670738278 ...            EXP                0\n",
       "         1961p762  2898 195.71231156149824 ...            DEV                0\n",
       "         1961p762  2927 196.12531376810185 ...            DEV                0\n",
       "         1961p762  2936  196.2655507491167 ...            EXP                0"
      ]
     },
     "execution_count": 10,
     "metadata": {},
     "output_type": "execute_result"
    }
   ],
   "source": [
    "#cat = LSLGA.NLSA.read_nlsa_parent()\n",
    "camera = '90prime-mosaic'\n",
    "samplefile = os.path.join(LSLGA.NLSA.sample_dir(), 'NLSA-{}-v1.0.fits'.format(camera))\n",
    "cat = Table(fitsio.read(samplefile, lower=True))\n",
    "cat"
   ]
  },
  {
   "cell_type": "code",
   "execution_count": 11,
   "metadata": {},
   "outputs": [
    {
     "data": {
      "text/html": [
       "<i>Table length=4119</i>\n",
       "<table id=\"table112001663776\" class=\"table-striped table-bordered table-condensed\">\n",
       "<thead><tr><th>galaxy</th><th>brickname</th><th>objid</th><th>ra</th><th>dec</th><th>ra_lslga</th><th>dec_lslga</th><th>maskbits</th><th>fracdev</th><th>rmag</th><th>gr</th><th>rz</th><th>sb</th><th>reff</th><th>ref_cat</th><th>type</th><th>morphtype</th><th>ref_id</th></tr></thead>\n",
       "<thead><tr><th>bytes29</th><th>bytes8</th><th>int32</th><th>float64</th><th>float64</th><th>float64</th><th>float64</th><th>int16</th><th>float32</th><th>float32</th><th>float32</th><th>float32</th><th>float32</th><th>float32</th><th>bytes2</th><th>bytes4</th><th>bytes4</th><th>int64</th></tr></thead>\n",
       "<tr><td>PGC2769822</td><td>1784p760</td><td>1035</td><td>178.87498204686116</td><td>75.96770415459177</td><td>178.8747225</td><td>75.9676822</td><td>4096</td><td>0.12171105</td><td>15.015664</td><td>0.7956219</td><td>0.63904667</td><td>22.280369</td><td>11.320122</td><td>L2</td><td>COMP</td><td>nan</td><td>1234968</td></tr>\n",
       "<tr><td>PGC2770091</td><td>1784p760</td><td>2668</td><td>178.00185510153452</td><td>76.06129505279836</td><td>178.001208</td><td>76.0614167</td><td>4096</td><td>1.0</td><td>16.835781</td><td>1.116581</td><td>0.8633795</td><td>22.533092</td><td>5.5001206</td><td>L2</td><td>DEV</td><td>nan</td><td>426386</td></tr>\n",
       "<tr><td>PGC213843</td><td>1727p772</td><td>1031</td><td>172.7189141855687</td><td>77.23600721656788</td><td>172.718583</td><td>77.2359167</td><td>4096</td><td>1.0</td><td>14.962324</td><td>1.0312138</td><td>0.70906353</td><td>20.435884</td><td>4.961603</td><td>L2</td><td>DEV</td><td>nan</td><td>600827</td></tr>\n",
       "<tr><td>UGC06502</td><td>1727p772</td><td>1516</td><td>172.93120615177057</td><td>77.25831000076163</td><td>172.93137450000003</td><td>77.25836109999999</td><td>4096</td><td>0.0</td><td>16.369717</td><td>0.8550453</td><td>0.7439413</td><td>22.46637</td><td>6.6105986</td><td>L2</td><td>EXP</td><td>Sc</td><td>962361</td></tr>\n",
       "<tr><td>PGC2779202</td><td>1727p792</td><td>1944</td><td>172.6562218974576</td><td>79.2676815464012</td><td>172.656417</td><td>79.2676667</td><td>4096</td><td>0.07573807</td><td>15.447268</td><td>0.7652912</td><td>0.59809875</td><td>21.455458</td><td>6.3467035</td><td>L2</td><td>COMP</td><td>nan</td><td>860906</td></tr>\n",
       "<tr><td>PGC2767375</td><td>1727p752</td><td>2911</td><td>172.37726892189366</td><td>75.31976691432621</td><td>172.377417</td><td>75.3198333</td><td>4096</td><td>1.0</td><td>16.416973</td><td>1.33461</td><td>0.8670368</td><td>21.78835</td><td>4.7335305</td><td>L2</td><td>DEV</td><td>nan</td><td>795917</td></tr>\n",
       "<tr><td>PGC2774023</td><td>1725p775</td><td>2161</td><td>172.3229250138152</td><td>77.52907304050999</td><td>172.323375</td><td>77.529</td><td>4096</td><td>1.0</td><td>15.331244</td><td>1.1371126</td><td>0.81662655</td><td>23.012003</td><td>13.71077</td><td>L2</td><td>DEV</td><td>nan</td><td>885041</td></tr>\n",
       "<tr><td>PGC2778370</td><td>1728p790</td><td>2036</td><td>172.43211174259625</td><td>79.01820188377857</td><td>172.43183399999998</td><td>79.0180556</td><td>4112</td><td>1.0</td><td>15.02658</td><td>0.7784891</td><td>0.54747295</td><td>18.76368</td><td>2.2301292</td><td>L2</td><td>DEV</td><td>nan</td><td>238123</td></tr>\n",
       "<tr><td>PGC2778659</td><td>1728p790</td><td>3405</td><td>172.94205863535706</td><td>79.11247313229124</td><td>172.94187450000004</td><td>79.11263890000001</td><td>4096</td><td>0.0</td><td>15.70113</td><td>0.6820774</td><td>0.52613544</td><td>21.201962</td><td>5.0243125</td><td>L2</td><td>EXP</td><td>nan</td><td>253180</td></tr>\n",
       "<tr><td>PGC035387</td><td>1724p777</td><td>12</td><td>172.08041221029453</td><td>77.63071668133557</td><td>172.07983950000002</td><td>77.6305772</td><td>4120</td><td>0.30303594</td><td>14.24972</td><td>0.87910366</td><td>0.6492882</td><td>20.691048</td><td>7.7477493</td><td>L2</td><td>COMP</td><td>Sbc</td><td>946400</td></tr>\n",
       "<tr><td>...</td><td>...</td><td>...</td><td>...</td><td>...</td><td>...</td><td>...</td><td>...</td><td>...</td><td>...</td><td>...</td><td>...</td><td>...</td><td>...</td><td>...</td><td>...</td><td>...</td><td>...</td></tr>\n",
       "<tr><td>PGC2773884</td><td>1942p775</td><td>1482</td><td>194.67469411550195</td><td>77.47734713906891</td><td>194.674416</td><td>77.4774444</td><td>4096</td><td>0.0</td><td>16.456108</td><td>1.0096455</td><td>0.85894966</td><td>22.628714</td><td>6.845909</td><td>L2</td><td>EXP</td><td>nan</td><td>1157619</td></tr>\n",
       "<tr><td>PGC2779631</td><td>1942p795</td><td>347</td><td>194.14411559836057</td><td>79.40122066919803</td><td>194.144709</td><td>79.4013333</td><td>4096</td><td>0.0</td><td>15.197809</td><td>0.80146694</td><td>0.6130276</td><td>21.908272</td><td>8.770055</td><td>L2</td><td>EXP</td><td>nan</td><td>354886</td></tr>\n",
       "<tr><td>PGC044009</td><td>1942p795</td><td>998</td><td>193.77656017959833</td><td>79.44870462913076</td><td>193.77570899999998</td><td>79.4487222</td><td>4248</td><td>1.0</td><td>13.851842</td><td>0.93176746</td><td>0.49742794</td><td>20.05724</td><td>6.950078</td><td>L2</td><td>DEV</td><td>Sab</td><td>266617</td></tr>\n",
       "<tr><td>PGC044459</td><td>1944p787</td><td>1702</td><td>194.63749234917302</td><td>78.76585337514321</td><td>194.6342325</td><td>78.7682648</td><td>0</td><td>0.0</td><td>15.249635</td><td>0.8552828</td><td>0.7166586</td><td>23.338402</td><td>16.544878</td><td>L2</td><td>EXP</td><td>nan</td><td>776302</td></tr>\n",
       "<tr><td>PGC2777873</td><td>1944p787</td><td>3039</td><td>194.48721604097614</td><td>78.86640899131787</td><td>194.487708</td><td>78.86636109999999</td><td>4096</td><td>1.0</td><td>15.680026</td><td>1.1196318</td><td>0.759799</td><td>20.981827</td><td>4.5842714</td><td>L2</td><td>DEV</td><td>nan</td><td>407271</td></tr>\n",
       "<tr><td>PGC2771282</td><td>1942p765</td><td>1660</td><td>194.44237281005698</td><td>76.49233990945493</td><td>194.4422085</td><td>76.4924167</td><td>4096</td><td>0.72153234</td><td>15.180622</td><td>0.96739006</td><td>0.6813307</td><td>21.18481</td><td>6.335016</td><td>L2</td><td>COMP</td><td>nan</td><td>1234304</td></tr>\n",
       "<tr><td>PGC2773907</td><td>1965p775</td><td>1329</td><td>196.37846369169515</td><td>77.48652849431434</td><td>196.37800049999998</td><td>77.4864167</td><td>4096</td><td>1.0</td><td>16.742897</td><td>1.087059</td><td>0.7053013</td><td>20.803915</td><td>2.5888896</td><td>L2</td><td>DEV</td><td>nan</td><td>1399505</td></tr>\n",
       "<tr><td>PGC2774359</td><td>1968p777</td><td>343</td><td>196.3198847055568</td><td>77.6502677439837</td><td>196.32244350000002</td><td>77.6508293</td><td>4096</td><td>0.057024013</td><td>16.618523</td><td>1.2551689</td><td>0.9554939</td><td>26.996948</td><td>47.489258</td><td>L2</td><td>COMP</td><td>nan</td><td>1433590</td></tr>\n",
       "<tr><td>PGC091248</td><td>1961p790</td><td>2407</td><td>195.75834426104626</td><td>79.06926979631844</td><td>195.75</td><td>79.0691667</td><td>0</td><td>0.0</td><td>16.673656</td><td>0.43743134</td><td>0.2805786</td><td>24.306149</td><td>13.409371</td><td>L2</td><td>EXP</td><td>Scd</td><td>865330</td></tr>\n",
       "<tr><td>PGC2768792</td><td>1965p757</td><td>651</td><td>197.07164677758382</td><td>75.67304288764349</td><td>197.07170849999997</td><td>75.6729167</td><td>4096</td><td>0.09453844</td><td>16.572895</td><td>0.9609947</td><td>0.7215433</td><td>22.093344</td><td>5.0699043</td><td>L2</td><td>COMP</td><td>nan</td><td>86584</td></tr>\n",
       "</table>"
      ],
      "text/plain": [
       "<Table length=4119>\n",
       "  galaxy   brickname objid         ra         ...  type  morphtype  ref_id\n",
       " bytes29     bytes8  int32      float64       ... bytes4   bytes4   int64 \n",
       "---------- --------- ----- ------------------ ... ------ --------- -------\n",
       "PGC2769822  1784p760  1035 178.87498204686116 ...   COMP       nan 1234968\n",
       "PGC2770091  1784p760  2668 178.00185510153452 ...    DEV       nan  426386\n",
       " PGC213843  1727p772  1031  172.7189141855687 ...    DEV       nan  600827\n",
       "  UGC06502  1727p772  1516 172.93120615177057 ...    EXP        Sc  962361\n",
       "PGC2779202  1727p792  1944  172.6562218974576 ...   COMP       nan  860906\n",
       "PGC2767375  1727p752  2911 172.37726892189366 ...    DEV       nan  795917\n",
       "PGC2774023  1725p775  2161  172.3229250138152 ...    DEV       nan  885041\n",
       "PGC2778370  1728p790  2036 172.43211174259625 ...    DEV       nan  238123\n",
       "PGC2778659  1728p790  3405 172.94205863535706 ...    EXP       nan  253180\n",
       " PGC035387  1724p777    12 172.08041221029453 ...   COMP       Sbc  946400\n",
       "       ...       ...   ...                ... ...    ...       ...     ...\n",
       "PGC2773884  1942p775  1482 194.67469411550195 ...    EXP       nan 1157619\n",
       "PGC2779631  1942p795   347 194.14411559836057 ...    EXP       nan  354886\n",
       " PGC044009  1942p795   998 193.77656017959833 ...    DEV       Sab  266617\n",
       " PGC044459  1944p787  1702 194.63749234917302 ...    EXP       nan  776302\n",
       "PGC2777873  1944p787  3039 194.48721604097614 ...    DEV       nan  407271\n",
       "PGC2771282  1942p765  1660 194.44237281005698 ...   COMP       nan 1234304\n",
       "PGC2773907  1965p775  1329 196.37846369169515 ...    DEV       nan 1399505\n",
       "PGC2774359  1968p777   343  196.3198847055568 ...   COMP       nan 1433590\n",
       " PGC091248  1961p790  2407 195.75834426104626 ...    EXP       Scd  865330\n",
       "PGC2768792  1965p757   651 197.07164677758382 ...   COMP       nan   86584"
      ]
     },
     "execution_count": 11,
     "metadata": {},
     "output_type": "execute_result"
    }
   ],
   "source": [
    "cat[cat['ref_cat'] == 'L2']"
   ]
  },
  {
   "cell_type": "code",
   "execution_count": 12,
   "metadata": {},
   "outputs": [],
   "source": [
    "ww = np.where(['NGC' in gg or 'UGC' in gg for gg in cat['galaxy']])[0]\n",
    "#cat[ww]"
   ]
  },
  {
   "cell_type": "code",
   "execution_count": 13,
   "metadata": {},
   "outputs": [
    {
     "name": "stdout",
     "output_type": "stream",
     "text": [
      "Use an environment variable for NLSA_DIR!\n",
      "Choosing 100 random galaxies!\n"
     ]
    },
    {
     "data": {
      "text/plain": [
       "array([18.153402, 18.237324, 18.29264 , 18.481071, 18.512745, 18.87445 ,\n",
       "       18.931177, 19.015123, 19.041773, 19.294216, 19.299244, 19.324236,\n",
       "       19.416653, 19.452532, 19.513756, 19.787764, 19.971537, 20.025711,\n",
       "       20.198557, 20.808945, 20.933237, 21.145046, 21.862053, 21.967428,\n",
       "       22.087784, 22.1899  , 22.212845, 22.326906, 22.442852, 22.488241,\n",
       "       22.544966, 22.58385 , 22.590477, 22.645544, 22.688938, 22.758747,\n",
       "       22.812214, 22.827322, 22.861086, 23.052988, 23.253557, 23.605793,\n",
       "       23.64544 , 23.648308, 23.82763 , 24.035614, 24.241161, 24.275394,\n",
       "       24.703533, 24.798084, 24.844063, 24.99872 , 25.495253, 25.873053,\n",
       "       25.956968, 26.255182, 26.52829 , 26.550497, 26.67799 , 26.68001 ,\n",
       "       27.218636, 27.284359, 27.418873, 27.450748], dtype=float32)"
      ]
     },
     "execution_count": 13,
     "metadata": {},
     "output_type": "execute_result"
    }
   ],
   "source": [
    "ss = LSLGA.NLSA.read_nlsa_parent()\n",
    "ss['SB'].data"
   ]
  },
  {
   "cell_type": "code",
   "execution_count": 17,
   "metadata": {},
   "outputs": [],
   "source": [
    "def sample_montage():\n",
    "    \"\"\"Show a random sampling of galaxies.\"\"\"\n",
    "    montagefile = os.path.join(adapdir, 'sample-montage.png')\n",
    "\n",
    "    ss = LSLGA.NLSA.read_nlsa_parent()\n",
    "    gal, galdir = LSLGA.NLSA.get_galaxy_galaxydir(ss)\n",
    "    infiles = []\n",
    "    for gal1, galdir1 in zip(gal, galdir):\n",
    "        infile1 = os.path.join(galdir1, '{}-pipeline-image-grz.jpg'.format(gal1))\n",
    "        if not os.path.isfile(infile1):\n",
    "            infile1 = os.path.join(adapdir, 'smiley.jpg')\n",
    "        infiles.append(infile1)\n",
    "    ncol = 8\n",
    "    nrow = 8\n",
    "    \n",
    "    cmd = 'montage -tile {}x{} -geometry 64x64 '.format(ncol, nrow)\n",
    "    #cmd = 'montage -bordercolor white -borderwidth 1 -tile {}x{} -geometry 512x512 '.format(ncol, nrow)\n",
    "    cmd = cmd+' '.join([inff for inff in infiles])\n",
    "    cmd = cmd+' {}'.format(montagefile)\n",
    "    print(cmd)\n",
    "    os.system(cmd)        \n",
    "    print('Writing {}'.format(montagefile))"
   ]
  },
  {
   "cell_type": "code",
   "execution_count": 18,
   "metadata": {},
   "outputs": [
    {
     "name": "stdout",
     "output_type": "stream",
     "text": [
      "Use an environment variable for NLSA_DIR!\n",
      "Choosing 100 random galaxies!\n",
      "Use an environment variable for NLSA_DIR!\n",
      "Use an environment variable for NLSA_DIR!\n",
      "montage -tile 8x8 -geometry 64x64 /Users/ioannis/research/projects/LSLGA/science/proposals/nasa-adap-2019/smiley.jpg /Users/ioannis/research/projects/LSLGA/science/proposals/nasa-adap-2019/smiley.jpg /Users/ioannis/research/projects/LSLGA/science/proposals/nasa-adap-2019/smiley.jpg /Users/ioannis/research/projects/LSLGA/science/proposals/nasa-adap-2019/smiley.jpg /Users/ioannis/research/projects/LSLGA/science/proposals/nasa-adap-2019/smiley.jpg /Users/ioannis/research/projects/LSLGA/science/proposals/nasa-adap-2019/smiley.jpg /Users/ioannis/research/projects/LSLGA/science/proposals/nasa-adap-2019/smiley.jpg /Users/ioannis/research/projects/LSLGA/science/proposals/nasa-adap-2019/smiley.jpg /Users/ioannis/research/projects/LSLGA/science/proposals/nasa-adap-2019/smiley.jpg /Users/ioannis/research/projects/LSLGA/science/proposals/nasa-adap-2019/smiley.jpg /Users/ioannis/research/projects/LSLGA/science/proposals/nasa-adap-2019/smiley.jpg /Users/ioannis/research/projects/LSLGA/science/proposals/nasa-adap-2019/smiley.jpg /Users/ioannis/research/projects/LSLGA/science/proposals/nasa-adap-2019/smiley.jpg /Users/ioannis/research/projects/LSLGA/science/proposals/nasa-adap-2019/smiley.jpg /Users/ioannis/research/projects/LSLGA/science/proposals/nasa-adap-2019/smiley.jpg /Users/ioannis/research/projects/LSLGA/science/proposals/nasa-adap-2019/smiley.jpg /Users/ioannis/research/projects/LSLGA/science/proposals/nasa-adap-2019/smiley.jpg /Users/ioannis/research/projects/LSLGA/science/proposals/nasa-adap-2019/smiley.jpg /Users/ioannis/research/projects/LSLGA/science/proposals/nasa-adap-2019/smiley.jpg /Users/ioannis/research/projects/LSLGA/science/proposals/nasa-adap-2019/smiley.jpg /Users/ioannis/research/projects/LSLGA/science/proposals/nasa-adap-2019/smiley.jpg /Users/ioannis/research/projects/LSLGA/science/proposals/nasa-adap-2019/smiley.jpg /Users/ioannis/research/projects/LSLGA/science/proposals/nasa-adap-2019/smiley.jpg /Users/ioannis/research/projects/LSLGA/science/proposals/nasa-adap-2019/smiley.jpg /Users/ioannis/research/projects/LSLGA/science/proposals/nasa-adap-2019/smiley.jpg /Users/ioannis/research/projects/LSLGA/science/proposals/nasa-adap-2019/smiley.jpg /Users/ioannis/research/projects/LSLGA/science/proposals/nasa-adap-2019/smiley.jpg /Users/ioannis/research/projects/LSLGA/science/proposals/nasa-adap-2019/smiley.jpg /Users/ioannis/research/projects/LSLGA/science/proposals/nasa-adap-2019/smiley.jpg /Users/ioannis/research/projects/LSLGA/science/proposals/nasa-adap-2019/smiley.jpg /Users/ioannis/research/projects/LSLGA/science/proposals/nasa-adap-2019/smiley.jpg /Users/ioannis/research/projects/LSLGA/science/proposals/nasa-adap-2019/smiley.jpg /Users/ioannis/research/projects/LSLGA/science/proposals/nasa-adap-2019/smiley.jpg /Users/ioannis/research/projects/LSLGA/science/proposals/nasa-adap-2019/smiley.jpg /Users/ioannis/research/projects/LSLGA/science/proposals/nasa-adap-2019/smiley.jpg /Users/ioannis/research/projects/LSLGA/science/proposals/nasa-adap-2019/smiley.jpg /Users/ioannis/research/projects/LSLGA/science/proposals/nasa-adap-2019/smiley.jpg /Users/ioannis/research/projects/LSLGA/science/proposals/nasa-adap-2019/smiley.jpg /Users/ioannis/research/projects/LSLGA/science/proposals/nasa-adap-2019/smiley.jpg /Users/ioannis/research/projects/LSLGA/science/proposals/nasa-adap-2019/smiley.jpg /Users/ioannis/research/projects/LSLGA/science/proposals/nasa-adap-2019/smiley.jpg /Users/ioannis/research/projects/LSLGA/science/proposals/nasa-adap-2019/smiley.jpg /Users/ioannis/research/projects/LSLGA/science/proposals/nasa-adap-2019/smiley.jpg /Users/ioannis/research/projects/LSLGA/science/proposals/nasa-adap-2019/smiley.jpg /Users/ioannis/research/projects/LSLGA/science/proposals/nasa-adap-2019/smiley.jpg /Users/ioannis/research/projects/LSLGA/science/proposals/nasa-adap-2019/smiley.jpg /Users/ioannis/research/projects/LSLGA/science/proposals/nasa-adap-2019/smiley.jpg /Users/ioannis/research/projects/LSLGA/science/proposals/nasa-adap-2019/smiley.jpg /Users/ioannis/research/projects/LSLGA/science/proposals/nasa-adap-2019/smiley.jpg /Users/ioannis/research/projects/LSLGA/science/proposals/nasa-adap-2019/smiley.jpg /Users/ioannis/research/projects/LSLGA/science/proposals/nasa-adap-2019/smiley.jpg /Users/ioannis/research/projects/LSLGA/science/proposals/nasa-adap-2019/smiley.jpg /Users/ioannis/research/projects/LSLGA/science/proposals/nasa-adap-2019/smiley.jpg /Users/ioannis/research/projects/LSLGA/science/proposals/nasa-adap-2019/smiley.jpg /Users/ioannis/research/projects/LSLGA/science/proposals/nasa-adap-2019/smiley.jpg /Users/ioannis/research/projects/LSLGA/science/proposals/nasa-adap-2019/smiley.jpg /Users/ioannis/research/projects/LSLGA/science/proposals/nasa-adap-2019/smiley.jpg /Users/ioannis/research/projects/LSLGA/science/proposals/nasa-adap-2019/smiley.jpg /Users/ioannis/research/projects/LSLGA/science/proposals/nasa-adap-2019/smiley.jpg /Users/ioannis/research/projects/LSLGA/science/proposals/nasa-adap-2019/smiley.jpg /Users/ioannis/research/projects/LSLGA/science/proposals/nasa-adap-2019/smiley.jpg /Users/ioannis/research/projects/LSLGA/science/proposals/nasa-adap-2019/smiley.jpg /Users/ioannis/research/projects/LSLGA/science/proposals/nasa-adap-2019/smiley.jpg /Users/ioannis/research/projects/LSLGA/science/proposals/nasa-adap-2019/smiley.jpg /Users/ioannis/research/projects/LSLGA/science/proposals/nasa-adap-2019/sample-montage.png\n",
      "Writing /Users/ioannis/research/projects/LSLGA/science/proposals/nasa-adap-2019/sample-montage.png\n"
     ]
    }
   ],
   "source": [
    "sample_montage()"
   ]
  },
  {
   "cell_type": "code",
   "execution_count": 16,
   "metadata": {},
   "outputs": [
    {
     "ename": "NameError",
     "evalue": "name 'stop' is not defined",
     "output_type": "error",
     "traceback": [
      "\u001b[0;31m---------------------------------------------------------------------------\u001b[0m",
      "\u001b[0;31mNameError\u001b[0m                                 Traceback (most recent call last)",
      "\u001b[0;32m<ipython-input-16-4f76a9dad686>\u001b[0m in \u001b[0;36m<module>\u001b[0;34m()\u001b[0m\n\u001b[0;32m----> 1\u001b[0;31m \u001b[0mstop\u001b[0m\u001b[0;34m\u001b[0m\u001b[0;34m\u001b[0m\u001b[0m\n\u001b[0m",
      "\u001b[0;31mNameError\u001b[0m: name 'stop' is not defined"
     ]
    }
   ],
   "source": [
    "stop"
   ]
  },
  {
   "cell_type": "code",
   "execution_count": null,
   "metadata": {},
   "outputs": [],
   "source": [
    "#_ = plt.hist(cat['reff'], bins=100, range=(12, 14))\n",
    "#plt.xlabel('fracdev*rdev + (1-fracdev)*rexp [arcsec]')\n",
    "#plt.ylabel('Number')\n",
    "#plt.axvline(x=64*0.788*0.262, color='k')\n",
    "#plt.axvline(x=64*0.7999*0.262, color='k')\n",
    "#plt.axvline(x=64*0.763*0.262, color='k')\n",
    "#plt.axvline(x=64*0.813*0.262, color='k')\n",
    "#cat[cat['reff'].argmax()]"
   ]
  },
  {
   "cell_type": "code",
   "execution_count": null,
   "metadata": {},
   "outputs": [],
   "source": [
    "def qa_rmag_sb(cat, frac=None, png=None):\n",
    "    \"\"\"Surface brightness vs r-band magnitude.\n",
    "    \n",
    "    \"\"\"\n",
    "    xlim, ylim = (12, 22), (28, 18)\n",
    "    #xlim, ylim = (12, 22), (18, 28)\n",
    "    rmag, sb, reff = cat['rmag'], cat['sb'], cat['reff']\n",
    "    \n",
    "    print('Hack to remove sources that hit their optimization limit.')\n",
    "    for factor in (0.788, 0.7999, 0.763, 0.813):\n",
    "        rcut = 64*0.262*factor\n",
    "        toss = (reff > rcut-0.01) * (reff < rcut+0.01)\n",
    "        print(rcut, np.sum(toss))\n",
    "        rmag, sb, reff = rmag[~toss], sb[~toss], reff[~toss]\n",
    "\n",
    "    if frac:\n",
    "        nn = np.round(len(rmag) * frac).astype(int)\n",
    "        sel = rand.choice(len(rmag), nn, replace=False)\n",
    "        print('Subselecting {} objects.'.format(nn))\n",
    "        rmag = rmag[sel]\n",
    "        sb = sb[sel]\n",
    "    \n",
    "    fig, ax = plt.subplots(figsize=(8, 6))\n",
    "    corner.hist2d(rmag, sb, levels=[0.01, 0.05, 0.25, 0.5, 0.75, 0.95, 0.99],\n",
    "                  bins=100, smooth=True, color='tan', # mpl.cm.get_cmap('viridis'),\n",
    "                  plot_density=True, fill_contours=True,\n",
    "                  data_kwargs={'color': 'navy', 'alpha': 0.2, 'ms': 3},\n",
    "                  contour_kwargs={'colors': 'k'}\n",
    "                 )\n",
    "           \n",
    "    # overplot lines of constant size\n",
    "    magarr = np.linspace(xlim[0], xlim[1], 50)\n",
    "    for size, ypos in zip((0.3, 1, 3, 10, 30, 100),\n",
    "                          (18.8, 18.8, 18.8, 20.2, 22.7, 25.2)):\n",
    "        sbarr = magarr + 2.5 * np.log10(2 * np.pi * size**2)\n",
    "        ax.plot(magarr, sbarr, color='k', lw=2, ls='--', alpha=0.5)\n",
    "        \n",
    "        xpos = ypos - 2.5 * np.log10(2 * np.pi * size**2) - 1.1\n",
    "        #print(size, xpos, ypos)\n",
    "        #if size == \n",
    "        ax.text(xpos, ypos, r'$r_{{50}}={0:g}^{{\\prime\\prime}}$'.format(size), \n",
    "                ha='left', va='center', rotation=-40, fontsize=14, alpha=1.0)\n",
    "\n",
    "    check = np.where( (cat['sb'] > cat['rmag']+2.5*np.log10(2*np.pi*10**2)) * (cat['rmag'] < 18) )[0]\n",
    "    print(len(check), len(cat))\n",
    "    #ax.scatter(cat['rmag'][check], cat['sb'][check], color='blue', marker='s', s=10)\n",
    "    #for ii, cc in enumerate(check[:30]):\n",
    "    #    print('gal{}'.format(ii), cat['ra'][cc], cat['dec'][cc], cat['reff'][cc], \n",
    "    #          cat['rmag'][cc], cat['type'][cc], cat['brightblob'][cc] & 0x2)\n",
    "    \n",
    "    lgal = cat['ref_cat'] == 'L2'\n",
    "    #ax.scatter(cat['rmag'][lgal], cat['sb'][lgal], marker='s', edgecolors='k', s=30, \n",
    "    #           alpha=0.5, lw=1, color='firebrick')\n",
    "    \n",
    "    ingc = np.where(['NGC' in gg or 'UGC' in gg for gg in cat['galaxy']])[0]\n",
    "    #ax.scatter(cat['rmag'][ingc], cat['sb'][ingc], marker='s', edgecolors='k', s=30, \n",
    "    #           alpha=0.5, lw=1, color='firebrick')\n",
    "    \n",
    "    ingc = np.where(['NGC' in gg for gg in cat['galaxy']])[0]\n",
    "    #print(cat[ingc])\n",
    "    #for ii in ingc:\n",
    "    #    ax.text(cat['rmag'][ii], cat['sb'][ii], cat['galaxy'][ii], \n",
    "    #            ha='left', va='bottom', fontsize=20)\n",
    "    \n",
    "    # labels and all that\n",
    "    ax.set_xlim(xlim)\n",
    "    ax.set_ylim(ylim)\n",
    "    #ax.xmargins(0)\n",
    "    ax.set_xlabel(r'$m_{r}$ (AB mag)')\n",
    "    ax.set_ylabel(r'$\\mu_{50,r}$ (AB mag arcsec$^{-2}$)')\n",
    "    \n",
    "    fig.subplots_adjust(bottom=0.15, top=0.95, right=0.95)\n",
    "    \n",
    "    if png:\n",
    "        pngfile = os.path.join(adapdir, png)\n",
    "        print('Writing {}'.format(pngfile))\n",
    "        fig.savefig(pngfile)"
   ]
  },
  {
   "cell_type": "code",
   "execution_count": null,
   "metadata": {},
   "outputs": [],
   "source": [
    "qa_rmag_sb(cat, png='sb-mag.png', frac=0.75)"
   ]
  },
  {
   "cell_type": "code",
   "execution_count": null,
   "metadata": {},
   "outputs": [],
   "source": [
    "_ = plt.hist(cat['sb'], bins=100)"
   ]
  },
  {
   "cell_type": "code",
   "execution_count": null,
   "metadata": {},
   "outputs": [],
   "source": [
    "def multiwavelength_montage():\n",
    "    montagefile = os.path.join(adapdir, 'multiwavelength-montage.png')\n",
    "\n",
    "    ss = LSLGA.NLSA.read_nlsa_parent(proposal=True)\n",
    "    gal, galdir = LSLGA.NLSA.get_galaxy_galaxydir(ss)\n",
    "    infiles = []\n",
    "    for bands in ('image-FUVNUV', 'pipeline-image-grz', 'image-W1W2'):\n",
    "        for gal1, galdir1 in zip(gal, galdir):\n",
    "            infiles.append(os.path.join(galdir1, '{}-{}.jpg'.format(gal1, bands)))\n",
    "    ncol = 4\n",
    "    nrow = 3\n",
    "    \n",
    "    cmd = 'montage -bordercolor white -borderwidth 1 -tile {}x{} -geometry 512x512 '.format(ncol, nrow)\n",
    "    cmd = cmd+' '.join([inff for inff in infiles])\n",
    "    cmd = cmd+' {}'.format(montagefile)\n",
    "    print(cmd)\n",
    "    os.system(cmd)        \n",
    "    print('Writing {}'.format(montagefile))"
   ]
  },
  {
   "cell_type": "code",
   "execution_count": null,
   "metadata": {},
   "outputs": [],
   "source": [
    "multiwavelength_montage()"
   ]
  },
  {
   "cell_type": "code",
   "execution_count": null,
   "metadata": {},
   "outputs": [],
   "source": [
    "stop"
   ]
  },
  {
   "cell_type": "code",
   "execution_count": null,
   "metadata": {},
   "outputs": [],
   "source": [
    "ww = allcat['FLUX_R'] > 10**(0.4*(22.5-23))\n",
    "_ = plt.hist(22.5-2.5*np.log10(allcat['FLUX_R'][ww]), bins=20, normed=True)\n",
    "_ = plt.hist(22.5-2.5*np.log10(lslgacat['FLUX_R']), bins=20, normed=True)"
   ]
  },
  {
   "cell_type": "markdown",
   "metadata": {},
   "source": [
    "### Multiwavelength surface-brightness profile for one galaxy\n",
    "\n",
    "NGC5322, a massive elliptical\n",
    "```bash\n",
    "salloc -N 1 -C haswell -t 00:60:00 --qos interactive -L SCRATCH,project\n",
    "source ~/software/develop-legacysurveys-code\n",
    "\n",
    "wise-galex-cutouts -r 207.313452 -d 60.1904759 --radius 600 --prefix NGC5322 \\\n",
    "  --survey-dir /global/projecta/projectdirs/cosmo/data/legacysurvey/dr6\n",
    "```"
   ]
  },
  {
   "cell_type": "code",
   "execution_count": null,
   "metadata": {},
   "outputs": [],
   "source": [
    "def do_sbprofiles(galaxy='NGC5322'):\n",
    "    \"\"\"Measure the surface brightness profile in all the bandpasses\n",
    "    \n",
    "    \"\"\"\n",
    "    ellipsefit = dict()\n",
    "    for band, scale in zip( ['FUV', 'NUV', 'g', 'r', 'z', 'W1', 'W2', 'W3', 'W4'],\n",
    "                            [0.2, 0.2, 0.262, 0.262, 0.262, 1.375, 1.375, 1.375, 1.375] ):\n",
    "    #for band in ['g', 'r', 'z', 'W1', 'W2', 'W3', 'W4']:\n",
    "        ellipsefit[band] = fitsio.read(os.path.join(adapdir, 'sbprofiles', '{}-{}-image.fits'.format(\n",
    "            galaxy, band))) / scale**2\n",
    "    \n",
    "    # Use W1 as the reference image for getting the geometry\n",
    "    img = ellipsefit['W1']\n",
    "    gal = find_galaxy(img, nblob=1, binning=3, plot=True, quiet=False)\n",
    "    \n",
    "    geometry = EllipseGeometry(x0=gal.xpeak, y0=gal.ypeak, eps=gal.eps,\n",
    "                               sma=5, pa=np.radians(gal.pa-90))    \n",
    "    ellipse = Ellipse(img, geometry=geometry)\n",
    "    \n",
    "    integrmode, sclip, nclip, step, fflag = 'bilinear', 3, 0, 0.1, 0.5\n",
    "    isophot = ellipse.fit_image(minsma=1.0, maxsma=3*gal.majoraxis,\n",
    "                                integrmode=integrmode, sclip=sclip, nclip=nclip,\n",
    "                                step=step, fflag=fflag)\n",
    "    ellipsefit['ref_isophot'] = isophot\n",
    "    \n",
    "    for band in ['FUV', 'NUV', 'g', 'r', 'z', 'W1', 'W2', 'W3', 'W4']:\n",
    "        img = ellipsefit[band]\n",
    "        isobandfit = []\n",
    "        for iso in isophot:\n",
    "            g = iso.sample.geometry # fixed geometry\n",
    "\n",
    "            # Use the same integration mode and clipping parameters.\n",
    "            sample = EllipseSample(img, g.sma, geometry=g, integrmode=integrmode,\n",
    "                                   sclip=sclip, nclip=nclip)\n",
    "            sample.update()\n",
    "\n",
    "            # Create an Isophote instance with the sample.\n",
    "            isobandfit.append(Isophote(sample, 0, True, 0))\n",
    "\n",
    "        ellipsefit['{}_isophot'.format(band)] = IsophoteList(isobandfit)\n",
    "        \n",
    "    return ellipsefit"
   ]
  },
  {
   "cell_type": "code",
   "execution_count": null,
   "metadata": {},
   "outputs": [],
   "source": [
    "def qa_sbprofiles(ellipsefit, png=None):\n",
    "    \n",
    "    fig, ax = plt.subplots(figsize=(8, 6))\n",
    "    for band in ['FUV', 'NUV', 'g', 'r', 'z', 'W1', 'W2', 'W3', 'W4']:\n",
    "        flux = ellipsefit['{}_isophot'.format(band)].intens\n",
    "        \n",
    "        good = (ellipsefit['{}_isophot'.format(band)].stop_code < 4) * (flux > 0)\n",
    "        sma = ellipsefit['ref_isophot'].sma[good] * PIXSCALE\n",
    "        flux = ellipsefit['{}_isophot'.format(band)].intens[good]\n",
    "        ferr = ellipsefit['{}_isophot'.format(band)].int_err[good]\n",
    "\n",
    "        mu = 22.5 - 2.5 * np.log10(flux)\n",
    "        mu_err = ferr / flux / np.log(10)\n",
    "        mu_err[mu_err < 0.1] = 0.1\n",
    "        print(band, mu.min(), mu.max())\n",
    "        \n",
    "        ax.fill_between(sma, mu - mu_err, mu + mu_err, alpha=0.8)\n",
    "        #ax.axhline(y=WISE['mulim_{}'.format(suffix)], lw=2, color='k', ls='--')\n",
    "        \n",
    "    #ax.legend(loc='upper right')\n",
    "    #ax.margins(0)\n",
    "    ax.set_ylim(35, 8)\n",
    "    #ax.set_xlim(0.4, 1.5)\n",
    "    \n",
    "    #ax.set_xscale('log')\n",
    "    ax.set_xlabel(r'Semi-major axis (arcsec)')\n",
    "    #ax.set_xlabel(r'(Galactocentric Radius)$^{1/4}$ (arcmin)')\n",
    "    ax.set_ylabel(r'Surface Brightness (mag arcsec$^{-2}$)')\n",
    "    \n",
    "    if png:\n",
    "        fig.savefig(png)"
   ]
  },
  {
   "cell_type": "code",
   "execution_count": null,
   "metadata": {},
   "outputs": [],
   "source": [
    "qa_sbprofiles(ellipsefit, png=None)"
   ]
  },
  {
   "cell_type": "code",
   "execution_count": null,
   "metadata": {},
   "outputs": [],
   "source": [
    "%time ellipsefit = do_sbprofiles(galaxy='NGC5322')"
   ]
  },
  {
   "cell_type": "code",
   "execution_count": null,
   "metadata": {},
   "outputs": [],
   "source": [
    "stop"
   ]
  },
  {
   "cell_type": "markdown",
   "metadata": {},
   "source": [
    "### Example of Tractor fitting\n",
    "\n",
    "```bash\n",
    "salloc -N 1 -C haswell -t 00:60:00 --qos interactive -L SCRATCH,project\n",
    "source ~/software/develop-legacysurveys-code\n",
    "\n",
    "wise-galex-cutouts -r 212.1947 -d 9.8785 --radius 180 --prefix tractor \\\n",
    "  --survey-dir /global/project/projectdirs/cosmo/data/legacysurvey/dr5 \n",
    "```\n",
    "and then\n",
    "```bash\n",
    "montage -tile 3x3 -geometry 256x256 \\\n",
    "  tractor-FUVNUV-image.png tractor-FUVNUV-model.png tractor-FUVNUV-resid.png \\\n",
    "  tractor-grz-image.png tractor-grz-model.png tractor-grz-resid.png \\\n",
    "  tractor-W1W2-image.png tractor-W1W2-model.png tractor-W1W2-resid.png \\\n",
    "  multiwavelength-mosaics.png\n",
    "```"
   ]
  },
  {
   "cell_type": "markdown",
   "metadata": {},
   "source": [
    "### Multipanel montage of one galaxy in GALEX+LS+WISE\n",
    "\n",
    "We probably want two different figures, one of a spiral galaxy and another of an earlyish-type.  I'm thinking a 3x3 figure, with data+model+residuals along columns, and GALEX+LS+WISE along rows.\n",
    "\n",
    "Or this could be a Nx3 where N is some number of galaxies and the three columns are GALEX+LS+WISE.\n",
    "\n",
    "```bash\n",
    "salloc -N 1 -C haswell -t 00:60:00 --qos interactive -L SCRATCH,project\n",
    "source ~/software/develop-legacysurveys-code\n",
    "\n",
    "wise-galex-cutouts -r 174.241779 -d 55.1620489 --radius 180 --prefix NGC3759A \\\n",
    "  --survey-dir /global/projecta/projectdirs/cosmo/data/legacysurvey/dr6 \n",
    "```\n",
    "and then\n",
    "```bash\n",
    "montage -tile 3x3 -geometry 256x256 \\\n",
    "  NGC3759A-FUVNUV-image.png NGC3759A-FUVNUV-model.png NGC3759A-FUVNUV-resid.png \\\n",
    "  NGC3759A-grz-image.png NGC3759A-grz-model.png NGC3759A-grz-resid.png \\\n",
    "  NGC3759A-W1W2-image.png NGC3759A-W1W2-model.png NGC3759A-W1W2-resid.png \\\n",
    "  multiwavelength-mosaics.png\n",
    "```"
   ]
  }
 ],
 "metadata": {
  "kernelspec": {
   "display_name": "Python 3",
   "language": "python",
   "name": "python3"
  },
  "language_info": {
   "codemirror_mode": {
    "name": "ipython",
    "version": 3
   },
   "file_extension": ".py",
   "mimetype": "text/x-python",
   "name": "python",
   "nbconvert_exporter": "python",
   "pygments_lexer": "ipython3",
   "version": "3.6.7"
  }
 },
 "nbformat": 4,
 "nbformat_minor": 2
}
