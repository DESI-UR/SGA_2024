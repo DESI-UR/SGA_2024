{
 "cells": [
  {
   "cell_type": "markdown",
   "metadata": {},
   "source": [
    "# Figures for 2019 ADAP Proposal\n",
    "\n",
    "* Magnitude-surface brightness with notable large galaxies labeled\n",
    "* Show color-magnitude space with Tractor mag/color and custom (aperture) mag/color.\n",
    "* Need for this analysis:\n",
    "  - Where does the Tractor pipeline break down?\n",
    "  - Which galaxies require custom analysis?"
   ]
  },
  {
   "cell_type": "code",
   "execution_count": null,
   "metadata": {},
   "outputs": [],
   "source": [
    "import os, warnings, pdb\n",
    "from glob import glob\n",
    "import numpy as np\n",
    "import numpy.ma as ma\n",
    "import pandas as pd\n",
    "from astrometry.util.fits import fits_table\n",
    "\n",
    "import fitsio\n",
    "from astropy.table import Table, Column, vstack, hstack"
   ]
  },
  {
   "cell_type": "code",
   "execution_count": null,
   "metadata": {},
   "outputs": [],
   "source": [
    "import corner\n",
    "import matplotlib.pyplot as plt\n",
    "import matplotlib as mpl"
   ]
  },
  {
   "cell_type": "code",
   "execution_count": null,
   "metadata": {},
   "outputs": [],
   "source": [
    "import LSLGA.io\n",
    "import LSLGA.NLSA\n",
    "import LSLGA.qa\n",
    "import LSLGA.ellipse"
   ]
  },
  {
   "cell_type": "code",
   "execution_count": null,
   "metadata": {},
   "outputs": [],
   "source": [
    "import seaborn as sns\n",
    "sns.set(style='ticks', font_scale=1.8, palette='Set2')\n",
    "%matplotlib inline"
   ]
  },
  {
   "cell_type": "code",
   "execution_count": null,
   "metadata": {},
   "outputs": [],
   "source": [
    "LSLGAdir = os.getenv('LSLGA_DIR')\n",
    "#adapdir = os.path.join(os.getenv('HOME'), 'repos', 'papers', 'grants', 'nasa-adap-2019')\n",
    "adapdir = os.path.join(LSLGAdir, 'science', 'proposals', 'nasa-adap-2019')"
   ]
  },
  {
   "cell_type": "code",
   "execution_count": null,
   "metadata": {},
   "outputs": [],
   "source": [
    "PIXSCALE = 0.262"
   ]
  },
  {
   "cell_type": "code",
   "execution_count": null,
   "metadata": {},
   "outputs": [],
   "source": [
    "seed = 1\n",
    "rand = np.random.RandomState(seed)"
   ]
  },
  {
   "cell_type": "markdown",
   "metadata": {},
   "source": [
    "### Ellipse-fitting NGC5322"
   ]
  },
  {
   "cell_type": "code",
   "execution_count": null,
   "metadata": {},
   "outputs": [],
   "source": [
    "tt = Table.read('/Users/ioannis/research/projects/LSLGA/NLSA/8/1/184/NGC5322/NGC5322-tractor.fits')\n",
    "tt = tt[np.argsort(tt['shapedev_r'])[::-1]][0]\n",
    "cols = ['ra', 'dec', 'type', 'shapedev_r',]\n",
    "cols += ['flux_{}'.format(bb) for bb in ('g', 'r', 'z', 'w1', 'w2', 'w3', 'w4')]\n",
    "cols += ['flux_ivar_{}'.format(bb) for bb in ('g', 'r', 'z', 'w1', 'w2', 'w3', 'w4')]\n",
    "tt[cols]"
   ]
  },
  {
   "cell_type": "code",
   "execution_count": null,
   "metadata": {},
   "outputs": [],
   "source": [
    "bands = ('FUV', 'NUV', 'g', 'r', 'z', 'W1', 'W2', 'W3', 'W4')\n",
    "onegal = LSLGA.NLSA.read_nlsa_parent(montage=True, first=1, last=1)[0]\n",
    "galaxy, galaxydir = LSLGA.NLSA.get_galaxy_galaxydir(onegal)\n",
    "#%time LSLGA.ellipse.LSLGA_ellipse(onegal, galaxy=gal, galaxydir=galdir, \n",
    "#                                  maxsma=1500, verbose=True, nproc=4)\n",
    "data = LSLGA.io.read_multiband(galaxy, galaxydir, band=bands)"
   ]
  },
  {
   "cell_type": "code",
   "execution_count": null,
   "metadata": {},
   "outputs": [],
   "source": [
    "#pixscale, wise_pixscale = 2.75, galex_pixscale = 1.5\n",
    "pixscale = 0.262\n",
    "filt2pixscalefactor = {'g': 1.0, 'r': 1.0, 'z': 1.0, 'g_pixscale': pixscale,\n",
    "                       'r_pixscale': pixscale, 'z_pixscale': pixscale}\n",
    "factor = pixscale / data['galex_pixscale']\n",
    "filt2pixscalefactor.update({'FUV': factor, 'NUV': factor, 'FUV_pixscale': data['galex_pixscale'],\n",
    "                            'NUV_pixscale': data['galex_pixscale']})\n",
    "        \n",
    "factor = pixscale / data['unwise_pixscale']\n",
    "filt2pixscalefactor.update({'W1': factor, 'W2': factor, 'W3': factor, 'W4': factor,\n",
    "                            'W1_pixscale': data['unwise_pixscale'], 'W2_pixscale': data['unwise_pixscale'],\n",
    "                            'W3_pixscale': data['unwise_pixscale'], 'W4_pixscale': data['unwise_pixscale']})"
   ]
  },
  {
   "cell_type": "code",
   "execution_count": null,
   "metadata": {},
   "outputs": [],
   "source": [
    "phot = []\n",
    "radius = 1400 # [grz pixels]\n",
    "for filt in bands:\n",
    "    pixscale = filt2pixscalefactor['{}_pixscale'.format(filt)]\n",
    "    pixscalefactor = filt2pixscalefactor[filt]\n",
    "    img = ma.getdata(data['{}_masked'.format(filt)]) # [nanomaggies/arcsec2]\n",
    "    mask = ma.getmask(data['{}_masked'.format(filt)])\n",
    "    x0, y0 = np.array(img.shape) // 2 * pixscalefactor\n",
    "    rad = radius * pixscalefactor\n",
    "    print(filt, img.shape, x0, y0, rad)\n",
    "    phot1 = LSLGA.ellipse.apphot_one(img, mask, 0.0, x0, y0, rad, rad, pixscale)\n",
    "    phot.append(phot1)"
   ]
  },
  {
   "cell_type": "code",
   "execution_count": null,
   "metadata": {},
   "outputs": [],
   "source": [
    "phot"
   ]
  },
  {
   "cell_type": "code",
   "execution_count": null,
   "metadata": {},
   "outputs": [],
   "source": [
    "stop"
   ]
  },
  {
   "cell_type": "code",
   "execution_count": null,
   "metadata": {},
   "outputs": [],
   "source": [
    "plt.imshow(np.log10(data['W4']), origin='lower')"
   ]
  },
  {
   "cell_type": "code",
   "execution_count": null,
   "metadata": {},
   "outputs": [],
   "source": [
    "ell = LSLGA.io.read_ellipsefit(gal, galdir, verbose=True)\n",
    "pngfile = os.path.join(adapdir, 'ngc5322-sbprofile.png')\n",
    "LSLGA.qa.display_ellipse_sbprofile(ell, png=pngfile, verbose=True)\n",
    "pngfile = os.path.join(adapdir, 'ngc5322-cog.png')\n",
    "LSLGA.qa_curveofgrowth(ell, png=pngfile, verbose=True)"
   ]
  },
  {
   "cell_type": "markdown",
   "metadata": {},
   "source": [
    "### Read dr8 catalogs."
   ]
  },
  {
   "cell_type": "code",
   "execution_count": null,
   "metadata": {},
   "outputs": [],
   "source": [
    "lslga = LSLGA.io.read_parent(verbose=True)\n",
    "lslga[:3]"
   ]
  },
  {
   "cell_type": "code",
   "execution_count": null,
   "metadata": {},
   "outputs": [],
   "source": [
    "#cat = LSLGA.NLSA.read_nlsa_parent()\n",
    "camera = '90prime-mosaic'\n",
    "samplefile = os.path.join(LSLGA.NLSA.sample_dir(), 'NLSA-{}-v1.2.fits'.format(camera))\n",
    "cat = Table(fitsio.read(samplefile, lower=True))\n",
    "cat"
   ]
  },
  {
   "cell_type": "code",
   "execution_count": null,
   "metadata": {},
   "outputs": [],
   "source": [
    "cat[cat['ref_cat'] == 'L2']"
   ]
  },
  {
   "cell_type": "code",
   "execution_count": null,
   "metadata": {},
   "outputs": [],
   "source": [
    "ww = np.where(['NGC' in gg or 'UGC' in gg for gg in cat['galaxy']])[0]\n",
    "#cat[ww]"
   ]
  },
  {
   "cell_type": "code",
   "execution_count": null,
   "metadata": {},
   "outputs": [],
   "source": [
    "ss = LSLGA.NLSA.read_nlsa_parent(proposal=True)\n",
    "_ = plt.hist(ss['SB'], bins=50)\n",
    "ss['SB'].data"
   ]
  },
  {
   "cell_type": "code",
   "execution_count": null,
   "metadata": {},
   "outputs": [],
   "source": [
    "def ngc3938_ccdpos():\n",
    "    from astrometry.util.fits import fits_table\n",
    "    from legacypipe.survey import LegacySurveyData\n",
    "    def get_ccds():\n",
    "        survey = LegacySurveyData()\n",
    "        galaxy = 'NGC3938'\n",
    "        galaxydir = os.path.join(os.getenv('LSLGA_DIR'), 'NLSA', '8', '0', '85', galaxy)\n",
    "        ccdsfile = os.path.join(galaxydir, '{}-ccds.fits'.format(galaxy))\n",
    "        ccds = survey.cleanup_ccds_table(fits_table(ccdsfile))\n",
    "        return ccds\n",
    "    ccds = ngc3938_ccdpos()\n",
    "    import LSLGA.NLSA\n",
    "    import LSLGA.qa\n",
    "    onegal = LSLGA.NLSA.read_nlsa_parent(montage=True, first=0, last=0)[0]\n",
    "    LSLGA.qa.display_ccdpos(onegal, ccds, png='ccdpos-ngc3938.png', radius=196)"
   ]
  },
  {
   "cell_type": "code",
   "execution_count": null,
   "metadata": {},
   "outputs": [],
   "source": [
    "ww = ['NGC5322' in gg.strip() for gg in cat['galaxy']]\n",
    "cat[ww]"
   ]
  },
  {
   "cell_type": "code",
   "execution_count": null,
   "metadata": {},
   "outputs": [],
   "source": [
    "#ww = ['3938' in gg.strip() for gg in cat['galaxy']]\n",
    "#from astrometry.libkd.spherematch import match_radec\n",
    "#m1, m2, d12 = match_radec(cat['ra'], cat['dec'], 178.205851, 44.120774, 3/3600.0, nearest=True)\n",
    "#cat[m1]"
   ]
  },
  {
   "cell_type": "code",
   "execution_count": null,
   "metadata": {},
   "outputs": [],
   "source": [
    "def ngc3938_montage():\n",
    "    montagefile = os.path.join(adapdir, 'ngc3938-montage.png')\n",
    "    gal = 'NGC3938'\n",
    "    galdir = os.path.join(os.getenv('LSLGA_DIR'), 'NLSA', '8', '0', '85', gal)\n",
    "    infiles = []\n",
    "    for bands in ('FUVNUV', 'grz', 'image-W1W2'):\n",
    "        for imtype in ('image-FUVNUV', 'pipeline-image-grz', 'image-W1W2'):\n",
    "            infiles.append(os.path.join(galdir, '{}-{}.jpg'.format(gal, bands)))\n",
    "    ncol = 4\n",
    "    nrow = 3\n",
    "    \n",
    "    cmd = 'montage -bordercolor white -borderwidth 1 -tile {}x{} -geometry 512x512 '.format(ncol, nrow)\n",
    "    cmd = cmd+' '.join([inff for inff in infiles])\n",
    "    cmd = cmd+' {}'.format(montagefile)\n",
    "    print(cmd)\n",
    "    os.system(cmd)        \n",
    "    print('Writing {}'.format(montagefile))"
   ]
  },
  {
   "cell_type": "code",
   "execution_count": null,
   "metadata": {},
   "outputs": [],
   "source": [
    "#ngc3938_montage()"
   ]
  },
  {
   "cell_type": "code",
   "execution_count": null,
   "metadata": {},
   "outputs": [],
   "source": [
    "def sample_montage():\n",
    "    \"\"\"Show a random sampling of galaxies.\"\"\"\n",
    "    montagefile = os.path.join(adapdir, 'sample-montage.png')\n",
    "\n",
    "    ss = LSLGA.NLSA.read_nlsa_parent(proposal=True)\n",
    "    #these = rand.choice(len(ss), 35, replace=False)\n",
    "    #ss = ss[these]\n",
    "    ss = ss[np.argsort(ss['SB'])]\n",
    "        \n",
    "    gal, galdir = LSLGA.NLSA.get_galaxy_galaxydir(ss)\n",
    "    infiles = []\n",
    "    for gal1, galdir1 in zip(gal, galdir):\n",
    "        infile1 = os.path.join(galdir1, '{}-pipeline-image-grz.jpg'.format(gal1))\n",
    "        if not os.path.isfile(infile1):\n",
    "            infile1 = os.path.join(adapdir, 'smiley.jpg')\n",
    "        infiles.append(infile1)\n",
    "    ncol = 7\n",
    "    nrow = 5\n",
    "    \n",
    "    #cmd = 'montage -tile {}x{} -geometry 128x128 '.format(ncol, nrow)\n",
    "    cmd = 'montage -bordercolor white -borderwidth 1 -tile {}x{} -geometry 256x256 '.format(ncol, nrow)\n",
    "    cmd = cmd+' '.join([inff for inff in infiles])\n",
    "    cmd = cmd+' {}'.format(montagefile)\n",
    "    print(cmd)\n",
    "    os.system(cmd)        \n",
    "    print('Writing {}'.format(montagefile))"
   ]
  },
  {
   "cell_type": "code",
   "execution_count": null,
   "metadata": {},
   "outputs": [],
   "source": [
    "sample_montage()"
   ]
  },
  {
   "cell_type": "code",
   "execution_count": null,
   "metadata": {},
   "outputs": [],
   "source": [
    "stop"
   ]
  },
  {
   "cell_type": "code",
   "execution_count": null,
   "metadata": {},
   "outputs": [],
   "source": [
    "def qa_rmag_sb(cat, frac=None, png=None):\n",
    "    \"\"\"Surface brightness vs r-band magnitude.\n",
    "    \n",
    "    \"\"\"\n",
    "    xlim, ylim = (12, 20), (28, 17)\n",
    "    #xlim, ylim = (12, 22), (18, 28)\n",
    "    rmag, sb, reff = cat['rmag'], cat['sb'], cat['reff']\n",
    "    \n",
    "    print('Hack to remove sources that hit their optimization limit.')\n",
    "    for factor in (0.788, 0.7999, 0.763, 0.813):\n",
    "        rcut = 64*0.262*factor\n",
    "        toss = (reff > rcut-0.01) * (reff < rcut+0.01)\n",
    "        print(rcut, np.sum(toss))\n",
    "        rmag, sb, reff = rmag[~toss], sb[~toss], reff[~toss]\n",
    "\n",
    "    if frac:\n",
    "        nn = np.round(len(rmag) * frac).astype(int)\n",
    "        sel = rand.choice(len(rmag), nn, replace=False)\n",
    "        print('Subselecting {} objects.'.format(nn))\n",
    "        rmag = rmag[sel]\n",
    "        sb = sb[sel]\n",
    "    \n",
    "    fig, ax = plt.subplots(figsize=(8, 6))\n",
    "    corner.hist2d(rmag, sb, levels=[0.01, 0.05, 0.25, 0.5, 0.75, 0.95, 0.99],\n",
    "                  bins=100, smooth=True, color='tan', # mpl.cm.get_cmap('viridis'),\n",
    "                  plot_density=True, fill_contours=True,\n",
    "                  data_kwargs={'color': 'navy', 'alpha': 0.2, 'ms': 3},\n",
    "                  contour_kwargs={'colors': 'k'}\n",
    "                 )\n",
    "           \n",
    "    # overplot lines of constant size\n",
    "    magarr = np.linspace(xlim[0], xlim[1], 50)\n",
    "    for size, xpos, ypos in zip((0.3, 1, 3, 10, 30, 100),\n",
    "                                (None, None, None, 12.2, 12.2, 12.2),\n",
    "                                (18.0, 18.0, 18.0, None, None, None)):\n",
    "        sbarr = magarr + 2.5 * np.log10(2 * np.pi * size**2)\n",
    "        ax.plot(magarr, sbarr, color='k', lw=2, ls='--', alpha=0.8)\n",
    "        \n",
    "        if ypos:\n",
    "            xpos = ypos - 2.5 * np.log10(2 * np.pi * size**2)\n",
    "        if xpos:\n",
    "            ypos = xpos + 2.5 * np.log10(2 * np.pi * size**2)\n",
    "            \n",
    "        ax.text(xpos, ypos, r'$r_{{50}}={0:g}^{{\\prime\\prime}}$'.format(size), \n",
    "                ha='left', va='center', rotation=-30, fontsize=16, alpha=1.0)\n",
    "\n",
    "    check = np.where( (cat['sb'] > cat['rmag']+2.5*np.log10(2*np.pi*10**2)) * (cat['rmag'] < 18) )[0]\n",
    "    print(len(check), len(cat))\n",
    "    #ax.scatter(cat['rmag'][check], cat['sb'][check], color='blue', marker='s', s=10)\n",
    "    #for ii, cc in enumerate(check[:30]):\n",
    "    #    print('gal{}'.format(ii), cat['ra'][cc], cat['dec'][cc], cat['reff'][cc], \n",
    "    #          cat['rmag'][cc], cat['type'][cc], cat['brightblob'][cc] & 0x2)\n",
    "    \n",
    "    lgal = cat['ref_cat'] == 'L2'\n",
    "    #ax.scatter(cat['rmag'][lgal], cat['sb'][lgal], marker='s', edgecolors='k', s=30, \n",
    "    #           alpha=0.5, lw=1, color='firebrick')\n",
    "    \n",
    "    ingc = np.where(['NGC' in gg or 'UGC' in gg for gg in cat['galaxy']])[0]\n",
    "    #ax.scatter(cat['rmag'][ingc], cat['sb'][ingc], marker='s', edgecolors='k', s=30, \n",
    "    #           alpha=0.5, lw=1, color='firebrick')\n",
    "    \n",
    "    ingc = np.where(['NGC' in gg for gg in cat['galaxy']])[0]\n",
    "    #print(cat[ingc])\n",
    "    #for ii in ingc:\n",
    "    #    ax.text(cat['rmag'][ii], cat['sb'][ii], cat['galaxy'][ii], \n",
    "    #            ha='left', va='bottom', fontsize=20)\n",
    "    \n",
    "    # labels and all that\n",
    "    ax.set_xlim(xlim)\n",
    "    ax.set_ylim(ylim)\n",
    "    #ax.xmargins(0)\n",
    "    ax.set_xlabel(r'$m_{r}$ (AB mag)')\n",
    "    ax.set_ylabel(r'$\\mu_{50,r}$ (AB mag arcsec$^{-2}$)')\n",
    "    \n",
    "    fig.subplots_adjust(bottom=0.15, top=0.95, right=0.95)\n",
    "    \n",
    "    if png:\n",
    "        pngfile = os.path.join(adapdir, png)\n",
    "        print('Writing {}'.format(pngfile))\n",
    "        fig.savefig(pngfile)"
   ]
  },
  {
   "cell_type": "code",
   "execution_count": null,
   "metadata": {},
   "outputs": [],
   "source": [
    "qa_rmag_sb(cat, png='sb-mag.png', frac=0.5)"
   ]
  },
  {
   "cell_type": "code",
   "execution_count": null,
   "metadata": {},
   "outputs": [],
   "source": [
    "stop"
   ]
  },
  {
   "cell_type": "code",
   "execution_count": null,
   "metadata": {},
   "outputs": [],
   "source": [
    "stop"
   ]
  },
  {
   "cell_type": "code",
   "execution_count": null,
   "metadata": {},
   "outputs": [],
   "source": [
    "#_ = plt.hist(cat['reff'], bins=100, range=(12, 14))\n",
    "#plt.xlabel('fracdev*rdev + (1-fracdev)*rexp [arcsec]')\n",
    "#plt.ylabel('Number')\n",
    "#plt.axvline(x=64*0.788*0.262, color='k')\n",
    "#plt.axvline(x=64*0.7999*0.262, color='k')\n",
    "#plt.axvline(x=64*0.763*0.262, color='k')\n",
    "#plt.axvline(x=64*0.813*0.262, color='k')\n",
    "#cat[cat['reff'].argmax()]"
   ]
  },
  {
   "cell_type": "code",
   "execution_count": null,
   "metadata": {},
   "outputs": [],
   "source": [
    "_ = plt.hist(cat['sb'], bins=100)"
   ]
  },
  {
   "cell_type": "code",
   "execution_count": null,
   "metadata": {},
   "outputs": [],
   "source": [
    "def multiwavelength_montage():\n",
    "    montagefile = os.path.join(adapdir, 'multiwavelength-montage.png')\n",
    "\n",
    "    ss = LSLGA.NLSA.read_nlsa_parent(proposal=True)\n",
    "    gal, galdir = LSLGA.NLSA.get_galaxy_galaxydir(ss)\n",
    "    infiles = []\n",
    "    for bands in ('image-FUVNUV', 'pipeline-image-grz', 'image-W1W2'):\n",
    "        for gal1, galdir1 in zip(gal, galdir):\n",
    "            infiles.append(os.path.join(galdir1, '{}-{}.jpg'.format(gal1, bands)))\n",
    "    ncol = 4\n",
    "    nrow = 3\n",
    "    \n",
    "    cmd = 'montage -bordercolor white -borderwidth 1 -tile {}x{} -geometry 512x512 '.format(ncol, nrow)\n",
    "    cmd = cmd+' '.join([inff for inff in infiles])\n",
    "    cmd = cmd+' {}'.format(montagefile)\n",
    "    print(cmd)\n",
    "    os.system(cmd)        \n",
    "    print('Writing {}'.format(montagefile))"
   ]
  },
  {
   "cell_type": "code",
   "execution_count": null,
   "metadata": {},
   "outputs": [],
   "source": [
    "multiwavelength_montage()"
   ]
  },
  {
   "cell_type": "code",
   "execution_count": null,
   "metadata": {},
   "outputs": [],
   "source": [
    "stop"
   ]
  },
  {
   "cell_type": "code",
   "execution_count": null,
   "metadata": {},
   "outputs": [],
   "source": [
    "ww = allcat['FLUX_R'] > 10**(0.4*(22.5-23))\n",
    "_ = plt.hist(22.5-2.5*np.log10(allcat['FLUX_R'][ww]), bins=20, normed=True)\n",
    "_ = plt.hist(22.5-2.5*np.log10(lslgacat['FLUX_R']), bins=20, normed=True)"
   ]
  }
 ],
 "metadata": {
  "kernelspec": {
   "display_name": "Python 3",
   "language": "python",
   "name": "python3"
  },
  "language_info": {
   "codemirror_mode": {
    "name": "ipython",
    "version": 3
   },
   "file_extension": ".py",
   "mimetype": "text/x-python",
   "name": "python",
   "nbconvert_exporter": "python",
   "pygments_lexer": "ipython3",
   "version": "3.6.7"
  }
 },
 "nbformat": 4,
 "nbformat_minor": 2
}
