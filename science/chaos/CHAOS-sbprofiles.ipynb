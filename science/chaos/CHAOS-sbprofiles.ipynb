{
 "cells": [
  {
   "cell_type": "markdown",
   "metadata": {},
   "source": [
    "# CHAOS Stellar Mass Density Profiles\n",
    "\n",
    "* [NGC0628](http://legacysurvey.org/viewer-dev?ra=24.1741665&dec=15.7834583&zoom=12&layer=decals-dr7&lslga)\n",
    "* [NGC5194](http://legacysurvey.org/viewer-dev?ra=202.469547&dec=47.195151&zoom=11&layer=mzls+bass-dr6&lslga)\n",
    "* [NGC5457](http://legacysurvey.org/viewer-dev?ra=210.802368&dec=54.349023&zoom=10&layer=mzls+bass-dr6&lslga)\n",
    "* [NGC3184](http://legacysurvey.org/viewer-dev?ra=154.570590&dec=41.4243426&zoom=12&layer=mzls+bass-dr6&lslga)"
   ]
  },
  {
   "cell_type": "code",
   "execution_count": 1,
   "metadata": {},
   "outputs": [],
   "source": [
    "import os, pdb\n",
    "import numpy as np\n",
    "import numpy.ma as ma\n",
    "import matplotlib.pyplot as plt\n",
    "import fitsio\n",
    "from astropy.table import Column"
   ]
  },
  {
   "cell_type": "code",
   "execution_count": 2,
   "metadata": {},
   "outputs": [],
   "source": [
    "import LSLGA.io\n",
    "import LSLGA.misc\n",
    "import LSLGA.qa"
   ]
  },
  {
   "cell_type": "code",
   "execution_count": 3,
   "metadata": {},
   "outputs": [],
   "source": [
    "import multiprocessing\n",
    "nproc = multiprocessing.cpu_count() // 2"
   ]
  },
  {
   "cell_type": "code",
   "execution_count": 4,
   "metadata": {},
   "outputs": [],
   "source": [
    "%matplotlib inline"
   ]
  },
  {
   "cell_type": "markdown",
   "metadata": {},
   "source": [
    "#### Specify the (SDSS) bands, the pixel scale, and the top-level data directory."
   ]
  },
  {
   "cell_type": "code",
   "execution_count": 5,
   "metadata": {},
   "outputs": [],
   "source": [
    "pixscale = 0.396 # [arcsec/pix]\n",
    "band = ('g', 'r', 'i')"
   ]
  },
  {
   "cell_type": "code",
   "execution_count": 6,
   "metadata": {},
   "outputs": [],
   "source": [
    "datadir = os.path.join( LSLGA.io.LSLGA_dir(), 'science', 'chaos' )"
   ]
  },
  {
   "cell_type": "markdown",
   "metadata": {},
   "source": [
    "#### Read the sample.\n",
    "Add some additional data we'll need to the output table."
   ]
  },
  {
   "cell_type": "code",
   "execution_count": 32,
   "metadata": {},
   "outputs": [],
   "source": [
    "def read_chaos(band=('g', 'r', 'i'), psfsize=1.3):\n",
    "    \"\"\"PSF size in FWHM arcsec is assumed to be constant.\n",
    "    \n",
    "    \"\"\"\n",
    "    sample = LSLGA.io.read_parent()\n",
    "    these = np.hstack( [np.where(np.isin(sample['GALAXY'].data, chaosgal.encode('utf-8')))[0]\n",
    "                        for chaosgal in ('NGC0628', 'NGC5194', 'NGC5457', 'NGC3184')] )\n",
    "    sample = sample[these]\n",
    "\n",
    "    # Add distances, the data release, the PSF widths, and the cutout size.\n",
    "    sample.add_column(Column(name='DISTANCE', length=len(sample), dtype='f4'))\n",
    "    dist = {'NGC0628': 7.2, 'NGC5194': 7.9, 'NGC5457': 7.4, 'NGC3184': 11.6} # [Mpc]    \n",
    "    for ss in sample:\n",
    "        ss['DISTANCE'] = dist[ss['GALAXY']] # [Mpc]\n",
    "        \n",
    "    sample.add_column(Column(name='DR', dtype='S3', length=len(sample)))\n",
    "    gal2dr = {'NGC0628': 'DR7', 'NGC5194': 'DR6', 'NGC5457': 'DR6', 'NGC3184': 'DR6'}\n",
    "    for ss in sample:\n",
    "        ss['DR'] = gal2dr[ss['GALAXY']]\n",
    "        \n",
    "    # Cutout size (SDSS pixels).\n",
    "    sample.add_column(Column(name='CUTOUT_SIZE', length=len(sample), dtype='i2'))\n",
    "    gal2size = {'NGC0628': 2000, 'NGC5194': 2000, 'NGC5457': 3000, 'NGC3184': 1500}\n",
    "    for ss in sample:\n",
    "        ss['CUTOUT_SIZE'] = gal2size[ss['GALAXY']] # [SDSS pixels]\n",
    "        \n",
    "    # Add PSF width (nominal) and Galactic extinction values.\n",
    "    for filt in band:\n",
    "        sample['PSFSIZE_{}'.format(filt.upper())] = np.repeat(psfsize, len(sample))\n",
    "    for filt in band:\n",
    "        sample['MWDUST_A{}'.format(filt.upper())] = np.repeat(0.0, len(sample)) # initialize\n",
    "    \n",
    "    gal2dust = {'NGC0628': (0.232, 0.16, 0.119), # gri\n",
    "                'NGC5194': (0.116, 0.08, 0.06), \n",
    "                'NGC5457': (0.028, 0.02, 0.015),\n",
    "                'NGC3184': (0.055, 0.038, 0.028)}\n",
    "    for ss in sample:\n",
    "        for ii, filt in enumerate(band):\n",
    "            ss['MWDUST_A{}'.format(filt.upper())] = gal2dust[ss['GALAXY']][ii]\n",
    "        \n",
    "    # Fix the radius and position angle of NGC5194\n",
    "    #sample[]\n",
    "        \n",
    "    return sample"
   ]
  },
  {
   "cell_type": "code",
   "execution_count": 33,
   "metadata": {},
   "outputs": [
    {
     "data": {
      "text/html": [
       "<i>Table length=4</i>\n",
       "<table id=\"table112140058808\" class=\"table-striped table-bordered table-condensed\">\n",
       "<thead><tr><th>LSLGA_ID</th><th>GALAXY</th><th>PGC</th><th>RA</th><th>DEC</th><th>TYPE</th><th>BAR</th><th>RING</th><th>MULTIPLE</th><th>COMPACTNESS</th><th>T</th><th>PA</th><th>D25</th><th>BA</th><th>DIAM_REF</th><th>Z</th><th>SB_D25</th><th>MAG</th><th>MAG_REF</th><th>WISE_RA</th><th>WISE_DEC</th><th>CNTR</th><th>W1MPRO</th><th>W1SIGMPRO</th><th>W2MPRO</th><th>W2SIGMPRO</th><th>W3MPRO</th><th>W3SIGMPRO</th><th>W4MPRO</th><th>W4SIGMPRO</th><th>RCHI2</th><th>CC_FLAGS</th><th>EXT_FLG</th><th>PH_QUAL</th><th>XSCPROX</th><th>W1RSEMI</th><th>W1BA</th><th>W1PA</th><th>W1GMAG</th><th>W1GERR</th><th>W2GMAG</th><th>W2GERR</th><th>W3GMAG</th><th>W3GERR</th><th>W4GMAG</th><th>W4GERR</th><th>IN_ALLWISE</th><th>IN_DESI</th><th>NEAR_BRIGHTSTAR</th><th>DISTANCE</th><th>DR</th><th>CUTOUT_SIZE</th><th>PSFSIZE_G</th><th>PSFSIZE_R</th><th>PSFSIZE_I</th><th>MWDUST_AG</th><th>MWDUST_AR</th><th>MWDUST_AI</th></tr></thead>\n",
       "<thead><tr><th>int64</th><th>bytes29</th><th>int64</th><th>float64</th><th>float64</th><th>bytes4</th><th>bytes3</th><th>bytes3</th><th>bytes3</th><th>bytes3</th><th>float32</th><th>float32</th><th>float32</th><th>float32</th><th>bytes3</th><th>float32</th><th>float32</th><th>float32</th><th>bytes1</th><th>float64</th><th>float64</th><th>int64</th><th>float64</th><th>float64</th><th>float64</th><th>float64</th><th>float64</th><th>float64</th><th>float64</th><th>float64</th><th>float32</th><th>bytes4</th><th>int32</th><th>bytes4</th><th>float64</th><th>float64</th><th>float64</th><th>float64</th><th>float64</th><th>float64</th><th>float64</th><th>float64</th><th>float64</th><th>float64</th><th>float64</th><th>float64</th><th>bool</th><th>bool</th><th>bool</th><th>float32</th><th>bytes3</th><th>int16</th><th>float64</th><th>float64</th><th>float64</th><th>float64</th><th>float64</th><th>float64</th></tr></thead>\n",
       "<tr><td>518063</td><td>NGC0628</td><td>5974</td><td>24.174166500000002</td><td>15.783458300000001</td><td>Sc</td><td>nan</td><td>nan</td><td>nan</td><td>nan</td><td>5.2</td><td>nan</td><td>9.88553</td><td>0.94406086</td><td>iso</td><td>0.002196186</td><td>23.308481</td><td>9.705</td><td>B</td><td>24.1741387</td><td>15.7836868</td><td>234115101351047933</td><td>10.655</td><td>0.023</td><td>10.695</td><td>0.023</td><td>9.342</td><td>0.074</td><td>8.271</td><td>0.374</td><td>32.27</td><td>0000</td><td>5</td><td>AAAC</td><td>0.87</td><td>126.96</td><td>0.95</td><td>70.0</td><td>7.093</td><td>0.01</td><td>6.986</td><td>0.011</td><td>3.632</td><td>0.01</td><td>1.76</td><td>0.015</td><td>True</td><td>True</td><td>False</td><td>7.2</td><td>DR7</td><td>2000</td><td>1.3</td><td>1.3</td><td>1.3</td><td>0.232</td><td>0.16</td><td>0.119</td></tr>\n",
       "<tr><td>1073844</td><td>NGC5194</td><td>47404</td><td>202.469547</td><td>47.195151</td><td>SABb</td><td>B</td><td>nan</td><td>M</td><td>nan</td><td>4.0</td><td>163.0</td><td>13.708821</td><td>0.85113806</td><td>iso</td><td>0.0015370633</td><td>22.921482</td><td>8.608</td><td>B</td><td>202.4696996</td><td>47.1951717</td><td>2029146901351042304</td><td>8.84</td><td>0.024</td><td>8.664</td><td>0.02</td><td>6.19</td><td>0.023</td><td>3.386</td><td>0.036</td><td>46.18</td><td>hhdd</td><td>5</td><td>AAAA</td><td>0.43</td><td>180.0</td><td>0.91</td><td>45.0</td><td>5.43</td><td>0.014</td><td>5.404</td><td>0.006</td><td>1.509</td><td>0.006</td><td>-0.28</td><td>0.03</td><td>True</td><td>True</td><td>False</td><td>7.9</td><td>DR6</td><td>2000</td><td>1.3</td><td>1.3</td><td>1.3</td><td>0.116</td><td>0.08</td><td>0.06</td></tr>\n",
       "<tr><td>1237406</td><td>NGC5457</td><td>50063</td><td>210.80236799999997</td><td>54.349022999999995</td><td>SABc</td><td>B</td><td>nan</td><td>M</td><td>nan</td><td>5.9</td><td>nan</td><td>23.988337</td><td>0.9616123</td><td>iso</td><td>0.0007902133</td><td>23.88948</td><td>8.361</td><td>B</td><td>210.8021726</td><td>54.3487903</td><td>2119154501351013505</td><td>10.348</td><td>0.023</td><td>10.213</td><td>0.021</td><td>6.624</td><td>0.018</td><td>4.453</td><td>0.029</td><td>33.86</td><td>0000</td><td>5</td><td>AAAA</td><td>0.56</td><td>180.0</td><td>0.98</td><td>28.0</td><td>6.751</td><td>0.019</td><td>6.704</td><td>0.019</td><td>3.397</td><td>0.024</td><td>1.778</td><td>0.104</td><td>True</td><td>True</td><td>False</td><td>7.4</td><td>DR6</td><td>3000</td><td>1.3</td><td>1.3</td><td>1.3</td><td>0.028</td><td>0.02</td><td>0.015</td></tr>\n",
       "<tr><td>1253132</td><td>NGC3184</td><td>30087</td><td>154.57058999999998</td><td>41.4243426</td><td>SABc</td><td>B</td><td>nan</td><td>nan</td><td>nan</td><td>5.9</td><td>nan</td><td>7.396052</td><td>0.97050995</td><td>iso</td><td>0.0019753666</td><td>23.384481</td><td>10.411</td><td>B</td><td>154.5705508</td><td>41.424279</td><td>1542140801351054772</td><td>10.97</td><td>0.023</td><td>10.88</td><td>0.021</td><td>7.418</td><td>0.021</td><td>4.711</td><td>0.03</td><td>23.9</td><td>0000</td><td>5</td><td>AAAA</td><td>0.69</td><td>115.66</td><td>0.97</td><td>60.0</td><td>7.652</td><td>0.011</td><td>7.517</td><td>0.011</td><td>4.133</td><td>0.008</td><td>2.339</td><td>0.017</td><td>True</td><td>True</td><td>False</td><td>11.6</td><td>DR6</td><td>1500</td><td>1.3</td><td>1.3</td><td>1.3</td><td>0.055</td><td>0.038</td><td>0.028</td></tr>\n",
       "</table>"
      ],
      "text/plain": [
       "<Table length=4>\n",
       "LSLGA_ID  GALAXY  PGC          RA         ... MWDUST_AG MWDUST_AR MWDUST_AI\n",
       " int64   bytes29 int64      float64       ...  float64   float64   float64 \n",
       "-------- ------- ----- ------------------ ... --------- --------- ---------\n",
       "  518063 NGC0628  5974 24.174166500000002 ...     0.232      0.16     0.119\n",
       " 1073844 NGC5194 47404         202.469547 ...     0.116      0.08      0.06\n",
       " 1237406 NGC5457 50063 210.80236799999997 ...     0.028      0.02     0.015\n",
       " 1253132 NGC3184 30087 154.57058999999998 ...     0.055     0.038     0.028"
      ]
     },
     "execution_count": 33,
     "metadata": {},
     "output_type": "execute_result"
    }
   ],
   "source": [
    "sample = read_chaos(band=band)\n",
    "sample"
   ]
  },
  {
   "cell_type": "markdown",
   "metadata": {},
   "source": [
    "#### Download the SDSS imaging (if necessary)."
   ]
  },
  {
   "cell_type": "code",
   "execution_count": 9,
   "metadata": {},
   "outputs": [],
   "source": [
    "def download_data(sample, pixscale=0.396, clobber=False):\n",
    "    \"\"\"Note that the cutout server has a maximum cutout size of 3000 pixels.\n",
    "    \n",
    "    montage -bordercolor white -borderwidth 1 -tile 2x2 -geometry +0+0 -resize 1024 \\\n",
    "      NGC0628-SDSS.jpg NGC3184-SDSS.jpg NGC5194-SDSS.jpg NGC5457-SDSS.jpg chaos.png\n",
    "    \"\"\"\n",
    "    import subprocess\n",
    "    \n",
    "    for ss in sample:\n",
    "        jpgfile = os.path.join(datadir, '{}-SDSS.jpg'.format(ss['GALAXY']))\n",
    "        fitsfile = jpgfile.replace('.jpg', '.fits')\n",
    "        if os.path.exists(jpgfile) and clobber is False:\n",
    "            print('Done: {}'.format(jpgfile))\n",
    "        else:\n",
    "            cmd = 'wget -c -O {outfile}'\n",
    "            cmd += '\"http://legacysurvey.org/viewer/jpeg-cutout?ra={ra}dec={dec}&pixscale={pixscale}&size={size}&layer=sdss\"'\n",
    "            cmd = cmd.format(outfile=jpgfile, ra=ss['RA'], dec=ss['DEC'],\n",
    "                             pixscale=pixscale, size=ss['CUTOUT_SIZE'])\n",
    "            print(cmd)\n",
    "            err = subprocess.call(cmd.split())\n",
    "            \n",
    "        if os.path.isfile(fitsfile) or not clobber:\n",
    "            print('Done: {}'.format(fitsfile))\n",
    "        else:\n",
    "            cmd = cmd.replace('jpeg-cutout', 'fits-cutout')\n",
    "            print(cmd)\n",
    "            err = subprocess.call(cmd.split())"
   ]
  },
  {
   "cell_type": "code",
   "execution_count": 10,
   "metadata": {},
   "outputs": [
    {
     "name": "stdout",
     "output_type": "stream",
     "text": [
      "Done: /Users/ioannis/research/projects/LSLGA/science/chaos/NGC0628-SDSS.jpg\n",
      "Done: /Users/ioannis/research/projects/LSLGA/science/chaos/NGC0628-SDSS.fits\n",
      "Done: /Users/ioannis/research/projects/LSLGA/science/chaos/NGC5194-SDSS.jpg\n",
      "Done: /Users/ioannis/research/projects/LSLGA/science/chaos/NGC5194-SDSS.fits\n",
      "Done: /Users/ioannis/research/projects/LSLGA/science/chaos/NGC5457-SDSS.jpg\n",
      "Done: /Users/ioannis/research/projects/LSLGA/science/chaos/NGC5457-SDSS.fits\n",
      "Done: /Users/ioannis/research/projects/LSLGA/science/chaos/NGC3184-SDSS.jpg\n",
      "Done: /Users/ioannis/research/projects/LSLGA/science/chaos/NGC3184-SDSS.fits\n"
     ]
    }
   ],
   "source": [
    "download_data(sample, pixscale=pixscale)"
   ]
  },
  {
   "cell_type": "markdown",
   "metadata": {},
   "source": [
    "#### Read the data, do ellipse-fitting, and write out the results."
   ]
  },
  {
   "cell_type": "code",
   "execution_count": 11,
   "metadata": {},
   "outputs": [],
   "source": [
    "def ellipse(xcen, ycen, semia, semib, phi, x, y):\n",
    "    xp = (x-xcen) * np.cos(phi) + (y-ycen) * np.sin(phi)\n",
    "    yp = -(x-xcen) * np.sin(phi) + (y-ycen) * np.cos(phi)\n",
    "    return (xp / semia)**2 + (yp/semib)**2 <= 1"
   ]
  },
  {
   "cell_type": "code",
   "execution_count": 36,
   "metadata": {},
   "outputs": [],
   "source": [
    "def read_multiband(onegal, band=('g', 'r', 'i'), refband='r', \n",
    "                   pixscale=0.396, verbose=False):\n",
    "    \"\"\"Read the multiband data and pack into a dictionary.\n",
    "    \n",
    "    \"\"\"\n",
    "    from astropy.stats import sigma_clipped_stats\n",
    "    from scipy.ndimage.morphology import binary_dilation\n",
    "\n",
    "    galaxy = onegal['GALAXY']\n",
    "    \n",
    "    imgfile = os.path.join(datadir, '{}-SDSS.fits'.format(galaxy))\n",
    "    if verbose:\n",
    "        print('Reading {}'.format(imgfile))\n",
    "    img = fitsio.read(imgfile)\n",
    "    sumimg = np.sum(img, axis=0)\n",
    "    \n",
    "    _, H, W = img.shape\n",
    "    \n",
    "    if galaxy == 'NGC5194':    \n",
    "        #xcen, ycen = 1050, 925\n",
    "        xcen, ycen = 1012, 995\n",
    "        semia = 444 * 1.5\n",
    "        semib = semia * (1 - 0.3)\n",
    "        phi = np.radians(35 + 90)\n",
    "    else:\n",
    "        xcen, ycen = W // 2, H // 2\n",
    "        #semia = 2 * onegal['W1RSEMI'] / pixscale\n",
    "        semia = 0.85 * onegal['D25'] * 60 / 2 / pixscale\n",
    "        semib = semia * onegal['BA'] \n",
    "        if np.isfinite(onegal['PA']):\n",
    "            phi = np.radians(onegal['PA'])\n",
    "            #phi = np.radians(onegal['W1PA'])\n",
    "        else:\n",
    "            phi = 0.0\n",
    "\n",
    "    # Mask the main galaxy\n",
    "    ymask, xmask = np.ogrid[0:H, 0:W] # mask the galaxy\n",
    "    galmask = ellipse(xcen, ycen, semia, semib, phi, xmask, ymask)\n",
    "    \n",
    "    if galaxy == 'NGC5194': # also mask NGC5195\n",
    "        xcen2, ycen2, rad2 = 850, 1650, 300\n",
    "        ymask2, xmask2 = np.ogrid[-ycen2:H-ycen2, -xcen2:W-xcen2]\n",
    "        mask2 = (xmask2**2 + ymask2**2) <= rad2**2\n",
    "        mn, med, sig = sigma_clipped_stats(ma.masked_array(\n",
    "            sumimg, np.logical_or(galmask, mask2)), sigma=2.5)\n",
    "        mask = np.logical_or( np.logical_and(np.abs((sumimg - med)) > 2.5 * sig, ~galmask),\n",
    "                              mask2 )\n",
    "    else:\n",
    "        mn, med, sig = sigma_clipped_stats(ma.masked_array(\n",
    "            sumimg, galmask), sigma=2.5)\n",
    "        mask = np.logical_and(np.abs((sumimg - med)) > 2.5 * sig, ~galmask)\n",
    "        \n",
    "    # Now populate the output dictionary\n",
    "    data = dict()\n",
    "    data['band'] = band\n",
    "    data['refband'] = refband\n",
    "    data['pixscale'] = pixscale\n",
    "    \n",
    "    for filt, indx in zip( data['band'], (0, 1, 2) ):\n",
    "        # Correct for dust and convert to surface brightness--\n",
    "        print(onegal['GALAXY'], filt, 10**(0.4 * onegal['MWDUST_A{}'.format(filt.upper())]))\n",
    "        sbimg = img[indx, :, :] * 10**(0.4 * onegal['MWDUST_A{}'.format(filt.upper())]) / data['pixscale']**2 # [nanomaggies/arcsec2]\n",
    "        data[filt] = sbimg\n",
    "        data['{}_mask'.format(filt)] = mask * 1\n",
    "        data['{}_masked'.format(filt)] = ma.masked_array(sbimg * ~mask, mask)\n",
    "        ma.set_fill_value(data['{}_masked'.format(filt)], 0)\n",
    "        \n",
    "    return data    "
   ]
  },
  {
   "cell_type": "code",
   "execution_count": 37,
   "metadata": {},
   "outputs": [
    {
     "name": "stdout",
     "output_type": "stream",
     "text": [
      "NGC5194 g 1.11275614173052\n",
      "NGC5194 r 1.076465213629835\n",
      "NGC5194 i 1.0568175092136585\n"
     ]
    }
   ],
   "source": [
    "dd = read_multiband(sample[1])\n",
    "#fitsio.write('junk.fits', dd['r_masked'], clobber=True)\n",
    "#fitsio.write('junk2.fits', dd['r'], clobber=True)\n",
    "#from LSLGA.mge import find_galaxy\n",
    "#find_galaxy(dd['r_masked'], plot=True, quiet=False)"
   ]
  },
  {
   "cell_type": "code",
   "execution_count": 14,
   "metadata": {},
   "outputs": [],
   "source": [
    "def _build_sbprofiles_one(args):\n",
    "    \"\"\"Wrapper function for the multiprocessing.\"\"\"\n",
    "    return build_sbprofiles_one(*args)"
   ]
  },
  {
   "cell_type": "code",
   "execution_count": 19,
   "metadata": {},
   "outputs": [],
   "source": [
    "def build_sbprofiles_one(onegal, band=('g', 'r', 'i'), refband='r', \n",
    "                         pixscale=0.396, clobber=False, verbose=False):\n",
    "    from LSLGA.ellipse import ellipsefit_multiband\n",
    "\n",
    "    galaxy = onegal['GALAXY']\n",
    "    print('Working on {}'.format(galaxy))\n",
    "        \n",
    "    #maxsma = np.round(onegal['CUTOUT_SIZE'] / 2).astype(int)\n",
    "    maxsma = np.round(0.85 * onegal['D25'] * 60 / 2 / pixscale / 2).astype(int) # [pixels]\n",
    "\n",
    "    data = read_multiband(onegal, band=band, refband=refband,\n",
    "                          pixscale=pixscale, verbose=verbose)\n",
    "                \n",
    "    # Read the ellipse-fitting results if they exist, otherwise do the fitting.\n",
    "    ellipsefitfile = os.path.join(datadir, '{}-ellipsefit-fixed.p'.format(galaxy))\n",
    "    if not os.path.exists(ellipsefitfile) or clobber:\n",
    "        ell = ellipsefit_multiband(galaxy, datadir, data, onegal, maxsma=maxsma, \n",
    "                                   noellipsefit=True, verbose=verbose)\n",
    "        LSLGA.io.write_ellipsefit(galaxy, datadir, ell, noellipsefit=True, \n",
    "                                  verbose=verbose)\n",
    "    else:\n",
    "        ell = LSLGA.io.read_ellipsefit(galaxy, datadir, noellipsefit=True, \n",
    "                                       verbose=verbose)\n",
    "    return ell"
   ]
  },
  {
   "cell_type": "code",
   "execution_count": 16,
   "metadata": {},
   "outputs": [],
   "source": [
    "def build_sbprofiles(sample, band=('g', 'r', 'i'), refband='r', \n",
    "                     pixscale=0.396, clobber=False, verbose=False):\n",
    "    \"\"\"Do ellipse-fitting and write out the surface brightness profiles.\n",
    "\n",
    "    \"\"\"\n",
    "    from LSLGA.ellipse import ellipsefit_multiband\n",
    "\n",
    "    sbargs = list()\n",
    "    for onegal in sample:\n",
    "        sbargs.append( (onegal, band, refband, pixscale, clobber, verbose) )\n",
    "\n",
    "    if nproc > 1:\n",
    "        p = multiprocessing.Pool(nproc)\n",
    "        result = p.map(_build_sbprofiles_one, sbargs)\n",
    "        p.close()\n",
    "    else:\n",
    "        result = list()\n",
    "        for args in sbargs:\n",
    "            result.append(_build_sbprofiles_one(sbargs))"
   ]
  },
  {
   "cell_type": "code",
   "execution_count": 20,
   "metadata": {},
   "outputs": [
    {
     "name": "stdout",
     "output_type": "stream",
     "text": [
      "Working on NGC0628\n",
      "Working on NGC5194\n",
      "Working on NGC5457\n",
      "Working on NGC3184\n",
      "Reading /Users/ioannis/research/projects/LSLGA/science/chaos/NGC3184-SDSS.fits\n",
      "Reading /Users/ioannis/research/projects/LSLGA/science/chaos/NGC0628-SDSS.fits\n",
      "Reading /Users/ioannis/research/projects/LSLGA/science/chaos/NGC5457-SDSS.fits\n",
      "Reading /Users/ioannis/research/projects/LSLGA/science/chaos/NGC5194-SDSS.fits\n",
      "Finding the galaxy in the reference r-band image.\n",
      " Pixels used: 213939\n",
      " Peak Img[j, k]: 749 751\n",
      " Mean (j, k): 768.28 738.93\n",
      " Theta (deg): 97.2\n",
      " Astro PA (deg): 172.8\n",
      " Eps: 0.100\n",
      " Major axis (pix): 324.1\n",
      "Finding the galaxy in the reference r-band image.\n",
      "Finding the galaxy in the reference r-band image.\n",
      "Finding the galaxy in the reference r-band image.\n",
      " Pixels used: 311829\n",
      " Peak Img[j, k]: 1000 1000\n",
      " Mean (j, k): 1017.18 989.85\n",
      " Theta (deg): 52.4\n",
      " Astro PA (deg): 37.6\n",
      " Eps: 0.331\n",
      " Major axis (pix): 423.0\n",
      " Pixels used: 366203\n",
      " Peak Img[j, k]: 1001 1001\n",
      " Mean (j, k): 996.89 995.07\n",
      " Theta (deg): 103.1\n",
      " Astro PA (deg): 166.9\n",
      " Eps: 0.143\n",
      " Major axis (pix): 468.2\n",
      " Pixels used: 799594\n",
      " Peak Img[j, k]: 1498 1501\n",
      " Mean (j, k): 1498.64 1510.19\n",
      " Theta (deg): 46.8\n",
      " Astro PA (deg): 43.2\n",
      " Eps: 0.209\n",
      " Major axis (pix): 757.2\n",
      "Ellipse-fitting the reference r-band image.\n",
      "  Trying sma0 = 1.0 pixels.\n",
      "Ellipse-fitting the reference r-band image.\n",
      "  Trying sma0 = 1.0 pixels.\n",
      "Ellipse-fitting the reference r-band image.\n",
      "  Trying sma0 = 1.0 pixels.\n",
      "Time = 198.422 sec\n",
      "Ellipse-fitting g-band image.\n",
      "Time = 266.932 sec\n",
      "Ellipse-fitting g-band image.\n",
      "Time = 138.701 sec\n",
      "Ellipse-fitting i-band image.\n",
      "Time = 129.417 sec\n",
      "Time for all images = 268.121 sec\n",
      "Writing /Users/ioannis/research/projects/LSLGA/science/chaos/NGC3184-ellipsefit-fixed.p\n",
      "Writing /Users/ioannis/research/projects/LSLGA/science/chaos/NGC3184-ellipsefit-fixed.p\n",
      "Time = 322.895 sec\n",
      "Ellipse-fitting g-band image.\n",
      "Time = 220.685 sec\n",
      "Ellipse-fitting i-band image.\n",
      "Time = 184.014 sec\n",
      "Time for all images = 404.702 sec\n",
      "Writing /Users/ioannis/research/projects/LSLGA/science/chaos/NGC0628-ellipsefit-fixed.p\n",
      "Writing /Users/ioannis/research/projects/LSLGA/science/chaos/NGC0628-ellipsefit-fixed.p\n",
      "Time = 259.433 sec\n",
      "Ellipse-fitting i-band image.\n",
      "Ellipse-fitting the reference r-band image.\n",
      "  Trying sma0 = 1.0 pixels.\n",
      "Time = 180.628 sec\n",
      "Time for all images = 440.064 sec\n",
      "Writing /Users/ioannis/research/projects/LSLGA/science/chaos/NGC5194-ellipsefit-fixed.p\n",
      "Writing /Users/ioannis/research/projects/LSLGA/science/chaos/NGC5194-ellipsefit-fixed.p\n",
      "Time = 966.455 sec\n",
      "Ellipse-fitting g-band image.\n",
      "Time = 834.743 sec\n",
      "Ellipse-fitting i-band image.\n",
      "Time = 842.141 sec\n",
      "Time for all images = 1676.888 sec\n",
      "Writing /Users/ioannis/research/projects/LSLGA/science/chaos/NGC5457-ellipsefit-fixed.p\n",
      "Writing /Users/ioannis/research/projects/LSLGA/science/chaos/NGC5457-ellipsefit-fixed.p\n",
      "CPU times: user 4.77 s, sys: 3.91 s, total: 8.67 s\n",
      "Wall time: 57min 41s\n"
     ]
    }
   ],
   "source": [
    "%time build_sbprofiles(sample, clobber=False, verbose=True)"
   ]
  },
  {
   "cell_type": "code",
   "execution_count": 26,
   "metadata": {},
   "outputs": [],
   "source": [
    "def qa(sample, band=('g', 'r', 'i'), verbose=False):\n",
    "    \"\"\"Generate QA.\n",
    "    \n",
    "    \"\"\"\n",
    "    for onegal in sample:\n",
    "        galaxy = onegal['GALAXY']\n",
    "        data = read_multiband(onegal, band=band, verbose=verbose)\n",
    "        ellipsefit = LSLGA.io.read_ellipsefit(galaxy, datadir, noellipsefit=True)\n",
    "        \n",
    "        png = os.path.join(datadir, '{}-ellipse-multiband.png'.format(galaxy))\n",
    "        LSLGA.qa.display_multiband(data, ellipsefit=ellipsefit, png=png)\n",
    "        \n",
    "        smascale = onegal['DISTANCE'] * 1e3 / 206265\n",
    "        png = os.path.join(datadir, '{}-ellipse-sbprofile.png'.format(galaxy))\n",
    "        LSLGA.qa.display_ellipse_sbprofile(ellipsefit, png=png, smascale=smascale)"
   ]
  },
  {
   "cell_type": "code",
   "execution_count": 27,
   "metadata": {},
   "outputs": [
    {
     "name": "stdout",
     "output_type": "stream",
     "text": [
      "Writing /Users/ioannis/research/projects/LSLGA/science/chaos/NGC0628-ellipse-multiband.png\n",
      "Writing /Users/ioannis/research/projects/LSLGA/science/chaos/NGC0628-ellipse-sbprofile.png\n",
      "Writing /Users/ioannis/research/projects/LSLGA/science/chaos/NGC5194-ellipse-multiband.png\n",
      "Writing /Users/ioannis/research/projects/LSLGA/science/chaos/NGC5194-ellipse-sbprofile.png\n",
      "Writing /Users/ioannis/research/projects/LSLGA/science/chaos/NGC5457-ellipse-multiband.png\n",
      "Writing /Users/ioannis/research/projects/LSLGA/science/chaos/NGC5457-ellipse-sbprofile.png\n",
      "Writing /Users/ioannis/research/projects/LSLGA/science/chaos/NGC3184-ellipse-multiband.png\n",
      "Writing /Users/ioannis/research/projects/LSLGA/science/chaos/NGC3184-ellipse-sbprofile.png\n"
     ]
    }
   ],
   "source": [
    "qa(sample, band=band)"
   ]
  },
  {
   "cell_type": "code",
   "execution_count": 28,
   "metadata": {},
   "outputs": [],
   "source": [
    "galaxy = 'NGC3184'\n",
    "ss = sample[3]\n",
    "ellipsefit = LSLGA.io.read_ellipsefit(galaxy, datadir, noellipsefit=True)\n",
    "sbprofile = LSLGA.qa.ellipse_sbprofile(ellipsefit)"
   ]
  },
  {
   "cell_type": "code",
   "execution_count": 62,
   "metadata": {},
   "outputs": [
    {
     "name": "stdout",
     "output_type": "stream",
     "text": [
      "[ 0.313632    0.313632    0.313632    0.313632    0.313632    0.313632\n",
      "  0.313632    0.313632    0.313632    0.313632    0.313632    0.313632\n",
      "  0.313632    0.313632    0.313632    0.313632    0.313632    0.313632\n",
      "  0.313632    0.313632    0.313632    0.313632    0.313632    0.313632\n",
      "  0.313632    0.313632    0.313632    0.313632    0.313632    0.313632\n",
      "  0.313632    0.313632    0.313632    0.313632    0.313632    0.56076643\n",
      "  0.67852738  0.82101813  0.99343194  1.20205265  1.4544837   1.75992528\n",
      "  2.12950959  2.5767066   3.11781499  3.77255613  4.56479292  5.52339944\n",
      "  6.68331332  8.08680911  9.78503903 11.83989722 14.3451849  15.52277928\n",
      " 15.4733774  15.57636719 15.7129756  15.77838114 15.9069802  15.84247461\n",
      " 17.17413485 20.67663628 25.01873016 30.27266318 36.62992244]\n"
     ]
    },
    {
     "data": {
      "text/plain": [
       "array([1.85666188e+01, 1.85821132e+01, 1.85990756e+01, 1.86176359e+01,\n",
       "       1.86379331e+01, 1.86601159e+01, 1.86843426e+01, 1.87107809e+01,\n",
       "       1.87346087e+01, 1.74276930e+01, 1.74283385e+01, 1.74208162e+01,\n",
       "       1.73836486e+01, 1.73338871e+01, 1.72781922e+01, 1.73111229e+01,\n",
       "       1.70400299e+01, 1.69450117e+01, 1.65690027e+01, 1.63272362e+01,\n",
       "       1.57286113e+01, 1.50714928e+01, 1.43304778e+01, 1.33665656e+01,\n",
       "       1.24604254e+01, 1.15620459e+01, 1.07060118e+01, 9.82673439e+00,\n",
       "       9.23189522e+00, 8.48715130e+00, 7.78287755e+00, 7.12335477e+00,\n",
       "       6.48658586e+00, 5.90709483e+00, 5.39588654e+00, 2.80374951e+00,\n",
       "       2.14566281e+00, 1.65696535e+00, 1.26277869e+00, 9.59595123e-01,\n",
       "       7.41515279e-01, 5.65376714e-01, 4.38103686e-01, 3.40036242e-01,\n",
       "       2.61546139e-01, 2.01097407e-01, 1.55088553e-01, 1.20284291e-01,\n",
       "       9.30895221e-02, 7.31188273e-02, 5.71076621e-02, 4.41241293e-02,\n",
       "       3.38212941e-02, 2.82131969e-02, 2.44911491e-02, 2.25587820e-02,\n",
       "       2.17393148e-02, 2.01387618e-02, 1.87261585e-02, 1.82475482e-02,\n",
       "       1.55251277e-02, 1.18244536e-02, 9.20989238e-03, 7.11861767e-03,\n",
       "       5.53347568e-03])"
      ]
     },
     "execution_count": 62,
     "metadata": {},
     "output_type": "execute_result"
    }
   ],
   "source": [
    "solarmag = {'g': 5.15, 'r': 4.67, 'i': 4.56} # absolute solar magnitude\n",
    "area = ellipsefit['i'].sarea * pixscale**2 # area of elliptical sector [arcsec2]\n",
    "print(area)\n",
    "10**(-0.4 * (sbprofile['mu_i'] + 2.5 * np.log10(area) - 5 * np.log10(ss['DISTANCE'] * 1e3) + 5 - solarmag['i']))"
   ]
  },
  {
   "cell_type": "code",
   "execution_count": 42,
   "metadata": {},
   "outputs": [
    {
     "data": {
      "text/plain": [
       "array([1.04509289e+50, 1.04596506e+50, 1.04691985e+50, 1.04796459e+50,\n",
       "       1.04910710e+50, 1.05035574e+50, 1.05171943e+50, 1.05320761e+50,\n",
       "       1.05454885e+50, 9.80984119e+49, 9.81020449e+49, 9.80597028e+49,\n",
       "       9.78504912e+49, 9.75703897e+49, 9.72568897e+49, 9.74422523e+49,\n",
       "       9.59163025e+49, 9.53814559e+49, 9.32649461e+49, 9.19040714e+49,\n",
       "       8.85344829e+49, 8.48356411e+49, 8.06645554e+49, 7.52388086e+49,\n",
       "       7.01382530e+49, 6.50813814e+49, 6.02628674e+49, 5.53135194e+49,\n",
       "       5.19652405e+49, 4.77731656e+49, 4.38088924e+49, 4.00965170e+49,\n",
       "       3.65122206e+49, 3.32503344e+49, 3.03728038e+49, 2.82177854e+49,\n",
       "       2.61294675e+49, 2.44156271e+49, 2.25147469e+49, 2.07020440e+49,\n",
       "       1.93566711e+49, 1.78580426e+49, 1.67439614e+49, 1.57250446e+49,\n",
       "       1.46352573e+49, 1.36158227e+49, 1.27058151e+49, 1.19238656e+49,\n",
       "       1.11659153e+49, 1.06122658e+49, 1.00290235e+49, 9.37617681e+48,\n",
       "       8.70759214e+48, 7.86001707e+48, 6.80136352e+48, 6.30642931e+48,\n",
       "       6.13064255e+48, 5.70291521e+48, 5.34611311e+48, 5.18834978e+48,\n",
       "       4.78532852e+48, 4.38796018e+48, 4.13543811e+48, 3.86765747e+48,\n",
       "       3.63777398e+48])"
      ]
     },
     "execution_count": 42,
     "metadata": {},
     "output_type": "execute_result"
    }
   ],
   "source": [
    "4 * np.pi * (ss['DISTANCE'] * 3.086e22)**2 * 10**(0.4 * (22.5 - sbprofile['mu_i']))"
   ]
  },
  {
   "cell_type": "code",
   "execution_count": null,
   "metadata": {},
   "outputs": [],
   "source": [
    "\n",
    "ai, bi = 0.006, 1.114 # r-i vs i coefficients\n",
    "ml = 10**(ai + bi * sbprofile['ri']) # M/L\n",
    "print(ml)"
   ]
  },
  {
   "cell_type": "code",
   "execution_count": null,
   "metadata": {},
   "outputs": [],
   "source": []
  }
 ],
 "metadata": {
  "kernelspec": {
   "display_name": "Python 3",
   "language": "python",
   "name": "python3"
  },
  "language_info": {
   "codemirror_mode": {
    "name": "ipython",
    "version": 3
   },
   "file_extension": ".py",
   "mimetype": "text/x-python",
   "name": "python",
   "nbconvert_exporter": "python",
   "pygments_lexer": "ipython3",
   "version": "3.6.5"
  }
 },
 "nbformat": 4,
 "nbformat_minor": 2
}
