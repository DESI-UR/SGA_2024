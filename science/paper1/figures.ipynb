{
 "cells": [
  {
   "cell_type": "markdown",
   "metadata": {},
   "source": [
    "# Figures for Paper I"
   ]
  },
  {
   "cell_type": "code",
   "execution_count": 1,
   "metadata": {},
   "outputs": [],
   "source": [
    "import os, warnings, pdb\n",
    "import numpy as np\n",
    "import matplotlib.pyplot as plt\n",
    "import matplotlib as mpl\n",
    "import fitsio\n",
    "from astropy.table import Table, vstack"
   ]
  },
  {
   "cell_type": "code",
   "execution_count": 2,
   "metadata": {},
   "outputs": [],
   "source": [
    "import LSLGA.io\n",
    "import LSLGA.misc"
   ]
  },
  {
   "cell_type": "code",
   "execution_count": 3,
   "metadata": {},
   "outputs": [],
   "source": [
    "import seaborn as sns\n",
    "sns.set(style='ticks', font_scale=1.8, palette='Set2')\n",
    "%matplotlib inline"
   ]
  },
  {
   "cell_type": "code",
   "execution_count": 4,
   "metadata": {},
   "outputs": [],
   "source": [
    "LSLGAdir = os.getenv('LSLGA_DIR')\n",
    "figdir = os.path.join(LSLGAdir, 'science', 'paper1', 'figures')"
   ]
  },
  {
   "cell_type": "code",
   "execution_count": 5,
   "metadata": {},
   "outputs": [
    {
     "name": "stdout",
     "output_type": "stream",
     "text": [
      "Read 1524937 galaxies from /global/cscratch1/sd/ioannis/LSLGA/sample/LSLGA-v2.0.fits\n"
     ]
    }
   ],
   "source": [
    "parent = LSLGA.io.read_parent(verbose=True)"
   ]
  },
  {
   "cell_type": "markdown",
   "metadata": {},
   "source": [
    "## Sample selection & properties\n",
    "\n",
    "* magnitude vs D(25)\n",
    "* spatial distribution of the sample"
   ]
  },
  {
   "cell_type": "code",
   "execution_count": 10,
   "metadata": {},
   "outputs": [
    {
     "ename": "AttributeError",
     "evalue": "'AxesSubplot' object has no attribute 'get_axis_bgcolor'",
     "output_type": "error",
     "traceback": [
      "\u001b[0;31m---------------------------------------------------------------------------\u001b[0m",
      "\u001b[0;31mAttributeError\u001b[0m                            Traceback (most recent call last)",
      "\u001b[0;32m<ipython-input-10-7ee0f5045a03>\u001b[0m in \u001b[0;36m<module>\u001b[0;34m()\u001b[0m\n\u001b[1;32m     30\u001b[0m         \u001b[0mfig\u001b[0m\u001b[0;34m.\u001b[0m\u001b[0msavefig\u001b[0m\u001b[0;34m(\u001b[0m\u001b[0mpng\u001b[0m\u001b[0;34m,\u001b[0m \u001b[0mbbox_inches\u001b[0m\u001b[0;34m=\u001b[0m\u001b[0;34m'tight'\u001b[0m\u001b[0;34m,\u001b[0m \u001b[0mpad_inches\u001b[0m\u001b[0;34m=\u001b[0m\u001b[0;36m0\u001b[0m\u001b[0;34m)\u001b[0m\u001b[0;34m\u001b[0m\u001b[0m\n\u001b[1;32m     31\u001b[0m \u001b[0;34m\u001b[0m\u001b[0m\n\u001b[0;32m---> 32\u001b[0;31m \u001b[0mqa_binned_radec\u001b[0m\u001b[0;34m(\u001b[0m\u001b[0mparent\u001b[0m\u001b[0;34m,\u001b[0m \u001b[0mpng\u001b[0m\u001b[0;34m=\u001b[0m\u001b[0mos\u001b[0m\u001b[0;34m.\u001b[0m\u001b[0mpath\u001b[0m\u001b[0;34m.\u001b[0m\u001b[0mjoin\u001b[0m\u001b[0;34m(\u001b[0m\u001b[0mfigdir\u001b[0m\u001b[0;34m,\u001b[0m \u001b[0;34m'radec.png'\u001b[0m\u001b[0;34m)\u001b[0m\u001b[0;34m)\u001b[0m\u001b[0;34m\u001b[0m\u001b[0m\n\u001b[0m",
      "\u001b[0;32m<ipython-input-10-7ee0f5045a03>\u001b[0m in \u001b[0;36mqa_binned_radec\u001b[0;34m(cat, nside, png)\u001b[0m\n\u001b[1;32m     18\u001b[0m         basemap = init_sky(galactic_plane_color='k', ax=ax,\n\u001b[1;32m     19\u001b[0m                            \u001b[0mra_labels\u001b[0m\u001b[0;34m=\u001b[0m\u001b[0;34m[\u001b[0m\u001b[0;36m0\u001b[0m\u001b[0;34m,\u001b[0m  \u001b[0;36m60\u001b[0m\u001b[0;34m,\u001b[0m \u001b[0;36m120\u001b[0m\u001b[0;34m,\u001b[0m \u001b[0;36m180\u001b[0m\u001b[0;34m,\u001b[0m \u001b[0;36m240\u001b[0m\u001b[0;34m,\u001b[0m \u001b[0;36m300\u001b[0m\u001b[0;34m]\u001b[0m\u001b[0;34m,\u001b[0m\u001b[0;34m\u001b[0m\u001b[0m\n\u001b[0;32m---> 20\u001b[0;31m                            dec_labels=[-60, -30,   0,  30,  60])\n\u001b[0m\u001b[1;32m     21\u001b[0m         plot_sky_binned(ra, dec, weights=weight, \n\u001b[1;32m     22\u001b[0m                         \u001b[0mmax_bin_area\u001b[0m\u001b[0;34m=\u001b[0m\u001b[0mhp\u001b[0m\u001b[0;34m.\u001b[0m\u001b[0mnside2pixarea\u001b[0m\u001b[0;34m(\u001b[0m\u001b[0mnside\u001b[0m\u001b[0;34m,\u001b[0m \u001b[0mdegrees\u001b[0m\u001b[0;34m=\u001b[0m\u001b[0;32mTrue\u001b[0m\u001b[0;34m)\u001b[0m\u001b[0;34m,\u001b[0m\u001b[0;34m\u001b[0m\u001b[0m\n",
      "\u001b[0;32m~/repos/git/LSLGA/py/LSLGA/desiutil.py\u001b[0m in \u001b[0;36minit_sky\u001b[0;34m(projection, ra_center, galactic_plane_color, ra_labels, dec_labels, ax)\u001b[0m\n\u001b[1;32m    466\u001b[0m             \u001b[0mlabels\u001b[0m \u001b[0;34m=\u001b[0m \u001b[0;34m[\u001b[0m\u001b[0;36m0\u001b[0m\u001b[0;34m,\u001b[0m \u001b[0;36m0\u001b[0m\u001b[0;34m,\u001b[0m \u001b[0;36m1\u001b[0m\u001b[0;34m,\u001b[0m \u001b[0;36m0\u001b[0m\u001b[0;34m]\u001b[0m\u001b[0;34m\u001b[0m\u001b[0m\n\u001b[1;32m    467\u001b[0m         m.drawmeridians(\n\u001b[0;32m--> 468\u001b[0;31m             ra_labels, labels=labels, labelstyle='+/-')\n\u001b[0m\u001b[1;32m    469\u001b[0m     \u001b[0;32mif\u001b[0m \u001b[0mdec_labels\u001b[0m \u001b[0;32mis\u001b[0m \u001b[0;32mnot\u001b[0m \u001b[0;32mNone\u001b[0m\u001b[0;34m:\u001b[0m\u001b[0;34m\u001b[0m\u001b[0m\n\u001b[1;32m    470\u001b[0m         m.drawparallels(\n",
      "\u001b[0;32m/global/common/software/desi/cori/desiconda/20180512-1.2.5-img/conda/lib/python3.6/site-packages/mpl_toolkits/basemap/__init__.py\u001b[0m in \u001b[0;36mdrawmeridians\u001b[0;34m(self, meridians, color, linewidth, zorder, dashes, labels, labelstyle, fmt, xoffset, yoffset, ax, latmax, **kwargs)\u001b[0m\n\u001b[1;32m   2719\u001b[0m                         \u001b[0;32mif\u001b[0m \u001b[0mt\u001b[0m \u001b[0;32mis\u001b[0m \u001b[0;32mnot\u001b[0m \u001b[0;32mNone\u001b[0m\u001b[0;34m:\u001b[0m \u001b[0mlinecolls\u001b[0m\u001b[0;34m[\u001b[0m\u001b[0mlon\u001b[0m\u001b[0;34m]\u001b[0m\u001b[0;34m[\u001b[0m\u001b[0;36m1\u001b[0m\u001b[0;34m]\u001b[0m\u001b[0;34m.\u001b[0m\u001b[0mappend\u001b[0m\u001b[0;34m(\u001b[0m\u001b[0mt\u001b[0m\u001b[0;34m)\u001b[0m\u001b[0;34m\u001b[0m\u001b[0m\n\u001b[1;32m   2720\u001b[0m         \u001b[0;31m# set axes limits to fit map region.\u001b[0m\u001b[0;34m\u001b[0m\u001b[0;34m\u001b[0m\u001b[0m\n\u001b[0;32m-> 2721\u001b[0;31m         \u001b[0mself\u001b[0m\u001b[0;34m.\u001b[0m\u001b[0mset_axes_limits\u001b[0m\u001b[0;34m(\u001b[0m\u001b[0max\u001b[0m\u001b[0;34m=\u001b[0m\u001b[0max\u001b[0m\u001b[0;34m)\u001b[0m\u001b[0;34m\u001b[0m\u001b[0m\n\u001b[0m\u001b[1;32m   2722\u001b[0m         \u001b[0;31m# remove empty values from linecolls dictionary\u001b[0m\u001b[0;34m\u001b[0m\u001b[0;34m\u001b[0m\u001b[0m\n\u001b[1;32m   2723\u001b[0m         \u001b[0mkeys\u001b[0m \u001b[0;34m=\u001b[0m \u001b[0mlist\u001b[0m\u001b[0;34m(\u001b[0m\u001b[0mlinecolls\u001b[0m\u001b[0;34m.\u001b[0m\u001b[0mkeys\u001b[0m\u001b[0;34m(\u001b[0m\u001b[0;34m)\u001b[0m\u001b[0;34m)\u001b[0m\u001b[0;34m;\u001b[0m \u001b[0mvals\u001b[0m \u001b[0;34m=\u001b[0m \u001b[0mlist\u001b[0m\u001b[0;34m(\u001b[0m\u001b[0mlinecolls\u001b[0m\u001b[0;34m.\u001b[0m\u001b[0mvalues\u001b[0m\u001b[0;34m(\u001b[0m\u001b[0;34m)\u001b[0m\u001b[0;34m)\u001b[0m\u001b[0;34m\u001b[0m\u001b[0m\n",
      "\u001b[0;32m/global/common/software/desi/cori/desiconda/20180512-1.2.5-img/conda/lib/python3.6/site-packages/mpl_toolkits/basemap/__init__.py\u001b[0m in \u001b[0;36mset_axes_limits\u001b[0;34m(self, ax)\u001b[0m\n\u001b[1;32m   3178\u001b[0m                 \u001b[0mlimb1\u001b[0m \u001b[0;34m=\u001b[0m \u001b[0mself\u001b[0m\u001b[0;34m.\u001b[0m\u001b[0mdrawmapboundary\u001b[0m\u001b[0;34m(\u001b[0m\u001b[0mfill_color\u001b[0m\u001b[0;34m=\u001b[0m\u001b[0;34m'none'\u001b[0m\u001b[0;34m)\u001b[0m\u001b[0;34m\u001b[0m\u001b[0m\n\u001b[1;32m   3179\u001b[0m                 \u001b[0;31m# draw another filled patch, with no boundary.\u001b[0m\u001b[0;34m\u001b[0m\u001b[0;34m\u001b[0m\u001b[0m\n\u001b[0;32m-> 3180\u001b[0;31m                 \u001b[0mlimb2\u001b[0m \u001b[0;34m=\u001b[0m \u001b[0mself\u001b[0m\u001b[0;34m.\u001b[0m\u001b[0mdrawmapboundary\u001b[0m\u001b[0;34m(\u001b[0m\u001b[0mlinewidth\u001b[0m\u001b[0;34m=\u001b[0m\u001b[0;36m0\u001b[0m\u001b[0;34m)\u001b[0m\u001b[0;34m\u001b[0m\u001b[0m\n\u001b[0m\u001b[1;32m   3181\u001b[0m                 \u001b[0mself\u001b[0m\u001b[0;34m.\u001b[0m\u001b[0m_mapboundarydrawn\u001b[0m \u001b[0;34m=\u001b[0m \u001b[0mlimb2\u001b[0m\u001b[0;34m\u001b[0m\u001b[0m\n\u001b[1;32m   3182\u001b[0m         \u001b[0;31m# for elliptical map, always turn off axis_frame.\u001b[0m\u001b[0;34m\u001b[0m\u001b[0;34m\u001b[0m\u001b[0m\n",
      "\u001b[0;32m/global/common/software/desi/cori/desiconda/20180512-1.2.5-img/conda/lib/python3.6/site-packages/mpl_toolkits/basemap/__init__.py\u001b[0m in \u001b[0;36mdrawmapboundary\u001b[0;34m(self, color, linewidth, fill_color, zorder, ax)\u001b[0m\n\u001b[1;32m   1621\u001b[0m         \u001b[0;31m# if fill_color is string 'none', really don't fill.\u001b[0m\u001b[0;34m\u001b[0m\u001b[0;34m\u001b[0m\u001b[0m\n\u001b[1;32m   1622\u001b[0m         \u001b[0;32mif\u001b[0m \u001b[0mfill_color\u001b[0m \u001b[0;32mis\u001b[0m \u001b[0;32mNone\u001b[0m\u001b[0;34m:\u001b[0m\u001b[0;34m\u001b[0m\u001b[0m\n\u001b[0;32m-> 1623\u001b[0;31m             \u001b[0mfill_color\u001b[0m \u001b[0;34m=\u001b[0m \u001b[0max\u001b[0m\u001b[0;34m.\u001b[0m\u001b[0mget_axis_bgcolor\u001b[0m\u001b[0;34m(\u001b[0m\u001b[0;34m)\u001b[0m\u001b[0;34m\u001b[0m\u001b[0m\n\u001b[0m\u001b[1;32m   1624\u001b[0m         \u001b[0;32melif\u001b[0m \u001b[0mfill_color\u001b[0m \u001b[0;34m==\u001b[0m \u001b[0;34m'none'\u001b[0m \u001b[0;32mor\u001b[0m \u001b[0mfill_color\u001b[0m \u001b[0;34m==\u001b[0m \u001b[0;34m'None'\u001b[0m\u001b[0;34m:\u001b[0m\u001b[0;34m\u001b[0m\u001b[0m\n\u001b[1;32m   1625\u001b[0m             \u001b[0mfill_color\u001b[0m \u001b[0;34m=\u001b[0m \u001b[0;32mNone\u001b[0m\u001b[0;34m\u001b[0m\u001b[0m\n",
      "\u001b[0;31mAttributeError\u001b[0m: 'AxesSubplot' object has no attribute 'get_axis_bgcolor'"
     ]
    },
    {
     "data": {
      "image/png": "[encoded data removed]",
      "text/plain": [
       "<Figure size 648x360 with 1 Axes>"
      ]
     },
     "metadata": {},
     "output_type": "display_data"
    }
   ],
   "source": [
    "def qa_binned_radec(cat, nside=64, png=None):\n",
    "    import warnings\n",
    "    import healpy as hp\n",
    "    from LSLGA.desiutil import init_sky, plot_sky_binned\n",
    "    \n",
    "    ra, dec = cat['RA'].data, cat['DEC'].data\n",
    "    hpix = LSLGA.misc.radec2pix(nside, ra, dec)\n",
    "    \n",
    "    fig, ax = plt.subplots(figsize=(9, 5))\n",
    "\n",
    "    with warnings.catch_warnings():\n",
    "        #pixweight = LSLDA.misc.io.load_pixweight(nside)\n",
    "        #fracarea = pixweight[hpix]\n",
    "        #weight = 1 / fracarea\n",
    "        weight = np.ones_like(ra)\n",
    "        \n",
    "        warnings.simplefilter('ignore')\n",
    "        basemap = init_sky(galactic_plane_color='k', ax=ax,\n",
    "                           ra_labels=[0,  60, 120, 180, 240, 300], \n",
    "                           dec_labels=[-60, -30,   0,  30,  60])\n",
    "        plot_sky_binned(ra, dec, weights=weight, \n",
    "                        max_bin_area=hp.nside2pixarea(nside, degrees=True),\n",
    "                        verbose=True, clip_lo='!1', clip_hi='98%', cmap='viridis',\n",
    "                        plot_type='healpix', basemap=basemap, \n",
    "                        label=r'$N$(Large Galaxies) (deg$^{-2}$)')\n",
    "                        #label=r'$N$(Galaxies $>10^{\\prime\\prime}$) (deg$^{-2}$)')\n",
    "        #plt.suptitle('Parent Sample')\n",
    "    \n",
    "    if png:\n",
    "        fig.savefig(png, bbox_inches='tight', pad_inches=0)\n",
    "        \n",
    "qa_binned_radec(parent, png=os.path.join(figdir, 'radec.png'))"
   ]
  },
  {
   "cell_type": "code",
   "execution_count": null,
   "metadata": {},
   "outputs": [],
   "source": [
    "stop"
   ]
  },
  {
   "cell_type": "code",
   "execution_count": null,
   "metadata": {},
   "outputs": [],
   "source": [
    "def qa_sample(png=None):\n",
    "\n",
    "    d25lim = (-1, 2)\n",
    "    #d25lim = (np.log10(10/60), 3)\n",
    "    mulim = (18.5, 31)\n",
    "    Blim = (5, 25.2)\n",
    "\n",
    "    leda_igal = leda['objtype'] == 'G'\n",
    "    igal = parent['objtype'] == 'G'\n",
    "\n",
    "    m31 = np.where(leda['galaxy'][leda_igal] == 'NGC0224')[0]\n",
    "    smc = np.where(leda['galaxy'][leda_igal] == 'NGC0292')[0]\n",
    "        \n",
    "    mag, d25, mu = parent['mag'][igal], np.log10(parent['d25'][igal]), parent['sb_d25'][igal]\n",
    "    leda_mag, leda_d25, leda_mu = leda['mag'][leda_igal], np.log10(leda['d25'][leda_igal]), leda['sb_d25'][leda_igal]\n",
    "        \n",
    "    fig, (ax1, ax2) = plt.subplots(1, 2, figsize=(12, 5))\n",
    "    \n",
    "    #ax1.hexbin(leda_mag, leda_d25, extent=(np.hstack( (Blim, d25lim) )), \n",
    "    #           mincnt=1, cmap='gray', alpha=0.5) # 'Blues_r')\n",
    "    #ax1.scatter(mag, d25, s=5, color='firebrick', alpha=0.5)\n",
    "    ax1.hexbin(mag, d25, extent=(np.hstack( (Blim, d25lim) )), bins='log', \n",
    "               mincnt=1, cmap='viridis', alpha=0.5) # 'Blues_r')\n",
    "    \n",
    "    ax1.axhline(y=np.log10(10/60), ls='--', lw=2, color='k')#, xmin=7, xmax=24\n",
    "    \n",
    "    ax1.set_xlim(Blim)\n",
    "    ax1.set_ylim(d25lim)\n",
    "    ax1.set_xlabel(r'$B_{AB}$ (mag)')\n",
    "    ax1.set_ylabel(r'$\\log_{10}\\, D_{25}$ (arcmin)')\n",
    "\n",
    "    if False:\n",
    "        ax1.annotate('M31', xy=(leda_mag[m31], leda_d25[m31]), xytext=[leda_mag[m31]+6, leda_d25[m31]+0.4], \n",
    "                     arrowprops=dict(facecolor='k', shrink=0.1, width=1, \n",
    "                                     headwidth=6), fontsize=16, horizontalalignment='center',\n",
    "                                     verticalalignment='top')\n",
    "\n",
    "        ax1.annotate('SMC', xy=(leda_mag[smc], leda_d25[smc]), xytext=[leda_mag[smc]+0.7, leda_d25[smc]-0.8], \n",
    "                     arrowprops=dict(facecolor='k', shrink=0.1, width=1, \n",
    "                                     headwidth=6), fontsize=16, horizontalalignment='left',\n",
    "                                     verticalalignment='top')\n",
    "    \n",
    "    #ax2.hexbin(leda_d25, leda_mu, extent=(np.hstack( (d25lim, mulim) )), \n",
    "    #           mincnt=1, cmap='gray', alpha=0.5)\n",
    "    #ax2.scatter(d25, mu, s=5, color='firebrick', alpha=0.5)\n",
    "    ax2.hexbin(mu, d25, extent=(np.hstack( (mulim, d25lim) )), bins='log',\n",
    "               mincnt=1, cmap='viridis', alpha=0.5)\n",
    "    #im = ax2.hexbin(d25, mu, extent=(np.hstack( (d25lim, mulim) )), bins='log',\n",
    "    #                mincnt=1, cmap='viridis', alpha=0.5)\n",
    "    #cb = fig.colorbar(im, ticks=[np.log10([3, 10, 30, 100, 300, 1000])])\n",
    "    #cb.ax.set_yticklabels(['3', '10', '30', '100', '300', '1000'])\n",
    "    #cb.set_label('log$_{10}$ (Number of Galaxies per Bin)')\n",
    "    \n",
    "    #ax2.axvline(x=np.log10(10/60), ls='--', lw=2, color='k')#, xmin=7, xmax=24\n",
    "    ax2.axhline(y=np.log10(10/60), ls='--', lw=2, color='k')#, xmin=7, xmax=24\n",
    "                \n",
    "    ax2.yaxis.tick_right()\n",
    "    ax2.yaxis.set_label_position('right')\n",
    "    ax2.set_ylim(d25lim)\n",
    "    ax2.set_xlim(mulim)\n",
    "    ax2.set_xlabel(r'$\\mu_{B}$ (mag arcsec$^{-2}$)')\n",
    "    #ax2.set_xlabel(r'$\\log_{10}\\, D_{25}$ (arcmin)')\n",
    "    ax2.set_ylabel(r'$\\log_{10}\\, D_{25}$ (arcmin)', rotation=270, labelpad=25)\n",
    "    \n",
    "    if False:\n",
    "        ax2.annotate('M31', xy=(leda_d25[m31], leda_mu[m31]), xytext=[leda_d25[m31]-0.8, leda_mu[m31]-4], \n",
    "                     arrowprops=dict(facecolor='k', shrink=0.1, width=1, \n",
    "                                     headwidth=6), fontsize=16, horizontalalignment='center',\n",
    "                                     verticalalignment='top')\n",
    "        ax2.annotate('SMC', xy=(leda_d25[smc], leda_mu[smc]), xytext=[leda_d25[smc], leda_mu[smc]+2], \n",
    "                     arrowprops=dict(facecolor='k', shrink=0.1, width=1, \n",
    "                                     headwidth=6), fontsize=16, horizontalalignment='right',\n",
    "                                     verticalalignment='top')\n",
    "    \n",
    "    fig.subplots_adjust(wspace=0.05, bottom=0.2)\n",
    "    \n",
    "    if png:\n",
    "        fig.savefig(png)\n",
    "        \n",
    "qa_sample(png=os.path.join(adapdir, 'qa_sample.png'))"
   ]
  },
  {
   "cell_type": "markdown",
   "metadata": {},
   "source": [
    "### Galaxy montage\n",
    "\n",
    "Demonstrate the range of galaxies and environments the atlas will span.  This will likely be the first figure, so do we want to include the GALEX + WISE data?"
   ]
  },
  {
   "cell_type": "code",
   "execution_count": null,
   "metadata": {},
   "outputs": [],
   "source": [
    "def get_sample():\n",
    "    w1 = np.where(parent['galaxy'] == 'NGC3938')[0]\n",
    "    w2 = np.where(parent['galaxy'] == 'NGC5322')[0]\n",
    "    w3 = np.where(parent['galaxy'] == 'IC4182')[0]\n",
    "    w4 = np.where(parent['galaxy'] == 'NGC3719')[0]\n",
    "    #w4 = np.where(parent['galaxy'] == 'PGC044711')[0]\n",
    "    these = np.hstack( (w1, w2, w3, w4) )\n",
    "    sample = parent[these]\n",
    "    sample['layer'] = ['mzls+bass-dr6', 'mzls+bass-dr6', 'mzls+bass-dr6', 'decals-dr5']\n",
    "    sample['factor'] = [2.5, 2.5, 2.5, 4]\n",
    "    sample['ra'][3] = 173.0722 # move the center over a bit\n",
    "    sample['dec'][3] = 0.8194\n",
    "    sample['nicegalaxy'] = ['NGC3938', 'NGC5322', 'IC4182', 'NGC3719 / NGC3720 Group']\n",
    "    #sample['galaxy'][3] = 'CGCG071-093_Group'\n",
    "    return sample\n",
    "\n",
    "def make_montage(jpg_clobber=False, png_clobber=False, montage_clobber=False):\n",
    "    from PIL import Image, ImageDraw, ImageFont\n",
    "\n",
    "    sample = get_sample()\n",
    "    \n",
    "    barlen = np.round(60.0 / PIXSCALE).astype('int') # [1 arcmin in pixels]\n",
    "    fonttype = os.path.join(LSLGAdir, 'cutouts', 'Georgia.ttf')    \n",
    "    \n",
    "    cutouturl = 'http://legacysurvey.org/viewer-dev/jpeg-cutout'\n",
    "\n",
    "    # Get the viewer cutouts in each layer\n",
    "    for thislayer, band in zip( ('ls', 'galex', 'unwise-neo3'), ('grz', 'FUV-NUV', 'W1-W2') ):\n",
    "        layer = thislayer\n",
    "        for ii, gal in enumerate(sample):\n",
    "            \n",
    "            jpgfile = os.path.join(adapdir, 'montage', '{}-{}.jpg'.format(gal['galaxy'], band))\n",
    "            if os.path.isfile(jpgfile) and not jpg_clobber:\n",
    "                print('File {} exists...skipping.'.format(jpgfile))\n",
    "            else:\n",
    "                if os.path.isfile(jpgfile):\n",
    "                    os.remove(jpgfile)\n",
    "            \n",
    "                if thislayer == 'ls':\n",
    "                    layer = gal['layer']\n",
    "                \n",
    "                size = np.ceil(gal['d25'] * gal['factor'] * 60 / PIXSCALE).astype(np.int)\n",
    "                imageurl = '{}/?ra={:.8f}&dec={:.8f}&pixscale={:.3f}&size={:g}&layer={}'.format(\n",
    "                    cutouturl, gal['ra'], gal['dec'], PIXSCALE, size, layer)\n",
    "                cmd = 'wget --continue -O {:s} \"{:s}\"' .format(jpgfile, imageurl)\n",
    "                print(cmd)\n",
    "                os.system(cmd)\n",
    "\n",
    "            # Optionally add labels\n",
    "            pngfile = jpgfile.replace('.jpg', '.png')\n",
    "            if os.path.isfile(jpgfile):\n",
    "                if os.path.isfile(pngfile) and not png_clobber:\n",
    "                    print('File {} exists...skipping.'.format(pngfile))\n",
    "                else:\n",
    "                    # Add the galaxy name to the top row\n",
    "                    if thislayer == 'galex':\n",
    "                        im = Image.open(jpgfile)\n",
    "                        sz = im.size\n",
    "                        fntsize = np.round(sz[0]/18).astype('int')\n",
    "                        width = np.round(sz[0]/175).astype('int')\n",
    "                        font = ImageFont.truetype(fonttype, size=fntsize)\n",
    "                        draw = ImageDraw.Draw(im)\n",
    "                        draw.text((0+fntsize*1.5, 0+fntsize*1.5), gal['nicegalaxy'].replace('_', ' '), font=font)\n",
    "                        if ii == 0:\n",
    "                            draw.text((0+fntsize*1.5, sz[1]-fntsize*2), band.replace('-', '/'), font=font)\n",
    "                        im.save(pngfile)\n",
    "                    elif thislayer == 'unwise-neo3': # Add the scale bar to the bottom row\n",
    "                        im = Image.open(jpgfile)\n",
    "                        sz = im.size\n",
    "                        fntsize = np.round(sz[0]/18).astype('int')\n",
    "                        width = np.round(sz[0]/175).astype('int')\n",
    "                        font = ImageFont.truetype(fonttype, size=fntsize)\n",
    "                        draw = ImageDraw.Draw(im)\n",
    "                        x0, x1, yy = sz[1]-fntsize*2-barlen, sz[1]-fntsize*2, sz[0]-fntsize*2\n",
    "                        draw.line((x0, yy, x1, yy), fill='white', width=width)\n",
    "                        if ii == 0:\n",
    "                            draw.text((0+fntsize*1.5, sz[1]-fntsize*2), band.replace('-', '/'), font=font)\n",
    "                        im.save(pngfile)\n",
    "                    else: # grz\n",
    "                        im = Image.open(jpgfile)\n",
    "                        if ii == 0:\n",
    "                            sz = im.size\n",
    "                            fntsize = np.round(sz[0]/18).astype('int')\n",
    "                            font = ImageFont.truetype(fonttype, size=fntsize)\n",
    "                            draw = ImageDraw.Draw(im)\n",
    "                            draw.text((0+fntsize*1.5, sz[1]-fntsize*2), band.replace('-', '/'), font=font)\n",
    "                        im.save(pngfile)\n",
    "                        \n",
    "    # Make the final montage.\n",
    "    montagefile = os.path.join(adapdir, 'galaxy-montage.png')\n",
    "    ncol, nrow = 4, 3\n",
    "    if os.path.isfile(montagefile) and not montage_clobber:\n",
    "        print('File {} exists...skipping.'.format(montagefile))\n",
    "    else:\n",
    "        imlist = ' '\n",
    "        for band in ('FUV-NUV', 'grz', 'W1-W2'):\n",
    "            for gg in np.atleast_1d(sample['galaxy']):\n",
    "                imlist = imlist+' '+os.path.join(adapdir, 'montage', '{}-{}.png'.format(gg, band))\n",
    "\n",
    "        cmd = 'montage -bordercolor white -borderwidth 1 -tile {}x{} -geometry 512x512 '.format(\n",
    "            ncol, nrow)\n",
    "        cmd = cmd+imlist\n",
    "        #cmd = cmd+' '.join([os.path.join(adapdir, 'montage', '{}.png'.format(gg)) for gg in montage['galaxy']])\n",
    "        cmd = cmd+' {}'.format(montagefile)\n",
    "        print(cmd)\n",
    "        os.system(cmd)        \n",
    "        print('Wrote {}'.format(montagefile))\n",
    "        # Reduce the file size.\n",
    "        cmd = 'convert -quality 99 -resize 1024 {} {}'.format(montagefile, montagefile.replace('.png', '.jpg'))\n",
    "        os.system(cmd)        \n",
    "        print('Wrote {}'.format(montagefile.replace('.png', '.jpg')))\n",
    "\n",
    "sample = make_montage(jpg_clobber=False, png_clobber=False, montage_clobber=True)"
   ]
  }
 ],
 "metadata": {
  "kernelspec": {
   "display_name": "LSLGA",
   "language": "python",
   "name": "lslga"
  },
  "language_info": {
   "codemirror_mode": {
    "name": "ipython",
    "version": 3
   },
   "file_extension": ".py",
   "mimetype": "text/x-python",
   "name": "python",
   "nbconvert_exporter": "python",
   "pygments_lexer": "ipython3",
   "version": "3.6.5"
  }
 },
 "nbformat": 4,
 "nbformat_minor": 2
}
